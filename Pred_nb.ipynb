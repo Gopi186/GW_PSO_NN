{
 "cells": [
  {
   "cell_type": "code",
   "execution_count": 1,
   "id": "b3fd085b",
   "metadata": {},
   "outputs": [],
   "source": [
    "import pandas\n",
    "import numpy as np\n",
    "import tensorflow as tf\n",
    "from tensorflow import keras\n",
    "from tensorflow.keras import Sequential\n",
    "#from keras.models import Sequential\n",
    "from tensorflow.keras.layers import Dense\n",
    "from tensorflow.keras.wrappers.scikit_learn import KerasClassifier\n",
    "#from keras.utils import np_utils\n",
    "from sklearn.model_selection import cross_val_score\n",
    "from sklearn.model_selection import KFold\n",
    "from sklearn.preprocessing import LabelEncoder\n",
    "from sklearn.pipeline import Pipeline\n",
    "from sklearn.model_selection import train_test_split\n",
    "from tensorflow.keras.layers.experimental import preprocessing\n",
    "from tensorflow.keras.layers.experimental.preprocessing import Normalization\n",
    "import os\n",
    "import glob\n",
    "import matplotlib.pyplot as plt\n",
    "import kerastuner as kt\n",
    "import math\n",
    "import pydot\n",
    "from tensorflow.keras.utils import plot_model\n",
    "import plotly.express as px\n",
    "import plotly.graph_objects as go\n",
    "import plotly.figure_factory as ff"
   ]
  },
  {
   "cell_type": "code",
   "execution_count": 2,
   "id": "c5dd94fd",
   "metadata": {},
   "outputs": [],
   "source": [
    "dataset = pandas.read_csv('/home/dell/Neural_net/train_coin_10/train_coin_dataset.csv')\n",
    "\n",
    "X1=dataset.drop(['target'],axis=1)\n",
    "train1,test1=train_test_split(X1,test_size=0.2,shuffle=True)\n",
    "train1,val1=train_test_split(train1,test_size=0.2)\n",
    "#X1.head()"
   ]
  },
  {
   "cell_type": "code",
   "execution_count": 3,
   "id": "5ac907d3",
   "metadata": {},
   "outputs": [],
   "source": [
    "batch_size=30\n",
    "\n",
    "def df_to_pred_dataset(dataframe, shuffle=True, batch_size=batch_size):\n",
    "  dataframe = dataframe.copy()\n",
    "  #labels=dataframe.pop('final_snr')\n",
    "  labels = pandas.concat([dataframe.pop(x) for x in ['inj_m1', 'inj_m2','final_snr']], axis=1)\n",
    "  #labels = pandas.concat([dataframe.pop(x) for x in ['inj_m1', 'inj_m2']], axis=1)\n",
    "  ds = tf.data.Dataset.from_tensor_slices((dict(dataframe), labels))\n",
    "  if shuffle:\n",
    "    ds = ds.shuffle(buffer_size=len(dataframe))\n",
    "  ds = ds.batch(batch_size)\n",
    "  ds = ds.prefetch(batch_size)\n",
    "  return ds"
   ]
  },
  {
   "cell_type": "code",
   "execution_count": 4,
   "id": "a36cb8b7",
   "metadata": {},
   "outputs": [],
   "source": [
    "train_pred_ds=df_to_pred_dataset(train1,batch_size=batch_size)\n",
    "val_pred_ds = df_to_pred_dataset(val1, shuffle=False, batch_size=batch_size)\n",
    "test_pred_ds = df_to_pred_dataset(test1, shuffle=False, batch_size=batch_size)\n"
   ]
  },
  {
   "cell_type": "code",
   "execution_count": 5,
   "id": "a2a80f7d",
   "metadata": {},
   "outputs": [],
   "source": [
    "all_inputs=[]\n",
    "encoded_features=[]"
   ]
  },
  {
   "cell_type": "code",
   "execution_count": 6,
   "id": "4df25fa7",
   "metadata": {},
   "outputs": [],
   "source": [
    "def get_normalization_layer(name, dataset):\n",
    "      normalizer = preprocessing.Normalization()\n",
    "      # Prepare a Dataset that only yields our feature.\n",
    "      feature_ds = dataset.map(lambda x, y: x[name])\n",
    "      #print(feature_ds)\n",
    "      #feature_ds=tf.convert_to_tensor(feature_ds)\n",
    "      # Learn the statistics of the data.\n",
    "      normalizer.adapt(feature_ds)\n",
    "      #print('----------------------------')\n",
    "      print(normalizer.dtype)\n",
    "      #print('----------------------------')\n",
    "      return normalizer"
   ]
  },
  {
   "cell_type": "code",
   "execution_count": 7,
   "id": "54eeb382",
   "metadata": {},
   "outputs": [
    {
     "name": "stdout",
     "output_type": "stream",
     "text": [
      "mass1\n",
      "float32\n",
      "mass2\n",
      "float32\n",
      "match\n",
      "float32\n"
     ]
    }
   ],
   "source": [
    "for header in ['mass1','mass2','match']:\n",
    "      print(header)\n",
    "      numeric_col = tf.keras.Input(shape=(1,), name=header)\n",
    "      normalization_layer = get_normalization_layer(header, train_pred_ds)\n",
    "      encoded_numeric_col = normalization_layer(numeric_col)\n",
    "      all_inputs.append(numeric_col)\n",
    "      encoded_features.append(encoded_numeric_col)\n",
    "#encoded_features"
   ]
  },
  {
   "cell_type": "code",
   "execution_count": 8,
   "id": "b986e687",
   "metadata": {},
   "outputs": [],
   "source": [
    "all_features = tf.keras.layers.concatenate(encoded_features)"
   ]
  },
  {
   "cell_type": "code",
   "execution_count": 9,
   "id": "50947d2e",
   "metadata": {},
   "outputs": [],
   "source": [
    "def model_pred(hp):\n",
    "    x1 = tf.keras.layers.Dense(units=hp.Int('units_1', min_value=32, max_value=512, step=32),\n",
    "                               activation=\"relu\")(all_features)\n",
    "    x1 = tf.keras.layers.Dense(units=hp.Int('units_2', min_value=32, max_value=512, step=32),\n",
    "                               activation=\"relu\")(x1)\n",
    "    x1 = tf.keras.layers.Dropout(hp.Float('dropout', 0, 0.5, step=0.1, default=0.5))(x1)\n",
    "    output1 = tf.keras.layers.Dense(3, activation=\"relu\")(x1)\n",
    "    model = tf.keras.Model(all_inputs, output1)\n",
    "    model.compile(optimizer=keras.optimizers.Adam(hp.Choice('learning_rate', [1e-2, 1e-3, 1e-4])),\n",
    "                  loss=tf.keras.losses.MeanSquaredError(),metrics=[\"accuracy\"])\n",
    "    \n",
    "    return model\n",
    "\n"
   ]
  },
  {
   "cell_type": "code",
   "execution_count": 10,
   "id": "d968ebd6",
   "metadata": {},
   "outputs": [],
   "source": [
    "stop_early = tf.keras.callbacks.EarlyStopping(monitor='val_loss', patience=5)"
   ]
  },
  {
   "cell_type": "code",
   "execution_count": 11,
   "id": "45c0235f",
   "metadata": {},
   "outputs": [
    {
     "name": "stdout",
     "output_type": "stream",
     "text": [
      "INFO:tensorflow:Reloading Oracle from existing project my_dir/prediction_mse_2/oracle.json\n",
      "INFO:tensorflow:Reloading Tuner from my_dir/prediction_mse_2/tuner0.json\n"
     ]
    }
   ],
   "source": [
    "tuner = kt.Hyperband(model_pred,\n",
    "                     objective='val_accuracy',\n",
    "                     max_epochs=10,\n",
    "                     factor=3,\n",
    "                     directory='my_dir',\n",
    "                     project_name='prediction_mse_2')"
   ]
  },
  {
   "cell_type": "code",
   "execution_count": 12,
   "id": "d3ff1064",
   "metadata": {},
   "outputs": [
    {
     "name": "stdout",
     "output_type": "stream",
     "text": [
      "INFO:tensorflow:Oracle triggered exit\n",
      "\n",
      "The hyperparameter search is complete. The optimal number of units in the first densely-connected\n",
      "layer is 288, for second layer is 64 and the optimal learning rate for the optimizer\n",
      "is 0.0001. Also the dropout value is 0.2\n",
      "\n"
     ]
    }
   ],
   "source": [
    "tuner.search(train_pred_ds, epochs=50, validation_data=val_pred_ds, callbacks=[stop_early])\n",
    "\n",
    "# Get the optimal hyperparameters\n",
    "best_hps=tuner.get_best_hyperparameters(num_trials=1)[0]\n",
    "\n",
    "print(f\"\"\"\n",
    "The hyperparameter search is complete. The optimal number of units in the first densely-connected\n",
    "layer is {best_hps.get('units_1')}, for second layer is {best_hps.get('units_2')} and the optimal learning rate for the optimizer\n",
    "is {best_hps.get('learning_rate')}. Also the dropout value is {best_hps.get('dropout')}\n",
    "\"\"\")"
   ]
  },
  {
   "cell_type": "code",
   "execution_count": 13,
   "id": "c5eb00d8",
   "metadata": {},
   "outputs": [
    {
     "name": "stdout",
     "output_type": "stream",
     "text": [
      "Model: \"model\"\n",
      "__________________________________________________________________________________________________\n",
      "Layer (type)                    Output Shape         Param #     Connected to                     \n",
      "==================================================================================================\n",
      "mass1 (InputLayer)              [(None, 1)]          0                                            \n",
      "__________________________________________________________________________________________________\n",
      "mass2 (InputLayer)              [(None, 1)]          0                                            \n",
      "__________________________________________________________________________________________________\n",
      "match (InputLayer)              [(None, 1)]          0                                            \n",
      "__________________________________________________________________________________________________\n",
      "normalization (Normalization)   (None, 1)            3           mass1[0][0]                      \n",
      "__________________________________________________________________________________________________\n",
      "normalization_1 (Normalization) (None, 1)            3           mass2[0][0]                      \n",
      "__________________________________________________________________________________________________\n",
      "normalization_2 (Normalization) (None, 1)            3           match[0][0]                      \n",
      "__________________________________________________________________________________________________\n",
      "concatenate (Concatenate)       (None, 3)            0           normalization[0][0]              \n",
      "                                                                 normalization_1[0][0]            \n",
      "                                                                 normalization_2[0][0]            \n",
      "__________________________________________________________________________________________________\n",
      "dense (Dense)                   (None, 288)          1152        concatenate[0][0]                \n",
      "__________________________________________________________________________________________________\n",
      "dense_1 (Dense)                 (None, 64)           18496       dense[0][0]                      \n",
      "__________________________________________________________________________________________________\n",
      "dropout (Dropout)               (None, 64)           0           dense_1[0][0]                    \n",
      "__________________________________________________________________________________________________\n",
      "dense_2 (Dense)                 (None, 3)            195         dropout[0][0]                    \n",
      "==================================================================================================\n",
      "Total params: 19,852\n",
      "Trainable params: 19,843\n",
      "Non-trainable params: 9\n",
      "__________________________________________________________________________________________________\n",
      "Epoch 1/80\n",
      "14400/14400 [==============================] - 25s 2ms/step - loss: 345.7003 - accuracy: 0.9817 - val_loss: 106.9683 - val_accuracy: 1.0000\n",
      "Epoch 2/80\n",
      "14400/14400 [==============================] - 24s 2ms/step - loss: 116.8127 - accuracy: 0.9989 - val_loss: 104.5393 - val_accuracy: 1.0000\n",
      "Epoch 3/80\n",
      "14400/14400 [==============================] - 22s 1ms/step - loss: 114.5203 - accuracy: 0.9999 - val_loss: 103.1165 - val_accuracy: 1.0000\n",
      "Epoch 4/80\n",
      "14400/14400 [==============================] - 22s 1ms/step - loss: 112.6741 - accuracy: 1.0000 - val_loss: 102.3864 - val_accuracy: 1.0000\n",
      "Epoch 5/80\n",
      "14400/14400 [==============================] - 22s 1ms/step - loss: 112.5493 - accuracy: 0.9999 - val_loss: 101.7199 - val_accuracy: 1.0000\n",
      "Epoch 6/80\n",
      "14400/14400 [==============================] - 22s 1ms/step - loss: 111.3869 - accuracy: 0.9999 - val_loss: 101.3146 - val_accuracy: 1.0000\n",
      "Epoch 7/80\n",
      "14400/14400 [==============================] - 22s 1ms/step - loss: 110.9058 - accuracy: 0.9999 - val_loss: 100.7028 - val_accuracy: 1.0000\n",
      "Epoch 8/80\n",
      "14400/14400 [==============================] - 20s 1ms/step - loss: 110.5708 - accuracy: 0.9998 - val_loss: 100.4864 - val_accuracy: 1.0000\n",
      "Epoch 9/80\n",
      "14400/14400 [==============================] - 20s 1ms/step - loss: 110.1248 - accuracy: 0.9999 - val_loss: 100.0959 - val_accuracy: 1.0000\n",
      "Epoch 10/80\n",
      "14400/14400 [==============================] - 20s 1ms/step - loss: 109.5272 - accuracy: 0.9998 - val_loss: 99.6958 - val_accuracy: 1.0000\n",
      "Epoch 11/80\n",
      "14400/14400 [==============================] - 20s 1ms/step - loss: 109.8553 - accuracy: 0.9999 - val_loss: 99.2898 - val_accuracy: 1.0000\n",
      "Epoch 12/80\n",
      "14400/14400 [==============================] - 20s 1ms/step - loss: 108.8530 - accuracy: 0.9998 - val_loss: 99.4788 - val_accuracy: 1.0000\n",
      "Epoch 13/80\n",
      "14400/14400 [==============================] - 21s 1ms/step - loss: 108.7848 - accuracy: 0.9999 - val_loss: 98.8407 - val_accuracy: 1.0000\n",
      "Epoch 14/80\n",
      "14400/14400 [==============================] - 20s 1ms/step - loss: 108.0091 - accuracy: 0.9999 - val_loss: 98.6039 - val_accuracy: 1.0000\n",
      "Epoch 15/80\n",
      "14400/14400 [==============================] - 20s 1ms/step - loss: 108.1670 - accuracy: 1.0000 - val_loss: 98.1249 - val_accuracy: 1.0000\n",
      "Epoch 16/80\n",
      "14400/14400 [==============================] - 20s 1ms/step - loss: 107.9402 - accuracy: 1.0000 - val_loss: 97.8474 - val_accuracy: 1.0000\n",
      "Epoch 17/80\n",
      "14400/14400 [==============================] - 21s 1ms/step - loss: 106.6994 - accuracy: 0.9999 - val_loss: 97.6288 - val_accuracy: 1.0000\n",
      "Epoch 18/80\n",
      "14400/14400 [==============================] - 20s 1ms/step - loss: 106.1937 - accuracy: 1.0000 - val_loss: 97.2276 - val_accuracy: 1.0000\n",
      "Epoch 19/80\n",
      "14400/14400 [==============================] - 20s 1ms/step - loss: 106.5559 - accuracy: 1.0000 - val_loss: 98.1671 - val_accuracy: 1.0000\n",
      "Epoch 20/80\n",
      "14400/14400 [==============================] - 21s 1ms/step - loss: 106.5882 - accuracy: 1.0000 - val_loss: 96.9665 - val_accuracy: 1.0000\n",
      "Epoch 21/80\n",
      "14400/14400 [==============================] - 20s 1ms/step - loss: 106.5621 - accuracy: 1.0000 - val_loss: 96.8091 - val_accuracy: 1.0000\n",
      "Epoch 22/80\n",
      "14400/14400 [==============================] - 21s 1ms/step - loss: 105.8609 - accuracy: 1.0000 - val_loss: 96.8449 - val_accuracy: 1.0000\n",
      "Epoch 23/80\n",
      "14400/14400 [==============================] - 20s 1ms/step - loss: 105.6433 - accuracy: 1.0000 - val_loss: 96.8608 - val_accuracy: 1.0000\n",
      "Epoch 24/80\n",
      "14400/14400 [==============================] - 20s 1ms/step - loss: 105.7219 - accuracy: 1.0000 - val_loss: 96.4500 - val_accuracy: 1.0000\n",
      "Epoch 25/80\n",
      "14400/14400 [==============================] - 20s 1ms/step - loss: 105.5651 - accuracy: 1.0000 - val_loss: 96.2102 - val_accuracy: 1.0000\n",
      "Epoch 26/80\n",
      "14400/14400 [==============================] - 20s 1ms/step - loss: 105.6081 - accuracy: 1.0000 - val_loss: 96.4415 - val_accuracy: 1.0000\n",
      "Epoch 27/80\n",
      "14400/14400 [==============================] - 22s 1ms/step - loss: 105.2208 - accuracy: 1.0000 - val_loss: 96.2237 - val_accuracy: 1.0000\n",
      "Epoch 28/80\n",
      "14400/14400 [==============================] - 23s 1ms/step - loss: 105.1558 - accuracy: 1.0000 - val_loss: 95.9766 - val_accuracy: 1.0000\n",
      "Epoch 29/80\n",
      "14400/14400 [==============================] - 27s 2ms/step - loss: 104.4598 - accuracy: 1.0000 - val_loss: 95.9395 - val_accuracy: 1.0000\n",
      "Epoch 30/80\n",
      "14400/14400 [==============================] - 22s 1ms/step - loss: 104.6797 - accuracy: 1.0000 - val_loss: 95.6947 - val_accuracy: 1.0000\n",
      "Epoch 31/80\n",
      "14400/14400 [==============================] - 20s 1ms/step - loss: 104.8538 - accuracy: 1.0000 - val_loss: 95.7149 - val_accuracy: 1.0000\n",
      "Epoch 32/80\n",
      "14400/14400 [==============================] - 20s 1ms/step - loss: 104.3145 - accuracy: 1.0000 - val_loss: 95.6945 - val_accuracy: 1.0000\n",
      "Epoch 33/80\n",
      "14400/14400 [==============================] - 21s 1ms/step - loss: 104.8180 - accuracy: 1.0000 - val_loss: 95.7775 - val_accuracy: 1.0000\n",
      "Epoch 34/80\n",
      "14400/14400 [==============================] - 20s 1ms/step - loss: 104.8137 - accuracy: 1.0000 - val_loss: 96.0299 - val_accuracy: 1.0000\n",
      "Epoch 35/80\n",
      "14400/14400 [==============================] - 20s 1ms/step - loss: 103.7258 - accuracy: 1.0000 - val_loss: 95.4900 - val_accuracy: 1.0000\n",
      "Epoch 36/80\n"
     ]
    },
    {
     "name": "stdout",
     "output_type": "stream",
     "text": [
      "14400/14400 [==============================] - 20s 1ms/step - loss: 104.0332 - accuracy: 1.0000 - val_loss: 95.2930 - val_accuracy: 1.0000\n",
      "Epoch 37/80\n",
      "14400/14400 [==============================] - 21s 1ms/step - loss: 103.5345 - accuracy: 1.0000 - val_loss: 95.4025 - val_accuracy: 1.0000\n",
      "Epoch 38/80\n",
      "14400/14400 [==============================] - 22s 1ms/step - loss: 103.3276 - accuracy: 1.0000 - val_loss: 95.3024 - val_accuracy: 1.0000\n",
      "Epoch 39/80\n",
      "14400/14400 [==============================] - 21s 1ms/step - loss: 103.4882 - accuracy: 1.0000 - val_loss: 95.2800 - val_accuracy: 1.0000\n",
      "Epoch 40/80\n",
      "14400/14400 [==============================] - 20s 1ms/step - loss: 103.4526 - accuracy: 1.0000 - val_loss: 95.1543 - val_accuracy: 1.0000\n",
      "Epoch 41/80\n",
      "14400/14400 [==============================] - 20s 1ms/step - loss: 103.0293 - accuracy: 1.0000 - val_loss: 95.3993 - val_accuracy: 1.0000\n",
      "Epoch 42/80\n",
      "14400/14400 [==============================] - 21s 1ms/step - loss: 103.6286 - accuracy: 1.0000 - val_loss: 95.3533 - val_accuracy: 1.0000\n",
      "Epoch 43/80\n",
      "14400/14400 [==============================] - 20s 1ms/step - loss: 102.9960 - accuracy: 1.0000 - val_loss: 95.7371 - val_accuracy: 1.0000\n",
      "Epoch 44/80\n",
      "14400/14400 [==============================] - 23s 2ms/step - loss: 102.8734 - accuracy: 1.0000 - val_loss: 95.2992 - val_accuracy: 1.0000\n",
      "Epoch 45/80\n",
      "14400/14400 [==============================] - 22s 1ms/step - loss: 103.2946 - accuracy: 1.0000 - val_loss: 95.0129 - val_accuracy: 1.0000\n",
      "Epoch 46/80\n",
      "14400/14400 [==============================] - 21s 1ms/step - loss: 103.1430 - accuracy: 0.9999 - val_loss: 95.1959 - val_accuracy: 1.0000\n",
      "Epoch 47/80\n",
      "14400/14400 [==============================] - 21s 1ms/step - loss: 102.6989 - accuracy: 1.0000 - val_loss: 95.1493 - val_accuracy: 1.0000\n",
      "Epoch 48/80\n",
      "14400/14400 [==============================] - 21s 1ms/step - loss: 102.7363 - accuracy: 1.0000 - val_loss: 94.8574 - val_accuracy: 1.0000\n",
      "Epoch 49/80\n",
      "14400/14400 [==============================] - 25s 2ms/step - loss: 102.4411 - accuracy: 1.0000 - val_loss: 95.2534 - val_accuracy: 1.0000\n",
      "Epoch 50/80\n",
      "14400/14400 [==============================] - 33s 2ms/step - loss: 102.5987 - accuracy: 1.0000 - val_loss: 94.8544 - val_accuracy: 1.0000\n",
      "Epoch 51/80\n",
      "14400/14400 [==============================] - 20s 1ms/step - loss: 102.1351 - accuracy: 1.0000 - val_loss: 94.9049 - val_accuracy: 1.0000\n",
      "Epoch 52/80\n",
      "14400/14400 [==============================] - 20s 1ms/step - loss: 102.6576 - accuracy: 1.0000 - val_loss: 94.7042 - val_accuracy: 1.0000\n",
      "Epoch 53/80\n",
      "14400/14400 [==============================] - 32s 2ms/step - loss: 102.0284 - accuracy: 1.0000 - val_loss: 94.8032 - val_accuracy: 1.0000\n",
      "Epoch 54/80\n",
      "14400/14400 [==============================] - 27s 2ms/step - loss: 102.6637 - accuracy: 1.0000 - val_loss: 95.0850 - val_accuracy: 1.0000\n",
      "Epoch 55/80\n",
      "14400/14400 [==============================] - 28s 2ms/step - loss: 102.4211 - accuracy: 0.9999 - val_loss: 94.5045 - val_accuracy: 1.0000\n",
      "Epoch 56/80\n",
      "14400/14400 [==============================] - 27s 2ms/step - loss: 101.9418 - accuracy: 1.0000 - val_loss: 94.5489 - val_accuracy: 1.0000\n",
      "Epoch 57/80\n",
      "14400/14400 [==============================] - 27s 2ms/step - loss: 101.7066 - accuracy: 0.9999 - val_loss: 94.7073 - val_accuracy: 1.0000\n",
      "Epoch 58/80\n",
      "14400/14400 [==============================] - 27s 2ms/step - loss: 102.0393 - accuracy: 1.0000 - val_loss: 95.7113 - val_accuracy: 1.0000\n",
      "Epoch 59/80\n",
      "14400/14400 [==============================] - 27s 2ms/step - loss: 102.3201 - accuracy: 1.0000 - val_loss: 94.4948 - val_accuracy: 1.0000\n",
      "Epoch 60/80\n",
      "14400/14400 [==============================] - 27s 2ms/step - loss: 102.1135 - accuracy: 1.0000 - val_loss: 94.4015 - val_accuracy: 1.0000\n",
      "Epoch 61/80\n",
      "14400/14400 [==============================] - 26s 2ms/step - loss: 101.8382 - accuracy: 1.0000 - val_loss: 94.6458 - val_accuracy: 1.0000\n",
      "Epoch 62/80\n",
      "14400/14400 [==============================] - 26s 2ms/step - loss: 101.2542 - accuracy: 1.0000 - val_loss: 95.1151 - val_accuracy: 1.0000\n",
      "Epoch 63/80\n",
      "14400/14400 [==============================] - 27s 2ms/step - loss: 101.7482 - accuracy: 1.0000 - val_loss: 94.3319 - val_accuracy: 1.0000\n",
      "Epoch 64/80\n",
      "14400/14400 [==============================] - 27s 2ms/step - loss: 101.5604 - accuracy: 1.0000 - val_loss: 94.5430 - val_accuracy: 1.0000\n",
      "Epoch 65/80\n",
      "14400/14400 [==============================] - 27s 2ms/step - loss: 101.7753 - accuracy: 1.0000 - val_loss: 94.5121 - val_accuracy: 1.0000\n",
      "Epoch 66/80\n",
      "14400/14400 [==============================] - 27s 2ms/step - loss: 101.1751 - accuracy: 0.9999 - val_loss: 94.6812 - val_accuracy: 1.0000\n",
      "Epoch 67/80\n",
      "14400/14400 [==============================] - 26s 2ms/step - loss: 101.8395 - accuracy: 0.9999 - val_loss: 94.3148 - val_accuracy: 1.0000\n",
      "Epoch 68/80\n",
      "14400/14400 [==============================] - 26s 2ms/step - loss: 101.6106 - accuracy: 0.9999 - val_loss: 94.3416 - val_accuracy: 1.0000\n",
      "Epoch 69/80\n",
      "14400/14400 [==============================] - 26s 2ms/step - loss: 101.1638 - accuracy: 1.0000 - val_loss: 94.1951 - val_accuracy: 1.0000\n",
      "Epoch 70/80\n",
      "14400/14400 [==============================] - 26s 2ms/step - loss: 101.1456 - accuracy: 1.0000 - val_loss: 94.9534 - val_accuracy: 1.0000\n",
      "Epoch 71/80\n",
      "14400/14400 [==============================] - 22s 1ms/step - loss: 100.7346 - accuracy: 0.9999 - val_loss: 94.1601 - val_accuracy: 1.0000\n",
      "Epoch 72/80\n",
      "14400/14400 [==============================] - 22s 1ms/step - loss: 101.3728 - accuracy: 0.9999 - val_loss: 94.4036 - val_accuracy: 1.0000\n",
      "Epoch 73/80\n",
      "14400/14400 [==============================] - 20s 1ms/step - loss: 100.5742 - accuracy: 1.0000 - val_loss: 94.0898 - val_accuracy: 1.0000\n",
      "Epoch 74/80\n",
      "14400/14400 [==============================] - 21s 1ms/step - loss: 101.2153 - accuracy: 0.9999 - val_loss: 94.2271 - val_accuracy: 1.0000\n",
      "Epoch 75/80\n",
      "14400/14400 [==============================] - 20s 1ms/step - loss: 100.9228 - accuracy: 1.0000 - val_loss: 94.3467 - val_accuracy: 1.0000\n",
      "Epoch 76/80\n",
      "14400/14400 [==============================] - 20s 1ms/step - loss: 100.5273 - accuracy: 0.9999 - val_loss: 94.1606 - val_accuracy: 1.0000\n",
      "Epoch 77/80\n",
      "14400/14400 [==============================] - 20s 1ms/step - loss: 100.5140 - accuracy: 1.0000 - val_loss: 93.9110 - val_accuracy: 1.0000\n",
      "Epoch 78/80\n",
      "14400/14400 [==============================] - 20s 1ms/step - loss: 100.8254 - accuracy: 1.0000 - val_loss: 94.2832 - val_accuracy: 1.0000\n",
      "Epoch 79/80\n",
      "14400/14400 [==============================] - 20s 1ms/step - loss: 100.0142 - accuracy: 0.9999 - val_loss: 94.3906 - val_accuracy: 1.0000\n",
      "Epoch 80/80\n",
      "14400/14400 [==============================] - 20s 1ms/step - loss: 99.5995 - accuracy: 1.0000 - val_loss: 94.1197 - val_accuracy: 1.0000\n",
      "Best epoch: 1\n",
      "INFO:tensorflow:Assets written to: Prediction_mse_model_latest/assets\n"
     ]
    },
    {
     "ename": "IndexError",
     "evalue": "list index out of range",
     "output_type": "error",
     "traceback": [
      "\u001b[0;31m---------------------------------------------------------------------------\u001b[0m",
      "\u001b[0;31mIndexError\u001b[0m                                Traceback (most recent call last)",
      "\u001b[0;32m<ipython-input-13-fffd9d8f4a99>\u001b[0m in \u001b[0;36m<module>\u001b[0;34m\u001b[0m\n\u001b[1;32m     27\u001b[0m \u001b[0mplt\u001b[0m\u001b[0;34m.\u001b[0m\u001b[0msavefig\u001b[0m\u001b[0;34m(\u001b[0m\u001b[0;34m'/home/dell/Neural_net/train_coin_4/Loss_p_mse2_plot'\u001b[0m\u001b[0;34m)\u001b[0m\u001b[0;34m\u001b[0m\u001b[0;34m\u001b[0m\u001b[0m\n\u001b[1;32m     28\u001b[0m \u001b[0;31m#test\u001b[0m\u001b[0;34m\u001b[0m\u001b[0;34m\u001b[0m\u001b[0;34m\u001b[0m\u001b[0m\n\u001b[0;32m---> 29\u001b[0;31m \u001b[0my_hat\u001b[0m\u001b[0;34m=\u001b[0m\u001b[0mmodel\u001b[0m\u001b[0;34m.\u001b[0m\u001b[0mpredict\u001b[0m\u001b[0;34m(\u001b[0m\u001b[0;34m\"test_pred_ds\"\u001b[0m\u001b[0;34m)\u001b[0m\u001b[0;34m\u001b[0m\u001b[0;34m\u001b[0m\u001b[0m\n\u001b[0m\u001b[1;32m     30\u001b[0m \u001b[0mm1\u001b[0m\u001b[0;34m=\u001b[0m\u001b[0mtest1\u001b[0m\u001b[0;34m.\u001b[0m\u001b[0minj_m1\u001b[0m\u001b[0;34m\u001b[0m\u001b[0;34m\u001b[0m\u001b[0m\n\u001b[1;32m     31\u001b[0m \u001b[0mm2\u001b[0m\u001b[0;34m=\u001b[0m\u001b[0mtest1\u001b[0m\u001b[0;34m.\u001b[0m\u001b[0minj_m2\u001b[0m\u001b[0;34m\u001b[0m\u001b[0;34m\u001b[0m\u001b[0m\n",
      "\u001b[0;32m~/PSO_env/lib/python3.8/site-packages/tensorflow/python/keras/engine/training.py\u001b[0m in \u001b[0;36mpredict\u001b[0;34m(self, x, batch_size, verbose, steps, callbacks, max_queue_size, workers, use_multiprocessing)\u001b[0m\n\u001b[1;32m   1596\u001b[0m                         '. Consider setting it to AutoShardPolicy.DATA.')\n\u001b[1;32m   1597\u001b[0m \u001b[0;34m\u001b[0m\u001b[0m\n\u001b[0;32m-> 1598\u001b[0;31m       data_handler = data_adapter.DataHandler(\n\u001b[0m\u001b[1;32m   1599\u001b[0m           \u001b[0mx\u001b[0m\u001b[0;34m=\u001b[0m\u001b[0mx\u001b[0m\u001b[0;34m,\u001b[0m\u001b[0;34m\u001b[0m\u001b[0;34m\u001b[0m\u001b[0m\n\u001b[1;32m   1600\u001b[0m           \u001b[0mbatch_size\u001b[0m\u001b[0;34m=\u001b[0m\u001b[0mbatch_size\u001b[0m\u001b[0;34m,\u001b[0m\u001b[0;34m\u001b[0m\u001b[0;34m\u001b[0m\u001b[0m\n",
      "\u001b[0;32m~/PSO_env/lib/python3.8/site-packages/tensorflow/python/keras/engine/data_adapter.py\u001b[0m in \u001b[0;36m__init__\u001b[0;34m(self, x, y, sample_weight, batch_size, steps_per_epoch, initial_epoch, epochs, shuffle, class_weight, max_queue_size, workers, use_multiprocessing, model, steps_per_execution)\u001b[0m\n\u001b[1;32m   1098\u001b[0m \u001b[0;34m\u001b[0m\u001b[0m\n\u001b[1;32m   1099\u001b[0m     \u001b[0madapter_cls\u001b[0m \u001b[0;34m=\u001b[0m \u001b[0mselect_data_adapter\u001b[0m\u001b[0;34m(\u001b[0m\u001b[0mx\u001b[0m\u001b[0;34m,\u001b[0m \u001b[0my\u001b[0m\u001b[0;34m)\u001b[0m\u001b[0;34m\u001b[0m\u001b[0;34m\u001b[0m\u001b[0m\n\u001b[0;32m-> 1100\u001b[0;31m     self._adapter = adapter_cls(\n\u001b[0m\u001b[1;32m   1101\u001b[0m         \u001b[0mx\u001b[0m\u001b[0;34m,\u001b[0m\u001b[0;34m\u001b[0m\u001b[0;34m\u001b[0m\u001b[0m\n\u001b[1;32m   1102\u001b[0m         \u001b[0my\u001b[0m\u001b[0;34m,\u001b[0m\u001b[0;34m\u001b[0m\u001b[0;34m\u001b[0m\u001b[0m\n",
      "\u001b[0;32m~/PSO_env/lib/python3.8/site-packages/tensorflow/python/keras/engine/data_adapter.py\u001b[0m in \u001b[0;36m__init__\u001b[0;34m(self, x, y, sample_weights, sample_weight_modes, batch_size, shuffle, **kwargs)\u001b[0m\n\u001b[1;32m    641\u001b[0m         sample_weights, sample_weight_modes)\n\u001b[1;32m    642\u001b[0m \u001b[0;34m\u001b[0m\u001b[0m\n\u001b[0;32m--> 643\u001b[0;31m     self._internal_adapter = TensorLikeDataAdapter(\n\u001b[0m\u001b[1;32m    644\u001b[0m         \u001b[0mx\u001b[0m\u001b[0;34m,\u001b[0m\u001b[0;34m\u001b[0m\u001b[0;34m\u001b[0m\u001b[0m\n\u001b[1;32m    645\u001b[0m         \u001b[0my\u001b[0m\u001b[0;34m=\u001b[0m\u001b[0my\u001b[0m\u001b[0;34m,\u001b[0m\u001b[0;34m\u001b[0m\u001b[0;34m\u001b[0m\u001b[0m\n",
      "\u001b[0;32m~/PSO_env/lib/python3.8/site-packages/tensorflow/python/keras/engine/data_adapter.py\u001b[0m in \u001b[0;36m__init__\u001b[0;34m(self, x, y, sample_weights, sample_weight_modes, batch_size, epochs, steps, shuffle, **kwargs)\u001b[0m\n\u001b[1;32m    271\u001b[0m     \u001b[0minputs\u001b[0m \u001b[0;34m=\u001b[0m \u001b[0mpack_x_y_sample_weight\u001b[0m\u001b[0;34m(\u001b[0m\u001b[0mx\u001b[0m\u001b[0;34m,\u001b[0m \u001b[0my\u001b[0m\u001b[0;34m,\u001b[0m \u001b[0msample_weights\u001b[0m\u001b[0;34m)\u001b[0m\u001b[0;34m\u001b[0m\u001b[0;34m\u001b[0m\u001b[0m\n\u001b[1;32m    272\u001b[0m \u001b[0;34m\u001b[0m\u001b[0m\n\u001b[0;32m--> 273\u001b[0;31m     \u001b[0mnum_samples\u001b[0m \u001b[0;34m=\u001b[0m \u001b[0mset\u001b[0m\u001b[0;34m(\u001b[0m\u001b[0mint\u001b[0m\u001b[0;34m(\u001b[0m\u001b[0mi\u001b[0m\u001b[0;34m.\u001b[0m\u001b[0mshape\u001b[0m\u001b[0;34m[\u001b[0m\u001b[0;36m0\u001b[0m\u001b[0;34m]\u001b[0m\u001b[0;34m)\u001b[0m \u001b[0;32mfor\u001b[0m \u001b[0mi\u001b[0m \u001b[0;32min\u001b[0m \u001b[0mnest\u001b[0m\u001b[0;34m.\u001b[0m\u001b[0mflatten\u001b[0m\u001b[0;34m(\u001b[0m\u001b[0minputs\u001b[0m\u001b[0;34m)\u001b[0m\u001b[0;34m)\u001b[0m\u001b[0;34m.\u001b[0m\u001b[0mpop\u001b[0m\u001b[0;34m(\u001b[0m\u001b[0;34m)\u001b[0m\u001b[0;34m\u001b[0m\u001b[0;34m\u001b[0m\u001b[0m\n\u001b[0m\u001b[1;32m    274\u001b[0m     \u001b[0m_check_data_cardinality\u001b[0m\u001b[0;34m(\u001b[0m\u001b[0minputs\u001b[0m\u001b[0;34m)\u001b[0m\u001b[0;34m\u001b[0m\u001b[0;34m\u001b[0m\u001b[0m\n\u001b[1;32m    275\u001b[0m \u001b[0;34m\u001b[0m\u001b[0m\n",
      "\u001b[0;32m~/PSO_env/lib/python3.8/site-packages/tensorflow/python/keras/engine/data_adapter.py\u001b[0m in \u001b[0;36m<genexpr>\u001b[0;34m(.0)\u001b[0m\n\u001b[1;32m    271\u001b[0m     \u001b[0minputs\u001b[0m \u001b[0;34m=\u001b[0m \u001b[0mpack_x_y_sample_weight\u001b[0m\u001b[0;34m(\u001b[0m\u001b[0mx\u001b[0m\u001b[0;34m,\u001b[0m \u001b[0my\u001b[0m\u001b[0;34m,\u001b[0m \u001b[0msample_weights\u001b[0m\u001b[0;34m)\u001b[0m\u001b[0;34m\u001b[0m\u001b[0;34m\u001b[0m\u001b[0m\n\u001b[1;32m    272\u001b[0m \u001b[0;34m\u001b[0m\u001b[0m\n\u001b[0;32m--> 273\u001b[0;31m     \u001b[0mnum_samples\u001b[0m \u001b[0;34m=\u001b[0m \u001b[0mset\u001b[0m\u001b[0;34m(\u001b[0m\u001b[0mint\u001b[0m\u001b[0;34m(\u001b[0m\u001b[0mi\u001b[0m\u001b[0;34m.\u001b[0m\u001b[0mshape\u001b[0m\u001b[0;34m[\u001b[0m\u001b[0;36m0\u001b[0m\u001b[0;34m]\u001b[0m\u001b[0;34m)\u001b[0m \u001b[0;32mfor\u001b[0m \u001b[0mi\u001b[0m \u001b[0;32min\u001b[0m \u001b[0mnest\u001b[0m\u001b[0;34m.\u001b[0m\u001b[0mflatten\u001b[0m\u001b[0;34m(\u001b[0m\u001b[0minputs\u001b[0m\u001b[0;34m)\u001b[0m\u001b[0;34m)\u001b[0m\u001b[0;34m.\u001b[0m\u001b[0mpop\u001b[0m\u001b[0;34m(\u001b[0m\u001b[0;34m)\u001b[0m\u001b[0;34m\u001b[0m\u001b[0;34m\u001b[0m\u001b[0m\n\u001b[0m\u001b[1;32m    274\u001b[0m     \u001b[0m_check_data_cardinality\u001b[0m\u001b[0;34m(\u001b[0m\u001b[0minputs\u001b[0m\u001b[0;34m)\u001b[0m\u001b[0;34m\u001b[0m\u001b[0;34m\u001b[0m\u001b[0m\n\u001b[1;32m    275\u001b[0m \u001b[0;34m\u001b[0m\u001b[0m\n",
      "\u001b[0;32m~/PSO_env/lib/python3.8/site-packages/tensorflow/python/framework/tensor_shape.py\u001b[0m in \u001b[0;36m__getitem__\u001b[0;34m(self, key)\u001b[0m\n\u001b[1;32m    887\u001b[0m       \u001b[0;32melse\u001b[0m\u001b[0;34m:\u001b[0m\u001b[0;34m\u001b[0m\u001b[0;34m\u001b[0m\u001b[0m\n\u001b[1;32m    888\u001b[0m         \u001b[0;32mif\u001b[0m \u001b[0mself\u001b[0m\u001b[0;34m.\u001b[0m\u001b[0m_v2_behavior\u001b[0m\u001b[0;34m:\u001b[0m\u001b[0;34m\u001b[0m\u001b[0;34m\u001b[0m\u001b[0m\n\u001b[0;32m--> 889\u001b[0;31m           \u001b[0;32mreturn\u001b[0m \u001b[0mself\u001b[0m\u001b[0;34m.\u001b[0m\u001b[0m_dims\u001b[0m\u001b[0;34m[\u001b[0m\u001b[0mkey\u001b[0m\u001b[0;34m]\u001b[0m\u001b[0;34m.\u001b[0m\u001b[0mvalue\u001b[0m\u001b[0;34m\u001b[0m\u001b[0;34m\u001b[0m\u001b[0m\n\u001b[0m\u001b[1;32m    890\u001b[0m         \u001b[0;32melse\u001b[0m\u001b[0;34m:\u001b[0m\u001b[0;34m\u001b[0m\u001b[0;34m\u001b[0m\u001b[0m\n\u001b[1;32m    891\u001b[0m           \u001b[0;32mreturn\u001b[0m \u001b[0mself\u001b[0m\u001b[0;34m.\u001b[0m\u001b[0m_dims\u001b[0m\u001b[0;34m[\u001b[0m\u001b[0mkey\u001b[0m\u001b[0;34m]\u001b[0m\u001b[0;34m\u001b[0m\u001b[0;34m\u001b[0m\u001b[0m\n",
      "\u001b[0;31mIndexError\u001b[0m: list index out of range"
     ]
    },
    {
     "data": {
      "image/png": "[encoded data removed]",
      "text/plain": [
       "<Figure size 432x288 with 1 Axes>"
      ]
     },
     "metadata": {
      "needs_background": "light"
     },
     "output_type": "display_data"
    },
    {
     "data": {
      "image/png": "[encoded data removed]",
      "text/plain": [
       "<Figure size 432x288 with 1 Axes>"
      ]
     },
     "metadata": {
      "needs_background": "light"
     },
     "output_type": "display_data"
    }
   ],
   "source": [
    "model = tuner.hypermodel.build(best_hps)\n",
    "plot_model(model, to_file='pred_me_model_plot.png', show_shapes=True, show_layer_names=True)\n",
    "model.summary()\n",
    "history = model.fit(train_pred_ds, epochs=80, validation_data=val_pred_ds)\n",
    "#model.summary()\n",
    "val_acc_per_epoch = history.history['val_accuracy']\n",
    "best_epoch = val_acc_per_epoch.index(max(val_acc_per_epoch)) + 1\n",
    "print('Best epoch: %d' % (best_epoch,))\n",
    "model.save(\"Prediction_mse_model_latest\")\n",
    "#  \"Accuracy\"\n",
    "plt.figure()\n",
    "plt.plot(history.history['accuracy'])\n",
    "plt.plot(history.history['val_accuracy'])\n",
    "plt.title('model accuracy')\n",
    "plt.ylabel('accuracy')\n",
    "plt.xlabel('epoch')\n",
    "plt.legend(['train', 'validation'], loc='lower right')\n",
    "plt.savefig('/home/dell/Neural_net/train_coin_4/Accuracy_p_mse2_plot')\n",
    "#  \"loss\"\n",
    "plt.figure()\n",
    "plt.plot(history.history['loss'])\n",
    "plt.plot(history.history['val_loss'])\n",
    "plt.title('model loss')\n",
    "plt.ylabel('Loss')\n",
    "plt.xlabel('epoch')\n",
    "plt.legend(['train', 'validation'], loc='lower right')\n",
    "plt.savefig('/home/dell/Neural_net/train_coin_4/Loss_p_mse2_plot')\n",
    "#test\n",
    "y_hat=model.predict(\"test_pred_ds\")\n",
    "m1=test1.inj_m1\n",
    "m2=test1.inj_m2\n",
    "snr=test1.final_snr\n",
    "plt.figure()\n",
    "plt.plot(m1,y_hat[:,0])\n",
    "plt.plot(m2,y_hat[:,1])\n",
    "plt.plot(snr,y_hat[:,2])\n",
    "plt.title('Test')\n",
    "plt.ylabel('Prediction')\n",
    "plt.xlabel('Actual')\n",
    "plt.legend(['Mass1', 'Mass2', 'SNR'], loc='lower right')\n",
    "plt.savefig('/home/dell/Neural_net/train_coin_4/test_p_mse2_plot')"
   ]
  },
  {
   "cell_type": "code",
   "execution_count": 35,
   "id": "388da694",
   "metadata": {},
   "outputs": [
    {
     "name": "stdout",
     "output_type": "stream",
     "text": [
      "100\n"
     ]
    }
   ],
   "source": [
    "#model= keras.models.load_model('/home/dell/Neural_net/plots_coin_8/Prediction_mse_relu_model')\n",
    "os.chdir(\"/home/dell/Neural_net/test_coin_10\")\n",
    "extension = 'csv'\n",
    "all_filenames = [i for i in glob.glob('*.{}'.format(extension))]\n",
    "print(len(all_filenames))\n",
    "est_m1=np.zeros(len(all_filenames))\n",
    "est_m2=np.zeros(len(all_filenames))\n",
    "est_snr=np.zeros(len(all_filenames))\n",
    "\n",
    "est_w_m1=np.zeros(len(all_filenames))\n",
    "est_w_m2=np.zeros(len(all_filenames))\n",
    "est_w_snr=np.zeros(len(all_filenames))\n",
    "\n",
    "est_a_m1=np.zeros(len(all_filenames))\n",
    "est_a_m2=np.zeros(len(all_filenames))\n",
    "est_a_snr=np.zeros(len(all_filenames))\n",
    "count=0"
   ]
  },
  {
   "cell_type": "code",
   "execution_count": 36,
   "id": "9c130800",
   "metadata": {},
   "outputs": [
    {
     "name": "stdout",
     "output_type": "stream",
     "text": [
      "##############################################\n"
     ]
    },
    {
     "data": {
      "text/plain": [
       "'\\nfor c in range(len(all_filenames)):\\n    est_m1[c]=math.ceil(est_m1[c])\\n    est_m2[c]=math.floor(est_m2[c])\\n    est_snr[c]=math.ceil(est_snr[c])\\n    est_w_m1[c]=math.ceil(est_w_m1[c])\\n    est_w_m2[c]=math.floor(est_w_m2[c])\\n    est_w_snr[c]=math.ceil(est_w_snr[c])\\n'"
      ]
     },
     "execution_count": 36,
     "metadata": {},
     "output_type": "execute_result"
    }
   ],
   "source": [
    "for f in all_filenames:\n",
    "    test=pandas.read_csv(f)\n",
    "    test=tf.data.Dataset.from_tensor_slices(dict(test))\n",
    "    #test=tf.convert_to_tensor(test, dtype=tf.float32)\n",
    "  # print(type(test))\n",
    "    p_pred=model.predict(test)\n",
    "    m1=0\n",
    "    m2=0\n",
    "    s=0\n",
    "    l=0\n",
    "\n",
    "    #print(len(p_pred))\n",
    "    ########### Parameters estimated acc to maximum SNR\n",
    "\n",
    "    #for j in range(len(p_pred)):\n",
    "     #   if ((p_pred[j,2]>5) and (p_pred[j,2]<=17)) :\n",
    "      #      m1=m1+p_pred[j,0]\n",
    "       #     m2=m2+p_pred[j,1]\n",
    "        #    s=s+p_pred[j,2]\n",
    "         #   l=l+1\n",
    "\n",
    "\n",
    "    a=np.argmax(p_pred[:,2])\n",
    "    est_m1[count]=(p_pred[a,0])\n",
    "    est_m2[count]=(p_pred[a,1])\n",
    "\n",
    "    #est_m1[count]=sum(p_pred[:,0])/len(p_pred[:,0])\n",
    "    #est_m2[count]=sum(p_pred[:,1])/len(p_pred[:,1])\n",
    "    est_snr[count]=p_pred[a,2]\n",
    "    #print('Parameter_mass1:',est_m1[count])\n",
    "\n",
    "    ########### Weighted parameters\n",
    "    est_w_m1[count]=sum((p_pred[:,0]*p_pred[:,2]))/sum(p_pred[:,2])\n",
    "    est_w_m2[count]=sum((p_pred[:,1]*p_pred[:,2]))/sum(p_pred[:,2])\n",
    "    est_w_snr[count]=np.mean(p_pred[:,2])\n",
    "    \n",
    "    est_a_m1[count]=sum(p_pred[:,0])/len(p_pred[:,0])\n",
    "    est_a_m2[count]=sum(p_pred[:,1])/len(p_pred[:,1])\n",
    "    est_a_snr[count]=np.mean(p_pred[:,2])\n",
    "    #est_m1[count]=m1/l\n",
    "    #est_m2[count]=m2/l\n",
    "    #est_snr[count]=s/l\n",
    "    '''\n",
    "    a=np.argmax(p_pred)\n",
    "    est_snr[count]=p_pred[a]\n",
    "    est_w_snr[count]=np.mean(p_pred)\n",
    "    '''\n",
    "    count=count+1\n",
    "print('##############################################')\n",
    "'''\n",
    "for c in range(len(all_filenames)):\n",
    "    est_m1[c]=math.ceil(est_m1[c])\n",
    "    est_m2[c]=math.floor(est_m2[c])\n",
    "    est_snr[c]=math.ceil(est_snr[c])\n",
    "    est_w_m1[c]=math.ceil(est_w_m1[c])\n",
    "    est_w_m2[c]=math.floor(est_w_m2[c])\n",
    "    est_w_snr[c]=math.ceil(est_w_snr[c])\n",
    "'''\n",
    "#print(l)"
   ]
  },
  {
   "cell_type": "code",
   "execution_count": 37,
   "id": "68a0e4a5",
   "metadata": {
    "scrolled": true
   },
   "outputs": [],
   "source": [
    "data=pandas.read_csv(\"/home/dell/Neural_net/verify_coin_10/verify_coin_dataset10.csv\")\n",
    "#=tf.data.Dataset.from_tensor_slices(dict(test))"
   ]
  },
  {
   "cell_type": "code",
   "execution_count": 30,
   "id": "32748047",
   "metadata": {},
   "outputs": [],
   "source": [
    "#os.mkdir(\"/home/dell/Neural_net/plots_coin11\")\n",
    "os.chdir(\"/home/dell/Neural_net/plots_coin8\")"
   ]
  },
  {
   "cell_type": "code",
   "execution_count": 38,
   "id": "22f27255",
   "metadata": {},
   "outputs": [
    {
     "name": "stdout",
     "output_type": "stream",
     "text": [
      "0     29.825774\n",
      "1     25.155846\n",
      "2      3.886235\n",
      "3     11.111292\n",
      "4     18.205028\n",
      "        ...    \n",
      "95    30.926695\n",
      "96    14.847471\n",
      "97    11.589084\n",
      "98    27.105676\n",
      "99    31.234826\n",
      "Name: final_snr, Length: 100, dtype: float64\n"
     ]
    }
   ],
   "source": [
    "inj_m1=data.inj_m1\n",
    "#inj_m1=math.ceil(inj_m1[:])\n",
    "inj_m2=data.inj_m2\n",
    "\n",
    "pso_m1=data.est_m1\n",
    "#pso_m1=pso_m1.to_numpy()\n",
    "pso_m2=data.est_m2\n",
    "#pso_m2=pso_m2.to_numpy()\n",
    "final_snr=data.final_snr\n",
    "print(final_snr)"
   ]
  },
  {
   "cell_type": "code",
   "execution_count": 19,
   "id": "ca98c818",
   "metadata": {
    "scrolled": true
   },
   "outputs": [
    {
     "data": {
      "image/png": "[encoded data removed]",
      "text/plain": [
       "<Figure size 432x288 with 1 Axes>"
      ]
     },
     "metadata": {
      "needs_background": "light"
     },
     "output_type": "display_data"
    },
    {
     "data": {
      "image/png": "[encoded data removed]",
      "text/plain": [
       "<Figure size 432x288 with 1 Axes>"
      ]
     },
     "metadata": {
      "needs_background": "light"
     },
     "output_type": "display_data"
    },
    {
     "data": {
      "image/png": "[encoded data removed]",
      "text/plain": [
       "<Figure size 432x288 with 1 Axes>"
      ]
     },
     "metadata": {
      "needs_background": "light"
     },
     "output_type": "display_data"
    }
   ],
   "source": [
    "x=[10,20,30,40,50,60,70,80,90]\n",
    "plt.figure()\n",
    "plt.plot(x,x)\n",
    "#plt.plot(est_m1,'*',label='NN_Mass1')\n",
    "#plt.plot(est_m2,'*',label='NN_Mass2')\n",
    "#plt.plot(pso_m1,'*',label='PSO_Mass1')\n",
    "#plt.plot(pso_m2,pso_m1,'*',label='PSO_Mass2')\n",
    "\n",
    "#plt.plot(inj_m1,est_w_m1,'yo',label='NN_wMass1')\n",
    "#plt.plot(inj_m2,est_w_m2,'bo',label='NN_wMass2')\n",
    "plt.plot(inj_m1,est_m1,'o',label='NN_Mass1')\n",
    "plt.plot(inj_m2,est_m2,'o',label='NN_Mass2')\n",
    "plt.plot(inj_m1,pso_m1,'o',label='PSO_Mass1')\n",
    "plt.plot(inj_m2,pso_m2,'o',label='PSO_Mass2')\n",
    "#plt.plot(inj_m1,inj_m2,'m*',label='PSO_Mass1')\n",
    "#plt.plot(pso_m1,pso_m2,'c*',label='PSO_Mass2')\n",
    "#plt.plot(est_w_m1,est_w_m2,'k*',label='NN_Weighted_Mass1')\n",
    "#plt.plot(inj_m2,est_w_m2,'g*',label='NN_Weighted_Mass2')\n",
    "\n",
    "plt.xlim(20,80)\n",
    "plt.ylim(20,80)\n",
    "plt.legend()\n",
    "plt.xlabel('Injected Mass')\n",
    "plt.ylabel('Estimated mass')\n",
    "plt.title('Estimated vs Injected masses')\n",
    "plt.savefig('Inj_vs_est_mse_2.png')\n",
    "x=[0,10,20,30,40]\n",
    "plt.figure()\n",
    "plt.plot(x,x)\n",
    "plt.plot(final_snr,est_snr,'r*',label='SNR')\n",
    "#plt.plot(final_snr,est_w_snr,'yo',label='Weighted_SNR')\n",
    "plt.legend()\n",
    "#plt.xlim(0,20)\n",
    "#plt.ylim(0,20)\n",
    "plt.xlabel('SIgnal SNR')\n",
    "plt.ylabel('Estimated SNR')\n",
    "plt.title('SNR Plot')\n",
    "plt.savefig('SNR Plot_mse_2.png')\n",
    "\n",
    "error_mass1=pso_m1[:]-est_m1[:]\n",
    "error_mass2=pso_m2[:]-est_m2[:]\n",
    "plt.figure()\n",
    "plt.hist([error_mass1,error_mass2],color=['red','blue'],label=['mass1','mass2'])\n",
    "#hist([NN_error_mass1,NN_error_mass2],color=['orange','yellow'],label=['NN_mass1','NN_mass2'])\n",
    "plt.title('Error for PSO and NN, 100 inj')\n",
    "plt.legend()\n",
    "plt.xlabel('Error')\n",
    "plt.ylabel('Frequency')\n",
    "plt.savefig('PSO_error_mse_2.png')\n"
   ]
  },
  {
   "cell_type": "code",
   "execution_count": 84,
   "id": "dd5edd1d",
   "metadata": {},
   "outputs": [
    {
     "data": {
      "image/png": "[encoded data removed]",
      "text/plain": [
       "<Figure size 432x288 with 1 Axes>"
      ]
     },
     "metadata": {
      "needs_background": "light"
     },
     "output_type": "display_data"
    },
    {
     "data": {
      "image/png": "[encoded data removed]",
      "text/plain": [
       "<Figure size 432x288 with 1 Axes>"
      ]
     },
     "metadata": {
      "needs_background": "light"
     },
     "output_type": "display_data"
    }
   ],
   "source": [
    "#  \"Accuracy\"\n",
    "plt.figure()\n",
    "plt.plot(history.history['accuracy'])\n",
    "plt.plot(history.history['val_accuracy'])\n",
    "plt.title('model accuracy')\n",
    "plt.ylabel('accuracy')\n",
    "plt.xlabel('epoch')\n",
    "plt.legend(['train', 'validation'], loc='lower right')\n",
    "plt.savefig('/home/dell/Neural_net/train_coin_4/Accuracy_mse2_plot')\n",
    "#  \"loss\"\n",
    "plt.figure()\n",
    "plt.plot(history.history['loss'])\n",
    "plt.plot(history.history['val_loss'])\n",
    "plt.title('model loss')\n",
    "plt.ylabel('Loss')\n",
    "plt.xlabel('epoch')\n",
    "plt.legend(['train', 'validation'], loc='lower right')\n",
    "plt.savefig('/home/dell/Neural_net/train_coin_4/Loss_mse2_plot')"
   ]
  },
  {
   "cell_type": "code",
   "execution_count": 50,
   "id": "62585155",
   "metadata": {},
   "outputs": [
    {
     "ename": "IndexError",
     "evalue": "index 3 is out of bounds for axis 1 with size 3",
     "output_type": "error",
     "traceback": [
      "\u001b[0;31m---------------------------------------------------------------------------\u001b[0m",
      "\u001b[0;31mIndexError\u001b[0m                                Traceback (most recent call last)",
      "\u001b[0;32m<ipython-input-50-a2f64abebc50>\u001b[0m in \u001b[0;36m<module>\u001b[0;34m\u001b[0m\n\u001b[1;32m     32\u001b[0m \u001b[0mplt\u001b[0m\u001b[0;34m.\u001b[0m\u001b[0mfigure\u001b[0m\u001b[0;34m(\u001b[0m\u001b[0;34m)\u001b[0m\u001b[0;34m\u001b[0m\u001b[0;34m\u001b[0m\u001b[0m\n\u001b[1;32m     33\u001b[0m \u001b[0mplt\u001b[0m\u001b[0;34m.\u001b[0m\u001b[0mplot\u001b[0m\u001b[0;34m(\u001b[0m\u001b[0msnr\u001b[0m\u001b[0;34m,\u001b[0m\u001b[0;34m\"*\"\u001b[0m\u001b[0;34m,\u001b[0m\u001b[0mlabel\u001b[0m\u001b[0;34m=\u001b[0m\u001b[0;34m'Actual'\u001b[0m\u001b[0;34m)\u001b[0m\u001b[0;34m\u001b[0m\u001b[0;34m\u001b[0m\u001b[0m\n\u001b[0;32m---> 34\u001b[0;31m \u001b[0mplt\u001b[0m\u001b[0;34m.\u001b[0m\u001b[0mplot\u001b[0m\u001b[0;34m(\u001b[0m\u001b[0my_hat\u001b[0m\u001b[0;34m[\u001b[0m\u001b[0;34m:\u001b[0m\u001b[0;34m,\u001b[0m\u001b[0;36m3\u001b[0m\u001b[0;34m]\u001b[0m\u001b[0;34m,\u001b[0m\u001b[0;34m'o'\u001b[0m\u001b[0;34m,\u001b[0m\u001b[0mlabel\u001b[0m\u001b[0;34m=\u001b[0m\u001b[0;34m'predicted'\u001b[0m\u001b[0;34m)\u001b[0m\u001b[0;34m\u001b[0m\u001b[0;34m\u001b[0m\u001b[0m\n\u001b[0m\u001b[1;32m     35\u001b[0m \u001b[0mplt\u001b[0m\u001b[0;34m.\u001b[0m\u001b[0mtitle\u001b[0m\u001b[0;34m(\u001b[0m\u001b[0;34m'SNR (Pred vs Actual)'\u001b[0m\u001b[0;34m)\u001b[0m\u001b[0;34m\u001b[0m\u001b[0;34m\u001b[0m\u001b[0m\n\u001b[1;32m     36\u001b[0m \u001b[0;31m#plt.ylabel('Prediction')\u001b[0m\u001b[0;34m\u001b[0m\u001b[0;34m\u001b[0m\u001b[0;34m\u001b[0m\u001b[0m\n",
      "\u001b[0;31mIndexError\u001b[0m: index 3 is out of bounds for axis 1 with size 3"
     ]
    },
    {
     "data": {
      "image/png": "[encoded data removed]",
      "text/plain": [
       "<Figure size 432x288 with 1 Axes>"
      ]
     },
     "metadata": {
      "needs_background": "light"
     },
     "output_type": "display_data"
    },
    {
     "data": {
      "image/png": "[encoded data removed]",
      "text/plain": [
       "<Figure size 432x288 with 1 Axes>"
      ]
     },
     "metadata": {
      "needs_background": "light"
     },
     "output_type": "display_data"
    },
    {
     "data": {
      "image/png": "[encoded data removed]",
      "text/plain": [
       "<Figure size 432x288 with 1 Axes>"
      ]
     },
     "metadata": {
      "needs_background": "light"
     },
     "output_type": "display_data"
    },
    {
     "data": {
      "image/png": "[encoded data removed]",
      "text/plain": [
       "<Figure size 432x288 with 1 Axes>"
      ]
     },
     "metadata": {
      "needs_background": "light"
     },
     "output_type": "display_data"
    }
   ],
   "source": [
    "x=[0,10,20,30,40,50,60,70,80,90,100]\n",
    "y_hat=model.predict(test_pred_ds)\n",
    "m1=test1.inj_m1\n",
    "m2=test1.inj_m2\n",
    "snr=test1.final_snr\n",
    "plt.figure()\n",
    "plt.plot(m1,y_hat[:,0],\"m*\")\n",
    "plt.plot(m2,y_hat[:,1],\"b*\")\n",
    "plt.plot(snr,y_hat[:,2],\"o\")\n",
    "plt.plot(x,x)\n",
    "plt.title('Test')\n",
    "plt.ylabel('Prediction')\n",
    "plt.xlabel('Actual')\n",
    "plt.legend(['Mass1', 'Mass2', 'SNR'], loc='lower right')\n",
    "plt.savefig('/home/dell/Neural_net/train_coin_4/test_mse_plot')\n",
    "plt.figure()\n",
    "plt.plot(m1,\"m*\",label='Actual')\n",
    "plt.plot(y_hat[:,0],'o',label='predicted')\n",
    "plt.title('Mass 1(Pred vs Actual)')\n",
    "#plt.ylabel('Prediction')\n",
    "#plt.xlabel('Mass')\n",
    "#plt.legend(['Mass1', 'Mass2', 'SNR'], loc='lower right')\n",
    "plt.savefig('/home/dell/Neural_net/train_coin_4/test_mse_m1_plot')\n",
    "plt.figure()\n",
    "plt.plot(m2,\"*\",label='Actual')\n",
    "plt.plot(y_hat[:,1],'o',label='predicted')\n",
    "plt.title('Mass 2(Pred vs Actual)')\n",
    "#plt.ylabel('Prediction')\n",
    "#plt.xlabel('Mass')\n",
    "#plt.legend(['Mass1', 'Mass2', 'SNR'], loc='lower right')\n",
    "plt.savefig('/home/dell/Neural_net/train_coin_4/test_mse_m2_plot')\n",
    "plt.figure()\n",
    "plt.plot(snr,\"*\",label='Actual')\n",
    "plt.plot(y_hat[:,3],'o',label='predicted')\n",
    "plt.title('SNR (Pred vs Actual)')\n",
    "#plt.ylabel('Prediction')\n",
    "#plt.xlabel('Mass')\n",
    "#plt.legend(['Mass1', 'Mass2', 'SNR'], loc='lower right')\n",
    "plt.savefig('/home/dell/Neural_net/train_coin_4/test_mse_snr_plot')"
   ]
  },
  {
   "cell_type": "code",
   "execution_count": 34,
   "id": "03fc3825",
   "metadata": {},
   "outputs": [
    {
     "data": {
      "application/vnd.plotly.v1+json": {
       "config": {
        "plotlyServerURL": "https://plot.ly"
       },
       "data": [
        {
         "autobinx": false,
         "histnorm": "probability density",
         "legendgroup": "Mass1",
         "marker": {
          "color": "#A56CC1"
         },
         "name": "Mass1",
         "opacity": 0.7,
         "type": "histogram",
         "x": [
          13.851857654457653,
          1.5386650057475393,
          13.344035056002134,
          -13.21356537277142,
          22.912723369691932,
          12.165295309744486,
          14.698141027790392,
          13.733991921379555,
          9.054768756759152,
          11.068650059323545,
          7.642957789395375,
          -5.222741458973168,
          4.250283740022603,
          9.260901623432964,
          -9.141864013389053,
          14.944132810229512,
          1.3867429175606887,
          -1.395591973077991,
          8.091094534789832,
          5.257622961553906,
          13.42315717414398,
          1.057552829498917,
          4.564953478091866,
          12.402446744376604,
          -4.5896070406698115,
          16.435596270116307,
          12.22038246616227,
          13.354748993666817,
          14.28350529416425,
          11.242218314083757,
          -16.456953794161457,
          -0.8299856206648428,
          4.818465285646454,
          24.48084437168265,
          5.103078186892709,
          7.798251522651469,
          5.299048465504228,
          9.798230856740012,
          13.918761019440481,
          15.459594715670619,
          -2.1372306134882564,
          -2.961727009883468,
          -13.156669028422591,
          6.509321946319865,
          -0.18493696010673233,
          6.728198988653517,
          15.843811335780046,
          17.492390585845783,
          -1.1713388123245636,
          7.2024133963776364,
          -0.36127322096563574,
          0.5518221234719505,
          2.3506897966486235,
          -3.505788342381493,
          13.115647380021151,
          8.791879236991214,
          6.245784095248986,
          3.3291021969840386,
          -6.797767499081488,
          17.79928724546788,
          -8.03602539065372,
          -6.38136045179985,
          6.9878846375262,
          15.816738713469434,
          -1.3070126522445875,
          15.099460609526801,
          6.279783978253462,
          -3.029790740293997,
          17.26735038423857,
          -0.77560847530291,
          -2.521777703965789,
          6.019822704996976,
          13.632322801564527,
          7.022964296750004,
          7.91435277719534,
          -0.5235131057027118,
          30.579155934955963,
          -10.266373006419059,
          -19.295935750145986,
          5.743063767342186,
          13.032848696631547,
          0.9161961984352303,
          11.60312113715733,
          5.7979736462290035,
          -12.960958153725322,
          24.73668690068891,
          -3.074988087965181,
          10.077089751270229,
          0.42661737459997084,
          6.0562715653973385,
          3.4491149765967535,
          -2.674708328967945,
          6.804811602492734,
          -6.570371366686054,
          10.951345511216125,
          3.776961512375273,
          -0.5974309073348252,
          4.3629231647594295,
          3.4473366780355548,
          14.641307524611676
         ],
         "xaxis": "x",
         "xbins": {
          "end": 30.579155934955963,
          "size": 1,
          "start": -19.295935750145986
         },
         "yaxis": "y"
        },
        {
         "autobinx": false,
         "histnorm": "probability density",
         "legendgroup": "Mass2",
         "marker": {
          "color": "#63F5EF"
         },
         "name": "Mass2",
         "opacity": 0.7,
         "type": "histogram",
         "x": [
          -3.8535679215296383,
          -3.7644198364221566,
          17.380365368930107,
          -2.2081249855886256,
          22.40512482322672,
          -5.6815090674821604,
          12.893676299227806,
          -2.8884991850735915,
          -4.8620920883055305,
          -16.922889028719496,
          -10.40584058885564,
          -8.008860353715818,
          -3.138069690673774,
          -11.435525972254553,
          -17.807244538040287,
          8.479675718112233,
          -5.60131994122473,
          7.569665630952329,
          -7.406291767901905,
          -1.8918015496253133,
          3.953793012020249,
          -12.88885570040572,
          -5.540534377082437,
          1.7237962078225166,
          -2.21011607834005,
          -3.925467505287493,
          -2.0329604172057074,
          -1.304856768518313,
          -13.846174607341137,
          -4.183256005568019,
          -17.995018222494373,
          -9.988531908736427,
          0.0558013214714137,
          -3.1577521660716243,
          -1.2013750258439302,
          -6.900434871668821,
          0.07043354367835519,
          3.451869227672951,
          0.8227479318813096,
          2.214610561402033,
          -9.869321346481954,
          0.11263924266174286,
          -8.109881291033275,
          -4.788631311290658,
          -5.612140661908839,
          4.779284530310484,
          -0.4218257308657414,
          1.508646395450853,
          7.176915957272001,
          -8.069338669565177,
          -12.820218838305955,
          -5.351685736566132,
          -12.373905548364888,
          -6.275726438686526,
          8.276233311536132,
          -11.770340737155205,
          -4.720544341993097,
          -3.202486610569217,
          -13.284480293576834,
          20.003344442341792,
          -13.07778913695494,
          -17.930966934971682,
          -10.955319103301669,
          -4.819822738963481,
          -18.446552416668233,
          -3.807392787794157,
          -7.4037193364878675,
          -2.881884540722318,
          -7.703174153841154,
          -7.8450773614301355,
          -13.702729218298636,
          4.779423143762401,
          4.647337048012901,
          2.5534806130381043,
          -11.0207138161466,
          -7.494014869416787,
          12.940332260451356,
          -15.91873474142465,
          -5.381184743224139,
          0.10117138159571226,
          -2.775193175836229,
          -5.601025176226642,
          -9.690352200618221,
          2.050048095840978,
          -8.244753834299317,
          11.261632684071998,
          -12.037210303136462,
          8.067296299161093,
          -3.4482673699293684,
          -1.0022691104658037,
          -1.470213065387668,
          -5.556721143699406,
          -8.041413868978985,
          -21.79328643396991,
          -11.136408652963247,
          -10.6346530903174,
          -6.347391746467949,
          -12.245337992232663,
          -5.687977885446138,
          -1.4742391528830723
         ],
         "xaxis": "x",
         "xbins": {
          "end": 22.40512482322672,
          "size": 1,
          "start": -21.79328643396991
         },
         "yaxis": "y"
        },
        {
         "legendgroup": "Mass1",
         "marker": {
          "color": "#A56CC1"
         },
         "mode": "lines",
         "name": "Mass1",
         "showlegend": false,
         "type": "scatter",
         "x": [
          -19.295935750145986,
          -19.19618556677578,
          -19.096435383405577,
          -18.996685200035376,
          -18.89693501666517,
          -18.797184833294967,
          -18.697434649924762,
          -18.597684466554558,
          -18.497934283184357,
          -18.398184099814152,
          -18.298433916443948,
          -18.198683733073743,
          -18.09893354970354,
          -17.999183366333334,
          -17.899433182963133,
          -17.799682999592928,
          -17.699932816222724,
          -17.60018263285252,
          -17.500432449482314,
          -17.400682266112113,
          -17.30093208274191,
          -17.201181899371704,
          -17.1014317160015,
          -17.001681532631295,
          -16.901931349261094,
          -16.80218116589089,
          -16.702430982520685,
          -16.60268079915048,
          -16.502930615780276,
          -16.403180432410075,
          -16.30343024903987,
          -16.203680065669666,
          -16.10392988229946,
          -16.004179698929256,
          -15.904429515559054,
          -15.80467933218885,
          -15.704929148818646,
          -15.605178965448442,
          -15.505428782078239,
          -15.405678598708034,
          -15.30592841533783,
          -15.206178231967627,
          -15.106428048597422,
          -15.006677865227218,
          -14.906927681857015,
          -14.80717749848681,
          -14.707427315116608,
          -14.607677131746403,
          -14.507926948376198,
          -14.408176765005996,
          -14.308426581635791,
          -14.208676398265588,
          -14.108926214895384,
          -14.009176031525179,
          -13.909425848154976,
          -13.809675664784772,
          -13.709925481414569,
          -13.610175298044364,
          -13.51042511467416,
          -13.410674931303955,
          -13.310924747933754,
          -13.21117456456355,
          -13.111424381193345,
          -13.01167419782314,
          -12.911924014452936,
          -12.812173831082733,
          -12.712423647712528,
          -12.612673464342326,
          -12.512923280972121,
          -12.413173097601916,
          -12.313422914231714,
          -12.213672730861509,
          -12.113922547491306,
          -12.014172364121102,
          -11.914422180750897,
          -11.814671997380694,
          -11.714921814010491,
          -11.615171630640287,
          -11.515421447270082,
          -11.415671263899878,
          -11.315921080529673,
          -11.21617089715947,
          -11.116420713789266,
          -11.016670530419063,
          -10.916920347048858,
          -10.817170163678655,
          -10.717419980308451,
          -10.617669796938246,
          -10.517919613568044,
          -10.418169430197839,
          -10.318419246827634,
          -10.21866906345743,
          -10.118918880087229,
          -10.019168696717024,
          -9.91941851334682,
          -9.819668329976617,
          -9.719918146606412,
          -9.620167963236208,
          -9.520417779866005,
          -9.4206675964958,
          -9.320917413125596,
          -9.221167229755393,
          -9.121417046385188,
          -9.021666863014984,
          -8.921916679644779,
          -8.822166496274578,
          -8.722416312904373,
          -8.622666129534169,
          -8.522915946163966,
          -8.423165762793762,
          -8.323415579423557,
          -8.223665396053354,
          -8.12391521268315,
          -8.024165029312945,
          -7.924414845942742,
          -7.824664662572538,
          -7.724914479202333,
          -7.62516429583213,
          -7.525414112461926,
          -7.425663929091723,
          -7.32591374572152,
          -7.226163562351315,
          -7.126413378981111,
          -7.026663195610906,
          -6.926913012240703,
          -6.827162828870499,
          -6.727412645500294,
          -6.6276624621300915,
          -6.527912278759887,
          -6.428162095389682,
          -6.3284119120194795,
          -6.228661728649275,
          -6.12891154527907,
          -6.029161361908869,
          -5.929411178538665,
          -5.82966099516846,
          -5.729910811798256,
          -5.630160628428053,
          -5.530410445057848,
          -5.430660261687644,
          -5.330910078317441,
          -5.231159894947236,
          -5.131409711577032,
          -5.031659528206829,
          -4.931909344836624,
          -4.83215916146642,
          -4.732408978096217,
          -4.632658794726014,
          -4.5329086113558095,
          -4.433158427985607,
          -4.333408244615402,
          -4.2336580612451975,
          -4.133907877874995,
          -4.03415769450479,
          -3.9344075111345855,
          -3.834657327764381,
          -3.734907144394178,
          -3.6351569610239736,
          -3.535406777653769,
          -3.435656594283566,
          -3.3359064109133616,
          -3.236156227543159,
          -3.136406044172954,
          -3.0366558608027496,
          -2.936905677432545,
          -2.837155494062344,
          -2.7374053106921394,
          -2.637655127321935,
          -2.5379049439517303,
          -2.4381547605815257,
          -2.3384045772113247,
          -2.23865439384112,
          -2.1389042104709155,
          -2.039154027100711,
          -1.9394038437305063,
          -1.8396536603603018,
          -1.7399034769901007,
          -1.6401532936198961,
          -1.5404031102496916,
          -1.440652926879487,
          -1.3409027435092824,
          -1.2411525601390778,
          -1.1414023767688732,
          -1.0416521933986758,
          -0.9419020100284712,
          -0.8421518266582666,
          -0.742401643288062,
          -0.6426514599178574,
          -0.5429012765476529,
          -0.4431510931774518,
          -0.34340090980724725,
          -0.24365072643704266,
          -0.14390054306683808,
          -0.0441503596966335,
          0.05559982367357108,
          0.15535000704377566,
          0.2551001904139767,
          0.35485037378418127,
          0.45460055715438585,
          0.5543507405245904,
          0.654100923894795,
          0.7538511072649996,
          0.8536012906352006,
          0.9533514740054052,
          1.0531016573756098,
          1.1528518407458144,
          1.252602024116019,
          1.3523522074862235,
          1.4521023908564281,
          1.5518525742266291,
          1.6516027575968302,
          1.7513529409670348,
          1.8511031243372393,
          1.950853307707444,
          2.0506034910776485,
          2.1503536744478495,
          2.250103857818054,
          2.3498540411882587,
          2.4496042245584633,
          2.549354407928668,
          2.6491045912988724,
          2.7488547746690735,
          2.848604958039278,
          2.9483551414094826,
          3.048105324779687,
          3.147855508149892,
          3.2476056915200964,
          3.347355874890301,
          3.447106058260502,
          3.5468562416307066,
          3.646606425000911,
          3.7463566083711157,
          3.8461067917413203,
          3.945856975111525,
          4.045607158481726,
          4.1453573418519305,
          4.245107525222135,
          4.34485770859234,
          4.444607891962541,
          4.544358075332745,
          4.644108258702946,
          4.743858442073151,
          4.8436086254433555,
          4.94335880881356,
          5.043108992183765,
          5.142859175553969,
          5.242609358924174,
          5.342359542294375,
          5.442109725664579,
          5.541859909034784,
          5.641610092404989,
          5.741360275775193,
          5.841110459145398,
          5.940860642515599,
          6.040610825885803,
          6.140361009256008,
          6.2401111926262125,
          6.339861375996417,
          6.439611559366622,
          6.539361742736826,
          6.639111926107027,
          6.738862109477232,
          6.838612292847436,
          6.938362476217641,
          7.038112659587846,
          7.13786284295805,
          7.237613026328248,
          7.337363209698452,
          7.437113393068657,
          7.536863576438861,
          7.636613759809066,
          7.736363943179271,
          7.836114126549475,
          7.935864309919676,
          8.03561449328988,
          8.135364676660085,
          8.23511486003029,
          8.334865043400494,
          8.434615226770699,
          8.5343654101409,
          8.634115593511105,
          8.73386577688131,
          8.833615960251514,
          8.933366143621718,
          9.033116326991923,
          9.132866510362124,
          9.232616693732329,
          9.332366877102533,
          9.432117060472738,
          9.531867243842942,
          9.631617427213147,
          9.731367610583352,
          9.831117793953553,
          9.930867977323757,
          10.030618160693958,
          10.130368344064163,
          10.230118527434367,
          10.329868710804572,
          10.429618894174773,
          10.529369077544978,
          10.629119260915182,
          10.728869444285387,
          10.828619627655591,
          10.928369811025796,
          11.028119994395997,
          11.127870177766201,
          11.227620361136406,
          11.32737054450661,
          11.427120727876815,
          11.52687091124702,
          11.626621094617224,
          11.726371277987425,
          11.82612146135763,
          11.925871644727835,
          12.02562182809804,
          12.125372011468244,
          12.225122194838448,
          12.32487237820865,
          12.424622561578854,
          12.524372744949059,
          12.624122928319263,
          12.723873111689464,
          12.823623295059669,
          12.923373478429873,
          13.023123661800078,
          13.122873845170282,
          13.222624028540487,
          13.322374211910692,
          13.422124395280896,
          13.521874578651094,
          13.621624762021298,
          13.721374945391503,
          13.821125128761707,
          13.920875312131912,
          14.020625495502117,
          14.120375678872321,
          14.220125862242526,
          14.31987604561273,
          14.419626228982935,
          14.51937641235314,
          14.619126595723337,
          14.718876779093542,
          14.818626962463746,
          14.91837714583395,
          15.018127329204155,
          15.11787751257436,
          15.217627695944564,
          15.317377879314769,
          15.417128062684974,
          15.516878246055178,
          15.616628429425383,
          15.716378612795587,
          15.816128796165785,
          15.91587897953599,
          16.015629162906194,
          16.1153793462764,
          16.215129529646603,
          16.314879713016808,
          16.414629896387012,
          16.514380079757217,
          16.61413026312742,
          16.713880446497626,
          16.81363062986783,
          16.913380813238035,
          17.01313099660824,
          17.11288117997843,
          17.212631363348635,
          17.31238154671884,
          17.412131730089044,
          17.51188191345925,
          17.611632096829453,
          17.711382280199658,
          17.811132463569862,
          17.910882646940067,
          18.01063283031027,
          18.110383013680476,
          18.21013319705068,
          18.309883380420885,
          18.409633563791083,
          18.509383747161287,
          18.609133930531492,
          18.708884113901696,
          18.8086342972719,
          18.908384480642106,
          19.00813466401231,
          19.107884847382515,
          19.20763503075272,
          19.307385214122924,
          19.40713539749313,
          19.506885580863333,
          19.606635764233538,
          19.706385947603735,
          19.80613613097394,
          19.905886314344144,
          20.00563649771435,
          20.105386681084553,
          20.205136864454758,
          20.304887047824963,
          20.404637231195167,
          20.50438741456537,
          20.604137597935576,
          20.70388778130578,
          20.803637964675985,
          20.90338814804619,
          21.003138331416388,
          21.102888514786592,
          21.202638698156797,
          21.302388881527,
          21.402139064897206,
          21.50188924826741,
          21.601639431637615,
          21.70138961500782,
          21.801139798378024,
          21.90088998174823,
          22.000640165118433,
          22.100390348488638,
          22.200140531858843,
          22.29989071522904,
          22.399640898599245,
          22.49939108196945,
          22.599141265339647,
          22.69889144870985,
          22.798641632080056,
          22.89839181545026,
          22.998141998820465,
          23.09789218219067,
          23.197642365560874,
          23.29739254893108,
          23.397142732301283,
          23.49689291567148,
          23.596643099041685,
          23.69639328241189,
          23.796143465782094,
          23.8958936491523,
          23.995643832522504,
          24.09539401589271,
          24.195144199262913,
          24.294894382633117,
          24.394644566003322,
          24.494394749373527,
          24.59414493274373,
          24.693895116113936,
          24.793645299484133,
          24.893395482854338,
          24.993145666224542,
          25.092895849594747,
          25.19264603296495,
          25.292396216335156,
          25.39214639970536,
          25.491896583075565,
          25.59164676644577,
          25.691396949815974,
          25.79114713318618,
          25.890897316556384,
          25.990647499926588,
          26.090397683296786,
          26.19014786666699,
          26.289898050037195,
          26.3896482334074,
          26.489398416777604,
          26.58914860014781,
          26.688898783518013,
          26.788648966888218,
          26.888399150258422,
          26.988149333628627,
          27.08789951699883,
          27.187649700369036,
          27.28739988373924,
          27.387150067109438,
          27.486900250479643,
          27.586650433849847,
          27.686400617220052,
          27.786150800590256,
          27.88590098396046,
          27.985651167330666,
          28.08540135070087,
          28.185151534071068,
          28.284901717441272,
          28.384651900811477,
          28.48440208418168,
          28.58415226755188,
          28.683902450922083,
          28.783652634292288,
          28.883402817662493,
          28.983153001032697,
          29.082903184402902,
          29.182653367773106,
          29.28240355114331,
          29.382153734513516,
          29.48190391788372,
          29.581654101253925,
          29.68140428462413,
          29.781154467994334,
          29.88090465136453,
          29.980654834734736,
          30.08040501810494,
          30.180155201475145,
          30.27990538484535,
          30.379655568215554,
          30.47940575158576
         ],
         "xaxis": "x",
         "y": [
          0.002774897508636619,
          0.002835280098054159,
          0.0028961374877062643,
          0.0029574601092162704,
          0.003019238459179452,
          0.003081463089205289,
          0.003144124595207419,
          0.0032072136062293176,
          0.0032707207731094926,
          0.0033346367573036276,
          0.003398952220191655,
          0.003463657813205961,
          0.003528744169121749,
          0.003594201894852519,
          0.0036600215660924783,
          0.003726193724142979,
          0.0037927088752524327,
          0.0038595574927879554,
          0.003926730022542652,
          0.003994216891464813,
          0.004062008520074637,
          0.004130095338810179,
          0.004198467808517812,
          0.004267116445272965,
          0.00433603184968518,
          0.004405204740807426,
          0.004474625994733466,
          0.004544286687929345,
          0.004614178145305676,
          0.004684291992997158,
          0.0047546202157745035,
          0.004825155218972459,
          0.004895889894775752,
          0.004966817692663693,
          0.005037932693773009,
          0.005109229688899038,
          0.005180704259816759,
          0.005252352863566486,
          0.005324172919314331,
          0.005396162897365055,
          0.005468322409875328,
          0.005540652302788414,
          0.005613154748487737,
          0.00568583333864643,
          0.005758693176733277,
          0.005831740969622408,
          0.005904985117745024,
          0.005978435803216302,
          0.006052105075369345,
          0.006126006933130866,
          0.006200157403680311,
          0.006274574616844662,
          0.0063492788746958625,
          0.006424292715836084,
          0.006499640973877959,
          0.006575350829651813,
          0.00665145185670049,
          0.0067279760596532,
          0.006804957905103531,
          0.00688243434465263,
          0.0069604448298162674,
          0.007039031318533862,
          0.0071182382730579806,
          0.007198112649044337,
          0.007278703875703954,
          0.00736006382692123,
          0.007442246783283241,
          0.007525309385006743,
          0.007609310575789377,
          0.007694311537650546,
          0.007780375616864543,
          0.00786756824112413,
          0.007955956828105962,
          0.008045610685640338,
          0.00813660090371621,
          0.008229000238578426,
          0.008322882989197075,
          0.008418324866409262,
          0.00851540285505099,
          0.008614195069411355,
          0.00871478060235315,
          0.008817239368452755,
          0.008921651941518845,
          0.009028099386853235,
          0.009136663088619072,
          0.009247424572680948,
          0.009360465325279869,
          0.009475866607902022,
          0.009593709268695643,
          0.009714073550784751,
          0.009837038897821948,
          0.009962683757116488,
          0.010091085380667074,
          0.010222319624423382,
          0.01035646074609486,
          0.010493581201821898,
          0.010633751442021487,
          0.010777039706719045,
          0.010923511820679056,
          0.011073230988650552,
          0.011226257591049319,
          0.011382648980406694,
          0.011542459278926063,
          0.011705739177501458,
          0.011872535736569044,
          0.012042892189181455,
          0.01221684774671621,
          0.012394437407653681,
          0.012575691769886306,
          0.012760636847049209,
          0.01294929388939212,
          0.01314167920974427,
          0.013337804015156126,
          0.013537674244835032,
          0.013741290415024605,
          0.013948647471510778,
          0.01415973465046868,
          0.014374535348395105,
          0.014593027001898889,
          0.014815180978147406,
          0.015040962476788823,
          0.015270330444188216,
          0.01550323750082883,
          0.015739629882738446,
          0.01597944739780315,
          0.016222623397827256,
          0.016469084767188093,
          0.016718751928916035,
          0.016971538869005834,
          0.017227353179731137,
          0.017486096122693195,
          0.01774766271228433,
          0.018011941820187956,
          0.018278816301469464,
          0.018548163142735954,
          0.018819853632757687,
          0.019093753555850617,
          0.01936972340821787,
          0.01964761863733784,
          0.01992728990437009,
          0.02020858336942603,
          0.020491340999420966,
          0.02077540089808867,
          0.021060597657598972,
          0.0213467627310742,
          0.02163372482515367,
          0.021921310311605383,
          0.02220934365683487,
          0.022497647867990613,
          0.022786044954217932,
          0.023074356401467273,
          0.023362403659121355,
          0.02365000863656919,
          0.02393699420772528,
          0.02422318472136955,
          0.024508406515070934,
          0.0247924884303539,
          0.025075262326675823,
          0.02535656359170338,
          0.025636231645310974,
          0.025914110434672365,
          0.026190048917781185,
          0.026463901532716477,
          0.026735528649966717,
          0.027004797005140795,
          0.0272715801094274,
          0.02753575863521606,
          0.027797220774362703,
          0.028055862566671856,
          0.02831158819627496,
          0.028564310253710454,
          0.028813949961655105,
          0.029060437362418406,
          0.029303711465490087,
          0.02954372035362609,
          0.029780421246168687,
          0.030013780518520654,
          0.030243773676930607,
          0.030470385287996667,
          0.03069360886255316,
          0.030913446693874472,
          0.031129909650403884,
          0.0313430169234951,
          0.03155279573093801,
          0.031759280977323584,
          0.03196251487258755,
          0.032162546510353274,
          0.032359431407971276,
          0.032553231010421874,
          0.03274401216050959,
          0.03293184653802759,
          0.03311681007080848,
          0.033298982320800495,
          0.033478445848514844,
          0.03365528555937827,
          0.03382958803569256,
          0.03400144085805027,
          0.03417093192017948,
          0.034338148741289806,
          0.034503177780066605,
          0.03466610375450843,
          0.0348270089718234,
          0.034985972672593534,
          0.035143070393382214,
          0.035298373351895174,
          0.035451947858716186,
          0.035603854759517266,
          0.035754148911497384,
          0.03590287869762879,
          0.03605008558208948,
          0.03619580371003528,
          0.03634005955461387,
          0.03648287161385186,
          0.036624250159751355,
          0.03676419704162043,
          0.03690270554533048,
          0.03703976030984872,
          0.03717533730203477,
          0.03730940385032032,
          0.03744191873751305,
          0.03757283235258219,
          0.037702086900895104,
          0.03782961667198669,
          0.03795534836355735,
          0.03807920146001376,
          0.03820108866349253,
          0.03832091637494312,
          0.03843858522249438,
          0.03855399063399329,
          0.03866702345028511,
          0.038777570575505925,
          0.03888551566038122,
          0.03899073981427224,
          0.0390931223414852,
          0.03919254149716066,
          0.039288875257890654,
          0.03938200210207507,
          0.03947180179492044,
          0.03955815617291541,
          0.03964094992257401,
          0.03972007134823758,
          0.03979541312375333,
          0.03986687302291389,
          0.03993435462364114,
          0.039997767981030635,
          0.04005703026453936,
          0.040112066354799344,
          0.04016280939576809,
          0.04020920129818867,
          0.040251193190618796,
          0.04028874581460406,
          0.040321829860908966,
          0.04035042624408122,
          0.04037452631300564,
          0.04039413199550425,
          0.040409255875451265,
          0.0404199212013001,
          0.04042616182535286,
          0.04042802207354742,
          0.04042555654598097,
          0.040418829848837594,
          0.04040791625882999,
          0.04039289932170698,
          0.04037387138680729,
          0.04035093308006253,
          0.04032419271825749,
          0.0402937656677467,
          0.040259773651196915,
          0.040222344006275036,
          0.040181608900526966,
          0.0401377045069921,
          0.04009077014537075,
          0.040040947393803566,
          0.03998837917653269,
          0.03993320883289282,
          0.03987557917322411,
          0.039815631527408316,
          0.03975350479180361,
          0.03968933448039072,
          0.03962325178594515,
          0.03955538265701525,
          0.039485846896415225,
          0.039414757286836584,
          0.03934221874903958,
          0.03926832753791296,
          0.03919317048148199,
          0.03911682426770597,
          0.03903935478363963,
          0.038960816511235036,
          0.0388812519837392,
          0.038800691306296674,
          0.03871915174399847,
          0.03863663738023154,
          0.03855313884778012,
          0.038468633134710634,
          0.03838308346664482,
          0.0382964392665848,
          0.038208636193011306,
          0.0381195962565275,
          0.03802922801487309,
          0.03793742684568722,
          0.03784407529595681,
          0.037749043506655484,
          0.037652189710652255,
          0.037553360801560534,
          0.03745239297080208,
          0.037349112409782115,
          0.037243336073713856,
          0.03713487250329326,
          0.03702352270011235,
          0.036909081051410116,
          0.03679133629949939,
          0.03667007255097356,
          0.0365450703205933,
          0.0364161076045784,
          0.03628296097788683,
          0.03614540670995004,
          0.03600322189325381,
          0.035856185579104444,
          0.03570407991490389,
          0.0355466912772711,
          0.035383811395392845,
          0.03521523845906369,
          0.03504077820597952,
          0.034860244982984206,
          0.03467346277612993,
          0.03448026620460053,
          0.03428050147375887,
          0.03407402728281646,
          0.033860715682879884,
          0.033640452881406685,
          0.03341313998939804,
          0.033178693707967034,
          0.0329370469512466,
          0.032688149402937475,
          0.03243196800414504,
          0.03216848737050696,
          0.031897710136975704,
          0.03161965722898274,
          0.03133436805907766,
          0.03104190064850122,
          0.030742331673512282,
          0.030435756436649808,
          0.03012228876346073,
          0.029802060825570707,
          0.02947522289130869,
          0.02914194300542002,
          0.028802406599713285,
          0.028456816036783485,
          0.028105390089235065,
          0.027748363357093537,
          0.02738598562634185,
          0.027018521171747398,
          0.026646248007354423,
          0.026269457088208825,
          0.025888451467049788,
          0.025503545409855003,
          0.025115063474252,
          0.02472333955491743,
          0.024328715900171258,
          0.023931542104038604,
          0.023532174078096102,
          0.0231309730074435,
          0.02272830429514529,
          0.022324536499469996,
          0.02192004026822125,
          0.021515187274399054,
          0.021110349157360462,
          0.020705896473557927,
          0.020302197660830693,
          0.019899618020103583,
          0.019498518718213575,
          0.019099255815435905,
          0.018702179321122003,
          0.018307632280688522,
          0.017915949897015667,
          0.017527458689120298,
          0.017142475690769803,
          0.016761307691495256,
          0.016384250522248615,
          0.016011588387730705,
          0.015643593247192486,
          0.015280524245287114,
          0.014922627194321605,
          0.014570134109027433,
          0.014223262794739632,
          0.013882216489645322,
          0.013547183561534412,
          0.013218337259261293,
          0.012895835518903534,
          0.012579820824386872,
          0.012270420122132492,
          0.01196774478907565,
          0.011671890653203933,
          0.011382938065569264,
          0.011100952022541487,
          0.01082598233689343,
          0.010558063856137691,
          0.010297216726374925,
          0.010043446699763543,
          0.009796745483579294,
          0.009557091128704488,
          0.009324448455266504,
          0.009098769513038195,
          0.008879994074115943,
          0.00866805015530658,
          0.008462854567581788,
          0.008264313489897387,
          0.008072323064626522,
          0.007886770011819278,
          0.007707532259476982,
          0.007534479587017007,
          0.007367474279104464,
          0.0072063717870384575,
          0.007051021394904951,
          0.006901266887742997,
          0.006756947219018459,
          0.006617897174756431,
          0.006483948031752333,
          0.006354928207360434,
          0.006230663898446675,
          0.006110979707191044,
          0.005995699251531496,
          0.005884645758156134,
          0.005777642636073702,
          0.0056745140289220335,
          0.005575085344310365,
          0.005479183758633635,
          0.005386638695943649,
          0.005297282279613435,
          0.005210949755685655,
          0.005127479886953443,
          0.005046715316981153,
          0.004968502903433087,
          0.004892694020238509,
          0.0048191448282816594,
          0.004747716514463846,
          0.004678275499141297,
          0.004610693612095994,
          0.004544848237346376,
          0.004480622427250215,
          0.004417904986491881,
          0.004356590526680582,
          0.004296579492413541,
          0.004237778159778776,
          0.004180098608384575,
          0.004123458668107462,
          0.004067781841845926,
          0.004012997205653934,
          0.003959039287705169,
          0.0039058479276062328,
          0.0038533681176343045,
          0.0038015498275216324,
          0.0037503478144460646,
          0.0036997214199129603,
          0.003649634355229954,
          0.0036000544772815985,
          0.0035509535563066834,
          0.0035023070373665544,
          0.003454093797168991,
          0.00340629589787894,
          0.003358898339505291,
          0.003311888812402435,
          0.00326525745136669,
          0.003218996592741903,
          0.003173100535875639,
          0.0031275653101884657,
          0.003082388449034186,
          0.003037568771439456,
          0.0029931061727174703,
          0.0029490014248533397,
          0.00290525598745868,
          0.0028618718299911502,
          0.0028188512658312947,
          0.002776196798705258,
          0.002733910981838292,
          0.0026919962901210868,
          0.002650455005469746,
          0.0026092891154610594,
          0.002568500225228538,
          0.0025280894825116702,
          0.002488057515662149,
          0.0024484043843262734,
          0.002409129542443297,
          0.002370231813125418,
          0.0023317093749168024,
          0.002293559758866669,
          0.0022557798557956044,
          0.0022183659330848337,
          0.0021813136602755055,
          0.0021446181427291415,
          0.0021082739625714448,
          0.0020722752261194215,
          0.002036615616976459,
          0.0020012884539713336,
          0.0019662867531150194,
          0.001931603292753328,
          0.0018972306811038133,
          0.0018631614253814502,
          0.0018293880017392977
         ],
         "yaxis": "y"
        },
        {
         "legendgroup": "Mass2",
         "marker": {
          "color": "#63F5EF"
         },
         "mode": "lines",
         "name": "Mass2",
         "showlegend": false,
         "type": "scatter",
         "x": [
          -21.79328643396991,
          -21.704889611455517,
          -21.616492788941123,
          -21.52809596642673,
          -21.43969914391234,
          -21.351302321397945,
          -21.26290549888355,
          -21.174508676369157,
          -21.086111853854764,
          -20.99771503134037,
          -20.90931820882598,
          -20.820921386311586,
          -20.73252456379719,
          -20.644127741282798,
          -20.555730918768404,
          -20.467334096254014,
          -20.37893727373962,
          -20.290540451225226,
          -20.202143628710832,
          -20.11374680619644,
          -20.025349983682045,
          -19.93695316116765,
          -19.84855633865326,
          -19.760159516138867,
          -19.671762693624473,
          -19.58336587111008,
          -19.494969048595685,
          -19.40657222608129,
          -19.3181754035669,
          -19.229778581052507,
          -19.141381758538113,
          -19.05298493602372,
          -18.964588113509325,
          -18.87619129099493,
          -18.78779446848054,
          -18.699397645966148,
          -18.611000823451754,
          -18.52260400093736,
          -18.434207178422966,
          -18.345810355908572,
          -18.257413533394182,
          -18.169016710879788,
          -18.080619888365394,
          -17.992223065851,
          -17.903826243336606,
          -17.815429420822213,
          -17.727032598307822,
          -17.63863577579343,
          -17.550238953279035,
          -17.46184213076464,
          -17.373445308250247,
          -17.285048485735853,
          -17.19665166322146,
          -17.10825484070707,
          -17.019858018192675,
          -16.93146119567828,
          -16.843064373163887,
          -16.754667550649494,
          -16.666270728135103,
          -16.57787390562071,
          -16.489477083106316,
          -16.40108026059192,
          -16.312683438077528,
          -16.224286615563138,
          -16.13588979304874,
          -16.04749297053435,
          -15.959096148019956,
          -15.870699325505562,
          -15.782302502991168,
          -15.693905680476774,
          -15.605508857962382,
          -15.517112035447989,
          -15.428715212933596,
          -15.340318390419203,
          -15.251921567904809,
          -15.163524745390415,
          -15.075127922876023,
          -14.98673110036163,
          -14.898334277847237,
          -14.809937455332843,
          -14.72154063281845,
          -14.633143810304055,
          -14.544746987789662,
          -14.456350165275271,
          -14.367953342760877,
          -14.279556520246484,
          -14.19115969773209,
          -14.102762875217696,
          -14.014366052703304,
          -13.92596923018891,
          -13.837572407674518,
          -13.749175585160124,
          -13.66077876264573,
          -13.572381940131336,
          -13.483985117616944,
          -13.395588295102552,
          -13.307191472588157,
          -13.218794650073765,
          -13.130397827559372,
          -13.042001005044977,
          -12.953604182530585,
          -12.865207360016191,
          -12.776810537501797,
          -12.688413714987405,
          -12.600016892473011,
          -12.511620069958617,
          -12.423223247444225,
          -12.334826424929831,
          -12.246429602415438,
          -12.158032779901045,
          -12.069635957386652,
          -11.981239134872258,
          -11.892842312357866,
          -11.804445489843472,
          -11.716048667329078,
          -11.627651844814686,
          -11.539255022300292,
          -11.4508581997859,
          -11.362461377271506,
          -11.274064554757112,
          -11.18566773224272,
          -11.097270909728325,
          -11.008874087213933,
          -10.92047726469954,
          -10.832080442185145,
          -10.743683619670753,
          -10.65528679715636,
          -10.566889974641965,
          -10.478493152127573,
          -10.390096329613181,
          -10.301699507098785,
          -10.213302684584393,
          -10.124905862070001,
          -10.036509039555606,
          -9.948112217041214,
          -9.859715394526821,
          -9.771318572012426,
          -9.682921749498034,
          -9.59452492698364,
          -9.506128104469246,
          -9.417731281954854,
          -9.32933445944046,
          -9.240937636926066,
          -9.152540814411674,
          -9.06414399189728,
          -8.975747169382888,
          -8.887350346868494,
          -8.7989535243541,
          -8.710556701839709,
          -8.622159879325315,
          -8.53376305681092,
          -8.445366234296529,
          -8.356969411782135,
          -8.268572589267741,
          -8.180175766753349,
          -8.091778944238955,
          -8.003382121724561,
          -7.914985299210169,
          -7.826588476695774,
          -7.7381916541813816,
          -7.6497948316669895,
          -7.561398009152594,
          -7.473001186638202,
          -7.38460436412381,
          -7.296207541609414,
          -7.207810719095022,
          -7.11941389658063,
          -7.031017074066234,
          -6.942620251551842,
          -6.85422342903745,
          -6.765826606523056,
          -6.6774297840086625,
          -6.58903296149427,
          -6.500636138979877,
          -6.412239316465483,
          -6.323842493951089,
          -6.235445671436697,
          -6.147048848922303,
          -6.058652026407909,
          -5.970255203893517,
          -5.881858381379123,
          -5.793461558864729,
          -5.705064736350337,
          -5.616667913835943,
          -5.52827109132155,
          -5.439874268807156,
          -5.351477446292762,
          -5.263080623778372,
          -5.174683801263978,
          -5.086286978749584,
          -4.997890156235194,
          -4.909493333720796,
          -4.821096511206402,
          -4.732699688692012,
          -4.644302866177618,
          -4.555906043663224,
          -4.467509221148834,
          -4.379112398634437,
          -4.290715576120043,
          -4.2023187536056525,
          -4.113921931091259,
          -4.025525108576865,
          -3.937128286062471,
          -3.848731463548077,
          -3.7603346410336833,
          -3.6719378185192895,
          -3.583540996004899,
          -3.4951441734905053,
          -3.4067473509761115,
          -3.318350528461721,
          -3.229953705947324,
          -3.14155688343293,
          -3.0531600609185396,
          -2.964763238404146,
          -2.876366415889752,
          -2.7879695933753617,
          -2.6995727708609643,
          -2.6111759483465704,
          -2.52277912583218,
          -2.4343823033177863,
          -2.3459854808033924,
          -2.257588658289002,
          -2.1691918357746047,
          -2.080795013260211,
          -1.9923981907458206,
          -1.9040013682314267,
          -1.815604545717033,
          -1.7272077232026426,
          -1.6388109006882452,
          -1.5504140781738514,
          -1.462017255659461,
          -1.3736204331450672,
          -1.2852236106306734,
          -1.196826788116283,
          -1.1084299656018892,
          -1.0200331430874918,
          -0.9316363205731015,
          -0.8432394980587077,
          -0.7548426755443138,
          -0.66644585302992,
          -0.5780490305155297,
          -0.4896522080011323,
          -0.40125538548673845,
          -0.31285856297234815,
          -0.2244617404579543,
          -0.13606491794356046,
          -0.047668095429170165,
          0.040728727085227234,
          0.12912554959962108,
          0.21752237211401138,
          0.3059191946284052,
          0.39431601714279907,
          0.48271283965718936,
          0.5711096621715868,
          0.6595064846859806,
          0.7479033072003709,
          0.8363001297147648,
          0.9246969522291586,
          1.013093774743549,
          1.1014905972579427,
          1.1898874197723401,
          1.2782842422867304,
          1.3666810648011243,
          1.4550778873155181,
          1.5434747098299084,
          1.6318715323443023,
          1.7202683548586997,
          1.80866517737309,
          1.8970619998874838,
          1.9854588224018777,
          2.073855644916268,
          2.162252467430662,
          2.250649289945059,
          2.3390461124594495,
          2.4274429349738433,
          2.515839757488237,
          2.604236580002631,
          2.6926334025170213,
          2.7810302250314187,
          2.8694270475458126,
          2.957823870060203,
          3.0462206925745967,
          3.1346175150889906,
          3.223014337603381,
          3.3114111601177783,
          3.399807982632172,
          3.4882048051465624,
          3.5766016276609562,
          3.66499845017535,
          3.7533952726897404,
          3.8417920952041342,
          3.9301889177185316,
          4.018585740232922,
          4.106982562747316,
          4.19537938526171,
          4.2837762077761,
          4.372173030290494,
          4.460569852804891,
          4.5489666753192814,
          4.637363497833675,
          4.725760320348069,
          4.814157142862459,
          4.902553965376853,
          4.990950787891251,
          5.079347610405641,
          5.167744432920035,
          5.256141255434429,
          5.344538077948819,
          5.432934900463213,
          5.52133172297761,
          5.6097285454920005,
          5.698125368006394,
          5.786522190520788,
          5.874919013035182,
          5.963315835549572,
          6.051712658063966,
          6.140109480578364,
          6.228506303092754,
          6.316903125607148,
          6.405299948121542,
          6.493696770635932,
          6.582093593150326,
          6.670490415664723,
          6.758887238179113,
          6.847284060693507,
          6.935680883207901,
          7.024077705722291,
          7.112474528236685,
          7.200871350751083,
          7.289268173265473,
          7.377664995779867,
          7.466061818294261,
          7.554458640808651,
          7.642855463323045,
          7.731252285837442,
          7.8196491083518325,
          7.908045930866226,
          7.99644275338062,
          8.08483957589501,
          8.173236398409404,
          8.261633220923798,
          8.350030043438192,
          8.438426865952586,
          8.52682368846698,
          8.61522051098137,
          8.703617333495764,
          8.792014156010158,
          8.880410978524552,
          8.968807801038945,
          9.05720462355334,
          9.145601446067733,
          9.233998268582123,
          9.322395091096517,
          9.410791913610915,
          9.499188736125305,
          9.587585558639699,
          9.675982381154093,
          9.764379203668483,
          9.852776026182877,
          9.941172848697274,
          10.029569671211664,
          10.117966493726058,
          10.206363316240452,
          10.294760138754846,
          10.383156961269236,
          10.471553783783634,
          10.559950606298024,
          10.648347428812414,
          10.736744251326812,
          10.825141073841202,
          10.9135378963556,
          11.00193471886999,
          11.090331541384387,
          11.178728363898777,
          11.267125186413168,
          11.355522008927565,
          11.443918831441955,
          11.532315653956346,
          11.620712476470743,
          11.709109298985133,
          11.797506121499524,
          11.885902944013928,
          11.974299766528318,
          12.062696589042709,
          12.151093411557106,
          12.239490234071496,
          12.327887056585887,
          12.416283879100284,
          12.504680701614674,
          12.593077524129065,
          12.681474346643462,
          12.769871169157852,
          12.858267991672243,
          12.94666481418664,
          13.035061636701037,
          13.123458459215428,
          13.211855281729825,
          13.300252104244215,
          13.388648926758606,
          13.477045749273003,
          13.565442571787393,
          13.653839394301784,
          13.742236216816181,
          13.830633039330571,
          13.919029861844969,
          14.00742668435936,
          14.095823506873757,
          14.184220329388154,
          14.272617151902544,
          14.361013974416935,
          14.449410796931332,
          14.537807619445722,
          14.626204441960112,
          14.71460126447451,
          14.8029980869889,
          14.89139490950329,
          14.979791732017688,
          15.068188554532078,
          15.156585377046468,
          15.244982199560873,
          15.333379022075263,
          15.421775844589654,
          15.510172667104051,
          15.598569489618441,
          15.686966312132832,
          15.775363134647229,
          15.86375995716162,
          15.95215677967601,
          16.040553602190407,
          16.128950424704797,
          16.217347247219188,
          16.305744069733592,
          16.394140892247982,
          16.482537714762373,
          16.57093453727677,
          16.65933135979116,
          16.74772818230555,
          16.836125004819948,
          16.92452182733434,
          17.01291864984873,
          17.101315472363126,
          17.189712294877516,
          17.278109117391907,
          17.366505939906304,
          17.4549027624207,
          17.54329958493509,
          17.63169640744949,
          17.72009322996388,
          17.80849005247827,
          17.896886874992667,
          17.985283697507057,
          18.073680520021448,
          18.162077342535845,
          18.250474165050235,
          18.338870987564626,
          18.427267810079023,
          18.51566463259342,
          18.60406145510781,
          18.692458277622208,
          18.7808551001366,
          18.86925192265099,
          18.957648745165386,
          19.046045567679776,
          19.134442390194167,
          19.222839212708564,
          19.311236035222954,
          19.399632857737345,
          19.488029680251742,
          19.576426502766132,
          19.66482332528053,
          19.753220147794927,
          19.841616970309317,
          19.930013792823708,
          20.018410615338105,
          20.106807437852495,
          20.195204260366886,
          20.283601082881283,
          20.371997905395673,
          20.46039472791007,
          20.54879155042446,
          20.63718837293885,
          20.725585195453256,
          20.813982017967646,
          20.902378840482037,
          20.990775662996434,
          21.079172485510824,
          21.167569308025215,
          21.255966130539612,
          21.344362953054002,
          21.432759775568393,
          21.52115659808279,
          21.60955342059718,
          21.69795024311157,
          21.786347065625975,
          21.874743888140365,
          21.963140710654756,
          22.051537533169153,
          22.139934355683543,
          22.228331178197934,
          22.31672800071233
         ],
         "xaxis": "x",
         "y": [
          0.004758865939717018,
          0.004891938971537124,
          0.005027101217352628,
          0.0051643376367938865,
          0.00530363252526872,
          0.00544496963087829,
          0.005588332278074381,
          0.005733703497596202,
          0.005881066162154693,
          0.006030403127262874,
          0.006181697376542215,
          0.006334932170768078,
          0.006490091199852449,
          0.006647158736900874,
          0.006806119793422237,
          0.0069669602747165355,
          0.007129667134417323,
          0.007294228527122369,
          0.007460633958010076,
          0.007628874428309133,
          0.0077989425754673375,
          0.00797083280685152,
          0.008144541425805011,
          0.008320066748893245,
          0.008497409213180646,
          0.008676571472405093,
          0.008857558480948644,
          0.009040377564545798,
          0.009225038476723499,
          0.009411553440029509,
          0.009599937171178494,
          0.009790206889327753,
          0.0099823823067855,
          0.010176485601556005,
          0.010372541371234294,
          0.010570576567880423,
          0.01077062041362706,
          0.010972704296904546,
          0.011176861649303805,
          0.011383127803237287,
          0.011591539830702659,
          0.011802136363600365,
          0.012014957396203244,
          0.012230044070525624,
          0.01244743844548484,
          0.01266718325089373,
          0.012889321627462999,
          0.013113896854129024,
          0.013340952064152211,
          0.013570529951554517,
          0.013802672469578071,
          0.014037420522952045,
          0.01427481365584821,
          0.014514889737487241,
          0.014757684647427194,
          0.015003231962619962,
          0.01525156264836271,
          0.01550270475529605,
          0.015756683124610444,
          0.016013519103615186,
          0.016273230273801093,
          0.01653583019348731,
          0.016801328157085967,
          0.017069728972943617,
          0.017341032761628853,
          0.017615234776427575,
          0.01789232524768602,
          0.018172289252503273,
          0.01845510661112386,
          0.018740751811215914,
          0.01902919396104276,
          0.019320396772348127,
          0.019614318573576397,
          0.019910912353843204,
          0.02021012583785818,
          0.020511901591782785,
          0.020816177159783875,
          0.021122885230818615,
          0.021431953834962273,
          0.02174330656836586,
          0.02205686284571181,
          0.022372538178818967,
          0.022690244479840662,
          0.023009890387299146,
          0.023331381613009107,
          0.023654621307764852,
          0.02397951044350032,
          0.024305948209479976,
          0.024633832419944383,
          0.02496305993051566,
          0.02529352706056944,
          0.025625130018698847,
          0.02595776532833619,
          0.02629133025055773,
          0.026625723201078814,
          0.026960844158449192,
          0.027296595060482542,
          0.027632880186000932,
          0.027969606519041602,
          0.028306684092762657,
          0.028644026310393294,
          0.028981550240703015,
          0.029319176885612717,
          0.02965683141773711,
          0.0299944433858305,
          0.030331946886308095,
          0.030669280699227218,
          0.031006388387340586,
          0.03134321835706985,
          0.03167972388049651,
          0.03201586307772086,
          0.03235159885920212,
          0.03268689882795751,
          0.03302173514176582,
          0.03335608433578973,
          0.03368992710629654,
          0.03402324805642208,
          0.0343560354051783,
          0.034688280661158304,
          0.035019978262632874,
          0.035351125185965566,
          0.03568172052449234,
          0.0360117650402178,
          0.03634126069087145,
          0.0366702101350419,
          0.0369986162182639,
          0.03732648144307339,
          0.03765380742616314,
          0.03798059434587285,
          0.03830684038332627,
          0.038632541160583976,
          0.03895768917921924,
          0.039282273262737644,
          0.03960627800625497,
          0.039929683236820224,
          0.04025246348772162,
          0.040574587490044244,
          0.04089601768465821,
          0.041216709757709094,
          0.0415366122025541,
          0.04185566591094431,
          0.042173803796093694,
          0.04249095045009863,
          0.04280702183798412,
          0.04312192503045058,
          0.0434355579771826,
          0.04374780932235861,
          0.0440585582637709,
          0.04436767445672766,
          0.04467501796366734,
          0.044980439250169924,
          0.04528377922780293,
          0.04558486934399206,
          0.045883531718859484,
          0.04617957932872983,
          0.046472816235762514,
          0.04676303786293633,
          0.04705003131338288,
          0.04733357573284604,
          0.04761344271383418,
          0.04788939673983074,
          0.04816119566773932,
          0.04842859124656189,
          0.048691329670144834,
          0.048949152161675155,
          0.04920179558747315,
          0.0494489930975053,
          0.04969047478993357,
          0.049925968396925806,
          0.050155199988874063,
          0.05037789469410899,
          0.050593777431150413,
          0.05080257365050614,
          0.05100401008301597,
          0.051197815491737235,
          0.05138372142438517,
          0.05156146296336811,
          0.051730779470502794,
          0.05189141532354938,
          0.05204312064177564,
          0.052185651997838846,
          0.05231877311336707,
          0.05244225553572221,
          0.05255587929353905,
          0.05265943352875498,
          0.052752717102973544,
          0.052835539176139,
          0.05290771975564211,
          0.05296909021412305,
          0.05301949377438869,
          0.053058785960017084,
          0.053086835010378815,
          0.05310352225896428,
          0.05310874247406851,
          0.05310240416104268,
          0.05308442982548616,
          0.05305475619690952,
          0.05301333441255732,
          0.052960130161236144,
          0.052895123787142825,
          0.05281831035383897,
          0.052729699668660014,
          0.05262931626798789,
          0.05251719936395017,
          0.05239340275323735,
          0.05225799468885261,
          0.05211105771572582,
          0.05195268847123187,
          0.05178299745175826,
          0.05160210874656156,
          0.05141015974024244,
          0.05120730078524901,
          0.05099369484589373,
          0.05076951711543486,
          0.050534954607832264,
          0.05029020572583908,
          0.050035479807134915,
          0.04977099665024146,
          0.04949698602199194,
          0.04921368714834568,
          0.04892134819035496,
          0.04862022570709818,
          0.048310584107393445,
          0.04799269509210129,
          0.04766683708881161,
          0.047333294680693146,
          0.04699235803125514,
          0.046644322306744555,
          0.04628948709786195,
          0.04592815584244141,
          0.04556063525068965,
          0.04518723473453207,
          0.044808265842555296,
          0.04442404170197819,
          0.04403487646901874,
          0.04364108478895903,
          0.04324298126713979,
          0.04284087995204418,
          0.04243509383155659,
          0.04202593434340391,
          0.0416137109007099,
          0.04119873043351327,
          0.0407812969470191,
          0.040361711097272476,
          0.03994026978486221,
          0.03951726576718022,
          0.03909298728968254,
          0.038667717736517025,
          0.03824173530080494,
          0.037815312674785,
          0.037388716759954144,
          0.03696220839726563,
          0.03653604211737313,
          0.036110465910842354,
          0.035685721018186185,
          0.035262041739515845,
          0.034839655263544295,
          0.03441878151562078,
          0.033999633024425706,
          0.03358241480690706,
          0.03316732427099718,
          0.03275455113560958,
          0.032344277367380825,
          0.03193667713359402,
          0.03153191677069269,
          0.031130154767774677,
          0.03073154176443846,
          0.030336220562341726,
          0.029944326149824663,
          0.029555985738946425,
          0.029171318814283115,
          0.02879043719284075,
          0.028413445094443258,
          0.028040439221967684,
          0.02767150885081232,
          0.027306735927001974,
          0.026946195173353053,
          0.02658995420314432,
          0.026238073640763145,
          0.02589060724882292,
          0.025547602061273975,
          0.02520909852205954,
          0.024875130628895566,
          0.02454572608178336,
          0.024220906435892146,
          0.023900687258477146,
          0.02358507828952661,
          0.023274083605857313,
          0.022967701788403787,
          0.022665926092468997,
          0.022368744620726643,
          0.022076140498784258,
          0.02178809205313288,
          0.0215045729913238,
          0.02122555258422529,
          0.02095099585021983,
          0.020680863741209775,
          0.02041511333030239,
          0.02015369800104523,
          0.019896567638080995,
          0.019643668819085948,
          0.019394945007848042,
          0.019150336748331075,
          0.01890978185955901,
          0.0186732156311399,
          0.018440571019233076,
          0.018211778842745937,
          0.0179867679795272,
          0.017765465562304503,
          0.017547797174094302,
          0.017333687042790764,
          0.017123058234621572,
          0.016915832846138026,
          0.016711932194388848,
          0.016511277004909643,
          0.016313787597144018,
          0.016119384066899608,
          0.01592798646542942,
          0.01573951497472186,
          0.01555389007857523,
          0.015371032729030948,
          0.01519086450773921,
          0.015013307781835638,
          0.014838285853914125,
          0.014665723105692917,
          0.014495545134985644,
          0.014327678885607707,
          0.014162052769870594,
          0.013998596783343113,
          0.013837242611587206,
          0.013677923728609188,
          0.013520575486802806,
          0.013365135198198812,
          0.013211542206876975,
          0.013059737952439393,
          0.012909666024488928,
          0.012761272208102825,
          0.012614504520338974,
          0.012469313237859835,
          0.0123256509158071,
          0.01218347239810766,
          0.012042734819437906,
          0.011903397599119023,
          0.011765422427259286,
          0.01162877324350097,
          0.011493416208768027,
          0.01135931967044675,
          0.011226454121463744,
          0.011094792153754088,
          0.010964308406637516,
          0.010834979510640302,
          0.010706784027316452,
          0.010579702385632704,
          0.010453716815488285,
          0.010328811278941094,
          0.010204971399708978,
          0.010082184391505548,
          0.00996043898575685,
          0.009839725359227098,
          0.009720035062058811,
          0.009601360946705731,
          0.009483697098206094,
          0.009367038766208865,
          0.009251382299127623,
          0.009136725080755683,
          0.009023065469632495,
          0.008910402741405848,
          0.008798737034386845,
          0.008688069298446583,
          0.008578401247354466,
          0.008469735314608482,
          0.008362074612760017,
          0.008255422896187027,
          0.008149784527223774,
          0.008045164445510214,
          0.007941568140382367,
          0.007839001626085458,
          0.007737471419555025,
          0.007636984520478871,
          0.0075375483933234925,
          0.0074391709509838005,
          0.007341860539694527,
          0.007245625924825894,
          0.0071504762771743445,
          0.007056421159353284,
          0.006963470511886681,
          0.0068716346386112435,
          0.006780924191001278,
          0.006691350151042198,
          0.006602923812295666,
          0.006515656758820609,
          0.00642956084163922,
          0.006344648152465827,
          0.006260930994448926,
          0.006178421849711635,
          0.006097133343513669,
          0.006017078204898097,
          0.005938269223727974,
          0.005860719204060998,
          0.005784440913854693,
          0.0057094470310390345,
          0.005635750086037918,
          0.005563362400865254,
          0.0054922960249644045,
          0.0054225626680015964,
          0.005354173629864381,
          0.005287139728153761,
          0.005221471223494758,
          0.005157177743022371,
          0.005094268202430099,
          0.005032750726994083,
          0.004972632572009047,
          0.0049139200430907614,
          0.004856618416815309,
          0.004800731862176109,
          0.004746263363346708,
          0.004693214644240485,
          0.004641586095356781,
          0.00459137670339801,
          0.004542583984133155,
          0.004495203918969838,
          0.004449230895680651,
          0.00440465765370944,
          0.004361475234459702,
          0.004319672936940989,
          0.004279238279120337,
          0.0042401569652939525,
          0.004202412859760977,
          0.004165987967045662,
          0.0041308624188772045,
          0.0040970144680984805,
          0.004064420489635829,
          0.004033054988622527,
          0.0040028906157288284,
          0.003973898189711797,
          0.003946046727158919,
          0.003919303479360866,
          0.0038936339762111714,
          0.003869002076994199,
          0.0038453700278877423,
          0.0038226985259733398,
          0.003800946789515797,
          0.003780072634244022,
          0.003760032555337854,
          0.003740781814800538,
          0.0037222745338737393,
          0.003704463790131664,
          0.0036873017188731,
          0.0036707396184147366,
          0.0036547280588763616,
          0.0036392169940380813,
          0.0036241558758418214,
          0.0036094937711037573,
          0.003595179480001054,
          0.003581161655895264,
          0.0035673889260557927,
          0.0035538100128498997,
          0.0035403738549706757,
          0.0035270297282811182,
          0.0035137273658608628,
          0.0035004170768518873,
          0.0034870498637107183,
          0.0034735775374872065,
          0.0034599528307632937,
          0.003446129507899814,
          0.0034320624722546213,
          0.003417707870051362,
          0.0034030231905949,
          0.0033879673625464156,
          0.0033725008459887596,
          0.003356585720030524,
          0.003340185765715133,
          0.003323266544019621,
          0.003305795468745841,
          0.003287741874125244,
          0.0032690770769764886,
          0.0032497744332734193,
          0.0032298093889988975,
          0.0032091595251780296,
          0.0031878045970020314,
          0.0031657265669716357,
          0.003142909632006421,
          0.0031193402444836763,
          0.0030950071271874852,
          0.0030699012821657247,
          0.0030440159935092143,
          0.003017346824083932,
          0.002989891606263411,
          0.00296165042672467,
          0.0029326256053868465,
          0.002902821668587525,
          0.002872245316607173,
          0.0028409053856673517,
          0.00280881280454344,
          0.00277598054594723,
          0.0027424235728491933,
          0.002708158779924354,
          0.0026732049303192546,
          0.0026375825879508684,
          0.0026013140455610796
         ],
         "yaxis": "y"
        }
       ],
       "layout": {
        "barmode": "overlay",
        "hovermode": "closest",
        "legend": {
         "traceorder": "reversed"
        },
        "template": {
         "data": {
          "bar": [
           {
            "error_x": {
             "color": "#2a3f5f"
            },
            "error_y": {
             "color": "#2a3f5f"
            },
            "marker": {
             "line": {
              "color": "#E5ECF6",
              "width": 0.5
             }
            },
            "type": "bar"
           }
          ],
          "barpolar": [
           {
            "marker": {
             "line": {
              "color": "#E5ECF6",
              "width": 0.5
             }
            },
            "type": "barpolar"
           }
          ],
          "carpet": [
           {
            "aaxis": {
             "endlinecolor": "#2a3f5f",
             "gridcolor": "white",
             "linecolor": "white",
             "minorgridcolor": "white",
             "startlinecolor": "#2a3f5f"
            },
            "baxis": {
             "endlinecolor": "#2a3f5f",
             "gridcolor": "white",
             "linecolor": "white",
             "minorgridcolor": "white",
             "startlinecolor": "#2a3f5f"
            },
            "type": "carpet"
           }
          ],
          "choropleth": [
           {
            "colorbar": {
             "outlinewidth": 0,
             "ticks": ""
            },
            "type": "choropleth"
           }
          ],
          "contour": [
           {
            "colorbar": {
             "outlinewidth": 0,
             "ticks": ""
            },
            "colorscale": [
             [
              0,
              "#0d0887"
             ],
             [
              0.1111111111111111,
              "#46039f"
             ],
             [
              0.2222222222222222,
              "#7201a8"
             ],
             [
              0.3333333333333333,
              "#9c179e"
             ],
             [
              0.4444444444444444,
              "#bd3786"
             ],
             [
              0.5555555555555556,
              "#d8576b"
             ],
             [
              0.6666666666666666,
              "#ed7953"
             ],
             [
              0.7777777777777778,
              "#fb9f3a"
             ],
             [
              0.8888888888888888,
              "#fdca26"
             ],
             [
              1,
              "#f0f921"
             ]
            ],
            "type": "contour"
           }
          ],
          "contourcarpet": [
           {
            "colorbar": {
             "outlinewidth": 0,
             "ticks": ""
            },
            "type": "contourcarpet"
           }
          ],
          "heatmap": [
           {
            "colorbar": {
             "outlinewidth": 0,
             "ticks": ""
            },
            "colorscale": [
             [
              0,
              "#0d0887"
             ],
             [
              0.1111111111111111,
              "#46039f"
             ],
             [
              0.2222222222222222,
              "#7201a8"
             ],
             [
              0.3333333333333333,
              "#9c179e"
             ],
             [
              0.4444444444444444,
              "#bd3786"
             ],
             [
              0.5555555555555556,
              "#d8576b"
             ],
             [
              0.6666666666666666,
              "#ed7953"
             ],
             [
              0.7777777777777778,
              "#fb9f3a"
             ],
             [
              0.8888888888888888,
              "#fdca26"
             ],
             [
              1,
              "#f0f921"
             ]
            ],
            "type": "heatmap"
           }
          ],
          "heatmapgl": [
           {
            "colorbar": {
             "outlinewidth": 0,
             "ticks": ""
            },
            "colorscale": [
             [
              0,
              "#0d0887"
             ],
             [
              0.1111111111111111,
              "#46039f"
             ],
             [
              0.2222222222222222,
              "#7201a8"
             ],
             [
              0.3333333333333333,
              "#9c179e"
             ],
             [
              0.4444444444444444,
              "#bd3786"
             ],
             [
              0.5555555555555556,
              "#d8576b"
             ],
             [
              0.6666666666666666,
              "#ed7953"
             ],
             [
              0.7777777777777778,
              "#fb9f3a"
             ],
             [
              0.8888888888888888,
              "#fdca26"
             ],
             [
              1,
              "#f0f921"
             ]
            ],
            "type": "heatmapgl"
           }
          ],
          "histogram": [
           {
            "marker": {
             "colorbar": {
              "outlinewidth": 0,
              "ticks": ""
             }
            },
            "type": "histogram"
           }
          ],
          "histogram2d": [
           {
            "colorbar": {
             "outlinewidth": 0,
             "ticks": ""
            },
            "colorscale": [
             [
              0,
              "#0d0887"
             ],
             [
              0.1111111111111111,
              "#46039f"
             ],
             [
              0.2222222222222222,
              "#7201a8"
             ],
             [
              0.3333333333333333,
              "#9c179e"
             ],
             [
              0.4444444444444444,
              "#bd3786"
             ],
             [
              0.5555555555555556,
              "#d8576b"
             ],
             [
              0.6666666666666666,
              "#ed7953"
             ],
             [
              0.7777777777777778,
              "#fb9f3a"
             ],
             [
              0.8888888888888888,
              "#fdca26"
             ],
             [
              1,
              "#f0f921"
             ]
            ],
            "type": "histogram2d"
           }
          ],
          "histogram2dcontour": [
           {
            "colorbar": {
             "outlinewidth": 0,
             "ticks": ""
            },
            "colorscale": [
             [
              0,
              "#0d0887"
             ],
             [
              0.1111111111111111,
              "#46039f"
             ],
             [
              0.2222222222222222,
              "#7201a8"
             ],
             [
              0.3333333333333333,
              "#9c179e"
             ],
             [
              0.4444444444444444,
              "#bd3786"
             ],
             [
              0.5555555555555556,
              "#d8576b"
             ],
             [
              0.6666666666666666,
              "#ed7953"
             ],
             [
              0.7777777777777778,
              "#fb9f3a"
             ],
             [
              0.8888888888888888,
              "#fdca26"
             ],
             [
              1,
              "#f0f921"
             ]
            ],
            "type": "histogram2dcontour"
           }
          ],
          "mesh3d": [
           {
            "colorbar": {
             "outlinewidth": 0,
             "ticks": ""
            },
            "type": "mesh3d"
           }
          ],
          "parcoords": [
           {
            "line": {
             "colorbar": {
              "outlinewidth": 0,
              "ticks": ""
             }
            },
            "type": "parcoords"
           }
          ],
          "pie": [
           {
            "automargin": true,
            "type": "pie"
           }
          ],
          "scatter": [
           {
            "marker": {
             "colorbar": {
              "outlinewidth": 0,
              "ticks": ""
             }
            },
            "type": "scatter"
           }
          ],
          "scatter3d": [
           {
            "line": {
             "colorbar": {
              "outlinewidth": 0,
              "ticks": ""
             }
            },
            "marker": {
             "colorbar": {
              "outlinewidth": 0,
              "ticks": ""
             }
            },
            "type": "scatter3d"
           }
          ],
          "scattercarpet": [
           {
            "marker": {
             "colorbar": {
              "outlinewidth": 0,
              "ticks": ""
             }
            },
            "type": "scattercarpet"
           }
          ],
          "scattergeo": [
           {
            "marker": {
             "colorbar": {
              "outlinewidth": 0,
              "ticks": ""
             }
            },
            "type": "scattergeo"
           }
          ],
          "scattergl": [
           {
            "marker": {
             "colorbar": {
              "outlinewidth": 0,
              "ticks": ""
             }
            },
            "type": "scattergl"
           }
          ],
          "scattermapbox": [
           {
            "marker": {
             "colorbar": {
              "outlinewidth": 0,
              "ticks": ""
             }
            },
            "type": "scattermapbox"
           }
          ],
          "scatterpolar": [
           {
            "marker": {
             "colorbar": {
              "outlinewidth": 0,
              "ticks": ""
             }
            },
            "type": "scatterpolar"
           }
          ],
          "scatterpolargl": [
           {
            "marker": {
             "colorbar": {
              "outlinewidth": 0,
              "ticks": ""
             }
            },
            "type": "scatterpolargl"
           }
          ],
          "scatterternary": [
           {
            "marker": {
             "colorbar": {
              "outlinewidth": 0,
              "ticks": ""
             }
            },
            "type": "scatterternary"
           }
          ],
          "surface": [
           {
            "colorbar": {
             "outlinewidth": 0,
             "ticks": ""
            },
            "colorscale": [
             [
              0,
              "#0d0887"
             ],
             [
              0.1111111111111111,
              "#46039f"
             ],
             [
              0.2222222222222222,
              "#7201a8"
             ],
             [
              0.3333333333333333,
              "#9c179e"
             ],
             [
              0.4444444444444444,
              "#bd3786"
             ],
             [
              0.5555555555555556,
              "#d8576b"
             ],
             [
              0.6666666666666666,
              "#ed7953"
             ],
             [
              0.7777777777777778,
              "#fb9f3a"
             ],
             [
              0.8888888888888888,
              "#fdca26"
             ],
             [
              1,
              "#f0f921"
             ]
            ],
            "type": "surface"
           }
          ],
          "table": [
           {
            "cells": {
             "fill": {
              "color": "#EBF0F8"
             },
             "line": {
              "color": "white"
             }
            },
            "header": {
             "fill": {
              "color": "#C8D4E3"
             },
             "line": {
              "color": "white"
             }
            },
            "type": "table"
           }
          ]
         },
         "layout": {
          "annotationdefaults": {
           "arrowcolor": "#2a3f5f",
           "arrowhead": 0,
           "arrowwidth": 1
          },
          "autotypenumbers": "strict",
          "coloraxis": {
           "colorbar": {
            "outlinewidth": 0,
            "ticks": ""
           }
          },
          "colorscale": {
           "diverging": [
            [
             0,
             "#8e0152"
            ],
            [
             0.1,
             "#c51b7d"
            ],
            [
             0.2,
             "#de77ae"
            ],
            [
             0.3,
             "#f1b6da"
            ],
            [
             0.4,
             "#fde0ef"
            ],
            [
             0.5,
             "#f7f7f7"
            ],
            [
             0.6,
             "#e6f5d0"
            ],
            [
             0.7,
             "#b8e186"
            ],
            [
             0.8,
             "#7fbc41"
            ],
            [
             0.9,
             "#4d9221"
            ],
            [
             1,
             "#276419"
            ]
           ],
           "sequential": [
            [
             0,
             "#0d0887"
            ],
            [
             0.1111111111111111,
             "#46039f"
            ],
            [
             0.2222222222222222,
             "#7201a8"
            ],
            [
             0.3333333333333333,
             "#9c179e"
            ],
            [
             0.4444444444444444,
             "#bd3786"
            ],
            [
             0.5555555555555556,
             "#d8576b"
            ],
            [
             0.6666666666666666,
             "#ed7953"
            ],
            [
             0.7777777777777778,
             "#fb9f3a"
            ],
            [
             0.8888888888888888,
             "#fdca26"
            ],
            [
             1,
             "#f0f921"
            ]
           ],
           "sequentialminus": [
            [
             0,
             "#0d0887"
            ],
            [
             0.1111111111111111,
             "#46039f"
            ],
            [
             0.2222222222222222,
             "#7201a8"
            ],
            [
             0.3333333333333333,
             "#9c179e"
            ],
            [
             0.4444444444444444,
             "#bd3786"
            ],
            [
             0.5555555555555556,
             "#d8576b"
            ],
            [
             0.6666666666666666,
             "#ed7953"
            ],
            [
             0.7777777777777778,
             "#fb9f3a"
            ],
            [
             0.8888888888888888,
             "#fdca26"
            ],
            [
             1,
             "#f0f921"
            ]
           ]
          },
          "colorway": [
           "#636efa",
           "#EF553B",
           "#00cc96",
           "#ab63fa",
           "#FFA15A",
           "#19d3f3",
           "#FF6692",
           "#B6E880",
           "#FF97FF",
           "#FECB52"
          ],
          "font": {
           "color": "#2a3f5f"
          },
          "geo": {
           "bgcolor": "white",
           "lakecolor": "white",
           "landcolor": "#E5ECF6",
           "showlakes": true,
           "showland": true,
           "subunitcolor": "white"
          },
          "hoverlabel": {
           "align": "left"
          },
          "hovermode": "closest",
          "mapbox": {
           "style": "light"
          },
          "paper_bgcolor": "white",
          "plot_bgcolor": "#E5ECF6",
          "polar": {
           "angularaxis": {
            "gridcolor": "white",
            "linecolor": "white",
            "ticks": ""
           },
           "bgcolor": "#E5ECF6",
           "radialaxis": {
            "gridcolor": "white",
            "linecolor": "white",
            "ticks": ""
           }
          },
          "scene": {
           "xaxis": {
            "backgroundcolor": "#E5ECF6",
            "gridcolor": "white",
            "gridwidth": 2,
            "linecolor": "white",
            "showbackground": true,
            "ticks": "",
            "zerolinecolor": "white"
           },
           "yaxis": {
            "backgroundcolor": "#E5ECF6",
            "gridcolor": "white",
            "gridwidth": 2,
            "linecolor": "white",
            "showbackground": true,
            "ticks": "",
            "zerolinecolor": "white"
           },
           "zaxis": {
            "backgroundcolor": "#E5ECF6",
            "gridcolor": "white",
            "gridwidth": 2,
            "linecolor": "white",
            "showbackground": true,
            "ticks": "",
            "zerolinecolor": "white"
           }
          },
          "shapedefaults": {
           "line": {
            "color": "#2a3f5f"
           }
          },
          "ternary": {
           "aaxis": {
            "gridcolor": "white",
            "linecolor": "white",
            "ticks": ""
           },
           "baxis": {
            "gridcolor": "white",
            "linecolor": "white",
            "ticks": ""
           },
           "bgcolor": "#E5ECF6",
           "caxis": {
            "gridcolor": "white",
            "linecolor": "white",
            "ticks": ""
           }
          },
          "title": {
           "x": 0.05
          },
          "xaxis": {
           "automargin": true,
           "gridcolor": "white",
           "linecolor": "white",
           "ticks": "",
           "title": {
            "standoff": 15
           },
           "zerolinecolor": "white",
           "zerolinewidth": 2
          },
          "yaxis": {
           "automargin": true,
           "gridcolor": "white",
           "linecolor": "white",
           "ticks": "",
           "title": {
            "standoff": 15
           },
           "zerolinecolor": "white",
           "zerolinewidth": 2
          }
         }
        },
        "title": {
         "text": "Error in estimating component masses for 100 injections using the Prediction model"
        },
        "xaxis": {
         "anchor": "y2",
         "domain": [
          0,
          1
         ],
         "title": {
          "text": "Error(Mo)"
         },
         "zeroline": false
        },
        "yaxis": {
         "anchor": "free",
         "domain": [
          0,
          1
         ],
         "position": 0,
         "title": {
          "text": "Frequency"
         }
        }
       }
      },
      "text/html": [
       "<div>                            <div id=\"171d04b6-037c-4dac-a341-3854059bde44\" class=\"plotly-graph-div\" style=\"height:525px; width:100%;\"></div>            <script type=\"text/javascript\">                require([\"plotly\"], function(Plotly) {                    window.PLOTLYENV=window.PLOTLYENV || {};                                    if (document.getElementById(\"171d04b6-037c-4dac-a341-3854059bde44\")) {                    Plotly.newPlot(                        \"171d04b6-037c-4dac-a341-3854059bde44\",                        [{\"autobinx\": false, \"histnorm\": \"probability density\", \"legendgroup\": \"Mass1\", \"marker\": {\"color\": \"#A56CC1\"}, \"name\": \"Mass1\", \"opacity\": 0.7, \"type\": \"histogram\", \"x\": [13.851857654457653, 1.5386650057475393, 13.344035056002134, -13.21356537277142, 22.912723369691932, 12.165295309744486, 14.698141027790392, 13.733991921379555, 9.054768756759152, 11.068650059323545, 7.642957789395375, -5.222741458973168, 4.250283740022603, 9.260901623432964, -9.141864013389053, 14.944132810229512, 1.3867429175606887, -1.395591973077991, 8.091094534789832, 5.257622961553906, 13.42315717414398, 1.057552829498917, 4.564953478091866, 12.402446744376604, -4.5896070406698115, 16.435596270116307, 12.22038246616227, 13.354748993666817, 14.28350529416425, 11.242218314083757, -16.456953794161457, -0.8299856206648428, 4.818465285646454, 24.48084437168265, 5.103078186892709, 7.798251522651469, 5.299048465504228, 9.798230856740012, 13.918761019440481, 15.459594715670619, -2.1372306134882564, -2.961727009883468, -13.156669028422591, 6.509321946319865, -0.18493696010673233, 6.728198988653517, 15.843811335780046, 17.492390585845783, -1.1713388123245636, 7.2024133963776364, -0.36127322096563574, 0.5518221234719505, 2.3506897966486235, -3.505788342381493, 13.115647380021151, 8.791879236991214, 6.245784095248986, 3.3291021969840386, -6.797767499081488, 17.79928724546788, -8.03602539065372, -6.38136045179985, 6.9878846375262, 15.816738713469434, -1.3070126522445875, 15.099460609526801, 6.279783978253462, -3.029790740293997, 17.26735038423857, -0.77560847530291, -2.521777703965789, 6.019822704996976, 13.632322801564527, 7.022964296750004, 7.91435277719534, -0.5235131057027118, 30.579155934955963, -10.266373006419059, -19.295935750145986, 5.743063767342186, 13.032848696631547, 0.9161961984352303, 11.60312113715733, 5.7979736462290035, -12.960958153725322, 24.73668690068891, -3.074988087965181, 10.077089751270229, 0.42661737459997084, 6.0562715653973385, 3.4491149765967535, -2.674708328967945, 6.804811602492734, -6.570371366686054, 10.951345511216125, 3.776961512375273, -0.5974309073348252, 4.3629231647594295, 3.4473366780355548, 14.641307524611676], \"xaxis\": \"x\", \"xbins\": {\"end\": 30.579155934955963, \"size\": 1.0, \"start\": -19.295935750145986}, \"yaxis\": \"y\"}, {\"autobinx\": false, \"histnorm\": \"probability density\", \"legendgroup\": \"Mass2\", \"marker\": {\"color\": \"#63F5EF\"}, \"name\": \"Mass2\", \"opacity\": 0.7, \"type\": \"histogram\", \"x\": [-3.8535679215296383, -3.7644198364221566, 17.380365368930107, -2.2081249855886256, 22.40512482322672, -5.6815090674821604, 12.893676299227806, -2.8884991850735915, -4.8620920883055305, -16.922889028719496, -10.40584058885564, -8.008860353715818, -3.138069690673774, -11.435525972254553, -17.807244538040287, 8.479675718112233, -5.60131994122473, 7.569665630952329, -7.406291767901905, -1.8918015496253133, 3.953793012020249, -12.88885570040572, -5.540534377082437, 1.7237962078225166, -2.21011607834005, -3.925467505287493, -2.0329604172057074, -1.304856768518313, -13.846174607341137, -4.183256005568019, -17.995018222494373, -9.988531908736427, 0.0558013214714137, -3.1577521660716243, -1.2013750258439302, -6.900434871668821, 0.07043354367835519, 3.451869227672951, 0.8227479318813096, 2.214610561402033, -9.869321346481954, 0.11263924266174286, -8.109881291033275, -4.788631311290658, -5.612140661908839, 4.779284530310484, -0.4218257308657414, 1.508646395450853, 7.176915957272001, -8.069338669565177, -12.820218838305955, -5.351685736566132, -12.373905548364888, -6.275726438686526, 8.276233311536132, -11.770340737155205, -4.720544341993097, -3.202486610569217, -13.284480293576834, 20.003344442341792, -13.07778913695494, -17.930966934971682, -10.955319103301669, -4.819822738963481, -18.446552416668233, -3.807392787794157, -7.4037193364878675, -2.881884540722318, -7.703174153841154, -7.8450773614301355, -13.702729218298636, 4.779423143762401, 4.647337048012901, 2.5534806130381043, -11.0207138161466, -7.494014869416787, 12.940332260451356, -15.91873474142465, -5.381184743224139, 0.10117138159571226, -2.775193175836229, -5.601025176226642, -9.690352200618221, 2.050048095840978, -8.244753834299317, 11.261632684071998, -12.037210303136462, 8.067296299161093, -3.4482673699293684, -1.0022691104658037, -1.470213065387668, -5.556721143699406, -8.041413868978985, -21.79328643396991, -11.136408652963247, -10.6346530903174, -6.347391746467949, -12.245337992232663, -5.687977885446138, -1.4742391528830723], \"xaxis\": \"x\", \"xbins\": {\"end\": 22.40512482322672, \"size\": 1.0, \"start\": -21.79328643396991}, \"yaxis\": \"y\"}, {\"legendgroup\": \"Mass1\", \"marker\": {\"color\": \"#A56CC1\"}, \"mode\": \"lines\", \"name\": \"Mass1\", \"showlegend\": false, \"type\": \"scatter\", \"x\": [-19.295935750145986, -19.19618556677578, -19.096435383405577, -18.996685200035376, -18.89693501666517, -18.797184833294967, -18.697434649924762, -18.597684466554558, -18.497934283184357, -18.398184099814152, -18.298433916443948, -18.198683733073743, -18.09893354970354, -17.999183366333334, -17.899433182963133, -17.799682999592928, -17.699932816222724, -17.60018263285252, -17.500432449482314, -17.400682266112113, -17.30093208274191, -17.201181899371704, -17.1014317160015, -17.001681532631295, -16.901931349261094, -16.80218116589089, -16.702430982520685, -16.60268079915048, -16.502930615780276, -16.403180432410075, -16.30343024903987, -16.203680065669666, -16.10392988229946, -16.004179698929256, -15.904429515559054, -15.80467933218885, -15.704929148818646, -15.605178965448442, -15.505428782078239, -15.405678598708034, -15.30592841533783, -15.206178231967627, -15.106428048597422, -15.006677865227218, -14.906927681857015, -14.80717749848681, -14.707427315116608, -14.607677131746403, -14.507926948376198, -14.408176765005996, -14.308426581635791, -14.208676398265588, -14.108926214895384, -14.009176031525179, -13.909425848154976, -13.809675664784772, -13.709925481414569, -13.610175298044364, -13.51042511467416, -13.410674931303955, -13.310924747933754, -13.21117456456355, -13.111424381193345, -13.01167419782314, -12.911924014452936, -12.812173831082733, -12.712423647712528, -12.612673464342326, -12.512923280972121, -12.413173097601916, -12.313422914231714, -12.213672730861509, -12.113922547491306, -12.014172364121102, -11.914422180750897, -11.814671997380694, -11.714921814010491, -11.615171630640287, -11.515421447270082, -11.415671263899878, -11.315921080529673, -11.21617089715947, -11.116420713789266, -11.016670530419063, -10.916920347048858, -10.817170163678655, -10.717419980308451, -10.617669796938246, -10.517919613568044, -10.418169430197839, -10.318419246827634, -10.21866906345743, -10.118918880087229, -10.019168696717024, -9.91941851334682, -9.819668329976617, -9.719918146606412, -9.620167963236208, -9.520417779866005, -9.4206675964958, -9.320917413125596, -9.221167229755393, -9.121417046385188, -9.021666863014984, -8.921916679644779, -8.822166496274578, -8.722416312904373, -8.622666129534169, -8.522915946163966, -8.423165762793762, -8.323415579423557, -8.223665396053354, -8.12391521268315, -8.024165029312945, -7.924414845942742, -7.824664662572538, -7.724914479202333, -7.62516429583213, -7.525414112461926, -7.425663929091723, -7.32591374572152, -7.226163562351315, -7.126413378981111, -7.026663195610906, -6.926913012240703, -6.827162828870499, -6.727412645500294, -6.6276624621300915, -6.527912278759887, -6.428162095389682, -6.3284119120194795, -6.228661728649275, -6.12891154527907, -6.029161361908869, -5.929411178538665, -5.82966099516846, -5.729910811798256, -5.630160628428053, -5.530410445057848, -5.430660261687644, -5.330910078317441, -5.231159894947236, -5.131409711577032, -5.031659528206829, -4.931909344836624, -4.83215916146642, -4.732408978096217, -4.632658794726014, -4.5329086113558095, -4.433158427985607, -4.333408244615402, -4.2336580612451975, -4.133907877874995, -4.03415769450479, -3.9344075111345855, -3.834657327764381, -3.734907144394178, -3.6351569610239736, -3.535406777653769, -3.435656594283566, -3.3359064109133616, -3.236156227543159, -3.136406044172954, -3.0366558608027496, -2.936905677432545, -2.837155494062344, -2.7374053106921394, -2.637655127321935, -2.5379049439517303, -2.4381547605815257, -2.3384045772113247, -2.23865439384112, -2.1389042104709155, -2.039154027100711, -1.9394038437305063, -1.8396536603603018, -1.7399034769901007, -1.6401532936198961, -1.5404031102496916, -1.440652926879487, -1.3409027435092824, -1.2411525601390778, -1.1414023767688732, -1.0416521933986758, -0.9419020100284712, -0.8421518266582666, -0.742401643288062, -0.6426514599178574, -0.5429012765476529, -0.4431510931774518, -0.34340090980724725, -0.24365072643704266, -0.14390054306683808, -0.0441503596966335, 0.05559982367357108, 0.15535000704377566, 0.2551001904139767, 0.35485037378418127, 0.45460055715438585, 0.5543507405245904, 0.654100923894795, 0.7538511072649996, 0.8536012906352006, 0.9533514740054052, 1.0531016573756098, 1.1528518407458144, 1.252602024116019, 1.3523522074862235, 1.4521023908564281, 1.5518525742266291, 1.6516027575968302, 1.7513529409670348, 1.8511031243372393, 1.950853307707444, 2.0506034910776485, 2.1503536744478495, 2.250103857818054, 2.3498540411882587, 2.4496042245584633, 2.549354407928668, 2.6491045912988724, 2.7488547746690735, 2.848604958039278, 2.9483551414094826, 3.048105324779687, 3.147855508149892, 3.2476056915200964, 3.347355874890301, 3.447106058260502, 3.5468562416307066, 3.646606425000911, 3.7463566083711157, 3.8461067917413203, 3.945856975111525, 4.045607158481726, 4.1453573418519305, 4.245107525222135, 4.34485770859234, 4.444607891962541, 4.544358075332745, 4.644108258702946, 4.743858442073151, 4.8436086254433555, 4.94335880881356, 5.043108992183765, 5.142859175553969, 5.242609358924174, 5.342359542294375, 5.442109725664579, 5.541859909034784, 5.641610092404989, 5.741360275775193, 5.841110459145398, 5.940860642515599, 6.040610825885803, 6.140361009256008, 6.2401111926262125, 6.339861375996417, 6.439611559366622, 6.539361742736826, 6.639111926107027, 6.738862109477232, 6.838612292847436, 6.938362476217641, 7.038112659587846, 7.13786284295805, 7.237613026328248, 7.337363209698452, 7.437113393068657, 7.536863576438861, 7.636613759809066, 7.736363943179271, 7.836114126549475, 7.935864309919676, 8.03561449328988, 8.135364676660085, 8.23511486003029, 8.334865043400494, 8.434615226770699, 8.5343654101409, 8.634115593511105, 8.73386577688131, 8.833615960251514, 8.933366143621718, 9.033116326991923, 9.132866510362124, 9.232616693732329, 9.332366877102533, 9.432117060472738, 9.531867243842942, 9.631617427213147, 9.731367610583352, 9.831117793953553, 9.930867977323757, 10.030618160693958, 10.130368344064163, 10.230118527434367, 10.329868710804572, 10.429618894174773, 10.529369077544978, 10.629119260915182, 10.728869444285387, 10.828619627655591, 10.928369811025796, 11.028119994395997, 11.127870177766201, 11.227620361136406, 11.32737054450661, 11.427120727876815, 11.52687091124702, 11.626621094617224, 11.726371277987425, 11.82612146135763, 11.925871644727835, 12.02562182809804, 12.125372011468244, 12.225122194838448, 12.32487237820865, 12.424622561578854, 12.524372744949059, 12.624122928319263, 12.723873111689464, 12.823623295059669, 12.923373478429873, 13.023123661800078, 13.122873845170282, 13.222624028540487, 13.322374211910692, 13.422124395280896, 13.521874578651094, 13.621624762021298, 13.721374945391503, 13.821125128761707, 13.920875312131912, 14.020625495502117, 14.120375678872321, 14.220125862242526, 14.31987604561273, 14.419626228982935, 14.51937641235314, 14.619126595723337, 14.718876779093542, 14.818626962463746, 14.91837714583395, 15.018127329204155, 15.11787751257436, 15.217627695944564, 15.317377879314769, 15.417128062684974, 15.516878246055178, 15.616628429425383, 15.716378612795587, 15.816128796165785, 15.91587897953599, 16.015629162906194, 16.1153793462764, 16.215129529646603, 16.314879713016808, 16.414629896387012, 16.514380079757217, 16.61413026312742, 16.713880446497626, 16.81363062986783, 16.913380813238035, 17.01313099660824, 17.11288117997843, 17.212631363348635, 17.31238154671884, 17.412131730089044, 17.51188191345925, 17.611632096829453, 17.711382280199658, 17.811132463569862, 17.910882646940067, 18.01063283031027, 18.110383013680476, 18.21013319705068, 18.309883380420885, 18.409633563791083, 18.509383747161287, 18.609133930531492, 18.708884113901696, 18.8086342972719, 18.908384480642106, 19.00813466401231, 19.107884847382515, 19.20763503075272, 19.307385214122924, 19.40713539749313, 19.506885580863333, 19.606635764233538, 19.706385947603735, 19.80613613097394, 19.905886314344144, 20.00563649771435, 20.105386681084553, 20.205136864454758, 20.304887047824963, 20.404637231195167, 20.50438741456537, 20.604137597935576, 20.70388778130578, 20.803637964675985, 20.90338814804619, 21.003138331416388, 21.102888514786592, 21.202638698156797, 21.302388881527, 21.402139064897206, 21.50188924826741, 21.601639431637615, 21.70138961500782, 21.801139798378024, 21.90088998174823, 22.000640165118433, 22.100390348488638, 22.200140531858843, 22.29989071522904, 22.399640898599245, 22.49939108196945, 22.599141265339647, 22.69889144870985, 22.798641632080056, 22.89839181545026, 22.998141998820465, 23.09789218219067, 23.197642365560874, 23.29739254893108, 23.397142732301283, 23.49689291567148, 23.596643099041685, 23.69639328241189, 23.796143465782094, 23.8958936491523, 23.995643832522504, 24.09539401589271, 24.195144199262913, 24.294894382633117, 24.394644566003322, 24.494394749373527, 24.59414493274373, 24.693895116113936, 24.793645299484133, 24.893395482854338, 24.993145666224542, 25.092895849594747, 25.19264603296495, 25.292396216335156, 25.39214639970536, 25.491896583075565, 25.59164676644577, 25.691396949815974, 25.79114713318618, 25.890897316556384, 25.990647499926588, 26.090397683296786, 26.19014786666699, 26.289898050037195, 26.3896482334074, 26.489398416777604, 26.58914860014781, 26.688898783518013, 26.788648966888218, 26.888399150258422, 26.988149333628627, 27.08789951699883, 27.187649700369036, 27.28739988373924, 27.387150067109438, 27.486900250479643, 27.586650433849847, 27.686400617220052, 27.786150800590256, 27.88590098396046, 27.985651167330666, 28.08540135070087, 28.185151534071068, 28.284901717441272, 28.384651900811477, 28.48440208418168, 28.58415226755188, 28.683902450922083, 28.783652634292288, 28.883402817662493, 28.983153001032697, 29.082903184402902, 29.182653367773106, 29.28240355114331, 29.382153734513516, 29.48190391788372, 29.581654101253925, 29.68140428462413, 29.781154467994334, 29.88090465136453, 29.980654834734736, 30.08040501810494, 30.180155201475145, 30.27990538484535, 30.379655568215554, 30.47940575158576], \"xaxis\": \"x\", \"y\": [0.002774897508636619, 0.002835280098054159, 0.0028961374877062643, 0.0029574601092162704, 0.003019238459179452, 0.003081463089205289, 0.003144124595207419, 0.0032072136062293176, 0.0032707207731094926, 0.0033346367573036276, 0.003398952220191655, 0.003463657813205961, 0.003528744169121749, 0.003594201894852519, 0.0036600215660924783, 0.003726193724142979, 0.0037927088752524327, 0.0038595574927879554, 0.003926730022542652, 0.003994216891464813, 0.004062008520074637, 0.004130095338810179, 0.004198467808517812, 0.004267116445272965, 0.00433603184968518, 0.004405204740807426, 0.004474625994733466, 0.004544286687929345, 0.004614178145305676, 0.004684291992997158, 0.0047546202157745035, 0.004825155218972459, 0.004895889894775752, 0.004966817692663693, 0.005037932693773009, 0.005109229688899038, 0.005180704259816759, 0.005252352863566486, 0.005324172919314331, 0.005396162897365055, 0.005468322409875328, 0.005540652302788414, 0.005613154748487737, 0.00568583333864643, 0.005758693176733277, 0.005831740969622408, 0.005904985117745024, 0.005978435803216302, 0.006052105075369345, 0.006126006933130866, 0.006200157403680311, 0.006274574616844662, 0.0063492788746958625, 0.006424292715836084, 0.006499640973877959, 0.006575350829651813, 0.00665145185670049, 0.0067279760596532, 0.006804957905103531, 0.00688243434465263, 0.0069604448298162674, 0.007039031318533862, 0.0071182382730579806, 0.007198112649044337, 0.007278703875703954, 0.00736006382692123, 0.007442246783283241, 0.007525309385006743, 0.007609310575789377, 0.007694311537650546, 0.007780375616864543, 0.00786756824112413, 0.007955956828105962, 0.008045610685640338, 0.00813660090371621, 0.008229000238578426, 0.008322882989197075, 0.008418324866409262, 0.00851540285505099, 0.008614195069411355, 0.00871478060235315, 0.008817239368452755, 0.008921651941518845, 0.009028099386853235, 0.009136663088619072, 0.009247424572680948, 0.009360465325279869, 0.009475866607902022, 0.009593709268695643, 0.009714073550784751, 0.009837038897821948, 0.009962683757116488, 0.010091085380667074, 0.010222319624423382, 0.01035646074609486, 0.010493581201821898, 0.010633751442021487, 0.010777039706719045, 0.010923511820679056, 0.011073230988650552, 0.011226257591049319, 0.011382648980406694, 0.011542459278926063, 0.011705739177501458, 0.011872535736569044, 0.012042892189181455, 0.01221684774671621, 0.012394437407653681, 0.012575691769886306, 0.012760636847049209, 0.01294929388939212, 0.01314167920974427, 0.013337804015156126, 0.013537674244835032, 0.013741290415024605, 0.013948647471510778, 0.01415973465046868, 0.014374535348395105, 0.014593027001898889, 0.014815180978147406, 0.015040962476788823, 0.015270330444188216, 0.01550323750082883, 0.015739629882738446, 0.01597944739780315, 0.016222623397827256, 0.016469084767188093, 0.016718751928916035, 0.016971538869005834, 0.017227353179731137, 0.017486096122693195, 0.01774766271228433, 0.018011941820187956, 0.018278816301469464, 0.018548163142735954, 0.018819853632757687, 0.019093753555850617, 0.01936972340821787, 0.01964761863733784, 0.01992728990437009, 0.02020858336942603, 0.020491340999420966, 0.02077540089808867, 0.021060597657598972, 0.0213467627310742, 0.02163372482515367, 0.021921310311605383, 0.02220934365683487, 0.022497647867990613, 0.022786044954217932, 0.023074356401467273, 0.023362403659121355, 0.02365000863656919, 0.02393699420772528, 0.02422318472136955, 0.024508406515070934, 0.0247924884303539, 0.025075262326675823, 0.02535656359170338, 0.025636231645310974, 0.025914110434672365, 0.026190048917781185, 0.026463901532716477, 0.026735528649966717, 0.027004797005140795, 0.0272715801094274, 0.02753575863521606, 0.027797220774362703, 0.028055862566671856, 0.02831158819627496, 0.028564310253710454, 0.028813949961655105, 0.029060437362418406, 0.029303711465490087, 0.02954372035362609, 0.029780421246168687, 0.030013780518520654, 0.030243773676930607, 0.030470385287996667, 0.03069360886255316, 0.030913446693874472, 0.031129909650403884, 0.0313430169234951, 0.03155279573093801, 0.031759280977323584, 0.03196251487258755, 0.032162546510353274, 0.032359431407971276, 0.032553231010421874, 0.03274401216050959, 0.03293184653802759, 0.03311681007080848, 0.033298982320800495, 0.033478445848514844, 0.03365528555937827, 0.03382958803569256, 0.03400144085805027, 0.03417093192017948, 0.034338148741289806, 0.034503177780066605, 0.03466610375450843, 0.0348270089718234, 0.034985972672593534, 0.035143070393382214, 0.035298373351895174, 0.035451947858716186, 0.035603854759517266, 0.035754148911497384, 0.03590287869762879, 0.03605008558208948, 0.03619580371003528, 0.03634005955461387, 0.03648287161385186, 0.036624250159751355, 0.03676419704162043, 0.03690270554533048, 0.03703976030984872, 0.03717533730203477, 0.03730940385032032, 0.03744191873751305, 0.03757283235258219, 0.037702086900895104, 0.03782961667198669, 0.03795534836355735, 0.03807920146001376, 0.03820108866349253, 0.03832091637494312, 0.03843858522249438, 0.03855399063399329, 0.03866702345028511, 0.038777570575505925, 0.03888551566038122, 0.03899073981427224, 0.0390931223414852, 0.03919254149716066, 0.039288875257890654, 0.03938200210207507, 0.03947180179492044, 0.03955815617291541, 0.03964094992257401, 0.03972007134823758, 0.03979541312375333, 0.03986687302291389, 0.03993435462364114, 0.039997767981030635, 0.04005703026453936, 0.040112066354799344, 0.04016280939576809, 0.04020920129818867, 0.040251193190618796, 0.04028874581460406, 0.040321829860908966, 0.04035042624408122, 0.04037452631300564, 0.04039413199550425, 0.040409255875451265, 0.0404199212013001, 0.04042616182535286, 0.04042802207354742, 0.04042555654598097, 0.040418829848837594, 0.04040791625882999, 0.04039289932170698, 0.04037387138680729, 0.04035093308006253, 0.04032419271825749, 0.0402937656677467, 0.040259773651196915, 0.040222344006275036, 0.040181608900526966, 0.0401377045069921, 0.04009077014537075, 0.040040947393803566, 0.03998837917653269, 0.03993320883289282, 0.03987557917322411, 0.039815631527408316, 0.03975350479180361, 0.03968933448039072, 0.03962325178594515, 0.03955538265701525, 0.039485846896415225, 0.039414757286836584, 0.03934221874903958, 0.03926832753791296, 0.03919317048148199, 0.03911682426770597, 0.03903935478363963, 0.038960816511235036, 0.0388812519837392, 0.038800691306296674, 0.03871915174399847, 0.03863663738023154, 0.03855313884778012, 0.038468633134710634, 0.03838308346664482, 0.0382964392665848, 0.038208636193011306, 0.0381195962565275, 0.03802922801487309, 0.03793742684568722, 0.03784407529595681, 0.037749043506655484, 0.037652189710652255, 0.037553360801560534, 0.03745239297080208, 0.037349112409782115, 0.037243336073713856, 0.03713487250329326, 0.03702352270011235, 0.036909081051410116, 0.03679133629949939, 0.03667007255097356, 0.0365450703205933, 0.0364161076045784, 0.03628296097788683, 0.03614540670995004, 0.03600322189325381, 0.035856185579104444, 0.03570407991490389, 0.0355466912772711, 0.035383811395392845, 0.03521523845906369, 0.03504077820597952, 0.034860244982984206, 0.03467346277612993, 0.03448026620460053, 0.03428050147375887, 0.03407402728281646, 0.033860715682879884, 0.033640452881406685, 0.03341313998939804, 0.033178693707967034, 0.0329370469512466, 0.032688149402937475, 0.03243196800414504, 0.03216848737050696, 0.031897710136975704, 0.03161965722898274, 0.03133436805907766, 0.03104190064850122, 0.030742331673512282, 0.030435756436649808, 0.03012228876346073, 0.029802060825570707, 0.02947522289130869, 0.02914194300542002, 0.028802406599713285, 0.028456816036783485, 0.028105390089235065, 0.027748363357093537, 0.02738598562634185, 0.027018521171747398, 0.026646248007354423, 0.026269457088208825, 0.025888451467049788, 0.025503545409855003, 0.025115063474252, 0.02472333955491743, 0.024328715900171258, 0.023931542104038604, 0.023532174078096102, 0.0231309730074435, 0.02272830429514529, 0.022324536499469996, 0.02192004026822125, 0.021515187274399054, 0.021110349157360462, 0.020705896473557927, 0.020302197660830693, 0.019899618020103583, 0.019498518718213575, 0.019099255815435905, 0.018702179321122003, 0.018307632280688522, 0.017915949897015667, 0.017527458689120298, 0.017142475690769803, 0.016761307691495256, 0.016384250522248615, 0.016011588387730705, 0.015643593247192486, 0.015280524245287114, 0.014922627194321605, 0.014570134109027433, 0.014223262794739632, 0.013882216489645322, 0.013547183561534412, 0.013218337259261293, 0.012895835518903534, 0.012579820824386872, 0.012270420122132492, 0.01196774478907565, 0.011671890653203933, 0.011382938065569264, 0.011100952022541487, 0.01082598233689343, 0.010558063856137691, 0.010297216726374925, 0.010043446699763543, 0.009796745483579294, 0.009557091128704488, 0.009324448455266504, 0.009098769513038195, 0.008879994074115943, 0.00866805015530658, 0.008462854567581788, 0.008264313489897387, 0.008072323064626522, 0.007886770011819278, 0.007707532259476982, 0.007534479587017007, 0.007367474279104464, 0.0072063717870384575, 0.007051021394904951, 0.006901266887742997, 0.006756947219018459, 0.006617897174756431, 0.006483948031752333, 0.006354928207360434, 0.006230663898446675, 0.006110979707191044, 0.005995699251531496, 0.005884645758156134, 0.005777642636073702, 0.0056745140289220335, 0.005575085344310365, 0.005479183758633635, 0.005386638695943649, 0.005297282279613435, 0.005210949755685655, 0.005127479886953443, 0.005046715316981153, 0.004968502903433087, 0.004892694020238509, 0.0048191448282816594, 0.004747716514463846, 0.004678275499141297, 0.004610693612095994, 0.004544848237346376, 0.004480622427250215, 0.004417904986491881, 0.004356590526680582, 0.004296579492413541, 0.004237778159778776, 0.004180098608384575, 0.004123458668107462, 0.004067781841845926, 0.004012997205653934, 0.003959039287705169, 0.0039058479276062328, 0.0038533681176343045, 0.0038015498275216324, 0.0037503478144460646, 0.0036997214199129603, 0.003649634355229954, 0.0036000544772815985, 0.0035509535563066834, 0.0035023070373665544, 0.003454093797168991, 0.00340629589787894, 0.003358898339505291, 0.003311888812402435, 0.00326525745136669, 0.003218996592741903, 0.003173100535875639, 0.0031275653101884657, 0.003082388449034186, 0.003037568771439456, 0.0029931061727174703, 0.0029490014248533397, 0.00290525598745868, 0.0028618718299911502, 0.0028188512658312947, 0.002776196798705258, 0.002733910981838292, 0.0026919962901210868, 0.002650455005469746, 0.0026092891154610594, 0.002568500225228538, 0.0025280894825116702, 0.002488057515662149, 0.0024484043843262734, 0.002409129542443297, 0.002370231813125418, 0.0023317093749168024, 0.002293559758866669, 0.0022557798557956044, 0.0022183659330848337, 0.0021813136602755055, 0.0021446181427291415, 0.0021082739625714448, 0.0020722752261194215, 0.002036615616976459, 0.0020012884539713336, 0.0019662867531150194, 0.001931603292753328, 0.0018972306811038133, 0.0018631614253814502, 0.0018293880017392977], \"yaxis\": \"y\"}, {\"legendgroup\": \"Mass2\", \"marker\": {\"color\": \"#63F5EF\"}, \"mode\": \"lines\", \"name\": \"Mass2\", \"showlegend\": false, \"type\": \"scatter\", \"x\": [-21.79328643396991, -21.704889611455517, -21.616492788941123, -21.52809596642673, -21.43969914391234, -21.351302321397945, -21.26290549888355, -21.174508676369157, -21.086111853854764, -20.99771503134037, -20.90931820882598, -20.820921386311586, -20.73252456379719, -20.644127741282798, -20.555730918768404, -20.467334096254014, -20.37893727373962, -20.290540451225226, -20.202143628710832, -20.11374680619644, -20.025349983682045, -19.93695316116765, -19.84855633865326, -19.760159516138867, -19.671762693624473, -19.58336587111008, -19.494969048595685, -19.40657222608129, -19.3181754035669, -19.229778581052507, -19.141381758538113, -19.05298493602372, -18.964588113509325, -18.87619129099493, -18.78779446848054, -18.699397645966148, -18.611000823451754, -18.52260400093736, -18.434207178422966, -18.345810355908572, -18.257413533394182, -18.169016710879788, -18.080619888365394, -17.992223065851, -17.903826243336606, -17.815429420822213, -17.727032598307822, -17.63863577579343, -17.550238953279035, -17.46184213076464, -17.373445308250247, -17.285048485735853, -17.19665166322146, -17.10825484070707, -17.019858018192675, -16.93146119567828, -16.843064373163887, -16.754667550649494, -16.666270728135103, -16.57787390562071, -16.489477083106316, -16.40108026059192, -16.312683438077528, -16.224286615563138, -16.13588979304874, -16.04749297053435, -15.959096148019956, -15.870699325505562, -15.782302502991168, -15.693905680476774, -15.605508857962382, -15.517112035447989, -15.428715212933596, -15.340318390419203, -15.251921567904809, -15.163524745390415, -15.075127922876023, -14.98673110036163, -14.898334277847237, -14.809937455332843, -14.72154063281845, -14.633143810304055, -14.544746987789662, -14.456350165275271, -14.367953342760877, -14.279556520246484, -14.19115969773209, -14.102762875217696, -14.014366052703304, -13.92596923018891, -13.837572407674518, -13.749175585160124, -13.66077876264573, -13.572381940131336, -13.483985117616944, -13.395588295102552, -13.307191472588157, -13.218794650073765, -13.130397827559372, -13.042001005044977, -12.953604182530585, -12.865207360016191, -12.776810537501797, -12.688413714987405, -12.600016892473011, -12.511620069958617, -12.423223247444225, -12.334826424929831, -12.246429602415438, -12.158032779901045, -12.069635957386652, -11.981239134872258, -11.892842312357866, -11.804445489843472, -11.716048667329078, -11.627651844814686, -11.539255022300292, -11.4508581997859, -11.362461377271506, -11.274064554757112, -11.18566773224272, -11.097270909728325, -11.008874087213933, -10.92047726469954, -10.832080442185145, -10.743683619670753, -10.65528679715636, -10.566889974641965, -10.478493152127573, -10.390096329613181, -10.301699507098785, -10.213302684584393, -10.124905862070001, -10.036509039555606, -9.948112217041214, -9.859715394526821, -9.771318572012426, -9.682921749498034, -9.59452492698364, -9.506128104469246, -9.417731281954854, -9.32933445944046, -9.240937636926066, -9.152540814411674, -9.06414399189728, -8.975747169382888, -8.887350346868494, -8.7989535243541, -8.710556701839709, -8.622159879325315, -8.53376305681092, -8.445366234296529, -8.356969411782135, -8.268572589267741, -8.180175766753349, -8.091778944238955, -8.003382121724561, -7.914985299210169, -7.826588476695774, -7.7381916541813816, -7.6497948316669895, -7.561398009152594, -7.473001186638202, -7.38460436412381, -7.296207541609414, -7.207810719095022, -7.11941389658063, -7.031017074066234, -6.942620251551842, -6.85422342903745, -6.765826606523056, -6.6774297840086625, -6.58903296149427, -6.500636138979877, -6.412239316465483, -6.323842493951089, -6.235445671436697, -6.147048848922303, -6.058652026407909, -5.970255203893517, -5.881858381379123, -5.793461558864729, -5.705064736350337, -5.616667913835943, -5.52827109132155, -5.439874268807156, -5.351477446292762, -5.263080623778372, -5.174683801263978, -5.086286978749584, -4.997890156235194, -4.909493333720796, -4.821096511206402, -4.732699688692012, -4.644302866177618, -4.555906043663224, -4.467509221148834, -4.379112398634437, -4.290715576120043, -4.2023187536056525, -4.113921931091259, -4.025525108576865, -3.937128286062471, -3.848731463548077, -3.7603346410336833, -3.6719378185192895, -3.583540996004899, -3.4951441734905053, -3.4067473509761115, -3.318350528461721, -3.229953705947324, -3.14155688343293, -3.0531600609185396, -2.964763238404146, -2.876366415889752, -2.7879695933753617, -2.6995727708609643, -2.6111759483465704, -2.52277912583218, -2.4343823033177863, -2.3459854808033924, -2.257588658289002, -2.1691918357746047, -2.080795013260211, -1.9923981907458206, -1.9040013682314267, -1.815604545717033, -1.7272077232026426, -1.6388109006882452, -1.5504140781738514, -1.462017255659461, -1.3736204331450672, -1.2852236106306734, -1.196826788116283, -1.1084299656018892, -1.0200331430874918, -0.9316363205731015, -0.8432394980587077, -0.7548426755443138, -0.66644585302992, -0.5780490305155297, -0.4896522080011323, -0.40125538548673845, -0.31285856297234815, -0.2244617404579543, -0.13606491794356046, -0.047668095429170165, 0.040728727085227234, 0.12912554959962108, 0.21752237211401138, 0.3059191946284052, 0.39431601714279907, 0.48271283965718936, 0.5711096621715868, 0.6595064846859806, 0.7479033072003709, 0.8363001297147648, 0.9246969522291586, 1.013093774743549, 1.1014905972579427, 1.1898874197723401, 1.2782842422867304, 1.3666810648011243, 1.4550778873155181, 1.5434747098299084, 1.6318715323443023, 1.7202683548586997, 1.80866517737309, 1.8970619998874838, 1.9854588224018777, 2.073855644916268, 2.162252467430662, 2.250649289945059, 2.3390461124594495, 2.4274429349738433, 2.515839757488237, 2.604236580002631, 2.6926334025170213, 2.7810302250314187, 2.8694270475458126, 2.957823870060203, 3.0462206925745967, 3.1346175150889906, 3.223014337603381, 3.3114111601177783, 3.399807982632172, 3.4882048051465624, 3.5766016276609562, 3.66499845017535, 3.7533952726897404, 3.8417920952041342, 3.9301889177185316, 4.018585740232922, 4.106982562747316, 4.19537938526171, 4.2837762077761, 4.372173030290494, 4.460569852804891, 4.5489666753192814, 4.637363497833675, 4.725760320348069, 4.814157142862459, 4.902553965376853, 4.990950787891251, 5.079347610405641, 5.167744432920035, 5.256141255434429, 5.344538077948819, 5.432934900463213, 5.52133172297761, 5.6097285454920005, 5.698125368006394, 5.786522190520788, 5.874919013035182, 5.963315835549572, 6.051712658063966, 6.140109480578364, 6.228506303092754, 6.316903125607148, 6.405299948121542, 6.493696770635932, 6.582093593150326, 6.670490415664723, 6.758887238179113, 6.847284060693507, 6.935680883207901, 7.024077705722291, 7.112474528236685, 7.200871350751083, 7.289268173265473, 7.377664995779867, 7.466061818294261, 7.554458640808651, 7.642855463323045, 7.731252285837442, 7.8196491083518325, 7.908045930866226, 7.99644275338062, 8.08483957589501, 8.173236398409404, 8.261633220923798, 8.350030043438192, 8.438426865952586, 8.52682368846698, 8.61522051098137, 8.703617333495764, 8.792014156010158, 8.880410978524552, 8.968807801038945, 9.05720462355334, 9.145601446067733, 9.233998268582123, 9.322395091096517, 9.410791913610915, 9.499188736125305, 9.587585558639699, 9.675982381154093, 9.764379203668483, 9.852776026182877, 9.941172848697274, 10.029569671211664, 10.117966493726058, 10.206363316240452, 10.294760138754846, 10.383156961269236, 10.471553783783634, 10.559950606298024, 10.648347428812414, 10.736744251326812, 10.825141073841202, 10.9135378963556, 11.00193471886999, 11.090331541384387, 11.178728363898777, 11.267125186413168, 11.355522008927565, 11.443918831441955, 11.532315653956346, 11.620712476470743, 11.709109298985133, 11.797506121499524, 11.885902944013928, 11.974299766528318, 12.062696589042709, 12.151093411557106, 12.239490234071496, 12.327887056585887, 12.416283879100284, 12.504680701614674, 12.593077524129065, 12.681474346643462, 12.769871169157852, 12.858267991672243, 12.94666481418664, 13.035061636701037, 13.123458459215428, 13.211855281729825, 13.300252104244215, 13.388648926758606, 13.477045749273003, 13.565442571787393, 13.653839394301784, 13.742236216816181, 13.830633039330571, 13.919029861844969, 14.00742668435936, 14.095823506873757, 14.184220329388154, 14.272617151902544, 14.361013974416935, 14.449410796931332, 14.537807619445722, 14.626204441960112, 14.71460126447451, 14.8029980869889, 14.89139490950329, 14.979791732017688, 15.068188554532078, 15.156585377046468, 15.244982199560873, 15.333379022075263, 15.421775844589654, 15.510172667104051, 15.598569489618441, 15.686966312132832, 15.775363134647229, 15.86375995716162, 15.95215677967601, 16.040553602190407, 16.128950424704797, 16.217347247219188, 16.305744069733592, 16.394140892247982, 16.482537714762373, 16.57093453727677, 16.65933135979116, 16.74772818230555, 16.836125004819948, 16.92452182733434, 17.01291864984873, 17.101315472363126, 17.189712294877516, 17.278109117391907, 17.366505939906304, 17.4549027624207, 17.54329958493509, 17.63169640744949, 17.72009322996388, 17.80849005247827, 17.896886874992667, 17.985283697507057, 18.073680520021448, 18.162077342535845, 18.250474165050235, 18.338870987564626, 18.427267810079023, 18.51566463259342, 18.60406145510781, 18.692458277622208, 18.7808551001366, 18.86925192265099, 18.957648745165386, 19.046045567679776, 19.134442390194167, 19.222839212708564, 19.311236035222954, 19.399632857737345, 19.488029680251742, 19.576426502766132, 19.66482332528053, 19.753220147794927, 19.841616970309317, 19.930013792823708, 20.018410615338105, 20.106807437852495, 20.195204260366886, 20.283601082881283, 20.371997905395673, 20.46039472791007, 20.54879155042446, 20.63718837293885, 20.725585195453256, 20.813982017967646, 20.902378840482037, 20.990775662996434, 21.079172485510824, 21.167569308025215, 21.255966130539612, 21.344362953054002, 21.432759775568393, 21.52115659808279, 21.60955342059718, 21.69795024311157, 21.786347065625975, 21.874743888140365, 21.963140710654756, 22.051537533169153, 22.139934355683543, 22.228331178197934, 22.31672800071233], \"xaxis\": \"x\", \"y\": [0.004758865939717018, 0.004891938971537124, 0.005027101217352628, 0.0051643376367938865, 0.00530363252526872, 0.00544496963087829, 0.005588332278074381, 0.005733703497596202, 0.005881066162154693, 0.006030403127262874, 0.006181697376542215, 0.006334932170768078, 0.006490091199852449, 0.006647158736900874, 0.006806119793422237, 0.0069669602747165355, 0.007129667134417323, 0.007294228527122369, 0.007460633958010076, 0.007628874428309133, 0.0077989425754673375, 0.00797083280685152, 0.008144541425805011, 0.008320066748893245, 0.008497409213180646, 0.008676571472405093, 0.008857558480948644, 0.009040377564545798, 0.009225038476723499, 0.009411553440029509, 0.009599937171178494, 0.009790206889327753, 0.0099823823067855, 0.010176485601556005, 0.010372541371234294, 0.010570576567880423, 0.01077062041362706, 0.010972704296904546, 0.011176861649303805, 0.011383127803237287, 0.011591539830702659, 0.011802136363600365, 0.012014957396203244, 0.012230044070525624, 0.01244743844548484, 0.01266718325089373, 0.012889321627462999, 0.013113896854129024, 0.013340952064152211, 0.013570529951554517, 0.013802672469578071, 0.014037420522952045, 0.01427481365584821, 0.014514889737487241, 0.014757684647427194, 0.015003231962619962, 0.01525156264836271, 0.01550270475529605, 0.015756683124610444, 0.016013519103615186, 0.016273230273801093, 0.01653583019348731, 0.016801328157085967, 0.017069728972943617, 0.017341032761628853, 0.017615234776427575, 0.01789232524768602, 0.018172289252503273, 0.01845510661112386, 0.018740751811215914, 0.01902919396104276, 0.019320396772348127, 0.019614318573576397, 0.019910912353843204, 0.02021012583785818, 0.020511901591782785, 0.020816177159783875, 0.021122885230818615, 0.021431953834962273, 0.02174330656836586, 0.02205686284571181, 0.022372538178818967, 0.022690244479840662, 0.023009890387299146, 0.023331381613009107, 0.023654621307764852, 0.02397951044350032, 0.024305948209479976, 0.024633832419944383, 0.02496305993051566, 0.02529352706056944, 0.025625130018698847, 0.02595776532833619, 0.02629133025055773, 0.026625723201078814, 0.026960844158449192, 0.027296595060482542, 0.027632880186000932, 0.027969606519041602, 0.028306684092762657, 0.028644026310393294, 0.028981550240703015, 0.029319176885612717, 0.02965683141773711, 0.0299944433858305, 0.030331946886308095, 0.030669280699227218, 0.031006388387340586, 0.03134321835706985, 0.03167972388049651, 0.03201586307772086, 0.03235159885920212, 0.03268689882795751, 0.03302173514176582, 0.03335608433578973, 0.03368992710629654, 0.03402324805642208, 0.0343560354051783, 0.034688280661158304, 0.035019978262632874, 0.035351125185965566, 0.03568172052449234, 0.0360117650402178, 0.03634126069087145, 0.0366702101350419, 0.0369986162182639, 0.03732648144307339, 0.03765380742616314, 0.03798059434587285, 0.03830684038332627, 0.038632541160583976, 0.03895768917921924, 0.039282273262737644, 0.03960627800625497, 0.039929683236820224, 0.04025246348772162, 0.040574587490044244, 0.04089601768465821, 0.041216709757709094, 0.0415366122025541, 0.04185566591094431, 0.042173803796093694, 0.04249095045009863, 0.04280702183798412, 0.04312192503045058, 0.0434355579771826, 0.04374780932235861, 0.0440585582637709, 0.04436767445672766, 0.04467501796366734, 0.044980439250169924, 0.04528377922780293, 0.04558486934399206, 0.045883531718859484, 0.04617957932872983, 0.046472816235762514, 0.04676303786293633, 0.04705003131338288, 0.04733357573284604, 0.04761344271383418, 0.04788939673983074, 0.04816119566773932, 0.04842859124656189, 0.048691329670144834, 0.048949152161675155, 0.04920179558747315, 0.0494489930975053, 0.04969047478993357, 0.049925968396925806, 0.050155199988874063, 0.05037789469410899, 0.050593777431150413, 0.05080257365050614, 0.05100401008301597, 0.051197815491737235, 0.05138372142438517, 0.05156146296336811, 0.051730779470502794, 0.05189141532354938, 0.05204312064177564, 0.052185651997838846, 0.05231877311336707, 0.05244225553572221, 0.05255587929353905, 0.05265943352875498, 0.052752717102973544, 0.052835539176139, 0.05290771975564211, 0.05296909021412305, 0.05301949377438869, 0.053058785960017084, 0.053086835010378815, 0.05310352225896428, 0.05310874247406851, 0.05310240416104268, 0.05308442982548616, 0.05305475619690952, 0.05301333441255732, 0.052960130161236144, 0.052895123787142825, 0.05281831035383897, 0.052729699668660014, 0.05262931626798789, 0.05251719936395017, 0.05239340275323735, 0.05225799468885261, 0.05211105771572582, 0.05195268847123187, 0.05178299745175826, 0.05160210874656156, 0.05141015974024244, 0.05120730078524901, 0.05099369484589373, 0.05076951711543486, 0.050534954607832264, 0.05029020572583908, 0.050035479807134915, 0.04977099665024146, 0.04949698602199194, 0.04921368714834568, 0.04892134819035496, 0.04862022570709818, 0.048310584107393445, 0.04799269509210129, 0.04766683708881161, 0.047333294680693146, 0.04699235803125514, 0.046644322306744555, 0.04628948709786195, 0.04592815584244141, 0.04556063525068965, 0.04518723473453207, 0.044808265842555296, 0.04442404170197819, 0.04403487646901874, 0.04364108478895903, 0.04324298126713979, 0.04284087995204418, 0.04243509383155659, 0.04202593434340391, 0.0416137109007099, 0.04119873043351327, 0.0407812969470191, 0.040361711097272476, 0.03994026978486221, 0.03951726576718022, 0.03909298728968254, 0.038667717736517025, 0.03824173530080494, 0.037815312674785, 0.037388716759954144, 0.03696220839726563, 0.03653604211737313, 0.036110465910842354, 0.035685721018186185, 0.035262041739515845, 0.034839655263544295, 0.03441878151562078, 0.033999633024425706, 0.03358241480690706, 0.03316732427099718, 0.03275455113560958, 0.032344277367380825, 0.03193667713359402, 0.03153191677069269, 0.031130154767774677, 0.03073154176443846, 0.030336220562341726, 0.029944326149824663, 0.029555985738946425, 0.029171318814283115, 0.02879043719284075, 0.028413445094443258, 0.028040439221967684, 0.02767150885081232, 0.027306735927001974, 0.026946195173353053, 0.02658995420314432, 0.026238073640763145, 0.02589060724882292, 0.025547602061273975, 0.02520909852205954, 0.024875130628895566, 0.02454572608178336, 0.024220906435892146, 0.023900687258477146, 0.02358507828952661, 0.023274083605857313, 0.022967701788403787, 0.022665926092468997, 0.022368744620726643, 0.022076140498784258, 0.02178809205313288, 0.0215045729913238, 0.02122555258422529, 0.02095099585021983, 0.020680863741209775, 0.02041511333030239, 0.02015369800104523, 0.019896567638080995, 0.019643668819085948, 0.019394945007848042, 0.019150336748331075, 0.01890978185955901, 0.0186732156311399, 0.018440571019233076, 0.018211778842745937, 0.0179867679795272, 0.017765465562304503, 0.017547797174094302, 0.017333687042790764, 0.017123058234621572, 0.016915832846138026, 0.016711932194388848, 0.016511277004909643, 0.016313787597144018, 0.016119384066899608, 0.01592798646542942, 0.01573951497472186, 0.01555389007857523, 0.015371032729030948, 0.01519086450773921, 0.015013307781835638, 0.014838285853914125, 0.014665723105692917, 0.014495545134985644, 0.014327678885607707, 0.014162052769870594, 0.013998596783343113, 0.013837242611587206, 0.013677923728609188, 0.013520575486802806, 0.013365135198198812, 0.013211542206876975, 0.013059737952439393, 0.012909666024488928, 0.012761272208102825, 0.012614504520338974, 0.012469313237859835, 0.0123256509158071, 0.01218347239810766, 0.012042734819437906, 0.011903397599119023, 0.011765422427259286, 0.01162877324350097, 0.011493416208768027, 0.01135931967044675, 0.011226454121463744, 0.011094792153754088, 0.010964308406637516, 0.010834979510640302, 0.010706784027316452, 0.010579702385632704, 0.010453716815488285, 0.010328811278941094, 0.010204971399708978, 0.010082184391505548, 0.00996043898575685, 0.009839725359227098, 0.009720035062058811, 0.009601360946705731, 0.009483697098206094, 0.009367038766208865, 0.009251382299127623, 0.009136725080755683, 0.009023065469632495, 0.008910402741405848, 0.008798737034386845, 0.008688069298446583, 0.008578401247354466, 0.008469735314608482, 0.008362074612760017, 0.008255422896187027, 0.008149784527223774, 0.008045164445510214, 0.007941568140382367, 0.007839001626085458, 0.007737471419555025, 0.007636984520478871, 0.0075375483933234925, 0.0074391709509838005, 0.007341860539694527, 0.007245625924825894, 0.0071504762771743445, 0.007056421159353284, 0.006963470511886681, 0.0068716346386112435, 0.006780924191001278, 0.006691350151042198, 0.006602923812295666, 0.006515656758820609, 0.00642956084163922, 0.006344648152465827, 0.006260930994448926, 0.006178421849711635, 0.006097133343513669, 0.006017078204898097, 0.005938269223727974, 0.005860719204060998, 0.005784440913854693, 0.0057094470310390345, 0.005635750086037918, 0.005563362400865254, 0.0054922960249644045, 0.0054225626680015964, 0.005354173629864381, 0.005287139728153761, 0.005221471223494758, 0.005157177743022371, 0.005094268202430099, 0.005032750726994083, 0.004972632572009047, 0.0049139200430907614, 0.004856618416815309, 0.004800731862176109, 0.004746263363346708, 0.004693214644240485, 0.004641586095356781, 0.00459137670339801, 0.004542583984133155, 0.004495203918969838, 0.004449230895680651, 0.00440465765370944, 0.004361475234459702, 0.004319672936940989, 0.004279238279120337, 0.0042401569652939525, 0.004202412859760977, 0.004165987967045662, 0.0041308624188772045, 0.0040970144680984805, 0.004064420489635829, 0.004033054988622527, 0.0040028906157288284, 0.003973898189711797, 0.003946046727158919, 0.003919303479360866, 0.0038936339762111714, 0.003869002076994199, 0.0038453700278877423, 0.0038226985259733398, 0.003800946789515797, 0.003780072634244022, 0.003760032555337854, 0.003740781814800538, 0.0037222745338737393, 0.003704463790131664, 0.0036873017188731, 0.0036707396184147366, 0.0036547280588763616, 0.0036392169940380813, 0.0036241558758418214, 0.0036094937711037573, 0.003595179480001054, 0.003581161655895264, 0.0035673889260557927, 0.0035538100128498997, 0.0035403738549706757, 0.0035270297282811182, 0.0035137273658608628, 0.0035004170768518873, 0.0034870498637107183, 0.0034735775374872065, 0.0034599528307632937, 0.003446129507899814, 0.0034320624722546213, 0.003417707870051362, 0.0034030231905949, 0.0033879673625464156, 0.0033725008459887596, 0.003356585720030524, 0.003340185765715133, 0.003323266544019621, 0.003305795468745841, 0.003287741874125244, 0.0032690770769764886, 0.0032497744332734193, 0.0032298093889988975, 0.0032091595251780296, 0.0031878045970020314, 0.0031657265669716357, 0.003142909632006421, 0.0031193402444836763, 0.0030950071271874852, 0.0030699012821657247, 0.0030440159935092143, 0.003017346824083932, 0.002989891606263411, 0.00296165042672467, 0.0029326256053868465, 0.002902821668587525, 0.002872245316607173, 0.0028409053856673517, 0.00280881280454344, 0.00277598054594723, 0.0027424235728491933, 0.002708158779924354, 0.0026732049303192546, 0.0026375825879508684, 0.0026013140455610796], \"yaxis\": \"y\"}],                        {\"barmode\": \"overlay\", \"hovermode\": \"closest\", \"legend\": {\"traceorder\": \"reversed\"}, \"template\": {\"data\": {\"bar\": [{\"error_x\": {\"color\": \"#2a3f5f\"}, \"error_y\": {\"color\": \"#2a3f5f\"}, \"marker\": {\"line\": {\"color\": \"#E5ECF6\", \"width\": 0.5}}, \"type\": \"bar\"}], \"barpolar\": [{\"marker\": {\"line\": {\"color\": \"#E5ECF6\", \"width\": 0.5}}, \"type\": \"barpolar\"}], \"carpet\": [{\"aaxis\": {\"endlinecolor\": \"#2a3f5f\", \"gridcolor\": \"white\", \"linecolor\": \"white\", \"minorgridcolor\": \"white\", \"startlinecolor\": \"#2a3f5f\"}, \"baxis\": {\"endlinecolor\": \"#2a3f5f\", \"gridcolor\": \"white\", \"linecolor\": \"white\", \"minorgridcolor\": \"white\", \"startlinecolor\": \"#2a3f5f\"}, \"type\": \"carpet\"}], \"choropleth\": [{\"colorbar\": {\"outlinewidth\": 0, \"ticks\": \"\"}, \"type\": \"choropleth\"}], \"contour\": [{\"colorbar\": {\"outlinewidth\": 0, \"ticks\": \"\"}, \"colorscale\": [[0.0, \"#0d0887\"], [0.1111111111111111, \"#46039f\"], [0.2222222222222222, \"#7201a8\"], [0.3333333333333333, \"#9c179e\"], [0.4444444444444444, \"#bd3786\"], [0.5555555555555556, \"#d8576b\"], [0.6666666666666666, \"#ed7953\"], [0.7777777777777778, \"#fb9f3a\"], [0.8888888888888888, \"#fdca26\"], [1.0, \"#f0f921\"]], \"type\": \"contour\"}], \"contourcarpet\": [{\"colorbar\": {\"outlinewidth\": 0, \"ticks\": \"\"}, \"type\": \"contourcarpet\"}], \"heatmap\": [{\"colorbar\": {\"outlinewidth\": 0, \"ticks\": \"\"}, \"colorscale\": [[0.0, \"#0d0887\"], [0.1111111111111111, \"#46039f\"], [0.2222222222222222, \"#7201a8\"], [0.3333333333333333, \"#9c179e\"], [0.4444444444444444, \"#bd3786\"], [0.5555555555555556, \"#d8576b\"], [0.6666666666666666, \"#ed7953\"], [0.7777777777777778, \"#fb9f3a\"], [0.8888888888888888, \"#fdca26\"], [1.0, \"#f0f921\"]], \"type\": \"heatmap\"}], \"heatmapgl\": [{\"colorbar\": {\"outlinewidth\": 0, \"ticks\": \"\"}, \"colorscale\": [[0.0, \"#0d0887\"], [0.1111111111111111, \"#46039f\"], [0.2222222222222222, \"#7201a8\"], [0.3333333333333333, \"#9c179e\"], [0.4444444444444444, \"#bd3786\"], [0.5555555555555556, \"#d8576b\"], [0.6666666666666666, \"#ed7953\"], [0.7777777777777778, \"#fb9f3a\"], [0.8888888888888888, \"#fdca26\"], [1.0, \"#f0f921\"]], \"type\": \"heatmapgl\"}], \"histogram\": [{\"marker\": {\"colorbar\": {\"outlinewidth\": 0, \"ticks\": \"\"}}, \"type\": \"histogram\"}], \"histogram2d\": [{\"colorbar\": {\"outlinewidth\": 0, \"ticks\": \"\"}, \"colorscale\": [[0.0, \"#0d0887\"], [0.1111111111111111, \"#46039f\"], [0.2222222222222222, \"#7201a8\"], [0.3333333333333333, \"#9c179e\"], [0.4444444444444444, \"#bd3786\"], [0.5555555555555556, \"#d8576b\"], [0.6666666666666666, \"#ed7953\"], [0.7777777777777778, \"#fb9f3a\"], [0.8888888888888888, \"#fdca26\"], [1.0, \"#f0f921\"]], \"type\": \"histogram2d\"}], \"histogram2dcontour\": [{\"colorbar\": {\"outlinewidth\": 0, \"ticks\": \"\"}, \"colorscale\": [[0.0, \"#0d0887\"], [0.1111111111111111, \"#46039f\"], [0.2222222222222222, \"#7201a8\"], [0.3333333333333333, \"#9c179e\"], [0.4444444444444444, \"#bd3786\"], [0.5555555555555556, \"#d8576b\"], [0.6666666666666666, \"#ed7953\"], [0.7777777777777778, \"#fb9f3a\"], [0.8888888888888888, \"#fdca26\"], [1.0, \"#f0f921\"]], \"type\": \"histogram2dcontour\"}], \"mesh3d\": [{\"colorbar\": {\"outlinewidth\": 0, \"ticks\": \"\"}, \"type\": \"mesh3d\"}], \"parcoords\": [{\"line\": {\"colorbar\": {\"outlinewidth\": 0, \"ticks\": \"\"}}, \"type\": \"parcoords\"}], \"pie\": [{\"automargin\": true, \"type\": \"pie\"}], \"scatter\": [{\"marker\": {\"colorbar\": {\"outlinewidth\": 0, \"ticks\": \"\"}}, \"type\": \"scatter\"}], \"scatter3d\": [{\"line\": {\"colorbar\": {\"outlinewidth\": 0, \"ticks\": \"\"}}, \"marker\": {\"colorbar\": {\"outlinewidth\": 0, \"ticks\": \"\"}}, \"type\": \"scatter3d\"}], \"scattercarpet\": [{\"marker\": {\"colorbar\": {\"outlinewidth\": 0, \"ticks\": \"\"}}, \"type\": \"scattercarpet\"}], \"scattergeo\": [{\"marker\": {\"colorbar\": {\"outlinewidth\": 0, \"ticks\": \"\"}}, \"type\": \"scattergeo\"}], \"scattergl\": [{\"marker\": {\"colorbar\": {\"outlinewidth\": 0, \"ticks\": \"\"}}, \"type\": \"scattergl\"}], \"scattermapbox\": [{\"marker\": {\"colorbar\": {\"outlinewidth\": 0, \"ticks\": \"\"}}, \"type\": \"scattermapbox\"}], \"scatterpolar\": [{\"marker\": {\"colorbar\": {\"outlinewidth\": 0, \"ticks\": \"\"}}, \"type\": \"scatterpolar\"}], \"scatterpolargl\": [{\"marker\": {\"colorbar\": {\"outlinewidth\": 0, \"ticks\": \"\"}}, \"type\": \"scatterpolargl\"}], \"scatterternary\": [{\"marker\": {\"colorbar\": {\"outlinewidth\": 0, \"ticks\": \"\"}}, \"type\": \"scatterternary\"}], \"surface\": [{\"colorbar\": {\"outlinewidth\": 0, \"ticks\": \"\"}, \"colorscale\": [[0.0, \"#0d0887\"], [0.1111111111111111, \"#46039f\"], [0.2222222222222222, \"#7201a8\"], [0.3333333333333333, \"#9c179e\"], [0.4444444444444444, \"#bd3786\"], [0.5555555555555556, \"#d8576b\"], [0.6666666666666666, \"#ed7953\"], [0.7777777777777778, \"#fb9f3a\"], [0.8888888888888888, \"#fdca26\"], [1.0, \"#f0f921\"]], \"type\": \"surface\"}], \"table\": [{\"cells\": {\"fill\": {\"color\": \"#EBF0F8\"}, \"line\": {\"color\": \"white\"}}, \"header\": {\"fill\": {\"color\": \"#C8D4E3\"}, \"line\": {\"color\": \"white\"}}, \"type\": \"table\"}]}, \"layout\": {\"annotationdefaults\": {\"arrowcolor\": \"#2a3f5f\", \"arrowhead\": 0, \"arrowwidth\": 1}, \"autotypenumbers\": \"strict\", \"coloraxis\": {\"colorbar\": {\"outlinewidth\": 0, \"ticks\": \"\"}}, \"colorscale\": {\"diverging\": [[0, \"#8e0152\"], [0.1, \"#c51b7d\"], [0.2, \"#de77ae\"], [0.3, \"#f1b6da\"], [0.4, \"#fde0ef\"], [0.5, \"#f7f7f7\"], [0.6, \"#e6f5d0\"], [0.7, \"#b8e186\"], [0.8, \"#7fbc41\"], [0.9, \"#4d9221\"], [1, \"#276419\"]], \"sequential\": [[0.0, \"#0d0887\"], [0.1111111111111111, \"#46039f\"], [0.2222222222222222, \"#7201a8\"], [0.3333333333333333, \"#9c179e\"], [0.4444444444444444, \"#bd3786\"], [0.5555555555555556, \"#d8576b\"], [0.6666666666666666, \"#ed7953\"], [0.7777777777777778, \"#fb9f3a\"], [0.8888888888888888, \"#fdca26\"], [1.0, \"#f0f921\"]], \"sequentialminus\": [[0.0, \"#0d0887\"], [0.1111111111111111, \"#46039f\"], [0.2222222222222222, \"#7201a8\"], [0.3333333333333333, \"#9c179e\"], [0.4444444444444444, \"#bd3786\"], [0.5555555555555556, \"#d8576b\"], [0.6666666666666666, \"#ed7953\"], [0.7777777777777778, \"#fb9f3a\"], [0.8888888888888888, \"#fdca26\"], [1.0, \"#f0f921\"]]}, \"colorway\": [\"#636efa\", \"#EF553B\", \"#00cc96\", \"#ab63fa\", \"#FFA15A\", \"#19d3f3\", \"#FF6692\", \"#B6E880\", \"#FF97FF\", \"#FECB52\"], \"font\": {\"color\": \"#2a3f5f\"}, \"geo\": {\"bgcolor\": \"white\", \"lakecolor\": \"white\", \"landcolor\": \"#E5ECF6\", \"showlakes\": true, \"showland\": true, \"subunitcolor\": \"white\"}, \"hoverlabel\": {\"align\": \"left\"}, \"hovermode\": \"closest\", \"mapbox\": {\"style\": \"light\"}, \"paper_bgcolor\": \"white\", \"plot_bgcolor\": \"#E5ECF6\", \"polar\": {\"angularaxis\": {\"gridcolor\": \"white\", \"linecolor\": \"white\", \"ticks\": \"\"}, \"bgcolor\": \"#E5ECF6\", \"radialaxis\": {\"gridcolor\": \"white\", \"linecolor\": \"white\", \"ticks\": \"\"}}, \"scene\": {\"xaxis\": {\"backgroundcolor\": \"#E5ECF6\", \"gridcolor\": \"white\", \"gridwidth\": 2, \"linecolor\": \"white\", \"showbackground\": true, \"ticks\": \"\", \"zerolinecolor\": \"white\"}, \"yaxis\": {\"backgroundcolor\": \"#E5ECF6\", \"gridcolor\": \"white\", \"gridwidth\": 2, \"linecolor\": \"white\", \"showbackground\": true, \"ticks\": \"\", \"zerolinecolor\": \"white\"}, \"zaxis\": {\"backgroundcolor\": \"#E5ECF6\", \"gridcolor\": \"white\", \"gridwidth\": 2, \"linecolor\": \"white\", \"showbackground\": true, \"ticks\": \"\", \"zerolinecolor\": \"white\"}}, \"shapedefaults\": {\"line\": {\"color\": \"#2a3f5f\"}}, \"ternary\": {\"aaxis\": {\"gridcolor\": \"white\", \"linecolor\": \"white\", \"ticks\": \"\"}, \"baxis\": {\"gridcolor\": \"white\", \"linecolor\": \"white\", \"ticks\": \"\"}, \"bgcolor\": \"#E5ECF6\", \"caxis\": {\"gridcolor\": \"white\", \"linecolor\": \"white\", \"ticks\": \"\"}}, \"title\": {\"x\": 0.05}, \"xaxis\": {\"automargin\": true, \"gridcolor\": \"white\", \"linecolor\": \"white\", \"ticks\": \"\", \"title\": {\"standoff\": 15}, \"zerolinecolor\": \"white\", \"zerolinewidth\": 2}, \"yaxis\": {\"automargin\": true, \"gridcolor\": \"white\", \"linecolor\": \"white\", \"ticks\": \"\", \"title\": {\"standoff\": 15}, \"zerolinecolor\": \"white\", \"zerolinewidth\": 2}}}, \"title\": {\"text\": \"Error in estimating component masses for 100 injections using the Prediction model\"}, \"xaxis\": {\"anchor\": \"y2\", \"domain\": [0.0, 1.0], \"title\": {\"text\": \"Error(Mo)\"}, \"zeroline\": false}, \"yaxis\": {\"anchor\": \"free\", \"domain\": [0.0, 1], \"position\": 0.0, \"title\": {\"text\": \"Frequency\"}}},                        {\"responsive\": true}                    ).then(function(){\n",
       "                            \n",
       "var gd = document.getElementById('171d04b6-037c-4dac-a341-3854059bde44');\n",
       "var x = new MutationObserver(function (mutations, observer) {{\n",
       "        var display = window.getComputedStyle(gd).display;\n",
       "        if (!display || display === 'none') {{\n",
       "            console.log([gd, 'removed!']);\n",
       "            Plotly.purge(gd);\n",
       "            observer.disconnect();\n",
       "        }}\n",
       "}});\n",
       "\n",
       "// Listen for the removal of the full notebook cells\n",
       "var notebookContainer = gd.closest('#notebook-container');\n",
       "if (notebookContainer) {{\n",
       "    x.observe(notebookContainer, {childList: true});\n",
       "}}\n",
       "\n",
       "// Listen for the clearing of the current output cell\n",
       "var outputEl = gd.closest('.output');\n",
       "if (outputEl) {{\n",
       "    x.observe(outputEl, {childList: true});\n",
       "}}\n",
       "\n",
       "                        })                };                });            </script>        </div>"
      ]
     },
     "metadata": {},
     "output_type": "display_data"
    }
   ],
   "source": [
    "hist_data1 = [error_mass1,error_mass2]\n",
    "\n",
    "group_labels = ['Mass1','Mass2']\n",
    "colors = [ '#A56CC1', '#63F5EF']\n",
    "# Create distplot with custom bin_size\n",
    "fig = ff.create_distplot(hist_data1, group_labels,colors=colors,show_rug=False)\n",
    "\n",
    "fig.update_layout(title='Error in estimating component masses for 100 injections using the Prediction model',xaxis_title=\"Error(Mo)\",yaxis_title=\"Frequency\")\n",
    "fig.show()"
   ]
  },
  {
   "cell_type": "code",
   "execution_count": 39,
   "id": "5c77596f",
   "metadata": {},
   "outputs": [
    {
     "data": {
      "application/vnd.plotly.v1+json": {
       "config": {
        "plotlyServerURL": "https://plot.ly"
       },
       "data": [
        {
         "mode": "lines",
         "name": "x=y",
         "type": "scatter",
         "x": [
          40,
          50,
          60
         ],
         "y": [
          40,
          50,
          60
         ]
        },
        {
         "mode": "markers",
         "name": "NN Mass 1",
         "type": "scatter",
         "x": [
          51.77487073688654,
          42.85837975770976,
          48.04403651036412,
          42.6821790633701,
          57.9270368478674,
          49.46228347155668,
          55.73366558686861,
          51.54087282302831,
          54.76809287653866,
          46.73120038611706,
          42.33203037581816,
          43.32299226200775,
          46.04306456090548,
          49.841636155849976,
          40.51537055414917,
          53.54488928441549,
          44.11832421046904,
          53.74651657445399,
          56.68247352164356,
          53.62674221111702,
          56.43186579990768,
          45.00625217713919,
          59.05927372431438,
          58.094681306221446,
          48.872452638280144,
          48.46975724573227,
          58.7047011080582,
          51.96553708433606,
          47.91320177403355,
          53.7025232546366,
          46.97147298931286,
          43.33455633906258,
          40.50278243916792,
          55.76661626572624,
          47.09420237853792,
          53.33085566513114,
          52.19190896009548,
          54.32012548700772,
          54.797249004004655,
          59.50531285409265,
          42.50637248797808,
          57.89484208312007,
          41.953853724630505,
          54.7817251272069,
          56.24278611318577,
          48.38406507260876,
          58.240382859953854,
          58.85215608103363,
          59.92505691044618,
          44.17127241128927,
          48.82362708446964,
          47.06532704544304,
          42.83673087984671,
          48.65742878345621,
          50.83347943454095,
          42.10009947653299,
          47.86945733386351,
          46.62999276832164,
          43.04397144204165,
          59.660432029554215,
          54.26274176649992,
          53.87652763599795,
          51.826801050216886,
          59.28270246350493,
          44.69986031221524,
          57.63036422913199,
          44.83336040747064,
          47.65190699364876,
          56.33462795316326,
          42.86670484685013,
          42.52871844595372,
          55.92710110316528,
          58.46270610815221,
          53.64838535166162,
          41.855174324883095,
          45.655660073275286,
          45.28905330921543,
          43.93231566046504,
          49.855984319875205,
          55.834749771471394,
          51.25430420573733,
          47.83178171253465,
          52.34967246115333,
          53.34542546829317,
          41.49793649074658,
          51.39343836746781,
          51.049828278661714,
          56.35625935299537,
          43.21451398638533,
          58.991204720358255,
          44.615220454970206,
          55.55769173634861,
          43.86504199290077,
          44.52423333167295,
          56.581129418123865,
          44.97353019612937,
          46.22275842562597,
          40.72950424412701,
          47.369201415914624,
          52.704082870673936
         ],
         "y": [
          45.15340805053711,
          47.2061653137207,
          41.936676025390625,
          61.05392074584961,
          38.51919174194336,
          47.981590270996094,
          45.15621566772461,
          46.77500534057617,
          53.40557861328125,
          51.90846633911133,
          46.40232467651367,
          52.79828643798828,
          46.057071685791016,
          50.934871673583984,
          59.56111526489258,
          44.766849517822266,
          48.91322326660156,
          64.37069702148438,
          52.49720764160156,
          53.6963996887207,
          52.6109619140625,
          53.8209114074707,
          55.28374481201172,
          53.69916534423828,
          58.47314453125,
          44.431888580322266,
          47.48793029785156,
          44.130859375,
          47.40454864501953,
          48.75111770629883,
          46.11632537841797,
          53.028099060058594,
          44.224098205566406,
          45.13478088378906,
          47.61037063598633,
          50.280879974365234,
          49.70946502685547,
          47.685707092285156,
          50.660987854003906,
          46.86138153076172,
          51.88463592529297,
          63.05839157104492,
          64.74329376220703,
          51.981597900390625,
          61.88248062133789,
          48.07587432861328,
          46.373687744140625,
          52.663238525390625,
          67.78491973876953,
          49.277286529541016,
          55.05783462524414,
          52.64284896850586,
          50.711463928222656,
          54.441680908203125,
          42.48038864135742,
          46.945438385009766,
          49.12749099731445,
          48.66950607299805,
          58.769012451171875,
          51.7845344543457,
          67.52312469482422,
          74.11226654052734,
          54.73324203491211,
          51.82954406738281,
          60.92336654663086,
          49.03249740600586,
          48.31985092163086,
          59.19292068481445,
          46.615203857421875,
          50.49787521362305,
          55.093326568603516,
          51.519447326660156,
          49.09175491333008,
          48.773494720458984,
          46.41510009765625,
          51.88979721069336,
          25.445165634155273,
          60.86286163330078,
          73.71021270751953,
          47.348453521728516,
          51.623321533203125,
          59.112876892089844,
          54.054771423339844,
          52.56606674194336,
          63.63658905029297,
          31.96529769897461,
          57.708194732666016,
          47.52568435668945,
          48.89497375488281,
          55.19489669799805,
          46.81257247924805,
          64.7105484008789,
          46.20766830444336,
          64.52438354492188,
          51.266151428222656,
          51.749671936035156,
          59.720401763916016,
          50.517784118652344,
          56.27897262573242,
          47.60523223876953
         ]
        },
        {
         "mode": "markers",
         "name": "NN Mass 2",
         "type": "scatter",
         "x": [
          43.80904320426608,
          41.47459259640975,
          46.39093723430458,
          40.42561800615659,
          56.47602888390979,
          48.07349147719194,
          47.477957503566,
          48.75863856026974,
          46.14433794265464,
          43.67213458664144,
          40.31901474780146,
          43.2687434320201,
          43.80128825506519,
          41.89343885167793,
          40.3083383740163,
          47.4649152558018,
          42.62363967687804,
          41.506552578988845,
          40.224188361784485,
          43.63318048741883,
          55.65358047706135,
          42.3367942707001,
          44.33613510057917,
          55.93697677816995,
          43.4508103478599,
          46.38717836037248,
          40.513456703369656,
          44.71989347967152,
          40.441733146565305,
          43.575940700095735,
          43.45981697779847,
          41.48987417376147,
          40.15546313963537,
          50.04416591151737,
          44.00758767380292,
          40.602639030112165,
          43.04552976899307,
          46.30752585847278,
          51.9233118638096,
          46.74658609374686,
          40.60105960509821,
          40.26348861097853,
          40.92059513266541,
          43.92970117020571,
          47.22446261754753,
          46.4383561468748,
          41.75108955186336,
          55.75881462972918,
          58.785084865029134,
          43.204257129315046,
          43.62266835802781,
          41.56364885032394,
          42.10688839926341,
          44.48730631941661,
          45.7554558950467,
          40.6175626421047,
          46.48706521293381,
          43.05440379385734,
          40.99816981532148,
          56.70309365226363,
          50.051139020526605,
          41.899158046357066,
          47.75784127759077,
          50.68414468796064,
          42.95448611932977,
          46.00006897987269,
          42.67562061132815,
          41.50244374273431,
          41.06737957030763,
          41.31152196167323,
          41.52055102398639,
          48.28045934291456,
          52.1228139019136,
          47.09278383733486,
          40.4378965411,
          40.21606498167161,
          42.11098177264832,
          41.68566936356872,
          48.550026535511705,
          40.90592051224418,
          49.83947631606196,
          46.64874427696114,
          45.13319635662639,
          51.394725540912624,
          40.70066973227009,
          40.0504659444473,
          40.83900738976493,
          45.78985767608284,
          40.1117085163144,
          49.116794912448746,
          41.00573831715545,
          53.64783222292813,
          43.477323353769336,
          43.73612272130235,
          40.76462971566882,
          43.69733778785483,
          46.11131082669104,
          40.4721145359844,
          46.70886439041969,
          51.62465787839308
         ],
         "y": [
          41.954872131347656,
          40.34694290161133,
          26.118247985839844,
          38.2835807800293,
          30.00289535522461,
          44.1506233215332,
          35.5689582824707,
          43.685298919677734,
          46.71223449707031,
          47.509098052978516,
          40.87984085083008,
          46.08380889892578,
          42.61696243286133,
          45.12654495239258,
          49.72864532470703,
          35.42491912841797,
          42.39568328857422,
          27.052024841308594,
          44.80415725708008,
          41.679874420166016,
          43.84269714355469,
          46.69346237182617,
          48.45786666870117,
          46.984619140625,
          40.84794235229492,
          40.8912353515625,
          42.21417236328125,
          41.149314880371094,
          43.79345703125,
          42.93048095703125,
          42.613059997558594,
          44.6906623840332,
          32.726409912109375,
          41.37146759033203,
          39.33988952636719,
          43.262935638427734,
          40.101043701171875,
          39.58026885986328,
          44.132240295410156,
          41.16759490966797,
          44.2935905456543,
          38.909481048583984,
          40.810638427734375,
          45.85897445678711,
          46.897396087646484,
          36.31037902832031,
          39.15827178955078,
          45.405216217041016,
          44.77396011352539,
          40.53160095214844,
          50.283409118652344,
          41.2315673828125,
          45.712677001953125,
          48.403419494628906,
          33.554779052734375,
          41.55549240112305,
          43.872276306152344,
          41.7733154296875,
          46.91498565673828,
          29.785263061523438,
          58.223690032958984,
          49.92465591430664,
          50.115150451660156,
          47.85717010498047,
          48.38080596923828,
          43.167236328125,
          41.95208740234375,
          37.099021911621094,
          40.813873291015625,
          43.39338684082031,
          46.54579544067383,
          42.724769592285156,
          43.36933898925781,
          42.1002311706543,
          40.910972595214844,
          42.945865631103516,
          20.125934600830078,
          52.5454216003418,
          46.69779586791992,
          42.14493942260742,
          41.84299850463867,
          40.25995635986328,
          44.96488571166992,
          44.88362121582031,
          41.342227935791016,
          23.499996185302734,
          50.3491325378418,
          36.637027740478516,
          38.121368408203125,
          47.8584098815918,
          37.57033920288086,
          54.085636138916016,
          43.07029724121094,
          55.61136245727539,
          47.329307556152344,
          44.9011116027832,
          40.65788650512695,
          40.408382415771484,
          41.82419967651367,
          44.176822662353516
         ]
        },
        {
         "mode": "markers",
         "name": "PSO Mass 1",
         "type": "scatter",
         "x": [
          51.77487073688654,
          42.85837975770976,
          48.04403651036412,
          42.6821790633701,
          57.9270368478674,
          49.46228347155668,
          55.73366558686861,
          51.54087282302831,
          54.76809287653866,
          46.73120038611706,
          42.33203037581816,
          43.32299226200775,
          46.04306456090548,
          49.841636155849976,
          40.51537055414917,
          53.54488928441549,
          44.11832421046904,
          53.74651657445399,
          56.68247352164356,
          53.62674221111702,
          56.43186579990768,
          45.00625217713919,
          59.05927372431438,
          58.094681306221446,
          48.872452638280144,
          48.46975724573227,
          58.7047011080582,
          51.96553708433606,
          47.91320177403355,
          53.7025232546366,
          46.97147298931286,
          43.33455633906258,
          40.50278243916792,
          55.76661626572624,
          47.09420237853792,
          53.33085566513114,
          52.19190896009548,
          54.32012548700772,
          54.797249004004655,
          59.50531285409265,
          42.50637248797808,
          57.89484208312007,
          41.953853724630505,
          54.7817251272069,
          56.24278611318577,
          48.38406507260876,
          58.240382859953854,
          58.85215608103363,
          59.92505691044618,
          44.17127241128927,
          48.82362708446964,
          47.06532704544304,
          42.83673087984671,
          48.65742878345621,
          50.83347943454095,
          42.10009947653299,
          47.86945733386351,
          46.62999276832164,
          43.04397144204165,
          59.660432029554215,
          54.26274176649992,
          53.87652763599795,
          51.826801050216886,
          59.28270246350493,
          44.69986031221524,
          57.63036422913199,
          44.83336040747064,
          47.65190699364876,
          56.33462795316326,
          42.86670484685013,
          42.52871844595372,
          55.92710110316528,
          58.46270610815221,
          53.64838535166162,
          41.855174324883095,
          45.655660073275286,
          45.28905330921543,
          43.93231566046504,
          49.855984319875205,
          55.834749771471394,
          51.25430420573733,
          47.83178171253465,
          52.34967246115333,
          53.34542546829317,
          41.49793649074658,
          51.39343836746781,
          51.049828278661714,
          56.35625935299537,
          43.21451398638533,
          58.991204720358255,
          44.615220454970206,
          55.55769173634861,
          43.86504199290077,
          44.52423333167295,
          56.581129418123865,
          44.97353019612937,
          46.22275842562597,
          40.72950424412701,
          47.369201415914624,
          52.704082870673936
         ],
         "y": [
          59.00526570499476,
          48.74483031946824,
          55.28071108139276,
          47.84035537307819,
          61.43191511163529,
          60.14688558074058,
          59.854356695515,
          60.50899726195573,
          62.4603473700404,
          62.97711639843487,
          54.04528246590905,
          47.57554497901511,
          50.30735542581362,
          60.19577329701695,
          50.419251251503525,
          59.71098232805178,
          50.29996618416225,
          62.975105048406384,
          60.588302176391394,
          58.95402265027461,
          66.03411908820648,
          54.87846423696962,
          59.848698290103584,
          66.10161208861489,
          53.88353749058019,
          60.86748485043857,
          59.70831276401383,
          57.48560836866682,
          61.68805393918378,
          59.993336020382586,
          29.65937158425651,
          52.19811343939375,
          49.04256349121286,
          69.61562525547171,
          52.71344882287904,
          58.079131497016704,
          55.0085134923597,
          57.48393794902517,
          64.57974887344439,
          62.32097624643234,
          49.74740531180471,
          60.096664561161454,
          51.58662473378444,
          58.49091984671049,
          61.69754366123116,
          54.8040733172668,
          62.21749907992067,
          70.15562911123641,
          66.61358092644497,
          56.47969992591865,
          54.696561404278505,
          53.19467109197781,
          53.06215372487128,
          50.93589256582163,
          55.59603602137857,
          55.73731762200098,
          55.37327509256344,
          51.998608269982086,
          51.97124495209039,
          69.58382169981358,
          59.4870993041705,
          67.7309060887275,
          61.72112667243831,
          67.64628278085225,
          59.61635389438627,
          64.13195801553266,
          54.59963489988432,
          56.163129944520456,
          63.88255424166044,
          49.72226673832014,
          52.57154886463773,
          57.53927003165713,
          62.724077714894605,
          55.79645901720899,
          54.32945287485159,
          51.36628410499065,
          56.02432156911124,
          50.59648862688172,
          54.414276957373545,
          53.0915172890707,
          64.65617022983467,
          60.029073090525074,
          65.65789256049717,
          58.36404038817236,
          50.67563089656765,
          56.70198459966352,
          54.633206644700834,
          57.60277410795968,
          49.32159112948278,
          61.251168263395385,
          50.2616874558448,
          62.03584007191096,
          53.01247990693609,
          57.95401217823582,
          62.21749693943878,
          55.52663344841043,
          59.12297085658119,
          54.88070728341177,
          59.72630930376798,
          62.24653976338121
         ]
        },
        {
         "mode": "markers",
         "name": "PSO Mass 2",
         "type": "scatter",
         "x": [
          43.80904320426608,
          41.47459259640975,
          46.39093723430458,
          40.42561800615659,
          56.47602888390979,
          48.07349147719194,
          47.477957503566,
          48.75863856026974,
          46.14433794265464,
          43.67213458664144,
          40.31901474780146,
          43.2687434320201,
          43.80128825506519,
          41.89343885167793,
          40.3083383740163,
          47.4649152558018,
          42.62363967687804,
          41.506552578988845,
          40.224188361784485,
          43.63318048741883,
          55.65358047706135,
          42.3367942707001,
          44.33613510057917,
          55.93697677816995,
          43.4508103478599,
          46.38717836037248,
          40.513456703369656,
          44.71989347967152,
          40.441733146565305,
          43.575940700095735,
          43.45981697779847,
          41.48987417376147,
          40.15546313963537,
          50.04416591151737,
          44.00758767380292,
          40.602639030112165,
          43.04552976899307,
          46.30752585847278,
          51.9233118638096,
          46.74658609374686,
          40.60105960509821,
          40.26348861097853,
          40.92059513266541,
          43.92970117020571,
          47.22446261754753,
          46.4383561468748,
          41.75108955186336,
          55.75881462972918,
          58.785084865029134,
          43.204257129315046,
          43.62266835802781,
          41.56364885032394,
          42.10688839926341,
          44.48730631941661,
          45.7554558950467,
          40.6175626421047,
          46.48706521293381,
          43.05440379385734,
          40.99816981532148,
          56.70309365226363,
          50.051139020526605,
          41.899158046357066,
          47.75784127759077,
          50.68414468796064,
          42.95448611932977,
          46.00006897987269,
          42.67562061132815,
          41.50244374273431,
          41.06737957030763,
          41.31152196167323,
          41.52055102398639,
          48.28045934291456,
          52.1228139019136,
          47.09278383733486,
          40.4378965411,
          40.21606498167161,
          42.11098177264832,
          41.68566936356872,
          48.550026535511705,
          40.90592051224418,
          49.83947631606196,
          46.64874427696114,
          45.13319635662639,
          51.394725540912624,
          40.70066973227009,
          40.0504659444473,
          40.83900738976493,
          45.78985767608284,
          40.1117085163144,
          49.116794912448746,
          41.00573831715545,
          53.64783222292813,
          43.477323353769336,
          43.73612272130235,
          40.76462971566882,
          43.69733778785483,
          46.11131082669104,
          40.4721145359844,
          46.70886439041969,
          51.62465787839308
         ],
         "y": [
          38.10130420981802,
          36.58252306518917,
          43.49861335476995,
          36.07545579444067,
          52.40802017845133,
          38.46911425405104,
          48.46263458169851,
          40.79679973460414,
          41.85014240876478,
          30.58620902425902,
          30.47400026197444,
          38.07494854520996,
          39.478892742187554,
          33.691018980138026,
          31.921400786666744,
          43.9045948465302,
          36.79436334734949,
          34.62169047226092,
          37.39786548917817,
          39.7880728705407,
          47.796490155574936,
          33.80460667142045,
          42.917332291618735,
          48.70841534844752,
          38.63782627395487,
          36.96576784627501,
          40.18121194607554,
          39.84445811185278,
          29.947282423908863,
          38.74722495146323,
          24.61804177506422,
          34.70213047529678,
          32.78221123358079,
          38.21371542426041,
          38.13851450052326,
          36.36250076675891,
          40.17147724485023,
          43.03213808753623,
          44.954988227291466,
          43.38220547107,
          34.42426919917234,
          39.02212029124573,
          32.7007571367011,
          41.07034314549645,
          41.285255425737645,
          41.0896635586308,
          38.73644605868504,
          46.91386261249187,
          51.95087607079739,
          32.46226228258326,
          37.46319028034639,
          35.87988164624637,
          33.33877145358824,
          42.12769305594238,
          41.83101236427051,
          29.78515166396784,
          39.15173196415925,
          38.57082881911828,
          33.63050536316145,
          49.78860750386523,
          45.14590089600404,
          31.99368897933496,
          39.15983134835849,
          43.03734736601699,
          29.93425355257005,
          39.35984354033084,
          34.54836806585588,
          34.217137370898776,
          33.11069913717447,
          35.54830947939018,
          32.84306622237519,
          47.50419273604756,
          48.01667603727071,
          44.6537117836924,
          29.890258779068244,
          35.45185076168673,
          33.066266861281434,
          36.62668685891715,
          41.31661112469578,
          42.246110804203134,
          39.06780532880244,
          34.65893118363664,
          35.2745335110517,
          46.93366931166129,
          33.0974741014917,
          34.76162886937473,
          38.311922234705335,
          44.70432403963961,
          34.67310103827376,
          46.85614077112599,
          36.10012613749319,
          48.52891499521661,
          35.02888337223195,
          33.81807602330548,
          36.192898903189096,
          34.2664585124658,
          34.310494758659004,
          28.16304442353882,
          36.136221791067534,
          42.70258350947044
         ]
        }
       ],
       "layout": {
        "template": {
         "data": {
          "bar": [
           {
            "error_x": {
             "color": "#2a3f5f"
            },
            "error_y": {
             "color": "#2a3f5f"
            },
            "marker": {
             "line": {
              "color": "#E5ECF6",
              "width": 0.5
             }
            },
            "type": "bar"
           }
          ],
          "barpolar": [
           {
            "marker": {
             "line": {
              "color": "#E5ECF6",
              "width": 0.5
             }
            },
            "type": "barpolar"
           }
          ],
          "carpet": [
           {
            "aaxis": {
             "endlinecolor": "#2a3f5f",
             "gridcolor": "white",
             "linecolor": "white",
             "minorgridcolor": "white",
             "startlinecolor": "#2a3f5f"
            },
            "baxis": {
             "endlinecolor": "#2a3f5f",
             "gridcolor": "white",
             "linecolor": "white",
             "minorgridcolor": "white",
             "startlinecolor": "#2a3f5f"
            },
            "type": "carpet"
           }
          ],
          "choropleth": [
           {
            "colorbar": {
             "outlinewidth": 0,
             "ticks": ""
            },
            "type": "choropleth"
           }
          ],
          "contour": [
           {
            "colorbar": {
             "outlinewidth": 0,
             "ticks": ""
            },
            "colorscale": [
             [
              0,
              "#0d0887"
             ],
             [
              0.1111111111111111,
              "#46039f"
             ],
             [
              0.2222222222222222,
              "#7201a8"
             ],
             [
              0.3333333333333333,
              "#9c179e"
             ],
             [
              0.4444444444444444,
              "#bd3786"
             ],
             [
              0.5555555555555556,
              "#d8576b"
             ],
             [
              0.6666666666666666,
              "#ed7953"
             ],
             [
              0.7777777777777778,
              "#fb9f3a"
             ],
             [
              0.8888888888888888,
              "#fdca26"
             ],
             [
              1,
              "#f0f921"
             ]
            ],
            "type": "contour"
           }
          ],
          "contourcarpet": [
           {
            "colorbar": {
             "outlinewidth": 0,
             "ticks": ""
            },
            "type": "contourcarpet"
           }
          ],
          "heatmap": [
           {
            "colorbar": {
             "outlinewidth": 0,
             "ticks": ""
            },
            "colorscale": [
             [
              0,
              "#0d0887"
             ],
             [
              0.1111111111111111,
              "#46039f"
             ],
             [
              0.2222222222222222,
              "#7201a8"
             ],
             [
              0.3333333333333333,
              "#9c179e"
             ],
             [
              0.4444444444444444,
              "#bd3786"
             ],
             [
              0.5555555555555556,
              "#d8576b"
             ],
             [
              0.6666666666666666,
              "#ed7953"
             ],
             [
              0.7777777777777778,
              "#fb9f3a"
             ],
             [
              0.8888888888888888,
              "#fdca26"
             ],
             [
              1,
              "#f0f921"
             ]
            ],
            "type": "heatmap"
           }
          ],
          "heatmapgl": [
           {
            "colorbar": {
             "outlinewidth": 0,
             "ticks": ""
            },
            "colorscale": [
             [
              0,
              "#0d0887"
             ],
             [
              0.1111111111111111,
              "#46039f"
             ],
             [
              0.2222222222222222,
              "#7201a8"
             ],
             [
              0.3333333333333333,
              "#9c179e"
             ],
             [
              0.4444444444444444,
              "#bd3786"
             ],
             [
              0.5555555555555556,
              "#d8576b"
             ],
             [
              0.6666666666666666,
              "#ed7953"
             ],
             [
              0.7777777777777778,
              "#fb9f3a"
             ],
             [
              0.8888888888888888,
              "#fdca26"
             ],
             [
              1,
              "#f0f921"
             ]
            ],
            "type": "heatmapgl"
           }
          ],
          "histogram": [
           {
            "marker": {
             "colorbar": {
              "outlinewidth": 0,
              "ticks": ""
             }
            },
            "type": "histogram"
           }
          ],
          "histogram2d": [
           {
            "colorbar": {
             "outlinewidth": 0,
             "ticks": ""
            },
            "colorscale": [
             [
              0,
              "#0d0887"
             ],
             [
              0.1111111111111111,
              "#46039f"
             ],
             [
              0.2222222222222222,
              "#7201a8"
             ],
             [
              0.3333333333333333,
              "#9c179e"
             ],
             [
              0.4444444444444444,
              "#bd3786"
             ],
             [
              0.5555555555555556,
              "#d8576b"
             ],
             [
              0.6666666666666666,
              "#ed7953"
             ],
             [
              0.7777777777777778,
              "#fb9f3a"
             ],
             [
              0.8888888888888888,
              "#fdca26"
             ],
             [
              1,
              "#f0f921"
             ]
            ],
            "type": "histogram2d"
           }
          ],
          "histogram2dcontour": [
           {
            "colorbar": {
             "outlinewidth": 0,
             "ticks": ""
            },
            "colorscale": [
             [
              0,
              "#0d0887"
             ],
             [
              0.1111111111111111,
              "#46039f"
             ],
             [
              0.2222222222222222,
              "#7201a8"
             ],
             [
              0.3333333333333333,
              "#9c179e"
             ],
             [
              0.4444444444444444,
              "#bd3786"
             ],
             [
              0.5555555555555556,
              "#d8576b"
             ],
             [
              0.6666666666666666,
              "#ed7953"
             ],
             [
              0.7777777777777778,
              "#fb9f3a"
             ],
             [
              0.8888888888888888,
              "#fdca26"
             ],
             [
              1,
              "#f0f921"
             ]
            ],
            "type": "histogram2dcontour"
           }
          ],
          "mesh3d": [
           {
            "colorbar": {
             "outlinewidth": 0,
             "ticks": ""
            },
            "type": "mesh3d"
           }
          ],
          "parcoords": [
           {
            "line": {
             "colorbar": {
              "outlinewidth": 0,
              "ticks": ""
             }
            },
            "type": "parcoords"
           }
          ],
          "pie": [
           {
            "automargin": true,
            "type": "pie"
           }
          ],
          "scatter": [
           {
            "marker": {
             "colorbar": {
              "outlinewidth": 0,
              "ticks": ""
             }
            },
            "type": "scatter"
           }
          ],
          "scatter3d": [
           {
            "line": {
             "colorbar": {
              "outlinewidth": 0,
              "ticks": ""
             }
            },
            "marker": {
             "colorbar": {
              "outlinewidth": 0,
              "ticks": ""
             }
            },
            "type": "scatter3d"
           }
          ],
          "scattercarpet": [
           {
            "marker": {
             "colorbar": {
              "outlinewidth": 0,
              "ticks": ""
             }
            },
            "type": "scattercarpet"
           }
          ],
          "scattergeo": [
           {
            "marker": {
             "colorbar": {
              "outlinewidth": 0,
              "ticks": ""
             }
            },
            "type": "scattergeo"
           }
          ],
          "scattergl": [
           {
            "marker": {
             "colorbar": {
              "outlinewidth": 0,
              "ticks": ""
             }
            },
            "type": "scattergl"
           }
          ],
          "scattermapbox": [
           {
            "marker": {
             "colorbar": {
              "outlinewidth": 0,
              "ticks": ""
             }
            },
            "type": "scattermapbox"
           }
          ],
          "scatterpolar": [
           {
            "marker": {
             "colorbar": {
              "outlinewidth": 0,
              "ticks": ""
             }
            },
            "type": "scatterpolar"
           }
          ],
          "scatterpolargl": [
           {
            "marker": {
             "colorbar": {
              "outlinewidth": 0,
              "ticks": ""
             }
            },
            "type": "scatterpolargl"
           }
          ],
          "scatterternary": [
           {
            "marker": {
             "colorbar": {
              "outlinewidth": 0,
              "ticks": ""
             }
            },
            "type": "scatterternary"
           }
          ],
          "surface": [
           {
            "colorbar": {
             "outlinewidth": 0,
             "ticks": ""
            },
            "colorscale": [
             [
              0,
              "#0d0887"
             ],
             [
              0.1111111111111111,
              "#46039f"
             ],
             [
              0.2222222222222222,
              "#7201a8"
             ],
             [
              0.3333333333333333,
              "#9c179e"
             ],
             [
              0.4444444444444444,
              "#bd3786"
             ],
             [
              0.5555555555555556,
              "#d8576b"
             ],
             [
              0.6666666666666666,
              "#ed7953"
             ],
             [
              0.7777777777777778,
              "#fb9f3a"
             ],
             [
              0.8888888888888888,
              "#fdca26"
             ],
             [
              1,
              "#f0f921"
             ]
            ],
            "type": "surface"
           }
          ],
          "table": [
           {
            "cells": {
             "fill": {
              "color": "#EBF0F8"
             },
             "line": {
              "color": "white"
             }
            },
            "header": {
             "fill": {
              "color": "#C8D4E3"
             },
             "line": {
              "color": "white"
             }
            },
            "type": "table"
           }
          ]
         },
         "layout": {
          "annotationdefaults": {
           "arrowcolor": "#2a3f5f",
           "arrowhead": 0,
           "arrowwidth": 1
          },
          "autotypenumbers": "strict",
          "coloraxis": {
           "colorbar": {
            "outlinewidth": 0,
            "ticks": ""
           }
          },
          "colorscale": {
           "diverging": [
            [
             0,
             "#8e0152"
            ],
            [
             0.1,
             "#c51b7d"
            ],
            [
             0.2,
             "#de77ae"
            ],
            [
             0.3,
             "#f1b6da"
            ],
            [
             0.4,
             "#fde0ef"
            ],
            [
             0.5,
             "#f7f7f7"
            ],
            [
             0.6,
             "#e6f5d0"
            ],
            [
             0.7,
             "#b8e186"
            ],
            [
             0.8,
             "#7fbc41"
            ],
            [
             0.9,
             "#4d9221"
            ],
            [
             1,
             "#276419"
            ]
           ],
           "sequential": [
            [
             0,
             "#0d0887"
            ],
            [
             0.1111111111111111,
             "#46039f"
            ],
            [
             0.2222222222222222,
             "#7201a8"
            ],
            [
             0.3333333333333333,
             "#9c179e"
            ],
            [
             0.4444444444444444,
             "#bd3786"
            ],
            [
             0.5555555555555556,
             "#d8576b"
            ],
            [
             0.6666666666666666,
             "#ed7953"
            ],
            [
             0.7777777777777778,
             "#fb9f3a"
            ],
            [
             0.8888888888888888,
             "#fdca26"
            ],
            [
             1,
             "#f0f921"
            ]
           ],
           "sequentialminus": [
            [
             0,
             "#0d0887"
            ],
            [
             0.1111111111111111,
             "#46039f"
            ],
            [
             0.2222222222222222,
             "#7201a8"
            ],
            [
             0.3333333333333333,
             "#9c179e"
            ],
            [
             0.4444444444444444,
             "#bd3786"
            ],
            [
             0.5555555555555556,
             "#d8576b"
            ],
            [
             0.6666666666666666,
             "#ed7953"
            ],
            [
             0.7777777777777778,
             "#fb9f3a"
            ],
            [
             0.8888888888888888,
             "#fdca26"
            ],
            [
             1,
             "#f0f921"
            ]
           ]
          },
          "colorway": [
           "#636efa",
           "#EF553B",
           "#00cc96",
           "#ab63fa",
           "#FFA15A",
           "#19d3f3",
           "#FF6692",
           "#B6E880",
           "#FF97FF",
           "#FECB52"
          ],
          "font": {
           "color": "#2a3f5f"
          },
          "geo": {
           "bgcolor": "white",
           "lakecolor": "white",
           "landcolor": "#E5ECF6",
           "showlakes": true,
           "showland": true,
           "subunitcolor": "white"
          },
          "hoverlabel": {
           "align": "left"
          },
          "hovermode": "closest",
          "mapbox": {
           "style": "light"
          },
          "paper_bgcolor": "white",
          "plot_bgcolor": "#E5ECF6",
          "polar": {
           "angularaxis": {
            "gridcolor": "white",
            "linecolor": "white",
            "ticks": ""
           },
           "bgcolor": "#E5ECF6",
           "radialaxis": {
            "gridcolor": "white",
            "linecolor": "white",
            "ticks": ""
           }
          },
          "scene": {
           "xaxis": {
            "backgroundcolor": "#E5ECF6",
            "gridcolor": "white",
            "gridwidth": 2,
            "linecolor": "white",
            "showbackground": true,
            "ticks": "",
            "zerolinecolor": "white"
           },
           "yaxis": {
            "backgroundcolor": "#E5ECF6",
            "gridcolor": "white",
            "gridwidth": 2,
            "linecolor": "white",
            "showbackground": true,
            "ticks": "",
            "zerolinecolor": "white"
           },
           "zaxis": {
            "backgroundcolor": "#E5ECF6",
            "gridcolor": "white",
            "gridwidth": 2,
            "linecolor": "white",
            "showbackground": true,
            "ticks": "",
            "zerolinecolor": "white"
           }
          },
          "shapedefaults": {
           "line": {
            "color": "#2a3f5f"
           }
          },
          "ternary": {
           "aaxis": {
            "gridcolor": "white",
            "linecolor": "white",
            "ticks": ""
           },
           "baxis": {
            "gridcolor": "white",
            "linecolor": "white",
            "ticks": ""
           },
           "bgcolor": "#E5ECF6",
           "caxis": {
            "gridcolor": "white",
            "linecolor": "white",
            "ticks": ""
           }
          },
          "title": {
           "x": 0.05
          },
          "xaxis": {
           "automargin": true,
           "gridcolor": "white",
           "linecolor": "white",
           "ticks": "",
           "title": {
            "standoff": 15
           },
           "zerolinecolor": "white",
           "zerolinewidth": 2
          },
          "yaxis": {
           "automargin": true,
           "gridcolor": "white",
           "linecolor": "white",
           "ticks": "",
           "title": {
            "standoff": 15
           },
           "zerolinecolor": "white",
           "zerolinewidth": 2
          }
         }
        },
        "title": {
         "text": "Injected versus Estimated Component Masses predicted by the model"
        },
        "xaxis": {
         "title": {
          "text": "Injected Mass (Mo)"
         }
        },
        "yaxis": {
         "title": {
          "text": "Estimated Mass (Mo)"
         }
        }
       }
      },
      "text/html": [
       "<div>                            <div id=\"00f0b5dd-7d5a-4d03-b6d5-d819116c848f\" class=\"plotly-graph-div\" style=\"height:525px; width:100%;\"></div>            <script type=\"text/javascript\">                require([\"plotly\"], function(Plotly) {                    window.PLOTLYENV=window.PLOTLYENV || {};                                    if (document.getElementById(\"00f0b5dd-7d5a-4d03-b6d5-d819116c848f\")) {                    Plotly.newPlot(                        \"00f0b5dd-7d5a-4d03-b6d5-d819116c848f\",                        [{\"mode\": \"lines\", \"name\": \"x=y\", \"type\": \"scatter\", \"x\": [40, 50, 60], \"y\": [40, 50, 60]}, {\"mode\": \"markers\", \"name\": \"NN Mass 1\", \"type\": \"scatter\", \"x\": [51.77487073688654, 42.85837975770976, 48.04403651036412, 42.6821790633701, 57.9270368478674, 49.46228347155668, 55.73366558686861, 51.54087282302831, 54.76809287653866, 46.73120038611706, 42.33203037581816, 43.32299226200775, 46.04306456090548, 49.841636155849976, 40.51537055414917, 53.54488928441549, 44.11832421046904, 53.74651657445399, 56.68247352164356, 53.62674221111702, 56.43186579990768, 45.00625217713919, 59.05927372431438, 58.094681306221446, 48.872452638280144, 48.46975724573227, 58.7047011080582, 51.96553708433606, 47.91320177403355, 53.7025232546366, 46.97147298931286, 43.33455633906258, 40.50278243916792, 55.76661626572624, 47.09420237853792, 53.33085566513114, 52.19190896009548, 54.32012548700772, 54.797249004004655, 59.50531285409265, 42.50637248797808, 57.89484208312007, 41.953853724630505, 54.7817251272069, 56.24278611318577, 48.38406507260876, 58.240382859953854, 58.85215608103363, 59.92505691044618, 44.17127241128927, 48.82362708446964, 47.06532704544304, 42.83673087984671, 48.65742878345621, 50.83347943454095, 42.10009947653299, 47.86945733386351, 46.62999276832164, 43.04397144204165, 59.660432029554215, 54.26274176649992, 53.87652763599795, 51.826801050216886, 59.28270246350493, 44.69986031221524, 57.63036422913199, 44.83336040747064, 47.65190699364876, 56.33462795316326, 42.86670484685013, 42.52871844595372, 55.92710110316528, 58.46270610815221, 53.64838535166162, 41.855174324883095, 45.655660073275286, 45.28905330921543, 43.93231566046504, 49.855984319875205, 55.834749771471394, 51.25430420573733, 47.83178171253465, 52.34967246115333, 53.34542546829317, 41.49793649074658, 51.39343836746781, 51.049828278661714, 56.35625935299537, 43.21451398638533, 58.991204720358255, 44.615220454970206, 55.55769173634861, 43.86504199290077, 44.52423333167295, 56.581129418123865, 44.97353019612937, 46.22275842562597, 40.72950424412701, 47.369201415914624, 52.704082870673936], \"y\": [45.15340805053711, 47.2061653137207, 41.936676025390625, 61.05392074584961, 38.51919174194336, 47.981590270996094, 45.15621566772461, 46.77500534057617, 53.40557861328125, 51.90846633911133, 46.40232467651367, 52.79828643798828, 46.057071685791016, 50.934871673583984, 59.56111526489258, 44.766849517822266, 48.91322326660156, 64.37069702148438, 52.49720764160156, 53.6963996887207, 52.6109619140625, 53.8209114074707, 55.28374481201172, 53.69916534423828, 58.47314453125, 44.431888580322266, 47.48793029785156, 44.130859375, 47.40454864501953, 48.75111770629883, 46.11632537841797, 53.028099060058594, 44.224098205566406, 45.13478088378906, 47.61037063598633, 50.280879974365234, 49.70946502685547, 47.685707092285156, 50.660987854003906, 46.86138153076172, 51.88463592529297, 63.05839157104492, 64.74329376220703, 51.981597900390625, 61.88248062133789, 48.07587432861328, 46.373687744140625, 52.663238525390625, 67.78491973876953, 49.277286529541016, 55.05783462524414, 52.64284896850586, 50.711463928222656, 54.441680908203125, 42.48038864135742, 46.945438385009766, 49.12749099731445, 48.66950607299805, 58.769012451171875, 51.7845344543457, 67.52312469482422, 74.11226654052734, 54.73324203491211, 51.82954406738281, 60.92336654663086, 49.03249740600586, 48.31985092163086, 59.19292068481445, 46.615203857421875, 50.49787521362305, 55.093326568603516, 51.519447326660156, 49.09175491333008, 48.773494720458984, 46.41510009765625, 51.88979721069336, 25.445165634155273, 60.86286163330078, 73.71021270751953, 47.348453521728516, 51.623321533203125, 59.112876892089844, 54.054771423339844, 52.56606674194336, 63.63658905029297, 31.96529769897461, 57.708194732666016, 47.52568435668945, 48.89497375488281, 55.19489669799805, 46.81257247924805, 64.7105484008789, 46.20766830444336, 64.52438354492188, 51.266151428222656, 51.749671936035156, 59.720401763916016, 50.517784118652344, 56.27897262573242, 47.60523223876953]}, {\"mode\": \"markers\", \"name\": \"NN Mass 2\", \"type\": \"scatter\", \"x\": [43.80904320426608, 41.47459259640975, 46.39093723430458, 40.42561800615659, 56.47602888390979, 48.07349147719194, 47.477957503566, 48.75863856026974, 46.14433794265464, 43.67213458664144, 40.31901474780146, 43.2687434320201, 43.80128825506519, 41.89343885167793, 40.3083383740163, 47.4649152558018, 42.62363967687804, 41.506552578988845, 40.224188361784485, 43.63318048741883, 55.65358047706135, 42.3367942707001, 44.33613510057917, 55.93697677816995, 43.4508103478599, 46.38717836037248, 40.513456703369656, 44.71989347967152, 40.441733146565305, 43.575940700095735, 43.45981697779847, 41.48987417376147, 40.15546313963537, 50.04416591151737, 44.00758767380292, 40.602639030112165, 43.04552976899307, 46.30752585847278, 51.9233118638096, 46.74658609374686, 40.60105960509821, 40.26348861097853, 40.92059513266541, 43.92970117020571, 47.22446261754753, 46.4383561468748, 41.75108955186336, 55.75881462972918, 58.785084865029134, 43.204257129315046, 43.62266835802781, 41.56364885032394, 42.10688839926341, 44.48730631941661, 45.7554558950467, 40.6175626421047, 46.48706521293381, 43.05440379385734, 40.99816981532148, 56.70309365226363, 50.051139020526605, 41.899158046357066, 47.75784127759077, 50.68414468796064, 42.95448611932977, 46.00006897987269, 42.67562061132815, 41.50244374273431, 41.06737957030763, 41.31152196167323, 41.52055102398639, 48.28045934291456, 52.1228139019136, 47.09278383733486, 40.4378965411, 40.21606498167161, 42.11098177264832, 41.68566936356872, 48.550026535511705, 40.90592051224418, 49.83947631606196, 46.64874427696114, 45.13319635662639, 51.394725540912624, 40.70066973227009, 40.0504659444473, 40.83900738976493, 45.78985767608284, 40.1117085163144, 49.116794912448746, 41.00573831715545, 53.64783222292813, 43.477323353769336, 43.73612272130235, 40.76462971566882, 43.69733778785483, 46.11131082669104, 40.4721145359844, 46.70886439041969, 51.62465787839308], \"y\": [41.954872131347656, 40.34694290161133, 26.118247985839844, 38.2835807800293, 30.00289535522461, 44.1506233215332, 35.5689582824707, 43.685298919677734, 46.71223449707031, 47.509098052978516, 40.87984085083008, 46.08380889892578, 42.61696243286133, 45.12654495239258, 49.72864532470703, 35.42491912841797, 42.39568328857422, 27.052024841308594, 44.80415725708008, 41.679874420166016, 43.84269714355469, 46.69346237182617, 48.45786666870117, 46.984619140625, 40.84794235229492, 40.8912353515625, 42.21417236328125, 41.149314880371094, 43.79345703125, 42.93048095703125, 42.613059997558594, 44.6906623840332, 32.726409912109375, 41.37146759033203, 39.33988952636719, 43.262935638427734, 40.101043701171875, 39.58026885986328, 44.132240295410156, 41.16759490966797, 44.2935905456543, 38.909481048583984, 40.810638427734375, 45.85897445678711, 46.897396087646484, 36.31037902832031, 39.15827178955078, 45.405216217041016, 44.77396011352539, 40.53160095214844, 50.283409118652344, 41.2315673828125, 45.712677001953125, 48.403419494628906, 33.554779052734375, 41.55549240112305, 43.872276306152344, 41.7733154296875, 46.91498565673828, 29.785263061523438, 58.223690032958984, 49.92465591430664, 50.115150451660156, 47.85717010498047, 48.38080596923828, 43.167236328125, 41.95208740234375, 37.099021911621094, 40.813873291015625, 43.39338684082031, 46.54579544067383, 42.724769592285156, 43.36933898925781, 42.1002311706543, 40.910972595214844, 42.945865631103516, 20.125934600830078, 52.5454216003418, 46.69779586791992, 42.14493942260742, 41.84299850463867, 40.25995635986328, 44.96488571166992, 44.88362121582031, 41.342227935791016, 23.499996185302734, 50.3491325378418, 36.637027740478516, 38.121368408203125, 47.8584098815918, 37.57033920288086, 54.085636138916016, 43.07029724121094, 55.61136245727539, 47.329307556152344, 44.9011116027832, 40.65788650512695, 40.408382415771484, 41.82419967651367, 44.176822662353516]}, {\"mode\": \"markers\", \"name\": \"PSO Mass 1\", \"type\": \"scatter\", \"x\": [51.77487073688654, 42.85837975770976, 48.04403651036412, 42.6821790633701, 57.9270368478674, 49.46228347155668, 55.73366558686861, 51.54087282302831, 54.76809287653866, 46.73120038611706, 42.33203037581816, 43.32299226200775, 46.04306456090548, 49.841636155849976, 40.51537055414917, 53.54488928441549, 44.11832421046904, 53.74651657445399, 56.68247352164356, 53.62674221111702, 56.43186579990768, 45.00625217713919, 59.05927372431438, 58.094681306221446, 48.872452638280144, 48.46975724573227, 58.7047011080582, 51.96553708433606, 47.91320177403355, 53.7025232546366, 46.97147298931286, 43.33455633906258, 40.50278243916792, 55.76661626572624, 47.09420237853792, 53.33085566513114, 52.19190896009548, 54.32012548700772, 54.797249004004655, 59.50531285409265, 42.50637248797808, 57.89484208312007, 41.953853724630505, 54.7817251272069, 56.24278611318577, 48.38406507260876, 58.240382859953854, 58.85215608103363, 59.92505691044618, 44.17127241128927, 48.82362708446964, 47.06532704544304, 42.83673087984671, 48.65742878345621, 50.83347943454095, 42.10009947653299, 47.86945733386351, 46.62999276832164, 43.04397144204165, 59.660432029554215, 54.26274176649992, 53.87652763599795, 51.826801050216886, 59.28270246350493, 44.69986031221524, 57.63036422913199, 44.83336040747064, 47.65190699364876, 56.33462795316326, 42.86670484685013, 42.52871844595372, 55.92710110316528, 58.46270610815221, 53.64838535166162, 41.855174324883095, 45.655660073275286, 45.28905330921543, 43.93231566046504, 49.855984319875205, 55.834749771471394, 51.25430420573733, 47.83178171253465, 52.34967246115333, 53.34542546829317, 41.49793649074658, 51.39343836746781, 51.049828278661714, 56.35625935299537, 43.21451398638533, 58.991204720358255, 44.615220454970206, 55.55769173634861, 43.86504199290077, 44.52423333167295, 56.581129418123865, 44.97353019612937, 46.22275842562597, 40.72950424412701, 47.369201415914624, 52.704082870673936], \"y\": [59.00526570499476, 48.74483031946824, 55.28071108139276, 47.84035537307819, 61.43191511163529, 60.14688558074058, 59.854356695515, 60.50899726195573, 62.4603473700404, 62.97711639843487, 54.04528246590905, 47.57554497901511, 50.30735542581362, 60.19577329701695, 50.419251251503525, 59.71098232805178, 50.29996618416225, 62.975105048406384, 60.588302176391394, 58.95402265027461, 66.03411908820648, 54.87846423696962, 59.848698290103584, 66.10161208861489, 53.88353749058019, 60.86748485043857, 59.70831276401383, 57.48560836866682, 61.68805393918378, 59.993336020382586, 29.65937158425651, 52.19811343939375, 49.04256349121286, 69.61562525547171, 52.71344882287904, 58.079131497016704, 55.0085134923597, 57.48393794902517, 64.57974887344439, 62.32097624643234, 49.74740531180471, 60.096664561161454, 51.58662473378444, 58.49091984671049, 61.69754366123116, 54.8040733172668, 62.21749907992067, 70.15562911123641, 66.61358092644497, 56.47969992591865, 54.696561404278505, 53.19467109197781, 53.06215372487128, 50.93589256582163, 55.59603602137857, 55.73731762200098, 55.37327509256344, 51.998608269982086, 51.97124495209039, 69.58382169981358, 59.4870993041705, 67.7309060887275, 61.72112667243831, 67.64628278085225, 59.61635389438627, 64.13195801553266, 54.59963489988432, 56.163129944520456, 63.88255424166044, 49.72226673832014, 52.57154886463773, 57.53927003165713, 62.724077714894605, 55.79645901720899, 54.32945287485159, 51.36628410499065, 56.02432156911124, 50.59648862688172, 54.414276957373545, 53.0915172890707, 64.65617022983467, 60.029073090525074, 65.65789256049717, 58.36404038817236, 50.67563089656765, 56.70198459966352, 54.633206644700834, 57.60277410795968, 49.32159112948278, 61.251168263395385, 50.2616874558448, 62.03584007191096, 53.01247990693609, 57.95401217823582, 62.21749693943878, 55.52663344841043, 59.12297085658119, 54.88070728341177, 59.72630930376798, 62.24653976338121]}, {\"mode\": \"markers\", \"name\": \"PSO Mass 2\", \"type\": \"scatter\", \"x\": [43.80904320426608, 41.47459259640975, 46.39093723430458, 40.42561800615659, 56.47602888390979, 48.07349147719194, 47.477957503566, 48.75863856026974, 46.14433794265464, 43.67213458664144, 40.31901474780146, 43.2687434320201, 43.80128825506519, 41.89343885167793, 40.3083383740163, 47.4649152558018, 42.62363967687804, 41.506552578988845, 40.224188361784485, 43.63318048741883, 55.65358047706135, 42.3367942707001, 44.33613510057917, 55.93697677816995, 43.4508103478599, 46.38717836037248, 40.513456703369656, 44.71989347967152, 40.441733146565305, 43.575940700095735, 43.45981697779847, 41.48987417376147, 40.15546313963537, 50.04416591151737, 44.00758767380292, 40.602639030112165, 43.04552976899307, 46.30752585847278, 51.9233118638096, 46.74658609374686, 40.60105960509821, 40.26348861097853, 40.92059513266541, 43.92970117020571, 47.22446261754753, 46.4383561468748, 41.75108955186336, 55.75881462972918, 58.785084865029134, 43.204257129315046, 43.62266835802781, 41.56364885032394, 42.10688839926341, 44.48730631941661, 45.7554558950467, 40.6175626421047, 46.48706521293381, 43.05440379385734, 40.99816981532148, 56.70309365226363, 50.051139020526605, 41.899158046357066, 47.75784127759077, 50.68414468796064, 42.95448611932977, 46.00006897987269, 42.67562061132815, 41.50244374273431, 41.06737957030763, 41.31152196167323, 41.52055102398639, 48.28045934291456, 52.1228139019136, 47.09278383733486, 40.4378965411, 40.21606498167161, 42.11098177264832, 41.68566936356872, 48.550026535511705, 40.90592051224418, 49.83947631606196, 46.64874427696114, 45.13319635662639, 51.394725540912624, 40.70066973227009, 40.0504659444473, 40.83900738976493, 45.78985767608284, 40.1117085163144, 49.116794912448746, 41.00573831715545, 53.64783222292813, 43.477323353769336, 43.73612272130235, 40.76462971566882, 43.69733778785483, 46.11131082669104, 40.4721145359844, 46.70886439041969, 51.62465787839308], \"y\": [38.10130420981802, 36.58252306518917, 43.49861335476995, 36.07545579444067, 52.40802017845133, 38.46911425405104, 48.46263458169851, 40.79679973460414, 41.85014240876478, 30.58620902425902, 30.47400026197444, 38.07494854520996, 39.478892742187554, 33.691018980138026, 31.921400786666744, 43.9045948465302, 36.79436334734949, 34.62169047226092, 37.39786548917817, 39.7880728705407, 47.796490155574936, 33.80460667142045, 42.917332291618735, 48.70841534844752, 38.63782627395487, 36.96576784627501, 40.18121194607554, 39.84445811185278, 29.947282423908863, 38.74722495146323, 24.61804177506422, 34.70213047529678, 32.78221123358079, 38.21371542426041, 38.13851450052326, 36.36250076675891, 40.17147724485023, 43.03213808753623, 44.954988227291466, 43.38220547107, 34.42426919917234, 39.02212029124573, 32.7007571367011, 41.07034314549645, 41.285255425737645, 41.0896635586308, 38.73644605868504, 46.91386261249187, 51.95087607079739, 32.46226228258326, 37.46319028034639, 35.87988164624637, 33.33877145358824, 42.12769305594238, 41.83101236427051, 29.78515166396784, 39.15173196415925, 38.57082881911828, 33.63050536316145, 49.78860750386523, 45.14590089600404, 31.99368897933496, 39.15983134835849, 43.03734736601699, 29.93425355257005, 39.35984354033084, 34.54836806585588, 34.217137370898776, 33.11069913717447, 35.54830947939018, 32.84306622237519, 47.50419273604756, 48.01667603727071, 44.6537117836924, 29.890258779068244, 35.45185076168673, 33.066266861281434, 36.62668685891715, 41.31661112469578, 42.246110804203134, 39.06780532880244, 34.65893118363664, 35.2745335110517, 46.93366931166129, 33.0974741014917, 34.76162886937473, 38.311922234705335, 44.70432403963961, 34.67310103827376, 46.85614077112599, 36.10012613749319, 48.52891499521661, 35.02888337223195, 33.81807602330548, 36.192898903189096, 34.2664585124658, 34.310494758659004, 28.16304442353882, 36.136221791067534, 42.70258350947044]}],                        {\"template\": {\"data\": {\"bar\": [{\"error_x\": {\"color\": \"#2a3f5f\"}, \"error_y\": {\"color\": \"#2a3f5f\"}, \"marker\": {\"line\": {\"color\": \"#E5ECF6\", \"width\": 0.5}}, \"type\": \"bar\"}], \"barpolar\": [{\"marker\": {\"line\": {\"color\": \"#E5ECF6\", \"width\": 0.5}}, \"type\": \"barpolar\"}], \"carpet\": [{\"aaxis\": {\"endlinecolor\": \"#2a3f5f\", \"gridcolor\": \"white\", \"linecolor\": \"white\", \"minorgridcolor\": \"white\", \"startlinecolor\": \"#2a3f5f\"}, \"baxis\": {\"endlinecolor\": \"#2a3f5f\", \"gridcolor\": \"white\", \"linecolor\": \"white\", \"minorgridcolor\": \"white\", \"startlinecolor\": \"#2a3f5f\"}, \"type\": \"carpet\"}], \"choropleth\": [{\"colorbar\": {\"outlinewidth\": 0, \"ticks\": \"\"}, \"type\": \"choropleth\"}], \"contour\": [{\"colorbar\": {\"outlinewidth\": 0, \"ticks\": \"\"}, \"colorscale\": [[0.0, \"#0d0887\"], [0.1111111111111111, \"#46039f\"], [0.2222222222222222, \"#7201a8\"], [0.3333333333333333, \"#9c179e\"], [0.4444444444444444, \"#bd3786\"], [0.5555555555555556, \"#d8576b\"], [0.6666666666666666, \"#ed7953\"], [0.7777777777777778, \"#fb9f3a\"], [0.8888888888888888, \"#fdca26\"], [1.0, \"#f0f921\"]], \"type\": \"contour\"}], \"contourcarpet\": [{\"colorbar\": {\"outlinewidth\": 0, \"ticks\": \"\"}, \"type\": \"contourcarpet\"}], \"heatmap\": [{\"colorbar\": {\"outlinewidth\": 0, \"ticks\": \"\"}, \"colorscale\": [[0.0, \"#0d0887\"], [0.1111111111111111, \"#46039f\"], [0.2222222222222222, \"#7201a8\"], [0.3333333333333333, \"#9c179e\"], [0.4444444444444444, \"#bd3786\"], [0.5555555555555556, \"#d8576b\"], [0.6666666666666666, \"#ed7953\"], [0.7777777777777778, \"#fb9f3a\"], [0.8888888888888888, \"#fdca26\"], [1.0, \"#f0f921\"]], \"type\": \"heatmap\"}], \"heatmapgl\": [{\"colorbar\": {\"outlinewidth\": 0, \"ticks\": \"\"}, \"colorscale\": [[0.0, \"#0d0887\"], [0.1111111111111111, \"#46039f\"], [0.2222222222222222, \"#7201a8\"], [0.3333333333333333, \"#9c179e\"], [0.4444444444444444, \"#bd3786\"], [0.5555555555555556, \"#d8576b\"], [0.6666666666666666, \"#ed7953\"], [0.7777777777777778, \"#fb9f3a\"], [0.8888888888888888, \"#fdca26\"], [1.0, \"#f0f921\"]], \"type\": \"heatmapgl\"}], \"histogram\": [{\"marker\": {\"colorbar\": {\"outlinewidth\": 0, \"ticks\": \"\"}}, \"type\": \"histogram\"}], \"histogram2d\": [{\"colorbar\": {\"outlinewidth\": 0, \"ticks\": \"\"}, \"colorscale\": [[0.0, \"#0d0887\"], [0.1111111111111111, \"#46039f\"], [0.2222222222222222, \"#7201a8\"], [0.3333333333333333, \"#9c179e\"], [0.4444444444444444, \"#bd3786\"], [0.5555555555555556, \"#d8576b\"], [0.6666666666666666, \"#ed7953\"], [0.7777777777777778, \"#fb9f3a\"], [0.8888888888888888, \"#fdca26\"], [1.0, \"#f0f921\"]], \"type\": \"histogram2d\"}], \"histogram2dcontour\": [{\"colorbar\": {\"outlinewidth\": 0, \"ticks\": \"\"}, \"colorscale\": [[0.0, \"#0d0887\"], [0.1111111111111111, \"#46039f\"], [0.2222222222222222, \"#7201a8\"], [0.3333333333333333, \"#9c179e\"], [0.4444444444444444, \"#bd3786\"], [0.5555555555555556, \"#d8576b\"], [0.6666666666666666, \"#ed7953\"], [0.7777777777777778, \"#fb9f3a\"], [0.8888888888888888, \"#fdca26\"], [1.0, \"#f0f921\"]], \"type\": \"histogram2dcontour\"}], \"mesh3d\": [{\"colorbar\": {\"outlinewidth\": 0, \"ticks\": \"\"}, \"type\": \"mesh3d\"}], \"parcoords\": [{\"line\": {\"colorbar\": {\"outlinewidth\": 0, \"ticks\": \"\"}}, \"type\": \"parcoords\"}], \"pie\": [{\"automargin\": true, \"type\": \"pie\"}], \"scatter\": [{\"marker\": {\"colorbar\": {\"outlinewidth\": 0, \"ticks\": \"\"}}, \"type\": \"scatter\"}], \"scatter3d\": [{\"line\": {\"colorbar\": {\"outlinewidth\": 0, \"ticks\": \"\"}}, \"marker\": {\"colorbar\": {\"outlinewidth\": 0, \"ticks\": \"\"}}, \"type\": \"scatter3d\"}], \"scattercarpet\": [{\"marker\": {\"colorbar\": {\"outlinewidth\": 0, \"ticks\": \"\"}}, \"type\": \"scattercarpet\"}], \"scattergeo\": [{\"marker\": {\"colorbar\": {\"outlinewidth\": 0, \"ticks\": \"\"}}, \"type\": \"scattergeo\"}], \"scattergl\": [{\"marker\": {\"colorbar\": {\"outlinewidth\": 0, \"ticks\": \"\"}}, \"type\": \"scattergl\"}], \"scattermapbox\": [{\"marker\": {\"colorbar\": {\"outlinewidth\": 0, \"ticks\": \"\"}}, \"type\": \"scattermapbox\"}], \"scatterpolar\": [{\"marker\": {\"colorbar\": {\"outlinewidth\": 0, \"ticks\": \"\"}}, \"type\": \"scatterpolar\"}], \"scatterpolargl\": [{\"marker\": {\"colorbar\": {\"outlinewidth\": 0, \"ticks\": \"\"}}, \"type\": \"scatterpolargl\"}], \"scatterternary\": [{\"marker\": {\"colorbar\": {\"outlinewidth\": 0, \"ticks\": \"\"}}, \"type\": \"scatterternary\"}], \"surface\": [{\"colorbar\": {\"outlinewidth\": 0, \"ticks\": \"\"}, \"colorscale\": [[0.0, \"#0d0887\"], [0.1111111111111111, \"#46039f\"], [0.2222222222222222, \"#7201a8\"], [0.3333333333333333, \"#9c179e\"], [0.4444444444444444, \"#bd3786\"], [0.5555555555555556, \"#d8576b\"], [0.6666666666666666, \"#ed7953\"], [0.7777777777777778, \"#fb9f3a\"], [0.8888888888888888, \"#fdca26\"], [1.0, \"#f0f921\"]], \"type\": \"surface\"}], \"table\": [{\"cells\": {\"fill\": {\"color\": \"#EBF0F8\"}, \"line\": {\"color\": \"white\"}}, \"header\": {\"fill\": {\"color\": \"#C8D4E3\"}, \"line\": {\"color\": \"white\"}}, \"type\": \"table\"}]}, \"layout\": {\"annotationdefaults\": {\"arrowcolor\": \"#2a3f5f\", \"arrowhead\": 0, \"arrowwidth\": 1}, \"autotypenumbers\": \"strict\", \"coloraxis\": {\"colorbar\": {\"outlinewidth\": 0, \"ticks\": \"\"}}, \"colorscale\": {\"diverging\": [[0, \"#8e0152\"], [0.1, \"#c51b7d\"], [0.2, \"#de77ae\"], [0.3, \"#f1b6da\"], [0.4, \"#fde0ef\"], [0.5, \"#f7f7f7\"], [0.6, \"#e6f5d0\"], [0.7, \"#b8e186\"], [0.8, \"#7fbc41\"], [0.9, \"#4d9221\"], [1, \"#276419\"]], \"sequential\": [[0.0, \"#0d0887\"], [0.1111111111111111, \"#46039f\"], [0.2222222222222222, \"#7201a8\"], [0.3333333333333333, \"#9c179e\"], [0.4444444444444444, \"#bd3786\"], [0.5555555555555556, \"#d8576b\"], [0.6666666666666666, \"#ed7953\"], [0.7777777777777778, \"#fb9f3a\"], [0.8888888888888888, \"#fdca26\"], [1.0, \"#f0f921\"]], \"sequentialminus\": [[0.0, \"#0d0887\"], [0.1111111111111111, \"#46039f\"], [0.2222222222222222, \"#7201a8\"], [0.3333333333333333, \"#9c179e\"], [0.4444444444444444, \"#bd3786\"], [0.5555555555555556, \"#d8576b\"], [0.6666666666666666, \"#ed7953\"], [0.7777777777777778, \"#fb9f3a\"], [0.8888888888888888, \"#fdca26\"], [1.0, \"#f0f921\"]]}, \"colorway\": [\"#636efa\", \"#EF553B\", \"#00cc96\", \"#ab63fa\", \"#FFA15A\", \"#19d3f3\", \"#FF6692\", \"#B6E880\", \"#FF97FF\", \"#FECB52\"], \"font\": {\"color\": \"#2a3f5f\"}, \"geo\": {\"bgcolor\": \"white\", \"lakecolor\": \"white\", \"landcolor\": \"#E5ECF6\", \"showlakes\": true, \"showland\": true, \"subunitcolor\": \"white\"}, \"hoverlabel\": {\"align\": \"left\"}, \"hovermode\": \"closest\", \"mapbox\": {\"style\": \"light\"}, \"paper_bgcolor\": \"white\", \"plot_bgcolor\": \"#E5ECF6\", \"polar\": {\"angularaxis\": {\"gridcolor\": \"white\", \"linecolor\": \"white\", \"ticks\": \"\"}, \"bgcolor\": \"#E5ECF6\", \"radialaxis\": {\"gridcolor\": \"white\", \"linecolor\": \"white\", \"ticks\": \"\"}}, \"scene\": {\"xaxis\": {\"backgroundcolor\": \"#E5ECF6\", \"gridcolor\": \"white\", \"gridwidth\": 2, \"linecolor\": \"white\", \"showbackground\": true, \"ticks\": \"\", \"zerolinecolor\": \"white\"}, \"yaxis\": {\"backgroundcolor\": \"#E5ECF6\", \"gridcolor\": \"white\", \"gridwidth\": 2, \"linecolor\": \"white\", \"showbackground\": true, \"ticks\": \"\", \"zerolinecolor\": \"white\"}, \"zaxis\": {\"backgroundcolor\": \"#E5ECF6\", \"gridcolor\": \"white\", \"gridwidth\": 2, \"linecolor\": \"white\", \"showbackground\": true, \"ticks\": \"\", \"zerolinecolor\": \"white\"}}, \"shapedefaults\": {\"line\": {\"color\": \"#2a3f5f\"}}, \"ternary\": {\"aaxis\": {\"gridcolor\": \"white\", \"linecolor\": \"white\", \"ticks\": \"\"}, \"baxis\": {\"gridcolor\": \"white\", \"linecolor\": \"white\", \"ticks\": \"\"}, \"bgcolor\": \"#E5ECF6\", \"caxis\": {\"gridcolor\": \"white\", \"linecolor\": \"white\", \"ticks\": \"\"}}, \"title\": {\"x\": 0.05}, \"xaxis\": {\"automargin\": true, \"gridcolor\": \"white\", \"linecolor\": \"white\", \"ticks\": \"\", \"title\": {\"standoff\": 15}, \"zerolinecolor\": \"white\", \"zerolinewidth\": 2}, \"yaxis\": {\"automargin\": true, \"gridcolor\": \"white\", \"linecolor\": \"white\", \"ticks\": \"\", \"title\": {\"standoff\": 15}, \"zerolinecolor\": \"white\", \"zerolinewidth\": 2}}}, \"title\": {\"text\": \"Injected versus Estimated Component Masses predicted by the model\"}, \"xaxis\": {\"title\": {\"text\": \"Injected Mass (Mo)\"}}, \"yaxis\": {\"title\": {\"text\": \"Estimated Mass (Mo)\"}}},                        {\"responsive\": true}                    ).then(function(){\n",
       "                            \n",
       "var gd = document.getElementById('00f0b5dd-7d5a-4d03-b6d5-d819116c848f');\n",
       "var x = new MutationObserver(function (mutations, observer) {{\n",
       "        var display = window.getComputedStyle(gd).display;\n",
       "        if (!display || display === 'none') {{\n",
       "            console.log([gd, 'removed!']);\n",
       "            Plotly.purge(gd);\n",
       "            observer.disconnect();\n",
       "        }}\n",
       "}});\n",
       "\n",
       "// Listen for the removal of the full notebook cells\n",
       "var notebookContainer = gd.closest('#notebook-container');\n",
       "if (notebookContainer) {{\n",
       "    x.observe(notebookContainer, {childList: true});\n",
       "}}\n",
       "\n",
       "// Listen for the clearing of the current output cell\n",
       "var outputEl = gd.closest('.output');\n",
       "if (outputEl) {{\n",
       "    x.observe(outputEl, {childList: true});\n",
       "}}\n",
       "\n",
       "                        })                };                });            </script>        </div>"
      ]
     },
     "metadata": {},
     "output_type": "display_data"
    }
   ],
   "source": [
    "fig = go.Figure()\n",
    "x=[40,50,60]\n",
    "fig.add_trace(go.Scatter(x=x,y=x,mode='lines',name='x=y'))\n",
    "fig.add_trace(go.Scatter(x=inj_m1, y=est_m1,mode='markers',name='NN Mass 1'))\n",
    "fig.add_trace(go.Scatter(x=inj_m2, y=est_m2,mode='markers',name='NN Mass 2'))\n",
    "fig.add_trace(go.Scatter(x=inj_m1, y=pso_m1,mode='markers',name='PSO Mass 1'))\n",
    "fig.add_trace(go.Scatter(x=inj_m2, y=pso_m2,mode='markers',name='PSO Mass 2'))\n",
    "fig.update_layout(title='Injected versus Estimated Component Masses predicted by the model',xaxis_title=\"Injected Mass (Mo)\",yaxis_title=\"Estimated Mass (Mo)\")\n",
    "fig.show()"
   ]
  },
  {
   "cell_type": "code",
   "execution_count": 62,
   "id": "b2c6e07f",
   "metadata": {},
   "outputs": [
    {
     "ename": "ValueError",
     "evalue": "The first argument to the plotly.graph_objs.Scatter \nconstructor must be a dict or \nan instance of :class:`plotly.graph_objs.Scatter`",
     "output_type": "error",
     "traceback": [
      "\u001b[0;31m---------------------------------------------------------------------------\u001b[0m",
      "\u001b[0;31mValueError\u001b[0m                                Traceback (most recent call last)",
      "\u001b[0;32m<ipython-input-62-05ccdcc6d630>\u001b[0m in \u001b[0;36m<module>\u001b[0;34m\u001b[0m\n\u001b[1;32m      2\u001b[0m \u001b[0mx\u001b[0m\u001b[0;34m=\u001b[0m\u001b[0;34m[\u001b[0m\u001b[0;36m10\u001b[0m\u001b[0;34m,\u001b[0m\u001b[0;36m20\u001b[0m\u001b[0;34m,\u001b[0m\u001b[0;36m30\u001b[0m\u001b[0;34m,\u001b[0m\u001b[0;36m40\u001b[0m\u001b[0;34m,\u001b[0m\u001b[0;36m50\u001b[0m\u001b[0;34m,\u001b[0m\u001b[0;36m60\u001b[0m\u001b[0;34m,\u001b[0m\u001b[0;36m70\u001b[0m\u001b[0;34m,\u001b[0m\u001b[0;36m80\u001b[0m\u001b[0;34m,\u001b[0m\u001b[0;36m90\u001b[0m\u001b[0;34m]\u001b[0m\u001b[0;34m\u001b[0m\u001b[0;34m\u001b[0m\u001b[0m\n\u001b[1;32m      3\u001b[0m \u001b[0mfig\u001b[0m\u001b[0;34m.\u001b[0m\u001b[0madd_trace\u001b[0m\u001b[0;34m(\u001b[0m\u001b[0mgo\u001b[0m\u001b[0;34m.\u001b[0m\u001b[0mScatter\u001b[0m\u001b[0;34m(\u001b[0m\u001b[0mx\u001b[0m\u001b[0;34m=\u001b[0m\u001b[0mx\u001b[0m\u001b[0;34m,\u001b[0m\u001b[0my\u001b[0m\u001b[0;34m=\u001b[0m\u001b[0mx\u001b[0m\u001b[0;34m,\u001b[0m\u001b[0mmode\u001b[0m\u001b[0;34m=\u001b[0m\u001b[0;34m'lines'\u001b[0m\u001b[0;34m,\u001b[0m\u001b[0mname\u001b[0m\u001b[0;34m=\u001b[0m\u001b[0;34m'x=y'\u001b[0m\u001b[0;34m)\u001b[0m\u001b[0;34m)\u001b[0m\u001b[0;34m\u001b[0m\u001b[0;34m\u001b[0m\u001b[0m\n\u001b[0;32m----> 4\u001b[0;31m \u001b[0mfig\u001b[0m\u001b[0;34m.\u001b[0m\u001b[0madd_trace\u001b[0m\u001b[0;34m(\u001b[0m\u001b[0mgo\u001b[0m\u001b[0;34m.\u001b[0m\u001b[0mScatter\u001b[0m\u001b[0;34m(\u001b[0m\u001b[0minj_m1\u001b[0m\u001b[0;34m,\u001b[0m\u001b[0mmode\u001b[0m\u001b[0;34m=\u001b[0m\u001b[0;34m'markers'\u001b[0m\u001b[0;34m,\u001b[0m\u001b[0mname\u001b[0m\u001b[0;34m=\u001b[0m\u001b[0;34m'NN Mass 1'\u001b[0m\u001b[0;34m)\u001b[0m\u001b[0;34m)\u001b[0m\u001b[0;34m\u001b[0m\u001b[0;34m\u001b[0m\u001b[0m\n\u001b[0m\u001b[1;32m      5\u001b[0m \u001b[0mfig\u001b[0m\u001b[0;34m.\u001b[0m\u001b[0madd_trace\u001b[0m\u001b[0;34m(\u001b[0m\u001b[0mgo\u001b[0m\u001b[0;34m.\u001b[0m\u001b[0mScatter\u001b[0m\u001b[0;34m(\u001b[0m\u001b[0minj_m2\u001b[0m\u001b[0;34m,\u001b[0m\u001b[0mmode\u001b[0m\u001b[0;34m=\u001b[0m\u001b[0;34m'markers'\u001b[0m\u001b[0;34m,\u001b[0m\u001b[0mname\u001b[0m\u001b[0;34m=\u001b[0m\u001b[0;34m'NN Mass 2'\u001b[0m\u001b[0;34m)\u001b[0m\u001b[0;34m)\u001b[0m\u001b[0;34m\u001b[0m\u001b[0;34m\u001b[0m\u001b[0m\n\u001b[1;32m      6\u001b[0m \u001b[0;31m#fig.add_trace(go.Scatter(x=inj_m1, y=pso_m1,mode='markers',name='PSO Mass 1'))\u001b[0m\u001b[0;34m\u001b[0m\u001b[0;34m\u001b[0m\u001b[0;34m\u001b[0m\u001b[0m\n",
      "\u001b[0;32m~/PSO_env/lib/python3.8/site-packages/plotly/graph_objs/_scatter.py\u001b[0m in \u001b[0;36m__init__\u001b[0;34m(self, arg, cliponaxis, connectgaps, customdata, customdatasrc, dx, dy, error_x, error_y, fill, fillcolor, groupnorm, hoverinfo, hoverinfosrc, hoverlabel, hoveron, hovertemplate, hovertemplatesrc, hovertext, hovertextsrc, ids, idssrc, legendgroup, line, marker, meta, metasrc, mode, name, opacity, orientation, r, rsrc, selected, selectedpoints, showlegend, stackgaps, stackgroup, stream, t, text, textfont, textposition, textpositionsrc, textsrc, texttemplate, texttemplatesrc, tsrc, uid, uirevision, unselected, visible, x, x0, xaxis, xcalendar, xperiod, xperiod0, xperiodalignment, xsrc, y, y0, yaxis, ycalendar, yperiod, yperiod0, yperiodalignment, ysrc, **kwargs)\u001b[0m\n\u001b[1;32m   2899\u001b[0m             \u001b[0marg\u001b[0m \u001b[0;34m=\u001b[0m \u001b[0m_copy\u001b[0m\u001b[0;34m.\u001b[0m\u001b[0mcopy\u001b[0m\u001b[0;34m(\u001b[0m\u001b[0marg\u001b[0m\u001b[0;34m)\u001b[0m\u001b[0;34m\u001b[0m\u001b[0;34m\u001b[0m\u001b[0m\n\u001b[1;32m   2900\u001b[0m         \u001b[0;32melse\u001b[0m\u001b[0;34m:\u001b[0m\u001b[0;34m\u001b[0m\u001b[0;34m\u001b[0m\u001b[0m\n\u001b[0;32m-> 2901\u001b[0;31m             raise ValueError(\n\u001b[0m\u001b[1;32m   2902\u001b[0m                 \"\"\"\\\n\u001b[1;32m   2903\u001b[0m \u001b[0mThe\u001b[0m \u001b[0mfirst\u001b[0m \u001b[0margument\u001b[0m \u001b[0mto\u001b[0m \u001b[0mthe\u001b[0m \u001b[0mplotly\u001b[0m\u001b[0;34m.\u001b[0m\u001b[0mgraph_objs\u001b[0m\u001b[0;34m.\u001b[0m\u001b[0mScatter\u001b[0m\u001b[0;34m\u001b[0m\u001b[0;34m\u001b[0m\u001b[0m\n",
      "\u001b[0;31mValueError\u001b[0m: The first argument to the plotly.graph_objs.Scatter \nconstructor must be a dict or \nan instance of :class:`plotly.graph_objs.Scatter`"
     ]
    }
   ],
   "source": [
    "fig = go.Figure()\n",
    "x=[10,20,30,40,50,60,70,80,90]\n",
    "fig.add_trace(go.Scatter(x=x,y=x,mode='lines',name='x=y'))\n",
    "fig.add_trace(go.Scatter(inj_m1,mode='markers',name='NN Mass 1'))\n",
    "fig.add_trace(go.Scatter(inj_m2,mode='markers',name='NN Mass 2'))\n",
    "#fig.add_trace(go.Scatter(x=inj_m1, y=pso_m1,mode='markers',name='PSO Mass 1'))\n",
    "#fig.add_trace(go.Scatter(x=inj_m2, y=pso_m2,mode='markers',name='PSO Mass 2'))\n",
    "fig.update_layout(title='Injected versus Estimated Component Masses for 100 injections for I1 detector',xaxis_title=\"Injected Mass (Mo)\",yaxis_title=\"Estimated Mass (Mo)\")\n",
    "fig.show()"
   ]
  },
  {
   "cell_type": "code",
   "execution_count": 23,
   "id": "6d35d372",
   "metadata": {},
   "outputs": [
    {
     "data": {
      "application/vnd.plotly.v1+json": {
       "config": {
        "plotlyServerURL": "https://plot.ly"
       },
       "data": [
        {
         "mode": "lines",
         "name": "x=y",
         "type": "scatter",
         "x": [
          5,
          10,
          15,
          20,
          25,
          30,
          35,
          40
         ],
         "y": [
          5,
          10,
          15,
          20,
          25,
          30,
          35,
          40
         ]
        },
        {
         "mode": "markers",
         "name": "SNR",
         "type": "scatter",
         "x": [
          29.82577388503549,
          25.155846090724843,
          3.886234935057774,
          11.11129236669202,
          18.205028073610727,
          27.91316289428774,
          4.491268786561629,
          12.305089708519311,
          16.623615223051132,
          15.943812600001229,
          29.378579140817465,
          10.09850568396491,
          12.328334090026075,
          24.93562077519996,
          11.553800236554148,
          13.739722500160672,
          23.251579338654544,
          23.682536534309897,
          29.47945600757235,
          21.37671022211571,
          17.551458687131674,
          29.94623096750077,
          18.52939897530216,
          18.939026536400625,
          23.992023416534728,
          23.60699025033467,
          23.736795969468297,
          17.573750958651623,
          19.372808571055668,
          19.29115931336091,
          3.750432109852092,
          13.958499022312926,
          24.56193349227524,
          18.99439077044935,
          13.43807934046713,
          20.02669902336594,
          20.362491255650145,
          39.03133886037485,
          20.838399346847005,
          11.152349323411142,
          21.127305936627728,
          14.732606289594967,
          17.838358146998058,
          24.136127735416142,
          19.411714700624003,
          16.679634978240024,
          33.13389928942938,
          16.491247369118135,
          30.817699747949792,
          23.888746107170583,
          12.640939089718822,
          23.242271517356865,
          18.14903471136056,
          12.849541183640644,
          26.08886346655732,
          21.24188706541701,
          20.104788485926704,
          15.680971008468587,
          16.06273564666389,
          28.845151143725804,
          37.02073975111741,
          8.58237641516485,
          31.30308012180853,
          15.910955231227618,
          15.330111583182044,
          18.62171338979149,
          16.14987659605448,
          9.430792300208209,
          9.371575133886743,
          8.213791468477453,
          25.31510218283032,
          12.58355839965596,
          21.84951571879482,
          20.876225663675008,
          14.29302775929113,
          16.19957273098358,
          23.44821618365372,
          23.72685358476168,
          5.636769440262205,
          13.704852604828696,
          17.609890400137648,
          4.740159417351473,
          22.269747516238134,
          25.2730752023114,
          19.846060417887227,
          13.820988549888346,
          30.756439897787185,
          13.678026195796878,
          35.33837910912241,
          24.70415971002039,
          25.69532245764305,
          29.023340759158696,
          17.139664917915955,
          15.640441836346332,
          34.36079043246191,
          30.9266953241254,
          14.847471002295531,
          11.589083608707876,
          27.10567621872454,
          31.234825684442008
         ],
         "y": [
          25.144630432128906,
          10.777029991149902,
          9.019838333129883,
          19.75271224975586,
          9.157938003540039,
          32.102657318115234,
          11.70855712890625,
          27.74493408203125,
          22.313888549804688,
          28.253910064697266,
          14.348127365112305,
          18.47616958618164,
          25.229904174804688,
          35.048118591308594,
          25.90804672241211,
          14.180660247802734,
          14.872703552246094,
          13.17782211303711,
          22.109331130981445,
          26.28675079345703,
          29.017532348632812,
          35.2845344543457,
          17.71162986755371,
          16.052459716796875,
          20.119644165039062,
          27.948078155517578,
          22.807964324951172,
          27.271038055419922,
          25.785228729248047,
          31.48485565185547,
          24.026382446289062,
          30.723369598388672,
          8.936015129089355,
          24.14499282836914,
          15.343343734741211,
          17.76044464111328,
          20.699047088623047,
          19.183927536010742,
          32.03255081176758,
          19.12828826904297,
          20.486560821533203,
          24.37171173095703,
          26.16745376586914,
          15.322996139526367,
          22.653499603271484,
          19.00482940673828,
          14.393683433532715,
          13.675321578979492,
          30.74604034423828,
          17.413433074951172,
          38.977291107177734,
          25.740406036376953,
          25.34250259399414,
          19.40135955810547,
          12.840970993041992,
          18.185638427734375,
          17.37272834777832,
          15.041929244995117,
          34.068782806396484,
          10.917441368103027,
          19.447952270507812,
          30.611766815185547,
          32.81443786621094,
          31.95809555053711,
          37.956565856933594,
          16.342987060546875,
          20.45541763305664,
          21.7191162109375,
          14.321839332580566,
          21.997570037841797,
          33.27135467529297,
          18.90987205505371,
          12.78177261352539,
          15.222664833068848,
          21.09563636779785,
          25.716365814208984,
          9.42093276977539,
          17.379379272460938,
          32.82514190673828,
          17.12007713317871,
          17.952054977416992,
          25.162109375,
          31.37215805053711,
          23.081275939941406,
          21.923221588134766,
          7.97852897644043,
          26.891098022460938,
          19.17003631591797,
          18.50843048095703,
          15.21383285522461,
          15.023815155029297,
          18.386062622070312,
          27.92699432373047,
          18.844970703125,
          29.546546936035156,
          22.29491424560547,
          25.642288208007812,
          17.837635040283203,
          20.309715270996094,
          25.943618774414062
         ]
        }
       ],
       "layout": {
        "template": {
         "data": {
          "bar": [
           {
            "error_x": {
             "color": "#2a3f5f"
            },
            "error_y": {
             "color": "#2a3f5f"
            },
            "marker": {
             "line": {
              "color": "#E5ECF6",
              "width": 0.5
             }
            },
            "type": "bar"
           }
          ],
          "barpolar": [
           {
            "marker": {
             "line": {
              "color": "#E5ECF6",
              "width": 0.5
             }
            },
            "type": "barpolar"
           }
          ],
          "carpet": [
           {
            "aaxis": {
             "endlinecolor": "#2a3f5f",
             "gridcolor": "white",
             "linecolor": "white",
             "minorgridcolor": "white",
             "startlinecolor": "#2a3f5f"
            },
            "baxis": {
             "endlinecolor": "#2a3f5f",
             "gridcolor": "white",
             "linecolor": "white",
             "minorgridcolor": "white",
             "startlinecolor": "#2a3f5f"
            },
            "type": "carpet"
           }
          ],
          "choropleth": [
           {
            "colorbar": {
             "outlinewidth": 0,
             "ticks": ""
            },
            "type": "choropleth"
           }
          ],
          "contour": [
           {
            "colorbar": {
             "outlinewidth": 0,
             "ticks": ""
            },
            "colorscale": [
             [
              0,
              "#0d0887"
             ],
             [
              0.1111111111111111,
              "#46039f"
             ],
             [
              0.2222222222222222,
              "#7201a8"
             ],
             [
              0.3333333333333333,
              "#9c179e"
             ],
             [
              0.4444444444444444,
              "#bd3786"
             ],
             [
              0.5555555555555556,
              "#d8576b"
             ],
             [
              0.6666666666666666,
              "#ed7953"
             ],
             [
              0.7777777777777778,
              "#fb9f3a"
             ],
             [
              0.8888888888888888,
              "#fdca26"
             ],
             [
              1,
              "#f0f921"
             ]
            ],
            "type": "contour"
           }
          ],
          "contourcarpet": [
           {
            "colorbar": {
             "outlinewidth": 0,
             "ticks": ""
            },
            "type": "contourcarpet"
           }
          ],
          "heatmap": [
           {
            "colorbar": {
             "outlinewidth": 0,
             "ticks": ""
            },
            "colorscale": [
             [
              0,
              "#0d0887"
             ],
             [
              0.1111111111111111,
              "#46039f"
             ],
             [
              0.2222222222222222,
              "#7201a8"
             ],
             [
              0.3333333333333333,
              "#9c179e"
             ],
             [
              0.4444444444444444,
              "#bd3786"
             ],
             [
              0.5555555555555556,
              "#d8576b"
             ],
             [
              0.6666666666666666,
              "#ed7953"
             ],
             [
              0.7777777777777778,
              "#fb9f3a"
             ],
             [
              0.8888888888888888,
              "#fdca26"
             ],
             [
              1,
              "#f0f921"
             ]
            ],
            "type": "heatmap"
           }
          ],
          "heatmapgl": [
           {
            "colorbar": {
             "outlinewidth": 0,
             "ticks": ""
            },
            "colorscale": [
             [
              0,
              "#0d0887"
             ],
             [
              0.1111111111111111,
              "#46039f"
             ],
             [
              0.2222222222222222,
              "#7201a8"
             ],
             [
              0.3333333333333333,
              "#9c179e"
             ],
             [
              0.4444444444444444,
              "#bd3786"
             ],
             [
              0.5555555555555556,
              "#d8576b"
             ],
             [
              0.6666666666666666,
              "#ed7953"
             ],
             [
              0.7777777777777778,
              "#fb9f3a"
             ],
             [
              0.8888888888888888,
              "#fdca26"
             ],
             [
              1,
              "#f0f921"
             ]
            ],
            "type": "heatmapgl"
           }
          ],
          "histogram": [
           {
            "marker": {
             "colorbar": {
              "outlinewidth": 0,
              "ticks": ""
             }
            },
            "type": "histogram"
           }
          ],
          "histogram2d": [
           {
            "colorbar": {
             "outlinewidth": 0,
             "ticks": ""
            },
            "colorscale": [
             [
              0,
              "#0d0887"
             ],
             [
              0.1111111111111111,
              "#46039f"
             ],
             [
              0.2222222222222222,
              "#7201a8"
             ],
             [
              0.3333333333333333,
              "#9c179e"
             ],
             [
              0.4444444444444444,
              "#bd3786"
             ],
             [
              0.5555555555555556,
              "#d8576b"
             ],
             [
              0.6666666666666666,
              "#ed7953"
             ],
             [
              0.7777777777777778,
              "#fb9f3a"
             ],
             [
              0.8888888888888888,
              "#fdca26"
             ],
             [
              1,
              "#f0f921"
             ]
            ],
            "type": "histogram2d"
           }
          ],
          "histogram2dcontour": [
           {
            "colorbar": {
             "outlinewidth": 0,
             "ticks": ""
            },
            "colorscale": [
             [
              0,
              "#0d0887"
             ],
             [
              0.1111111111111111,
              "#46039f"
             ],
             [
              0.2222222222222222,
              "#7201a8"
             ],
             [
              0.3333333333333333,
              "#9c179e"
             ],
             [
              0.4444444444444444,
              "#bd3786"
             ],
             [
              0.5555555555555556,
              "#d8576b"
             ],
             [
              0.6666666666666666,
              "#ed7953"
             ],
             [
              0.7777777777777778,
              "#fb9f3a"
             ],
             [
              0.8888888888888888,
              "#fdca26"
             ],
             [
              1,
              "#f0f921"
             ]
            ],
            "type": "histogram2dcontour"
           }
          ],
          "mesh3d": [
           {
            "colorbar": {
             "outlinewidth": 0,
             "ticks": ""
            },
            "type": "mesh3d"
           }
          ],
          "parcoords": [
           {
            "line": {
             "colorbar": {
              "outlinewidth": 0,
              "ticks": ""
             }
            },
            "type": "parcoords"
           }
          ],
          "pie": [
           {
            "automargin": true,
            "type": "pie"
           }
          ],
          "scatter": [
           {
            "marker": {
             "colorbar": {
              "outlinewidth": 0,
              "ticks": ""
             }
            },
            "type": "scatter"
           }
          ],
          "scatter3d": [
           {
            "line": {
             "colorbar": {
              "outlinewidth": 0,
              "ticks": ""
             }
            },
            "marker": {
             "colorbar": {
              "outlinewidth": 0,
              "ticks": ""
             }
            },
            "type": "scatter3d"
           }
          ],
          "scattercarpet": [
           {
            "marker": {
             "colorbar": {
              "outlinewidth": 0,
              "ticks": ""
             }
            },
            "type": "scattercarpet"
           }
          ],
          "scattergeo": [
           {
            "marker": {
             "colorbar": {
              "outlinewidth": 0,
              "ticks": ""
             }
            },
            "type": "scattergeo"
           }
          ],
          "scattergl": [
           {
            "marker": {
             "colorbar": {
              "outlinewidth": 0,
              "ticks": ""
             }
            },
            "type": "scattergl"
           }
          ],
          "scattermapbox": [
           {
            "marker": {
             "colorbar": {
              "outlinewidth": 0,
              "ticks": ""
             }
            },
            "type": "scattermapbox"
           }
          ],
          "scatterpolar": [
           {
            "marker": {
             "colorbar": {
              "outlinewidth": 0,
              "ticks": ""
             }
            },
            "type": "scatterpolar"
           }
          ],
          "scatterpolargl": [
           {
            "marker": {
             "colorbar": {
              "outlinewidth": 0,
              "ticks": ""
             }
            },
            "type": "scatterpolargl"
           }
          ],
          "scatterternary": [
           {
            "marker": {
             "colorbar": {
              "outlinewidth": 0,
              "ticks": ""
             }
            },
            "type": "scatterternary"
           }
          ],
          "surface": [
           {
            "colorbar": {
             "outlinewidth": 0,
             "ticks": ""
            },
            "colorscale": [
             [
              0,
              "#0d0887"
             ],
             [
              0.1111111111111111,
              "#46039f"
             ],
             [
              0.2222222222222222,
              "#7201a8"
             ],
             [
              0.3333333333333333,
              "#9c179e"
             ],
             [
              0.4444444444444444,
              "#bd3786"
             ],
             [
              0.5555555555555556,
              "#d8576b"
             ],
             [
              0.6666666666666666,
              "#ed7953"
             ],
             [
              0.7777777777777778,
              "#fb9f3a"
             ],
             [
              0.8888888888888888,
              "#fdca26"
             ],
             [
              1,
              "#f0f921"
             ]
            ],
            "type": "surface"
           }
          ],
          "table": [
           {
            "cells": {
             "fill": {
              "color": "#EBF0F8"
             },
             "line": {
              "color": "white"
             }
            },
            "header": {
             "fill": {
              "color": "#C8D4E3"
             },
             "line": {
              "color": "white"
             }
            },
            "type": "table"
           }
          ]
         },
         "layout": {
          "annotationdefaults": {
           "arrowcolor": "#2a3f5f",
           "arrowhead": 0,
           "arrowwidth": 1
          },
          "autotypenumbers": "strict",
          "coloraxis": {
           "colorbar": {
            "outlinewidth": 0,
            "ticks": ""
           }
          },
          "colorscale": {
           "diverging": [
            [
             0,
             "#8e0152"
            ],
            [
             0.1,
             "#c51b7d"
            ],
            [
             0.2,
             "#de77ae"
            ],
            [
             0.3,
             "#f1b6da"
            ],
            [
             0.4,
             "#fde0ef"
            ],
            [
             0.5,
             "#f7f7f7"
            ],
            [
             0.6,
             "#e6f5d0"
            ],
            [
             0.7,
             "#b8e186"
            ],
            [
             0.8,
             "#7fbc41"
            ],
            [
             0.9,
             "#4d9221"
            ],
            [
             1,
             "#276419"
            ]
           ],
           "sequential": [
            [
             0,
             "#0d0887"
            ],
            [
             0.1111111111111111,
             "#46039f"
            ],
            [
             0.2222222222222222,
             "#7201a8"
            ],
            [
             0.3333333333333333,
             "#9c179e"
            ],
            [
             0.4444444444444444,
             "#bd3786"
            ],
            [
             0.5555555555555556,
             "#d8576b"
            ],
            [
             0.6666666666666666,
             "#ed7953"
            ],
            [
             0.7777777777777778,
             "#fb9f3a"
            ],
            [
             0.8888888888888888,
             "#fdca26"
            ],
            [
             1,
             "#f0f921"
            ]
           ],
           "sequentialminus": [
            [
             0,
             "#0d0887"
            ],
            [
             0.1111111111111111,
             "#46039f"
            ],
            [
             0.2222222222222222,
             "#7201a8"
            ],
            [
             0.3333333333333333,
             "#9c179e"
            ],
            [
             0.4444444444444444,
             "#bd3786"
            ],
            [
             0.5555555555555556,
             "#d8576b"
            ],
            [
             0.6666666666666666,
             "#ed7953"
            ],
            [
             0.7777777777777778,
             "#fb9f3a"
            ],
            [
             0.8888888888888888,
             "#fdca26"
            ],
            [
             1,
             "#f0f921"
            ]
           ]
          },
          "colorway": [
           "#636efa",
           "#EF553B",
           "#00cc96",
           "#ab63fa",
           "#FFA15A",
           "#19d3f3",
           "#FF6692",
           "#B6E880",
           "#FF97FF",
           "#FECB52"
          ],
          "font": {
           "color": "#2a3f5f"
          },
          "geo": {
           "bgcolor": "white",
           "lakecolor": "white",
           "landcolor": "#E5ECF6",
           "showlakes": true,
           "showland": true,
           "subunitcolor": "white"
          },
          "hoverlabel": {
           "align": "left"
          },
          "hovermode": "closest",
          "mapbox": {
           "style": "light"
          },
          "paper_bgcolor": "white",
          "plot_bgcolor": "#E5ECF6",
          "polar": {
           "angularaxis": {
            "gridcolor": "white",
            "linecolor": "white",
            "ticks": ""
           },
           "bgcolor": "#E5ECF6",
           "radialaxis": {
            "gridcolor": "white",
            "linecolor": "white",
            "ticks": ""
           }
          },
          "scene": {
           "xaxis": {
            "backgroundcolor": "#E5ECF6",
            "gridcolor": "white",
            "gridwidth": 2,
            "linecolor": "white",
            "showbackground": true,
            "ticks": "",
            "zerolinecolor": "white"
           },
           "yaxis": {
            "backgroundcolor": "#E5ECF6",
            "gridcolor": "white",
            "gridwidth": 2,
            "linecolor": "white",
            "showbackground": true,
            "ticks": "",
            "zerolinecolor": "white"
           },
           "zaxis": {
            "backgroundcolor": "#E5ECF6",
            "gridcolor": "white",
            "gridwidth": 2,
            "linecolor": "white",
            "showbackground": true,
            "ticks": "",
            "zerolinecolor": "white"
           }
          },
          "shapedefaults": {
           "line": {
            "color": "#2a3f5f"
           }
          },
          "ternary": {
           "aaxis": {
            "gridcolor": "white",
            "linecolor": "white",
            "ticks": ""
           },
           "baxis": {
            "gridcolor": "white",
            "linecolor": "white",
            "ticks": ""
           },
           "bgcolor": "#E5ECF6",
           "caxis": {
            "gridcolor": "white",
            "linecolor": "white",
            "ticks": ""
           }
          },
          "title": {
           "x": 0.05
          },
          "xaxis": {
           "automargin": true,
           "gridcolor": "white",
           "linecolor": "white",
           "ticks": "",
           "title": {
            "standoff": 15
           },
           "zerolinecolor": "white",
           "zerolinewidth": 2
          },
          "yaxis": {
           "automargin": true,
           "gridcolor": "white",
           "linecolor": "white",
           "ticks": "",
           "title": {
            "standoff": 15
           },
           "zerolinecolor": "white",
           "zerolinewidth": 2
          }
         }
        },
        "title": {
         "text": "SNR predicted by the model"
        },
        "xaxis": {
         "title": {
          "text": "PSO estimated SNR"
         }
        },
        "yaxis": {
         "title": {
          "text": "NN estimated SNR"
         }
        }
       }
      },
      "text/html": [
       "<div>                            <div id=\"87d57762-af91-4a02-88b6-ea27ab469e98\" class=\"plotly-graph-div\" style=\"height:525px; width:100%;\"></div>            <script type=\"text/javascript\">                require([\"plotly\"], function(Plotly) {                    window.PLOTLYENV=window.PLOTLYENV || {};                                    if (document.getElementById(\"87d57762-af91-4a02-88b6-ea27ab469e98\")) {                    Plotly.newPlot(                        \"87d57762-af91-4a02-88b6-ea27ab469e98\",                        [{\"mode\": \"lines\", \"name\": \"x=y\", \"type\": \"scatter\", \"x\": [5, 10, 15, 20, 25, 30, 35, 40], \"y\": [5, 10, 15, 20, 25, 30, 35, 40]}, {\"mode\": \"markers\", \"name\": \"SNR\", \"type\": \"scatter\", \"x\": [29.82577388503549, 25.155846090724843, 3.886234935057774, 11.11129236669202, 18.205028073610727, 27.91316289428774, 4.491268786561629, 12.305089708519311, 16.623615223051132, 15.943812600001229, 29.378579140817465, 10.09850568396491, 12.328334090026075, 24.93562077519996, 11.553800236554148, 13.739722500160672, 23.251579338654544, 23.682536534309897, 29.47945600757235, 21.37671022211571, 17.551458687131674, 29.94623096750077, 18.52939897530216, 18.939026536400625, 23.992023416534728, 23.60699025033467, 23.736795969468297, 17.573750958651623, 19.372808571055668, 19.29115931336091, 3.750432109852092, 13.958499022312926, 24.56193349227524, 18.99439077044935, 13.43807934046713, 20.02669902336594, 20.362491255650145, 39.03133886037485, 20.838399346847005, 11.152349323411142, 21.127305936627728, 14.732606289594967, 17.838358146998058, 24.136127735416142, 19.411714700624003, 16.679634978240024, 33.13389928942938, 16.491247369118135, 30.817699747949792, 23.888746107170583, 12.640939089718822, 23.242271517356865, 18.14903471136056, 12.849541183640644, 26.08886346655732, 21.24188706541701, 20.104788485926704, 15.680971008468587, 16.06273564666389, 28.845151143725804, 37.02073975111741, 8.58237641516485, 31.30308012180853, 15.910955231227618, 15.330111583182044, 18.62171338979149, 16.14987659605448, 9.430792300208209, 9.371575133886743, 8.213791468477453, 25.31510218283032, 12.58355839965596, 21.84951571879482, 20.876225663675008, 14.29302775929113, 16.19957273098358, 23.44821618365372, 23.72685358476168, 5.636769440262205, 13.704852604828696, 17.609890400137648, 4.740159417351473, 22.269747516238134, 25.2730752023114, 19.846060417887227, 13.820988549888346, 30.756439897787185, 13.678026195796878, 35.33837910912241, 24.70415971002039, 25.69532245764305, 29.023340759158696, 17.139664917915955, 15.640441836346332, 34.36079043246191, 30.9266953241254, 14.847471002295531, 11.589083608707876, 27.10567621872454, 31.234825684442008], \"y\": [25.144630432128906, 10.777029991149902, 9.019838333129883, 19.75271224975586, 9.157938003540039, 32.102657318115234, 11.70855712890625, 27.74493408203125, 22.313888549804688, 28.253910064697266, 14.348127365112305, 18.47616958618164, 25.229904174804688, 35.048118591308594, 25.90804672241211, 14.180660247802734, 14.872703552246094, 13.17782211303711, 22.109331130981445, 26.28675079345703, 29.017532348632812, 35.2845344543457, 17.71162986755371, 16.052459716796875, 20.119644165039062, 27.948078155517578, 22.807964324951172, 27.271038055419922, 25.785228729248047, 31.48485565185547, 24.026382446289062, 30.723369598388672, 8.936015129089355, 24.14499282836914, 15.343343734741211, 17.76044464111328, 20.699047088623047, 19.183927536010742, 32.03255081176758, 19.12828826904297, 20.486560821533203, 24.37171173095703, 26.16745376586914, 15.322996139526367, 22.653499603271484, 19.00482940673828, 14.393683433532715, 13.675321578979492, 30.74604034423828, 17.413433074951172, 38.977291107177734, 25.740406036376953, 25.34250259399414, 19.40135955810547, 12.840970993041992, 18.185638427734375, 17.37272834777832, 15.041929244995117, 34.068782806396484, 10.917441368103027, 19.447952270507812, 30.611766815185547, 32.81443786621094, 31.95809555053711, 37.956565856933594, 16.342987060546875, 20.45541763305664, 21.7191162109375, 14.321839332580566, 21.997570037841797, 33.27135467529297, 18.90987205505371, 12.78177261352539, 15.222664833068848, 21.09563636779785, 25.716365814208984, 9.42093276977539, 17.379379272460938, 32.82514190673828, 17.12007713317871, 17.952054977416992, 25.162109375, 31.37215805053711, 23.081275939941406, 21.923221588134766, 7.97852897644043, 26.891098022460938, 19.17003631591797, 18.50843048095703, 15.21383285522461, 15.023815155029297, 18.386062622070312, 27.92699432373047, 18.844970703125, 29.546546936035156, 22.29491424560547, 25.642288208007812, 17.837635040283203, 20.309715270996094, 25.943618774414062]}],                        {\"template\": {\"data\": {\"bar\": [{\"error_x\": {\"color\": \"#2a3f5f\"}, \"error_y\": {\"color\": \"#2a3f5f\"}, \"marker\": {\"line\": {\"color\": \"#E5ECF6\", \"width\": 0.5}}, \"type\": \"bar\"}], \"barpolar\": [{\"marker\": {\"line\": {\"color\": \"#E5ECF6\", \"width\": 0.5}}, \"type\": \"barpolar\"}], \"carpet\": [{\"aaxis\": {\"endlinecolor\": \"#2a3f5f\", \"gridcolor\": \"white\", \"linecolor\": \"white\", \"minorgridcolor\": \"white\", \"startlinecolor\": \"#2a3f5f\"}, \"baxis\": {\"endlinecolor\": \"#2a3f5f\", \"gridcolor\": \"white\", \"linecolor\": \"white\", \"minorgridcolor\": \"white\", \"startlinecolor\": \"#2a3f5f\"}, \"type\": \"carpet\"}], \"choropleth\": [{\"colorbar\": {\"outlinewidth\": 0, \"ticks\": \"\"}, \"type\": \"choropleth\"}], \"contour\": [{\"colorbar\": {\"outlinewidth\": 0, \"ticks\": \"\"}, \"colorscale\": [[0.0, \"#0d0887\"], [0.1111111111111111, \"#46039f\"], [0.2222222222222222, \"#7201a8\"], [0.3333333333333333, \"#9c179e\"], [0.4444444444444444, \"#bd3786\"], [0.5555555555555556, \"#d8576b\"], [0.6666666666666666, \"#ed7953\"], [0.7777777777777778, \"#fb9f3a\"], [0.8888888888888888, \"#fdca26\"], [1.0, \"#f0f921\"]], \"type\": \"contour\"}], \"contourcarpet\": [{\"colorbar\": {\"outlinewidth\": 0, \"ticks\": \"\"}, \"type\": \"contourcarpet\"}], \"heatmap\": [{\"colorbar\": {\"outlinewidth\": 0, \"ticks\": \"\"}, \"colorscale\": [[0.0, \"#0d0887\"], [0.1111111111111111, \"#46039f\"], [0.2222222222222222, \"#7201a8\"], [0.3333333333333333, \"#9c179e\"], [0.4444444444444444, \"#bd3786\"], [0.5555555555555556, \"#d8576b\"], [0.6666666666666666, \"#ed7953\"], [0.7777777777777778, \"#fb9f3a\"], [0.8888888888888888, \"#fdca26\"], [1.0, \"#f0f921\"]], \"type\": \"heatmap\"}], \"heatmapgl\": [{\"colorbar\": {\"outlinewidth\": 0, \"ticks\": \"\"}, \"colorscale\": [[0.0, \"#0d0887\"], [0.1111111111111111, \"#46039f\"], [0.2222222222222222, \"#7201a8\"], [0.3333333333333333, \"#9c179e\"], [0.4444444444444444, \"#bd3786\"], [0.5555555555555556, \"#d8576b\"], [0.6666666666666666, \"#ed7953\"], [0.7777777777777778, \"#fb9f3a\"], [0.8888888888888888, \"#fdca26\"], [1.0, \"#f0f921\"]], \"type\": \"heatmapgl\"}], \"histogram\": [{\"marker\": {\"colorbar\": {\"outlinewidth\": 0, \"ticks\": \"\"}}, \"type\": \"histogram\"}], \"histogram2d\": [{\"colorbar\": {\"outlinewidth\": 0, \"ticks\": \"\"}, \"colorscale\": [[0.0, \"#0d0887\"], [0.1111111111111111, \"#46039f\"], [0.2222222222222222, \"#7201a8\"], [0.3333333333333333, \"#9c179e\"], [0.4444444444444444, \"#bd3786\"], [0.5555555555555556, \"#d8576b\"], [0.6666666666666666, \"#ed7953\"], [0.7777777777777778, \"#fb9f3a\"], [0.8888888888888888, \"#fdca26\"], [1.0, \"#f0f921\"]], \"type\": \"histogram2d\"}], \"histogram2dcontour\": [{\"colorbar\": {\"outlinewidth\": 0, \"ticks\": \"\"}, \"colorscale\": [[0.0, \"#0d0887\"], [0.1111111111111111, \"#46039f\"], [0.2222222222222222, \"#7201a8\"], [0.3333333333333333, \"#9c179e\"], [0.4444444444444444, \"#bd3786\"], [0.5555555555555556, \"#d8576b\"], [0.6666666666666666, \"#ed7953\"], [0.7777777777777778, \"#fb9f3a\"], [0.8888888888888888, \"#fdca26\"], [1.0, \"#f0f921\"]], \"type\": \"histogram2dcontour\"}], \"mesh3d\": [{\"colorbar\": {\"outlinewidth\": 0, \"ticks\": \"\"}, \"type\": \"mesh3d\"}], \"parcoords\": [{\"line\": {\"colorbar\": {\"outlinewidth\": 0, \"ticks\": \"\"}}, \"type\": \"parcoords\"}], \"pie\": [{\"automargin\": true, \"type\": \"pie\"}], \"scatter\": [{\"marker\": {\"colorbar\": {\"outlinewidth\": 0, \"ticks\": \"\"}}, \"type\": \"scatter\"}], \"scatter3d\": [{\"line\": {\"colorbar\": {\"outlinewidth\": 0, \"ticks\": \"\"}}, \"marker\": {\"colorbar\": {\"outlinewidth\": 0, \"ticks\": \"\"}}, \"type\": \"scatter3d\"}], \"scattercarpet\": [{\"marker\": {\"colorbar\": {\"outlinewidth\": 0, \"ticks\": \"\"}}, \"type\": \"scattercarpet\"}], \"scattergeo\": [{\"marker\": {\"colorbar\": {\"outlinewidth\": 0, \"ticks\": \"\"}}, \"type\": \"scattergeo\"}], \"scattergl\": [{\"marker\": {\"colorbar\": {\"outlinewidth\": 0, \"ticks\": \"\"}}, \"type\": \"scattergl\"}], \"scattermapbox\": [{\"marker\": {\"colorbar\": {\"outlinewidth\": 0, \"ticks\": \"\"}}, \"type\": \"scattermapbox\"}], \"scatterpolar\": [{\"marker\": {\"colorbar\": {\"outlinewidth\": 0, \"ticks\": \"\"}}, \"type\": \"scatterpolar\"}], \"scatterpolargl\": [{\"marker\": {\"colorbar\": {\"outlinewidth\": 0, \"ticks\": \"\"}}, \"type\": \"scatterpolargl\"}], \"scatterternary\": [{\"marker\": {\"colorbar\": {\"outlinewidth\": 0, \"ticks\": \"\"}}, \"type\": \"scatterternary\"}], \"surface\": [{\"colorbar\": {\"outlinewidth\": 0, \"ticks\": \"\"}, \"colorscale\": [[0.0, \"#0d0887\"], [0.1111111111111111, \"#46039f\"], [0.2222222222222222, \"#7201a8\"], [0.3333333333333333, \"#9c179e\"], [0.4444444444444444, \"#bd3786\"], [0.5555555555555556, \"#d8576b\"], [0.6666666666666666, \"#ed7953\"], [0.7777777777777778, \"#fb9f3a\"], [0.8888888888888888, \"#fdca26\"], [1.0, \"#f0f921\"]], \"type\": \"surface\"}], \"table\": [{\"cells\": {\"fill\": {\"color\": \"#EBF0F8\"}, \"line\": {\"color\": \"white\"}}, \"header\": {\"fill\": {\"color\": \"#C8D4E3\"}, \"line\": {\"color\": \"white\"}}, \"type\": \"table\"}]}, \"layout\": {\"annotationdefaults\": {\"arrowcolor\": \"#2a3f5f\", \"arrowhead\": 0, \"arrowwidth\": 1}, \"autotypenumbers\": \"strict\", \"coloraxis\": {\"colorbar\": {\"outlinewidth\": 0, \"ticks\": \"\"}}, \"colorscale\": {\"diverging\": [[0, \"#8e0152\"], [0.1, \"#c51b7d\"], [0.2, \"#de77ae\"], [0.3, \"#f1b6da\"], [0.4, \"#fde0ef\"], [0.5, \"#f7f7f7\"], [0.6, \"#e6f5d0\"], [0.7, \"#b8e186\"], [0.8, \"#7fbc41\"], [0.9, \"#4d9221\"], [1, \"#276419\"]], \"sequential\": [[0.0, \"#0d0887\"], [0.1111111111111111, \"#46039f\"], [0.2222222222222222, \"#7201a8\"], [0.3333333333333333, \"#9c179e\"], [0.4444444444444444, \"#bd3786\"], [0.5555555555555556, \"#d8576b\"], [0.6666666666666666, \"#ed7953\"], [0.7777777777777778, \"#fb9f3a\"], [0.8888888888888888, \"#fdca26\"], [1.0, \"#f0f921\"]], \"sequentialminus\": [[0.0, \"#0d0887\"], [0.1111111111111111, \"#46039f\"], [0.2222222222222222, \"#7201a8\"], [0.3333333333333333, \"#9c179e\"], [0.4444444444444444, \"#bd3786\"], [0.5555555555555556, \"#d8576b\"], [0.6666666666666666, \"#ed7953\"], [0.7777777777777778, \"#fb9f3a\"], [0.8888888888888888, \"#fdca26\"], [1.0, \"#f0f921\"]]}, \"colorway\": [\"#636efa\", \"#EF553B\", \"#00cc96\", \"#ab63fa\", \"#FFA15A\", \"#19d3f3\", \"#FF6692\", \"#B6E880\", \"#FF97FF\", \"#FECB52\"], \"font\": {\"color\": \"#2a3f5f\"}, \"geo\": {\"bgcolor\": \"white\", \"lakecolor\": \"white\", \"landcolor\": \"#E5ECF6\", \"showlakes\": true, \"showland\": true, \"subunitcolor\": \"white\"}, \"hoverlabel\": {\"align\": \"left\"}, \"hovermode\": \"closest\", \"mapbox\": {\"style\": \"light\"}, \"paper_bgcolor\": \"white\", \"plot_bgcolor\": \"#E5ECF6\", \"polar\": {\"angularaxis\": {\"gridcolor\": \"white\", \"linecolor\": \"white\", \"ticks\": \"\"}, \"bgcolor\": \"#E5ECF6\", \"radialaxis\": {\"gridcolor\": \"white\", \"linecolor\": \"white\", \"ticks\": \"\"}}, \"scene\": {\"xaxis\": {\"backgroundcolor\": \"#E5ECF6\", \"gridcolor\": \"white\", \"gridwidth\": 2, \"linecolor\": \"white\", \"showbackground\": true, \"ticks\": \"\", \"zerolinecolor\": \"white\"}, \"yaxis\": {\"backgroundcolor\": \"#E5ECF6\", \"gridcolor\": \"white\", \"gridwidth\": 2, \"linecolor\": \"white\", \"showbackground\": true, \"ticks\": \"\", \"zerolinecolor\": \"white\"}, \"zaxis\": {\"backgroundcolor\": \"#E5ECF6\", \"gridcolor\": \"white\", \"gridwidth\": 2, \"linecolor\": \"white\", \"showbackground\": true, \"ticks\": \"\", \"zerolinecolor\": \"white\"}}, \"shapedefaults\": {\"line\": {\"color\": \"#2a3f5f\"}}, \"ternary\": {\"aaxis\": {\"gridcolor\": \"white\", \"linecolor\": \"white\", \"ticks\": \"\"}, \"baxis\": {\"gridcolor\": \"white\", \"linecolor\": \"white\", \"ticks\": \"\"}, \"bgcolor\": \"#E5ECF6\", \"caxis\": {\"gridcolor\": \"white\", \"linecolor\": \"white\", \"ticks\": \"\"}}, \"title\": {\"x\": 0.05}, \"xaxis\": {\"automargin\": true, \"gridcolor\": \"white\", \"linecolor\": \"white\", \"ticks\": \"\", \"title\": {\"standoff\": 15}, \"zerolinecolor\": \"white\", \"zerolinewidth\": 2}, \"yaxis\": {\"automargin\": true, \"gridcolor\": \"white\", \"linecolor\": \"white\", \"ticks\": \"\", \"title\": {\"standoff\": 15}, \"zerolinecolor\": \"white\", \"zerolinewidth\": 2}}}, \"title\": {\"text\": \"SNR predicted by the model\"}, \"xaxis\": {\"title\": {\"text\": \"PSO estimated SNR\"}}, \"yaxis\": {\"title\": {\"text\": \"NN estimated SNR\"}}},                        {\"responsive\": true}                    ).then(function(){\n",
       "                            \n",
       "var gd = document.getElementById('87d57762-af91-4a02-88b6-ea27ab469e98');\n",
       "var x = new MutationObserver(function (mutations, observer) {{\n",
       "        var display = window.getComputedStyle(gd).display;\n",
       "        if (!display || display === 'none') {{\n",
       "            console.log([gd, 'removed!']);\n",
       "            Plotly.purge(gd);\n",
       "            observer.disconnect();\n",
       "        }}\n",
       "}});\n",
       "\n",
       "// Listen for the removal of the full notebook cells\n",
       "var notebookContainer = gd.closest('#notebook-container');\n",
       "if (notebookContainer) {{\n",
       "    x.observe(notebookContainer, {childList: true});\n",
       "}}\n",
       "\n",
       "// Listen for the clearing of the current output cell\n",
       "var outputEl = gd.closest('.output');\n",
       "if (outputEl) {{\n",
       "    x.observe(outputEl, {childList: true});\n",
       "}}\n",
       "\n",
       "                        })                };                });            </script>        </div>"
      ]
     },
     "metadata": {},
     "output_type": "display_data"
    }
   ],
   "source": [
    "fig = go.Figure()\n",
    "x=[5,10,15,20,25,30,35,40]\n",
    "fig.add_trace(go.Scatter(x=x,y=x,mode='lines',name='x=y'))\n",
    "fig.add_trace(go.Scatter(x=final_snr, y=est_snr,mode='markers',name='SNR'))\n",
    "fig.update_layout(title='SNR predicted by the model',xaxis_title=\"PSO estimated SNR\",yaxis_title=\"NN estimated SNR\")\n",
    "fig.show()"
   ]
  },
  {
   "cell_type": "code",
   "execution_count": 32,
   "id": "0f2cbf81",
   "metadata": {},
   "outputs": [
    {
     "data": {
      "application/vnd.plotly.v1+json": {
       "config": {
        "plotlyServerURL": "https://plot.ly"
       },
       "data": [
        {
         "autobinx": false,
         "histnorm": "probability density",
         "legendgroup": "SNR",
         "marker": {
          "color": "#A56CC1"
         },
         "name": "SNR",
         "opacity": 0.7,
         "type": "histogram",
         "x": [
          -10.015606010725149,
          -2.615676910082147,
          -15.423974133300224,
          10.696283151301635,
          -4.102782528306225,
          -1.4562001121433967,
          -4.989612253342603,
          -2.691454447441167,
          0.10475268503056512,
          -11.217321971001477,
          11.952758794913695,
          -14.266186271814448,
          -23.862105766978644,
          -1.3427892204008174,
          19.312114878392066,
          6.776248135820396,
          22.201191776232406,
          4.156089674357865,
          -9.918249085538502,
          2.282007847908968,
          13.897301749244157,
          5.485364493962564,
          11.695856033202936,
          7.156693774451536,
          -14.22178182500921,
          3.8641793393280093,
          -12.20406191038336,
          20.42139865564377,
          -4.904504084600502,
          19.621641158506137,
          -7.706006817532204,
          -18.66465469671273,
          -11.005695298109261,
          19.679054727546855,
          -17.315849884375766,
          28.77637401404013,
          -8.720149319209458,
          -29.416424600304637,
          3.6231746210085127,
          -1.2054181513712372,
          -40.13708669762336,
          -7.485652828568714,
          -19.781285240194684,
          7.40808452110074,
          5.948174915549462,
          13.891085175578507,
          -9.633737707549361,
          -5.189894962090152,
          16.067266649341125,
          8.796966787887367,
          -1.4234703830258617,
          5.8426325804283366,
          0.8456537264572432,
          13.50474884386491,
          -8.977149163444658,
          -10.247557074657482,
          -8.357471346352417,
          -2.934041203019998,
          8.59648885431342,
          -14.76987013200743,
          14.847964737409676,
          -0.23901734095377591,
          -5.442373059220042,
          5.103476596968855,
          -25.482536170394127,
          -2.3311981674275994,
          -10.552149502306953,
          -6.395627601375418,
          -24.02755027631264,
          -29.42010898554497,
          -7.945068024775098,
          -10.345573579852424,
          -17.707555182291756,
          7.179465776152071,
          -10.62119050055291,
          -10.543552936558672,
          3.037337368325053,
          -7.212246303072618,
          -14.032028812387571,
          -6.3976432257144,
          8.283701507566398,
          -3.650852979120451,
          -5.04097453626542,
          -10.325471972717276,
          -0.6628457104474244,
          -6.386525329351386,
          -13.739329088527988,
          -9.622069725621836,
          -24.902639792470342,
          -7.681928566297358,
          -42.77455817493543,
          -4.844460529098631,
          15.2751787912743,
          -27.410849954776566,
          -4.736524989492653,
          -1.792918309712892,
          -19.68281273427803,
          -5.145277398762278,
          -13.476493399179098,
          -18.58088357909159
         ],
         "xaxis": "x",
         "xbins": {
          "end": 28.77637401404013,
          "size": 1,
          "start": -42.77455817493543
         },
         "yaxis": "y"
        },
        {
         "legendgroup": "SNR",
         "marker": {
          "color": "#A56CC1"
         },
         "mode": "lines",
         "name": "SNR",
         "showlegend": false,
         "type": "scatter",
         "x": [
          -42.77455817493543,
          -42.631456310557475,
          -42.48835444617953,
          -42.345252581801574,
          -42.20215071742362,
          -42.059048853045674,
          -41.91594698866772,
          -41.77284512428977,
          -41.62974325991182,
          -41.486641395533866,
          -41.34353953115592,
          -41.200437666777965,
          -41.05733580240002,
          -40.914233938022065,
          -40.77113207364411,
          -40.628030209266164,
          -40.48492834488821,
          -40.34182648051026,
          -40.19872461613231,
          -40.055622751754356,
          -39.9125208873764,
          -39.769419022998456,
          -39.6263171586205,
          -39.483215294242555,
          -39.3401134298646,
          -39.19701156548665,
          -39.0539097011087,
          -38.91080783673075,
          -38.7677059723528,
          -38.62460410797485,
          -38.48150224359689,
          -38.338400379218946,
          -38.19529851484099,
          -38.052196650463046,
          -37.90909478608509,
          -37.76599292170714,
          -37.622891057329184,
          -37.47978919295124,
          -37.336687328573284,
          -37.19358546419534,
          -37.05048359981738,
          -36.90738173543943,
          -36.76427987106148,
          -36.62117800668353,
          -36.47807614230558,
          -36.33497427792763,
          -36.191872413549675,
          -36.04877054917173,
          -35.905668684793774,
          -35.76256682041583,
          -35.61946495603787,
          -35.47636309165992,
          -35.333261227281966,
          -35.19015936290402,
          -35.047057498526065,
          -34.90395563414812,
          -34.760853769770165,
          -34.61775190539221,
          -34.474650041014264,
          -34.33154817663631,
          -34.188446312258364,
          -34.04534444788041,
          -33.902242583502456,
          -33.75914071912451,
          -33.616038854746556,
          -33.4729369903686,
          -33.329835125990655,
          -33.1867332616127,
          -33.04363139723475,
          -32.9005295328568,
          -32.757427668478854,
          -32.6143258041009,
          -32.47122393972295,
          -32.32812207534499,
          -32.185020210967046,
          -32.04191834658909,
          -31.898816482211142,
          -31.755714617833192,
          -31.612612753455238,
          -31.46951088907729,
          -31.326409024699338,
          -31.183307160321387,
          -31.040205295943437,
          -30.897103431565483,
          -30.754001567187537,
          -30.610899702809583,
          -30.46779783843163,
          -30.32469597405368,
          -30.18159410967573,
          -30.03849224529778,
          -29.895390380919828,
          -29.752288516541874,
          -29.609186652163924,
          -29.466084787785974,
          -29.32298292340802,
          -29.179881059030073,
          -29.03677919465212,
          -28.89367733027417,
          -28.75057546589622,
          -28.607473601518265,
          -28.464371737140315,
          -28.321269872762365,
          -28.178168008384414,
          -28.035066144006464,
          -27.89196427962851,
          -27.74886241525056,
          -27.60576055087261,
          -27.462658686494656,
          -27.319556822116706,
          -27.176454957738756,
          -27.033353093360805,
          -26.890251228982855,
          -26.7471493646049,
          -26.60404750022695,
          -26.460945635849,
          -26.31784377147105,
          -26.174741907093097,
          -26.031640042715146,
          -25.888538178337196,
          -25.745436313959242,
          -25.602334449581292,
          -25.459232585203342,
          -25.31613072082539,
          -25.17302885644744,
          -25.029926992069488,
          -24.886825127691537,
          -24.743723263313587,
          -24.600621398935633,
          -24.457519534557683,
          -24.314417670179733,
          -24.17131580580178,
          -24.028213941423832,
          -23.885112077045882,
          -23.742010212667928,
          -23.598908348289978,
          -23.455806483912024,
          -23.312704619534074,
          -23.169602755156124,
          -23.02650089077817,
          -22.88339902640022,
          -22.740297162022273,
          -22.59719529764432,
          -22.45409343326637,
          -22.31099156888842,
          -22.167889704510465,
          -22.024787840132515,
          -21.881685975754564,
          -21.73858411137661,
          -21.59548224699866,
          -21.45238038262071,
          -21.30927851824276,
          -21.16617665386481,
          -21.023074789486856,
          -20.879972925108905,
          -20.736871060730955,
          -20.593769196353,
          -20.45066733197505,
          -20.3075654675971,
          -20.16446360321915,
          -20.0213617388412,
          -19.878259874463247,
          -19.735158010085296,
          -19.592056145707346,
          -19.448954281329392,
          -19.305852416951442,
          -19.162750552573492,
          -19.019648688195538,
          -18.87654682381759,
          -18.73344495943964,
          -18.590343095061687,
          -18.447241230683737,
          -18.304139366305787,
          -18.161037501927833,
          -18.017935637549883,
          -17.87483377317193,
          -17.73173190879398,
          -17.588630044416032,
          -17.445528180038078,
          -17.302426315660128,
          -17.159324451282178,
          -17.016222586904224,
          -16.873120722526274,
          -16.730018858148323,
          -16.58691699377037,
          -16.44381512939242,
          -16.300713265014473,
          -16.15761140063652,
          -16.01450953625857,
          -15.871407671880615,
          -15.728305807502664,
          -15.585203943124714,
          -15.44210207874676,
          -15.29900021436881,
          -15.155898349990863,
          -15.01279648561291,
          -14.86969462123496,
          -14.72659275685701,
          -14.583490892479055,
          -14.440389028101105,
          -14.297287163723151,
          -14.154185299345201,
          -14.01108343496725,
          -13.867981570589297,
          -13.72487970621135,
          -13.5817778418334,
          -13.438675977455446,
          -13.295574113077496,
          -13.152472248699546,
          -13.009370384321592,
          -12.866268519943642,
          -12.723166655565691,
          -12.580064791187738,
          -12.436962926809791,
          -12.293861062431837,
          -12.150759198053887,
          -12.007657333675937,
          -11.864555469297983,
          -11.721453604920033,
          -11.578351740542082,
          -11.435249876164129,
          -11.292148011786182,
          -11.149046147408232,
          -11.005944283030278,
          -10.862842418652328,
          -10.719740554274374,
          -10.576638689896427,
          -10.433536825518473,
          -10.29043496114052,
          -10.147333096762573,
          -10.004231232384619,
          -9.861129368006672,
          -9.718027503628718,
          -9.574925639250765,
          -9.431823774872818,
          -9.288721910494864,
          -9.14562004611691,
          -9.002518181738964,
          -8.85941631736101,
          -8.716314452983056,
          -8.57321258860511,
          -8.430110724227156,
          -8.287008859849202,
          -8.143906995471255,
          -8.000805131093308,
          -7.857703266715355,
          -7.714601402337401,
          -7.571499537959454,
          -7.4283976735815,
          -7.2852958092035465,
          -7.1421939448256,
          -6.999092080447646,
          -6.855990216069692,
          -6.7128883516917455,
          -6.569786487313792,
          -6.426684622935838,
          -6.283582758557891,
          -6.140480894179937,
          -5.997379029801984,
          -5.854277165424037,
          -5.711175301046083,
          -5.568073436668129,
          -5.42497157229019,
          -5.281869707912236,
          -5.138767843534282,
          -4.995665979156335,
          -4.852564114778382,
          -4.709462250400428,
          -4.566360386022481,
          -4.423258521644527,
          -4.2801566572665735,
          -4.13705479288862,
          -3.993952928510673,
          -3.850851064132719,
          -3.7077491997547654,
          -3.5646473353768187,
          -3.421545470998865,
          -3.278443606620911,
          -3.1353417422429644,
          -2.9922398778650106,
          -2.849138013487064,
          -2.706036149109117,
          -2.5629342847311634,
          -2.4198324203532096,
          -2.276730555975263,
          -2.133628691597309,
          -1.9905268272193553,
          -1.8474249628414086,
          -1.7043230984634548,
          -1.561221234085501,
          -1.4181193697075543,
          -1.2750175053296005,
          -1.1319156409516467,
          -0.9888137765737,
          -0.8457119121957462,
          -0.7026100478177923,
          -0.5595081834398385,
          -0.41640631906189185,
          -0.27330445468394515,
          -0.13020259030599135,
          0.012899274071955347,
          0.15600113844990915,
          0.29910300282786295,
          0.44220486720580965,
          0.5853067315837635,
          0.7284085959617173,
          0.871510460339664,
          1.0146123247176178,
          1.1577141890955716,
          1.3008160534735183,
          1.443917917851472,
          1.5870197822294259,
          1.7301216466073726,
          1.8732235109853264,
          2.01632537536328,
          2.159427239741227,
          2.3025291041191736,
          2.4456309684971274,
          2.588732832875074,
          2.731834697253028,
          2.8749365616309817,
          3.0180384260089355,
          3.161140290386882,
          3.304242154764836,
          3.4473440191427898,
          3.5904458835207365,
          3.7335477478986903,
          3.876649612276644,
          4.019751476654591,
          4.162853341032545,
          4.305955205410498,
          4.449057069788445,
          4.592158934166399,
          4.735260798544353,
          4.878362662922292,
          5.021464527300246,
          5.1645663916782,
          5.307668256056147,
          5.4507701204341,
          5.593871984812054,
          5.736973849190001,
          5.880075713567955,
          6.0231775779459085,
          6.166279442323855,
          6.309381306701809,
          6.452483171079763,
          6.5955850354577095,
          6.738686899835663,
          6.881788764213617,
          7.024890628591571,
          7.167992492969518,
          7.311094357347471,
          7.454196221725418,
          7.597298086103365,
          7.740399950481319,
          7.883501814859272,
          8.026603679237219,
          8.169705543615173,
          8.312807407993127,
          8.455909272371073,
          8.599011136749027,
          8.742113001126981,
          8.885214865504928,
          9.028316729882881,
          9.171418594260835,
          9.314520458638782,
          9.457622323016736,
          9.60072418739469,
          9.743826051772636,
          9.88692791615059,
          10.030029780528537,
          10.173131644906483,
          10.316233509284437,
          10.459335373662391,
          10.602437238040345,
          10.745539102418292,
          10.888640966796245,
          11.0317428311742,
          11.174844695552146,
          11.3179465599301,
          11.461048424308053,
          11.604150288686,
          11.747252153063954,
          11.890354017441908,
          12.033455881819854,
          12.176557746197808,
          12.319659610575762,
          12.462761474953702,
          12.605863339331655,
          12.74896520370961,
          12.892067068087556,
          13.03516893246551,
          13.178270796843464,
          13.32137266122141,
          13.464474525599364,
          13.607576389977318,
          13.750678254355265,
          13.893780118733218,
          14.036881983111172,
          14.179983847489126,
          14.323085711867073,
          14.466187576245026,
          14.60928944062298,
          14.752391305000927,
          14.89549316937888,
          15.038595033756835,
          15.181696898134774,
          15.324798762512728,
          15.467900626890682,
          15.611002491268628,
          15.754104355646582,
          15.897206220024536,
          16.040308084402483,
          16.183409948780437,
          16.32651181315839,
          16.469613677536337,
          16.61271554191429,
          16.755817406292245,
          16.89891927067019,
          17.042021135048145,
          17.1851229994261,
          17.328224863804046,
          17.471326728182,
          17.614428592559953,
          17.7575304569379,
          17.900632321315847,
          18.0437341856938,
          18.186836050071754,
          18.3299379144497,
          18.473039778827655,
          18.61614164320561,
          18.759243507583555,
          18.90234537196151,
          19.045447236339463,
          19.18854910071741,
          19.331650965095363,
          19.474752829473317,
          19.617854693851264,
          19.760956558229218,
          19.90405842260717,
          20.047160286985118,
          20.190262151363065,
          20.33336401574102,
          20.476465880118965,
          20.61956774449692,
          20.762669608874873,
          20.90577147325282,
          21.048873337630774,
          21.191975202008727,
          21.33507706638668,
          21.47817893076462,
          21.621280795142575,
          21.76438265952053,
          21.907484523898482,
          22.050586388276436,
          22.19368825265439,
          22.33679011703233,
          22.479891981410283,
          22.622993845788237,
          22.76609571016619,
          22.90919757454413,
          23.052299438922084,
          23.195401303300038,
          23.33850316767799,
          23.481605032055946,
          23.6247068964339,
          23.767808760811853,
          23.910910625189793,
          24.054012489567747,
          24.1971143539457,
          24.340216218323654,
          24.483318082701608,
          24.62641994707956,
          24.7695218114575,
          24.912623675835455,
          25.05572554021341,
          25.198827404591363,
          25.341929268969317,
          25.48503113334727,
          25.62813299772521,
          25.771234862103164,
          25.914336726481118,
          26.05743859085907,
          26.200540455237025,
          26.34364231961498,
          26.48674418399292,
          26.629846048370858,
          26.772947912748812,
          26.916049777126766,
          27.05915164150472,
          27.202253505882673,
          27.345355370260627,
          27.488457234638567,
          27.63155909901652,
          27.774660963394474,
          27.917762827772428,
          28.060864692150382,
          28.203966556528336,
          28.347068420906275,
          28.49017028528423,
          28.633272149662183
         ],
         "xaxis": "x",
         "y": [
          0.001499757024589799,
          0.0015144347769976301,
          0.0015285850380924455,
          0.0015422129537868224,
          0.001555326163593419,
          0.0015679348384231896,
          0.001580051709849061,
          0.0015916920905508969,
          0.0016028738856919231,
          0.0016136175950127501,
          0.0016239463054667914,
          0.0016338856742597694,
          0.0016434639021962036,
          0.0016527116972769435,
          0.0016616622285337533,
          0.0016703510701295808,
          0.0016788161357961008,
          0.0016870976037233032,
          0.0016952378320590625,
          0.0017032812652195421,
          0.0017112743312537467,
          0.0017192653305473941,
          0.0017273043161922276,
          0.0017354429663867523,
          0.0017437344492730912,
          0.0017522332806517537,
          0.0017609951750517205,
          0.001770076890666937,
          0.0017795360687020592,
          0.0017894310676998977,
          0.001799820793450315,
          0.0018107645251052079,
          0.00182232173814655,
          0.0018345519248740858,
          0.0018475144130962423,
          0.0018612681837217764,
          0.0018758716879608607,
          0.001891382664852386,
          0.0019078579598393786,
          0.00192535334511643,
          0.0019439233424719828,
          0.001963621049344148,
          0.001984497968801487,
          0.0020066038441498976,
          0.002029986498853375,
          0.00205469168244016,
          0.0020807629230465137,
          0.0021082413872283165,
          0.00213716574764586,
          0.0021675720591996924,
          0.0021994936441654023,
          0.0022329609868426757,
          0.0022680016381992807,
          0.0023046401309536743,
          0.0023428979055009473,
          0.0023827932470460982,
          0.0024243412342660957,
          0.002467553699778164,
          0.002512439202646416,
          0.002559003013112408,
          0.0026072471096877056,
          0.0026571701886982995,
          0.0027087676863218574,
          0.0027620318131095583,
          0.0028169516009348555,
          0.002873512962262111,
          0.0029316987615788928,
          0.002991488898787036,
          0.003052860404299326,
          0.0031157875455416215,
          0.0031802419445138095,
          0.0032461927060180784,
          0.003313606556119407,
          0.003382447990361246,
          0.00345267943121908,
          0.0035242613942365036,
          0.0035971526622522623,
          0.003671310467093046,
          0.0037466906780754127,
          0.0038232479966315595,
          0.0039009361563477124,
          0.003979708127680597,
          0.004059516326597541,
          0.0041403128263682995,
          0.00422204957172308,
          0.0043046785945801596,
          0.004388152230539198,
          0.004472423335332116,
          0.004557445500422535,
          0.004643173266947367,
          0.004729562337199995,
          0.0048165697828636425,
          0.004904154249216106,
          0.004992276154542754,
          0.005080897884013537,
          0.005169983977301874,
          0.005259501309248187,
          0.005349419262898616,
          0.0054397098942803625,
          0.005530348088307735,
          0.005621311705249094,
          0.005712581717222215,
          0.005804142334225859,
          0.005895981119256663,
          0.00598808909210402,
          0.006080460821460201,
          0.006173094505028941,
          0.006265992037362316,
          0.006359159065203506,
          0.0064526050301605764,
          0.006546343198584765,
          0.0066403906785745224,
          0.006734768424074364,
          0.0068295012260843465,
          0.006924617691042531,
          0.007020150206487525,
          0.00711613489415225,
          0.007212611550682116,
          0.00730962357621148,
          0.007407217891070484,
          0.0075054448409310436,
          0.007604358090734671,
          0.007704014507776435,
          0.007804474034348501,
          0.0079057995503728,
          0.008008056726476268,
          0.008111313867982408,
          0.008215641750311094,
          0.008321113446293108,
          0.00842780414591821,
          0.008535790969044369,
          0.008645152771602266,
          0.008755969945832755,
          0.00886832421509558,
          0.008982298423786457,
          0.009097976322895282,
          0.009215442351732085,
          0.009334781416339196,
          0.00945607866509779,
          0.009579419262025317,
          0.009704888158247129,
          0.00983256986211126,
          0.009962548208399898,
          0.010094906127075256,
          0.010229725411980898,
          0.010367086489902946,
          0.010507068190378997,
          0.010649747516626102,
          0.01079519941794319,
          0.010943496563928455,
          0.011094709120837504,
          0.011248904530395221,
          0.011406147291362367,
          0.011566498744147264,
          0.011730016858744282,
          0.011896756026273356,
          0.01206676685438925,
          0.01224009596682559,
          0.012416785807336798,
          0.012596874448300464,
          0.012780395404244957,
          0.012967377450569667,
          0.013157844447730827,
          0.013351815171171493,
          0.013549303147282804,
          0.013750316495691927,
          0.013954857778182287,
          0.014162923854562241,
          0.014374505745809616,
          0.014589588504831028,
          0.014808151095186208,
          0.015030166278139388,
          0.015255600508409656,
          0.015484413839003123,
          0.015716559835517698,
          0.015951985500319305,
          0.01619063120699377,
          0.01643243064548273,
          0.016677310778313158,
          0.016925191808329725,
          0.017175987158335418,
          0.01742960346303957,
          0.01768594057370317,
          0.017944891575858466,
          0.018206342820464235,
          0.018470173968838745,
          0.01873625805168927,
          0.019004461542531225,
          0.01927464444576008,
          0.01954666039960556,
          0.01982035679416211,
          0.02009557490464854,
          0.02037215004000813,
          0.02064991170691386,
          0.020928683789195605,
          0.021208284742654966,
          0.021488527805180603,
          0.021769221222022347,
          0.022050168486025545,
          0.022331168592570304,
          0.022612016308901754,
          0.022892502457478654,
          0.023172414212909435,
          0.023451535411986156,
          0.02372964687626964,
          0.02400652674662227,
          0.024281950829030646,
          0.02455569295100728,
          0.024827525327809647,
          0.02509721893766737,
          0.025364543905163545,
          0.02562926989187367,
          0.025891166493328743,
          0.026150003641333824,
          0.026405552010643686,
          0.026657583428970587,
          0.026905871289278033,
          0.027150190963296867,
          0.02739032021518712,
          0.02762603961426134,
          0.02785713294568136,
          0.02808338761804146,
          0.028304595066756512,
          0.028520551152183413,
          0.028731056551418263,
          0.02893591714273033,
          0.02913494438161513,
          0.029327955667475546,
          0.029514774699968504,
          0.02969523182408746,
          0.029869164363085805,
          0.030036416938384356,
          0.03019684177564663,
          0.030350298996246434,
          0.030496656893398255,
          0.030635792192263835,
          0.03076759029339668,
          0.030891945498932424,
          0.03100876122098057,
          0.03111795017172233,
          0.031219434534765948,
          0.03131314611736024,
          0.031399026483113796,
          0.031477027064914856,
          0.03154710925779355,
          0.03160924449151337,
          0.03166341428272428,
          0.031709610266553355,
          0.031747834207552186,
          0.03177809798996212,
          0.031800423587299696,
          0.03181484301130495,
          0.03182139824033413,
          0.03182014112731798,
          0.031811133287443616,
          0.03179444596575618,
          0.031770159884913385,
          0.031738365073362224,
          0.0316991606742446,
          0.03165265473537403,
          0.03159896398066302,
          0.031538213563417426,
          0.0314705368019505,
          0.03139607489800807,
          0.031314976638533616,
          0.031227398081340653,
          0.03113350222529964,
          0.031033458665685968,
          0.030927443235376547,
          0.03081563763262328,
          0.030698229036173374,
          0.030575409708548152,
          0.03044737658833498,
          0.030314330872387742,
          0.030176477588874977,
          0.03003402516215516,
          0.02988718497050064,
          0.02973617089773102,
          0.029581198879856118,
          0.029422486447866193,
          0.02926025226784105,
          0.02909471567958438,
          0.02892609623501811,
          0.028754613237599765,
          0.028580485284048853,
          0.028403929809687676,
          0.028225162638717414,
          0.02804439754076087,
          0.027861845795008257,
          0.027677715763303037,
          0.027492212473498256,
          0.027305537214402837,
          0.0271178871436186,
          0.026929454909544626,
          0.026740428288794242,
          0.026550989840232,
          0.026361316576793265,
          0.026171579656197402,
          0.02598194409160713,
          0.025792568483221864,
          0.025603604771720738,
          0.025415198014393563,
          0.025227486184714074,
          0.025040599996019847,
          0.02485466274986927,
          0.024669790209545083,
          0.024486090499071488,
          0.024303664028002762,
          0.02412260344213168,
          0.023942993600151324,
          0.02376491157619023,
          0.023588426688022995,
          0.023413600550642597,
          0.02324048715476435,
          0.023069132969715758,
          0.022899577070053117,
          0.022731851285136235,
          0.02256598037078353,
          0.02240198220202847,
          0.022239867985899362,
          0.02207964249305201,
          0.021921304306999005,
          0.02176484608959972,
          0.021610254861403458,
          0.02145751229537458,
          0.02130659502247271,
          0.02115747494751547,
          0.021010119573713248,
          0.02086449233423845,
          0.02072055292917364,
          0.020578257666174812,
          0.02043755980318786,
          0.020298409891568354,
          0.020160756117975714,
          0.0200245446434444,
          0.019889719938074948,
          0.019756225109837385,
          0.019624002226037062,
          0.01949299262606041,
          0.019363137224090953,
          0.019234376800567495,
          0.019106652281244408,
          0.018979905002806417,
          0.018854076964089743,
          0.018729111062063656,
          0.01860495131183342,
          0.01848154305003458,
          0.01835883312110021,
          0.018236770045994815,
          0.01811530417312205,
          0.017994387811225396,
          0.01787397534421275,
          0.017754023327945057,
          0.017634490569135765,
          0.017515338186611808,
          0.017396529655285382,
          0.01727803083328119,
          0.017159809972753064,
          0.01704183771500749,
          0.01692408707062951,
          0.01680653338537721,
          0.01668915429267526,
          0.016571929653594657,
          0.016454841485255597,
          0.016337873878632118,
          0.016221012906771186,
          0.016104246524466282,
          0.015987564460443405,
          0.01587095810312976,
          0.015754420381079014,
          0.015637945639123657,
          0.015521529511315595,
          0.015405168791698648,
          0.015288861303934061,
          0.015172605770771265,
          0.015056401684321534,
          0.014940249178052967,
          0.014824148901380972,
          0.01470810189768052,
          0.014592109486494467,
          0.014476173150657528,
          0.014360294428997796,
          0.014244474815218178,
          0.014128715663498737,
          0.014013018101298628,
          0.013897382949772916,
          0.013781810652156562,
          0.013666301210404245,
          0.013550854130312488,
          0.013435468375288598,
          0.013320142328870797,
          0.013204873766045145,
          0.013089659833347965,
          0.012974497037688288,
          0.01285938124377208,
          0.012744307679960763,
          0.012629270952349655,
          0.012514265066807981,
          0.012399283458681,
          0.01228431902981714,
          0.012169364192548077,
          0.012054410920218212,
          0.011939450803831273,
          0.011824475114356784,
          0.011709474870216582,
          0.011594440909452554,
          0.011479363966060372,
          0.01136423474996108,
          0.011249044030071417,
          0.01113378271992655,
          0.011018441965303532,
          0.010903013233291441,
          0.010787488402254136,
          0.010671859852134003,
          0.010556120554549417,
          0.010440264162145914,
          0.010324285096669732,
          0.010208178635243313,
          0.01009194099433548,
          0.009975569410933595,
          0.00985906222044163,
          0.009742418930846451,
          0.009625640292714528,
          0.00950872836460287,
          0.009391686573491138,
          0.009274519769866534,
          0.009157234277119026,
          0.009039837934932073,
          0.00892234013638237,
          0.008804751858492657,
          0.008687085686012116,
          0.008569355828231531,
          0.008451578128673486,
          0.008333770067531781,
          0.008215950756769225,
          0.008098140927818779,
          0.007980362911868624,
          0.007862640612748625,
          0.007744999472472505,
          0.007627466429526547,
          0.007510069870032971,
          0.007392839571952525,
          0.007275806642527055,
          0.007159003449198481,
          0.007042463544275548,
          0.006926221583653259,
          0.006810313239922885,
          0.006694775110241303,
          0.006579644619358251,
          0.006464959918227713,
          0.006350759778655353,
          0.006237083484457676,
          0.006123970719629269,
          0.006011461454033407,
          0.005899595827146869,
          0.00578841403040282,
          0.005677956188685327,
          0.005568262241536155,
          0.005459371824637529,
          0.00535132415213534,
          0.005244157900363689,
          0.005137911093525653,
          0.00503262099187492,
          0.004928323982930214,
          0.0048250554762377,
          0.00472284980217729,
          0.004621740115285787,
          0.004521758302544426,
          0.004422934897049902,
          0.00432529899745687,
          0.004228878193546484,
          0.0041336984982401175,
          0.004039784286339513,
          0.003947158240235541,
          0.003855841302787207,
          0.003765852637530326,
          0.0036772095963331164,
          0.003589927694572492,
          0.003504020593861559,
          0.00341950009231549,
          0.003336376122300143,
          0.003254656755565361,
          0.0031743482156239896,
          0.003095454897197451,
          0.0030179793925106555,
          0.0029419225241822116,
          0.0028672833844218247,
          0.002794059380214346,
          0.002722246284140561,
          0.002651838290457822,
          0.002582828076039707,
          0.0025152068657528412,
          0.002448964501831143,
          0.0023840895167932838,
          0.002320569209437478,
          0.0022583897234399767,
          0.0021975361280786886,
          0.0021379925006020195,
          0.0020797420097646868,
          0.0020227670000574093
         ],
         "yaxis": "y"
        }
       ],
       "layout": {
        "barmode": "overlay",
        "hovermode": "closest",
        "legend": {
         "traceorder": "reversed"
        },
        "template": {
         "data": {
          "bar": [
           {
            "error_x": {
             "color": "#2a3f5f"
            },
            "error_y": {
             "color": "#2a3f5f"
            },
            "marker": {
             "line": {
              "color": "#E5ECF6",
              "width": 0.5
             }
            },
            "type": "bar"
           }
          ],
          "barpolar": [
           {
            "marker": {
             "line": {
              "color": "#E5ECF6",
              "width": 0.5
             }
            },
            "type": "barpolar"
           }
          ],
          "carpet": [
           {
            "aaxis": {
             "endlinecolor": "#2a3f5f",
             "gridcolor": "white",
             "linecolor": "white",
             "minorgridcolor": "white",
             "startlinecolor": "#2a3f5f"
            },
            "baxis": {
             "endlinecolor": "#2a3f5f",
             "gridcolor": "white",
             "linecolor": "white",
             "minorgridcolor": "white",
             "startlinecolor": "#2a3f5f"
            },
            "type": "carpet"
           }
          ],
          "choropleth": [
           {
            "colorbar": {
             "outlinewidth": 0,
             "ticks": ""
            },
            "type": "choropleth"
           }
          ],
          "contour": [
           {
            "colorbar": {
             "outlinewidth": 0,
             "ticks": ""
            },
            "colorscale": [
             [
              0,
              "#0d0887"
             ],
             [
              0.1111111111111111,
              "#46039f"
             ],
             [
              0.2222222222222222,
              "#7201a8"
             ],
             [
              0.3333333333333333,
              "#9c179e"
             ],
             [
              0.4444444444444444,
              "#bd3786"
             ],
             [
              0.5555555555555556,
              "#d8576b"
             ],
             [
              0.6666666666666666,
              "#ed7953"
             ],
             [
              0.7777777777777778,
              "#fb9f3a"
             ],
             [
              0.8888888888888888,
              "#fdca26"
             ],
             [
              1,
              "#f0f921"
             ]
            ],
            "type": "contour"
           }
          ],
          "contourcarpet": [
           {
            "colorbar": {
             "outlinewidth": 0,
             "ticks": ""
            },
            "type": "contourcarpet"
           }
          ],
          "heatmap": [
           {
            "colorbar": {
             "outlinewidth": 0,
             "ticks": ""
            },
            "colorscale": [
             [
              0,
              "#0d0887"
             ],
             [
              0.1111111111111111,
              "#46039f"
             ],
             [
              0.2222222222222222,
              "#7201a8"
             ],
             [
              0.3333333333333333,
              "#9c179e"
             ],
             [
              0.4444444444444444,
              "#bd3786"
             ],
             [
              0.5555555555555556,
              "#d8576b"
             ],
             [
              0.6666666666666666,
              "#ed7953"
             ],
             [
              0.7777777777777778,
              "#fb9f3a"
             ],
             [
              0.8888888888888888,
              "#fdca26"
             ],
             [
              1,
              "#f0f921"
             ]
            ],
            "type": "heatmap"
           }
          ],
          "heatmapgl": [
           {
            "colorbar": {
             "outlinewidth": 0,
             "ticks": ""
            },
            "colorscale": [
             [
              0,
              "#0d0887"
             ],
             [
              0.1111111111111111,
              "#46039f"
             ],
             [
              0.2222222222222222,
              "#7201a8"
             ],
             [
              0.3333333333333333,
              "#9c179e"
             ],
             [
              0.4444444444444444,
              "#bd3786"
             ],
             [
              0.5555555555555556,
              "#d8576b"
             ],
             [
              0.6666666666666666,
              "#ed7953"
             ],
             [
              0.7777777777777778,
              "#fb9f3a"
             ],
             [
              0.8888888888888888,
              "#fdca26"
             ],
             [
              1,
              "#f0f921"
             ]
            ],
            "type": "heatmapgl"
           }
          ],
          "histogram": [
           {
            "marker": {
             "colorbar": {
              "outlinewidth": 0,
              "ticks": ""
             }
            },
            "type": "histogram"
           }
          ],
          "histogram2d": [
           {
            "colorbar": {
             "outlinewidth": 0,
             "ticks": ""
            },
            "colorscale": [
             [
              0,
              "#0d0887"
             ],
             [
              0.1111111111111111,
              "#46039f"
             ],
             [
              0.2222222222222222,
              "#7201a8"
             ],
             [
              0.3333333333333333,
              "#9c179e"
             ],
             [
              0.4444444444444444,
              "#bd3786"
             ],
             [
              0.5555555555555556,
              "#d8576b"
             ],
             [
              0.6666666666666666,
              "#ed7953"
             ],
             [
              0.7777777777777778,
              "#fb9f3a"
             ],
             [
              0.8888888888888888,
              "#fdca26"
             ],
             [
              1,
              "#f0f921"
             ]
            ],
            "type": "histogram2d"
           }
          ],
          "histogram2dcontour": [
           {
            "colorbar": {
             "outlinewidth": 0,
             "ticks": ""
            },
            "colorscale": [
             [
              0,
              "#0d0887"
             ],
             [
              0.1111111111111111,
              "#46039f"
             ],
             [
              0.2222222222222222,
              "#7201a8"
             ],
             [
              0.3333333333333333,
              "#9c179e"
             ],
             [
              0.4444444444444444,
              "#bd3786"
             ],
             [
              0.5555555555555556,
              "#d8576b"
             ],
             [
              0.6666666666666666,
              "#ed7953"
             ],
             [
              0.7777777777777778,
              "#fb9f3a"
             ],
             [
              0.8888888888888888,
              "#fdca26"
             ],
             [
              1,
              "#f0f921"
             ]
            ],
            "type": "histogram2dcontour"
           }
          ],
          "mesh3d": [
           {
            "colorbar": {
             "outlinewidth": 0,
             "ticks": ""
            },
            "type": "mesh3d"
           }
          ],
          "parcoords": [
           {
            "line": {
             "colorbar": {
              "outlinewidth": 0,
              "ticks": ""
             }
            },
            "type": "parcoords"
           }
          ],
          "pie": [
           {
            "automargin": true,
            "type": "pie"
           }
          ],
          "scatter": [
           {
            "marker": {
             "colorbar": {
              "outlinewidth": 0,
              "ticks": ""
             }
            },
            "type": "scatter"
           }
          ],
          "scatter3d": [
           {
            "line": {
             "colorbar": {
              "outlinewidth": 0,
              "ticks": ""
             }
            },
            "marker": {
             "colorbar": {
              "outlinewidth": 0,
              "ticks": ""
             }
            },
            "type": "scatter3d"
           }
          ],
          "scattercarpet": [
           {
            "marker": {
             "colorbar": {
              "outlinewidth": 0,
              "ticks": ""
             }
            },
            "type": "scattercarpet"
           }
          ],
          "scattergeo": [
           {
            "marker": {
             "colorbar": {
              "outlinewidth": 0,
              "ticks": ""
             }
            },
            "type": "scattergeo"
           }
          ],
          "scattergl": [
           {
            "marker": {
             "colorbar": {
              "outlinewidth": 0,
              "ticks": ""
             }
            },
            "type": "scattergl"
           }
          ],
          "scattermapbox": [
           {
            "marker": {
             "colorbar": {
              "outlinewidth": 0,
              "ticks": ""
             }
            },
            "type": "scattermapbox"
           }
          ],
          "scatterpolar": [
           {
            "marker": {
             "colorbar": {
              "outlinewidth": 0,
              "ticks": ""
             }
            },
            "type": "scatterpolar"
           }
          ],
          "scatterpolargl": [
           {
            "marker": {
             "colorbar": {
              "outlinewidth": 0,
              "ticks": ""
             }
            },
            "type": "scatterpolargl"
           }
          ],
          "scatterternary": [
           {
            "marker": {
             "colorbar": {
              "outlinewidth": 0,
              "ticks": ""
             }
            },
            "type": "scatterternary"
           }
          ],
          "surface": [
           {
            "colorbar": {
             "outlinewidth": 0,
             "ticks": ""
            },
            "colorscale": [
             [
              0,
              "#0d0887"
             ],
             [
              0.1111111111111111,
              "#46039f"
             ],
             [
              0.2222222222222222,
              "#7201a8"
             ],
             [
              0.3333333333333333,
              "#9c179e"
             ],
             [
              0.4444444444444444,
              "#bd3786"
             ],
             [
              0.5555555555555556,
              "#d8576b"
             ],
             [
              0.6666666666666666,
              "#ed7953"
             ],
             [
              0.7777777777777778,
              "#fb9f3a"
             ],
             [
              0.8888888888888888,
              "#fdca26"
             ],
             [
              1,
              "#f0f921"
             ]
            ],
            "type": "surface"
           }
          ],
          "table": [
           {
            "cells": {
             "fill": {
              "color": "#EBF0F8"
             },
             "line": {
              "color": "white"
             }
            },
            "header": {
             "fill": {
              "color": "#C8D4E3"
             },
             "line": {
              "color": "white"
             }
            },
            "type": "table"
           }
          ]
         },
         "layout": {
          "annotationdefaults": {
           "arrowcolor": "#2a3f5f",
           "arrowhead": 0,
           "arrowwidth": 1
          },
          "autotypenumbers": "strict",
          "coloraxis": {
           "colorbar": {
            "outlinewidth": 0,
            "ticks": ""
           }
          },
          "colorscale": {
           "diverging": [
            [
             0,
             "#8e0152"
            ],
            [
             0.1,
             "#c51b7d"
            ],
            [
             0.2,
             "#de77ae"
            ],
            [
             0.3,
             "#f1b6da"
            ],
            [
             0.4,
             "#fde0ef"
            ],
            [
             0.5,
             "#f7f7f7"
            ],
            [
             0.6,
             "#e6f5d0"
            ],
            [
             0.7,
             "#b8e186"
            ],
            [
             0.8,
             "#7fbc41"
            ],
            [
             0.9,
             "#4d9221"
            ],
            [
             1,
             "#276419"
            ]
           ],
           "sequential": [
            [
             0,
             "#0d0887"
            ],
            [
             0.1111111111111111,
             "#46039f"
            ],
            [
             0.2222222222222222,
             "#7201a8"
            ],
            [
             0.3333333333333333,
             "#9c179e"
            ],
            [
             0.4444444444444444,
             "#bd3786"
            ],
            [
             0.5555555555555556,
             "#d8576b"
            ],
            [
             0.6666666666666666,
             "#ed7953"
            ],
            [
             0.7777777777777778,
             "#fb9f3a"
            ],
            [
             0.8888888888888888,
             "#fdca26"
            ],
            [
             1,
             "#f0f921"
            ]
           ],
           "sequentialminus": [
            [
             0,
             "#0d0887"
            ],
            [
             0.1111111111111111,
             "#46039f"
            ],
            [
             0.2222222222222222,
             "#7201a8"
            ],
            [
             0.3333333333333333,
             "#9c179e"
            ],
            [
             0.4444444444444444,
             "#bd3786"
            ],
            [
             0.5555555555555556,
             "#d8576b"
            ],
            [
             0.6666666666666666,
             "#ed7953"
            ],
            [
             0.7777777777777778,
             "#fb9f3a"
            ],
            [
             0.8888888888888888,
             "#fdca26"
            ],
            [
             1,
             "#f0f921"
            ]
           ]
          },
          "colorway": [
           "#636efa",
           "#EF553B",
           "#00cc96",
           "#ab63fa",
           "#FFA15A",
           "#19d3f3",
           "#FF6692",
           "#B6E880",
           "#FF97FF",
           "#FECB52"
          ],
          "font": {
           "color": "#2a3f5f"
          },
          "geo": {
           "bgcolor": "white",
           "lakecolor": "white",
           "landcolor": "#E5ECF6",
           "showlakes": true,
           "showland": true,
           "subunitcolor": "white"
          },
          "hoverlabel": {
           "align": "left"
          },
          "hovermode": "closest",
          "mapbox": {
           "style": "light"
          },
          "paper_bgcolor": "white",
          "plot_bgcolor": "#E5ECF6",
          "polar": {
           "angularaxis": {
            "gridcolor": "white",
            "linecolor": "white",
            "ticks": ""
           },
           "bgcolor": "#E5ECF6",
           "radialaxis": {
            "gridcolor": "white",
            "linecolor": "white",
            "ticks": ""
           }
          },
          "scene": {
           "xaxis": {
            "backgroundcolor": "#E5ECF6",
            "gridcolor": "white",
            "gridwidth": 2,
            "linecolor": "white",
            "showbackground": true,
            "ticks": "",
            "zerolinecolor": "white"
           },
           "yaxis": {
            "backgroundcolor": "#E5ECF6",
            "gridcolor": "white",
            "gridwidth": 2,
            "linecolor": "white",
            "showbackground": true,
            "ticks": "",
            "zerolinecolor": "white"
           },
           "zaxis": {
            "backgroundcolor": "#E5ECF6",
            "gridcolor": "white",
            "gridwidth": 2,
            "linecolor": "white",
            "showbackground": true,
            "ticks": "",
            "zerolinecolor": "white"
           }
          },
          "shapedefaults": {
           "line": {
            "color": "#2a3f5f"
           }
          },
          "ternary": {
           "aaxis": {
            "gridcolor": "white",
            "linecolor": "white",
            "ticks": ""
           },
           "baxis": {
            "gridcolor": "white",
            "linecolor": "white",
            "ticks": ""
           },
           "bgcolor": "#E5ECF6",
           "caxis": {
            "gridcolor": "white",
            "linecolor": "white",
            "ticks": ""
           }
          },
          "title": {
           "x": 0.05
          },
          "xaxis": {
           "automargin": true,
           "gridcolor": "white",
           "linecolor": "white",
           "ticks": "",
           "title": {
            "standoff": 15
           },
           "zerolinecolor": "white",
           "zerolinewidth": 2
          },
          "yaxis": {
           "automargin": true,
           "gridcolor": "white",
           "linecolor": "white",
           "ticks": "",
           "title": {
            "standoff": 15
           },
           "zerolinecolor": "white",
           "zerolinewidth": 2
          }
         }
        },
        "title": {
         "text": "Error in estimating component masses for 100 injections using the Prediction model"
        },
        "xaxis": {
         "anchor": "y2",
         "domain": [
          0,
          1
         ],
         "title": {
          "text": "Error(Mo)"
         },
         "zeroline": false
        },
        "yaxis": {
         "anchor": "free",
         "domain": [
          0,
          1
         ],
         "position": 0,
         "title": {
          "text": "Frequency"
         }
        }
       }
      },
      "text/html": [
       "<div>                            <div id=\"686b3c6b-c2b7-46e1-be3b-a4116e626776\" class=\"plotly-graph-div\" style=\"height:525px; width:100%;\"></div>            <script type=\"text/javascript\">                require([\"plotly\"], function(Plotly) {                    window.PLOTLYENV=window.PLOTLYENV || {};                                    if (document.getElementById(\"686b3c6b-c2b7-46e1-be3b-a4116e626776\")) {                    Plotly.newPlot(                        \"686b3c6b-c2b7-46e1-be3b-a4116e626776\",                        [{\"autobinx\": false, \"histnorm\": \"probability density\", \"legendgroup\": \"SNR\", \"marker\": {\"color\": \"#A56CC1\"}, \"name\": \"SNR\", \"opacity\": 0.7, \"type\": \"histogram\", \"x\": [-10.015606010725149, -2.615676910082147, -15.423974133300224, 10.696283151301635, -4.102782528306225, -1.4562001121433967, -4.989612253342603, -2.691454447441167, 0.10475268503056512, -11.217321971001477, 11.952758794913695, -14.266186271814448, -23.862105766978644, -1.3427892204008174, 19.312114878392066, 6.776248135820396, 22.201191776232406, 4.156089674357865, -9.918249085538502, 2.282007847908968, 13.897301749244157, 5.485364493962564, 11.695856033202936, 7.156693774451536, -14.22178182500921, 3.8641793393280093, -12.20406191038336, 20.42139865564377, -4.904504084600502, 19.621641158506137, -7.706006817532204, -18.66465469671273, -11.005695298109261, 19.679054727546855, -17.315849884375766, 28.77637401404013, -8.720149319209458, -29.416424600304637, 3.6231746210085127, -1.2054181513712372, -40.13708669762336, -7.485652828568714, -19.781285240194684, 7.40808452110074, 5.948174915549462, 13.891085175578507, -9.633737707549361, -5.189894962090152, 16.067266649341125, 8.796966787887367, -1.4234703830258617, 5.8426325804283366, 0.8456537264572432, 13.50474884386491, -8.977149163444658, -10.247557074657482, -8.357471346352417, -2.934041203019998, 8.59648885431342, -14.76987013200743, 14.847964737409676, -0.23901734095377591, -5.442373059220042, 5.103476596968855, -25.482536170394127, -2.3311981674275994, -10.552149502306953, -6.395627601375418, -24.02755027631264, -29.42010898554497, -7.945068024775098, -10.345573579852424, -17.707555182291756, 7.179465776152071, -10.62119050055291, -10.543552936558672, 3.037337368325053, -7.212246303072618, -14.032028812387571, -6.3976432257144, 8.283701507566398, -3.650852979120451, -5.04097453626542, -10.325471972717276, -0.6628457104474244, -6.386525329351386, -13.739329088527988, -9.622069725621836, -24.902639792470342, -7.681928566297358, -42.77455817493543, -4.844460529098631, 15.2751787912743, -27.410849954776566, -4.736524989492653, -1.792918309712892, -19.68281273427803, -5.145277398762278, -13.476493399179098, -18.58088357909159], \"xaxis\": \"x\", \"xbins\": {\"end\": 28.77637401404013, \"size\": 1.0, \"start\": -42.77455817493543}, \"yaxis\": \"y\"}, {\"legendgroup\": \"SNR\", \"marker\": {\"color\": \"#A56CC1\"}, \"mode\": \"lines\", \"name\": \"SNR\", \"showlegend\": false, \"type\": \"scatter\", \"x\": [-42.77455817493543, -42.631456310557475, -42.48835444617953, -42.345252581801574, -42.20215071742362, -42.059048853045674, -41.91594698866772, -41.77284512428977, -41.62974325991182, -41.486641395533866, -41.34353953115592, -41.200437666777965, -41.05733580240002, -40.914233938022065, -40.77113207364411, -40.628030209266164, -40.48492834488821, -40.34182648051026, -40.19872461613231, -40.055622751754356, -39.9125208873764, -39.769419022998456, -39.6263171586205, -39.483215294242555, -39.3401134298646, -39.19701156548665, -39.0539097011087, -38.91080783673075, -38.7677059723528, -38.62460410797485, -38.48150224359689, -38.338400379218946, -38.19529851484099, -38.052196650463046, -37.90909478608509, -37.76599292170714, -37.622891057329184, -37.47978919295124, -37.336687328573284, -37.19358546419534, -37.05048359981738, -36.90738173543943, -36.76427987106148, -36.62117800668353, -36.47807614230558, -36.33497427792763, -36.191872413549675, -36.04877054917173, -35.905668684793774, -35.76256682041583, -35.61946495603787, -35.47636309165992, -35.333261227281966, -35.19015936290402, -35.047057498526065, -34.90395563414812, -34.760853769770165, -34.61775190539221, -34.474650041014264, -34.33154817663631, -34.188446312258364, -34.04534444788041, -33.902242583502456, -33.75914071912451, -33.616038854746556, -33.4729369903686, -33.329835125990655, -33.1867332616127, -33.04363139723475, -32.9005295328568, -32.757427668478854, -32.6143258041009, -32.47122393972295, -32.32812207534499, -32.185020210967046, -32.04191834658909, -31.898816482211142, -31.755714617833192, -31.612612753455238, -31.46951088907729, -31.326409024699338, -31.183307160321387, -31.040205295943437, -30.897103431565483, -30.754001567187537, -30.610899702809583, -30.46779783843163, -30.32469597405368, -30.18159410967573, -30.03849224529778, -29.895390380919828, -29.752288516541874, -29.609186652163924, -29.466084787785974, -29.32298292340802, -29.179881059030073, -29.03677919465212, -28.89367733027417, -28.75057546589622, -28.607473601518265, -28.464371737140315, -28.321269872762365, -28.178168008384414, -28.035066144006464, -27.89196427962851, -27.74886241525056, -27.60576055087261, -27.462658686494656, -27.319556822116706, -27.176454957738756, -27.033353093360805, -26.890251228982855, -26.7471493646049, -26.60404750022695, -26.460945635849, -26.31784377147105, -26.174741907093097, -26.031640042715146, -25.888538178337196, -25.745436313959242, -25.602334449581292, -25.459232585203342, -25.31613072082539, -25.17302885644744, -25.029926992069488, -24.886825127691537, -24.743723263313587, -24.600621398935633, -24.457519534557683, -24.314417670179733, -24.17131580580178, -24.028213941423832, -23.885112077045882, -23.742010212667928, -23.598908348289978, -23.455806483912024, -23.312704619534074, -23.169602755156124, -23.02650089077817, -22.88339902640022, -22.740297162022273, -22.59719529764432, -22.45409343326637, -22.31099156888842, -22.167889704510465, -22.024787840132515, -21.881685975754564, -21.73858411137661, -21.59548224699866, -21.45238038262071, -21.30927851824276, -21.16617665386481, -21.023074789486856, -20.879972925108905, -20.736871060730955, -20.593769196353, -20.45066733197505, -20.3075654675971, -20.16446360321915, -20.0213617388412, -19.878259874463247, -19.735158010085296, -19.592056145707346, -19.448954281329392, -19.305852416951442, -19.162750552573492, -19.019648688195538, -18.87654682381759, -18.73344495943964, -18.590343095061687, -18.447241230683737, -18.304139366305787, -18.161037501927833, -18.017935637549883, -17.87483377317193, -17.73173190879398, -17.588630044416032, -17.445528180038078, -17.302426315660128, -17.159324451282178, -17.016222586904224, -16.873120722526274, -16.730018858148323, -16.58691699377037, -16.44381512939242, -16.300713265014473, -16.15761140063652, -16.01450953625857, -15.871407671880615, -15.728305807502664, -15.585203943124714, -15.44210207874676, -15.29900021436881, -15.155898349990863, -15.01279648561291, -14.86969462123496, -14.72659275685701, -14.583490892479055, -14.440389028101105, -14.297287163723151, -14.154185299345201, -14.01108343496725, -13.867981570589297, -13.72487970621135, -13.5817778418334, -13.438675977455446, -13.295574113077496, -13.152472248699546, -13.009370384321592, -12.866268519943642, -12.723166655565691, -12.580064791187738, -12.436962926809791, -12.293861062431837, -12.150759198053887, -12.007657333675937, -11.864555469297983, -11.721453604920033, -11.578351740542082, -11.435249876164129, -11.292148011786182, -11.149046147408232, -11.005944283030278, -10.862842418652328, -10.719740554274374, -10.576638689896427, -10.433536825518473, -10.29043496114052, -10.147333096762573, -10.004231232384619, -9.861129368006672, -9.718027503628718, -9.574925639250765, -9.431823774872818, -9.288721910494864, -9.14562004611691, -9.002518181738964, -8.85941631736101, -8.716314452983056, -8.57321258860511, -8.430110724227156, -8.287008859849202, -8.143906995471255, -8.000805131093308, -7.857703266715355, -7.714601402337401, -7.571499537959454, -7.4283976735815, -7.2852958092035465, -7.1421939448256, -6.999092080447646, -6.855990216069692, -6.7128883516917455, -6.569786487313792, -6.426684622935838, -6.283582758557891, -6.140480894179937, -5.997379029801984, -5.854277165424037, -5.711175301046083, -5.568073436668129, -5.42497157229019, -5.281869707912236, -5.138767843534282, -4.995665979156335, -4.852564114778382, -4.709462250400428, -4.566360386022481, -4.423258521644527, -4.2801566572665735, -4.13705479288862, -3.993952928510673, -3.850851064132719, -3.7077491997547654, -3.5646473353768187, -3.421545470998865, -3.278443606620911, -3.1353417422429644, -2.9922398778650106, -2.849138013487064, -2.706036149109117, -2.5629342847311634, -2.4198324203532096, -2.276730555975263, -2.133628691597309, -1.9905268272193553, -1.8474249628414086, -1.7043230984634548, -1.561221234085501, -1.4181193697075543, -1.2750175053296005, -1.1319156409516467, -0.9888137765737, -0.8457119121957462, -0.7026100478177923, -0.5595081834398385, -0.41640631906189185, -0.27330445468394515, -0.13020259030599135, 0.012899274071955347, 0.15600113844990915, 0.29910300282786295, 0.44220486720580965, 0.5853067315837635, 0.7284085959617173, 0.871510460339664, 1.0146123247176178, 1.1577141890955716, 1.3008160534735183, 1.443917917851472, 1.5870197822294259, 1.7301216466073726, 1.8732235109853264, 2.01632537536328, 2.159427239741227, 2.3025291041191736, 2.4456309684971274, 2.588732832875074, 2.731834697253028, 2.8749365616309817, 3.0180384260089355, 3.161140290386882, 3.304242154764836, 3.4473440191427898, 3.5904458835207365, 3.7335477478986903, 3.876649612276644, 4.019751476654591, 4.162853341032545, 4.305955205410498, 4.449057069788445, 4.592158934166399, 4.735260798544353, 4.878362662922292, 5.021464527300246, 5.1645663916782, 5.307668256056147, 5.4507701204341, 5.593871984812054, 5.736973849190001, 5.880075713567955, 6.0231775779459085, 6.166279442323855, 6.309381306701809, 6.452483171079763, 6.5955850354577095, 6.738686899835663, 6.881788764213617, 7.024890628591571, 7.167992492969518, 7.311094357347471, 7.454196221725418, 7.597298086103365, 7.740399950481319, 7.883501814859272, 8.026603679237219, 8.169705543615173, 8.312807407993127, 8.455909272371073, 8.599011136749027, 8.742113001126981, 8.885214865504928, 9.028316729882881, 9.171418594260835, 9.314520458638782, 9.457622323016736, 9.60072418739469, 9.743826051772636, 9.88692791615059, 10.030029780528537, 10.173131644906483, 10.316233509284437, 10.459335373662391, 10.602437238040345, 10.745539102418292, 10.888640966796245, 11.0317428311742, 11.174844695552146, 11.3179465599301, 11.461048424308053, 11.604150288686, 11.747252153063954, 11.890354017441908, 12.033455881819854, 12.176557746197808, 12.319659610575762, 12.462761474953702, 12.605863339331655, 12.74896520370961, 12.892067068087556, 13.03516893246551, 13.178270796843464, 13.32137266122141, 13.464474525599364, 13.607576389977318, 13.750678254355265, 13.893780118733218, 14.036881983111172, 14.179983847489126, 14.323085711867073, 14.466187576245026, 14.60928944062298, 14.752391305000927, 14.89549316937888, 15.038595033756835, 15.181696898134774, 15.324798762512728, 15.467900626890682, 15.611002491268628, 15.754104355646582, 15.897206220024536, 16.040308084402483, 16.183409948780437, 16.32651181315839, 16.469613677536337, 16.61271554191429, 16.755817406292245, 16.89891927067019, 17.042021135048145, 17.1851229994261, 17.328224863804046, 17.471326728182, 17.614428592559953, 17.7575304569379, 17.900632321315847, 18.0437341856938, 18.186836050071754, 18.3299379144497, 18.473039778827655, 18.61614164320561, 18.759243507583555, 18.90234537196151, 19.045447236339463, 19.18854910071741, 19.331650965095363, 19.474752829473317, 19.617854693851264, 19.760956558229218, 19.90405842260717, 20.047160286985118, 20.190262151363065, 20.33336401574102, 20.476465880118965, 20.61956774449692, 20.762669608874873, 20.90577147325282, 21.048873337630774, 21.191975202008727, 21.33507706638668, 21.47817893076462, 21.621280795142575, 21.76438265952053, 21.907484523898482, 22.050586388276436, 22.19368825265439, 22.33679011703233, 22.479891981410283, 22.622993845788237, 22.76609571016619, 22.90919757454413, 23.052299438922084, 23.195401303300038, 23.33850316767799, 23.481605032055946, 23.6247068964339, 23.767808760811853, 23.910910625189793, 24.054012489567747, 24.1971143539457, 24.340216218323654, 24.483318082701608, 24.62641994707956, 24.7695218114575, 24.912623675835455, 25.05572554021341, 25.198827404591363, 25.341929268969317, 25.48503113334727, 25.62813299772521, 25.771234862103164, 25.914336726481118, 26.05743859085907, 26.200540455237025, 26.34364231961498, 26.48674418399292, 26.629846048370858, 26.772947912748812, 26.916049777126766, 27.05915164150472, 27.202253505882673, 27.345355370260627, 27.488457234638567, 27.63155909901652, 27.774660963394474, 27.917762827772428, 28.060864692150382, 28.203966556528336, 28.347068420906275, 28.49017028528423, 28.633272149662183], \"xaxis\": \"x\", \"y\": [0.001499757024589799, 0.0015144347769976301, 0.0015285850380924455, 0.0015422129537868224, 0.001555326163593419, 0.0015679348384231896, 0.001580051709849061, 0.0015916920905508969, 0.0016028738856919231, 0.0016136175950127501, 0.0016239463054667914, 0.0016338856742597694, 0.0016434639021962036, 0.0016527116972769435, 0.0016616622285337533, 0.0016703510701295808, 0.0016788161357961008, 0.0016870976037233032, 0.0016952378320590625, 0.0017032812652195421, 0.0017112743312537467, 0.0017192653305473941, 0.0017273043161922276, 0.0017354429663867523, 0.0017437344492730912, 0.0017522332806517537, 0.0017609951750517205, 0.001770076890666937, 0.0017795360687020592, 0.0017894310676998977, 0.001799820793450315, 0.0018107645251052079, 0.00182232173814655, 0.0018345519248740858, 0.0018475144130962423, 0.0018612681837217764, 0.0018758716879608607, 0.001891382664852386, 0.0019078579598393786, 0.00192535334511643, 0.0019439233424719828, 0.001963621049344148, 0.001984497968801487, 0.0020066038441498976, 0.002029986498853375, 0.00205469168244016, 0.0020807629230465137, 0.0021082413872283165, 0.00213716574764586, 0.0021675720591996924, 0.0021994936441654023, 0.0022329609868426757, 0.0022680016381992807, 0.0023046401309536743, 0.0023428979055009473, 0.0023827932470460982, 0.0024243412342660957, 0.002467553699778164, 0.002512439202646416, 0.002559003013112408, 0.0026072471096877056, 0.0026571701886982995, 0.0027087676863218574, 0.0027620318131095583, 0.0028169516009348555, 0.002873512962262111, 0.0029316987615788928, 0.002991488898787036, 0.003052860404299326, 0.0031157875455416215, 0.0031802419445138095, 0.0032461927060180784, 0.003313606556119407, 0.003382447990361246, 0.00345267943121908, 0.0035242613942365036, 0.0035971526622522623, 0.003671310467093046, 0.0037466906780754127, 0.0038232479966315595, 0.0039009361563477124, 0.003979708127680597, 0.004059516326597541, 0.0041403128263682995, 0.00422204957172308, 0.0043046785945801596, 0.004388152230539198, 0.004472423335332116, 0.004557445500422535, 0.004643173266947367, 0.004729562337199995, 0.0048165697828636425, 0.004904154249216106, 0.004992276154542754, 0.005080897884013537, 0.005169983977301874, 0.005259501309248187, 0.005349419262898616, 0.0054397098942803625, 0.005530348088307735, 0.005621311705249094, 0.005712581717222215, 0.005804142334225859, 0.005895981119256663, 0.00598808909210402, 0.006080460821460201, 0.006173094505028941, 0.006265992037362316, 0.006359159065203506, 0.0064526050301605764, 0.006546343198584765, 0.0066403906785745224, 0.006734768424074364, 0.0068295012260843465, 0.006924617691042531, 0.007020150206487525, 0.00711613489415225, 0.007212611550682116, 0.00730962357621148, 0.007407217891070484, 0.0075054448409310436, 0.007604358090734671, 0.007704014507776435, 0.007804474034348501, 0.0079057995503728, 0.008008056726476268, 0.008111313867982408, 0.008215641750311094, 0.008321113446293108, 0.00842780414591821, 0.008535790969044369, 0.008645152771602266, 0.008755969945832755, 0.00886832421509558, 0.008982298423786457, 0.009097976322895282, 0.009215442351732085, 0.009334781416339196, 0.00945607866509779, 0.009579419262025317, 0.009704888158247129, 0.00983256986211126, 0.009962548208399898, 0.010094906127075256, 0.010229725411980898, 0.010367086489902946, 0.010507068190378997, 0.010649747516626102, 0.01079519941794319, 0.010943496563928455, 0.011094709120837504, 0.011248904530395221, 0.011406147291362367, 0.011566498744147264, 0.011730016858744282, 0.011896756026273356, 0.01206676685438925, 0.01224009596682559, 0.012416785807336798, 0.012596874448300464, 0.012780395404244957, 0.012967377450569667, 0.013157844447730827, 0.013351815171171493, 0.013549303147282804, 0.013750316495691927, 0.013954857778182287, 0.014162923854562241, 0.014374505745809616, 0.014589588504831028, 0.014808151095186208, 0.015030166278139388, 0.015255600508409656, 0.015484413839003123, 0.015716559835517698, 0.015951985500319305, 0.01619063120699377, 0.01643243064548273, 0.016677310778313158, 0.016925191808329725, 0.017175987158335418, 0.01742960346303957, 0.01768594057370317, 0.017944891575858466, 0.018206342820464235, 0.018470173968838745, 0.01873625805168927, 0.019004461542531225, 0.01927464444576008, 0.01954666039960556, 0.01982035679416211, 0.02009557490464854, 0.02037215004000813, 0.02064991170691386, 0.020928683789195605, 0.021208284742654966, 0.021488527805180603, 0.021769221222022347, 0.022050168486025545, 0.022331168592570304, 0.022612016308901754, 0.022892502457478654, 0.023172414212909435, 0.023451535411986156, 0.02372964687626964, 0.02400652674662227, 0.024281950829030646, 0.02455569295100728, 0.024827525327809647, 0.02509721893766737, 0.025364543905163545, 0.02562926989187367, 0.025891166493328743, 0.026150003641333824, 0.026405552010643686, 0.026657583428970587, 0.026905871289278033, 0.027150190963296867, 0.02739032021518712, 0.02762603961426134, 0.02785713294568136, 0.02808338761804146, 0.028304595066756512, 0.028520551152183413, 0.028731056551418263, 0.02893591714273033, 0.02913494438161513, 0.029327955667475546, 0.029514774699968504, 0.02969523182408746, 0.029869164363085805, 0.030036416938384356, 0.03019684177564663, 0.030350298996246434, 0.030496656893398255, 0.030635792192263835, 0.03076759029339668, 0.030891945498932424, 0.03100876122098057, 0.03111795017172233, 0.031219434534765948, 0.03131314611736024, 0.031399026483113796, 0.031477027064914856, 0.03154710925779355, 0.03160924449151337, 0.03166341428272428, 0.031709610266553355, 0.031747834207552186, 0.03177809798996212, 0.031800423587299696, 0.03181484301130495, 0.03182139824033413, 0.03182014112731798, 0.031811133287443616, 0.03179444596575618, 0.031770159884913385, 0.031738365073362224, 0.0316991606742446, 0.03165265473537403, 0.03159896398066302, 0.031538213563417426, 0.0314705368019505, 0.03139607489800807, 0.031314976638533616, 0.031227398081340653, 0.03113350222529964, 0.031033458665685968, 0.030927443235376547, 0.03081563763262328, 0.030698229036173374, 0.030575409708548152, 0.03044737658833498, 0.030314330872387742, 0.030176477588874977, 0.03003402516215516, 0.02988718497050064, 0.02973617089773102, 0.029581198879856118, 0.029422486447866193, 0.02926025226784105, 0.02909471567958438, 0.02892609623501811, 0.028754613237599765, 0.028580485284048853, 0.028403929809687676, 0.028225162638717414, 0.02804439754076087, 0.027861845795008257, 0.027677715763303037, 0.027492212473498256, 0.027305537214402837, 0.0271178871436186, 0.026929454909544626, 0.026740428288794242, 0.026550989840232, 0.026361316576793265, 0.026171579656197402, 0.02598194409160713, 0.025792568483221864, 0.025603604771720738, 0.025415198014393563, 0.025227486184714074, 0.025040599996019847, 0.02485466274986927, 0.024669790209545083, 0.024486090499071488, 0.024303664028002762, 0.02412260344213168, 0.023942993600151324, 0.02376491157619023, 0.023588426688022995, 0.023413600550642597, 0.02324048715476435, 0.023069132969715758, 0.022899577070053117, 0.022731851285136235, 0.02256598037078353, 0.02240198220202847, 0.022239867985899362, 0.02207964249305201, 0.021921304306999005, 0.02176484608959972, 0.021610254861403458, 0.02145751229537458, 0.02130659502247271, 0.02115747494751547, 0.021010119573713248, 0.02086449233423845, 0.02072055292917364, 0.020578257666174812, 0.02043755980318786, 0.020298409891568354, 0.020160756117975714, 0.0200245446434444, 0.019889719938074948, 0.019756225109837385, 0.019624002226037062, 0.01949299262606041, 0.019363137224090953, 0.019234376800567495, 0.019106652281244408, 0.018979905002806417, 0.018854076964089743, 0.018729111062063656, 0.01860495131183342, 0.01848154305003458, 0.01835883312110021, 0.018236770045994815, 0.01811530417312205, 0.017994387811225396, 0.01787397534421275, 0.017754023327945057, 0.017634490569135765, 0.017515338186611808, 0.017396529655285382, 0.01727803083328119, 0.017159809972753064, 0.01704183771500749, 0.01692408707062951, 0.01680653338537721, 0.01668915429267526, 0.016571929653594657, 0.016454841485255597, 0.016337873878632118, 0.016221012906771186, 0.016104246524466282, 0.015987564460443405, 0.01587095810312976, 0.015754420381079014, 0.015637945639123657, 0.015521529511315595, 0.015405168791698648, 0.015288861303934061, 0.015172605770771265, 0.015056401684321534, 0.014940249178052967, 0.014824148901380972, 0.01470810189768052, 0.014592109486494467, 0.014476173150657528, 0.014360294428997796, 0.014244474815218178, 0.014128715663498737, 0.014013018101298628, 0.013897382949772916, 0.013781810652156562, 0.013666301210404245, 0.013550854130312488, 0.013435468375288598, 0.013320142328870797, 0.013204873766045145, 0.013089659833347965, 0.012974497037688288, 0.01285938124377208, 0.012744307679960763, 0.012629270952349655, 0.012514265066807981, 0.012399283458681, 0.01228431902981714, 0.012169364192548077, 0.012054410920218212, 0.011939450803831273, 0.011824475114356784, 0.011709474870216582, 0.011594440909452554, 0.011479363966060372, 0.01136423474996108, 0.011249044030071417, 0.01113378271992655, 0.011018441965303532, 0.010903013233291441, 0.010787488402254136, 0.010671859852134003, 0.010556120554549417, 0.010440264162145914, 0.010324285096669732, 0.010208178635243313, 0.01009194099433548, 0.009975569410933595, 0.00985906222044163, 0.009742418930846451, 0.009625640292714528, 0.00950872836460287, 0.009391686573491138, 0.009274519769866534, 0.009157234277119026, 0.009039837934932073, 0.00892234013638237, 0.008804751858492657, 0.008687085686012116, 0.008569355828231531, 0.008451578128673486, 0.008333770067531781, 0.008215950756769225, 0.008098140927818779, 0.007980362911868624, 0.007862640612748625, 0.007744999472472505, 0.007627466429526547, 0.007510069870032971, 0.007392839571952525, 0.007275806642527055, 0.007159003449198481, 0.007042463544275548, 0.006926221583653259, 0.006810313239922885, 0.006694775110241303, 0.006579644619358251, 0.006464959918227713, 0.006350759778655353, 0.006237083484457676, 0.006123970719629269, 0.006011461454033407, 0.005899595827146869, 0.00578841403040282, 0.005677956188685327, 0.005568262241536155, 0.005459371824637529, 0.00535132415213534, 0.005244157900363689, 0.005137911093525653, 0.00503262099187492, 0.004928323982930214, 0.0048250554762377, 0.00472284980217729, 0.004621740115285787, 0.004521758302544426, 0.004422934897049902, 0.00432529899745687, 0.004228878193546484, 0.0041336984982401175, 0.004039784286339513, 0.003947158240235541, 0.003855841302787207, 0.003765852637530326, 0.0036772095963331164, 0.003589927694572492, 0.003504020593861559, 0.00341950009231549, 0.003336376122300143, 0.003254656755565361, 0.0031743482156239896, 0.003095454897197451, 0.0030179793925106555, 0.0029419225241822116, 0.0028672833844218247, 0.002794059380214346, 0.002722246284140561, 0.002651838290457822, 0.002582828076039707, 0.0025152068657528412, 0.002448964501831143, 0.0023840895167932838, 0.002320569209437478, 0.0022583897234399767, 0.0021975361280786886, 0.0021379925006020195, 0.0020797420097646868, 0.0020227670000574093], \"yaxis\": \"y\"}],                        {\"barmode\": \"overlay\", \"hovermode\": \"closest\", \"legend\": {\"traceorder\": \"reversed\"}, \"template\": {\"data\": {\"bar\": [{\"error_x\": {\"color\": \"#2a3f5f\"}, \"error_y\": {\"color\": \"#2a3f5f\"}, \"marker\": {\"line\": {\"color\": \"#E5ECF6\", \"width\": 0.5}}, \"type\": \"bar\"}], \"barpolar\": [{\"marker\": {\"line\": {\"color\": \"#E5ECF6\", \"width\": 0.5}}, \"type\": \"barpolar\"}], \"carpet\": [{\"aaxis\": {\"endlinecolor\": \"#2a3f5f\", \"gridcolor\": \"white\", \"linecolor\": \"white\", \"minorgridcolor\": \"white\", \"startlinecolor\": \"#2a3f5f\"}, \"baxis\": {\"endlinecolor\": \"#2a3f5f\", \"gridcolor\": \"white\", \"linecolor\": \"white\", \"minorgridcolor\": \"white\", \"startlinecolor\": \"#2a3f5f\"}, \"type\": \"carpet\"}], \"choropleth\": [{\"colorbar\": {\"outlinewidth\": 0, \"ticks\": \"\"}, \"type\": \"choropleth\"}], \"contour\": [{\"colorbar\": {\"outlinewidth\": 0, \"ticks\": \"\"}, \"colorscale\": [[0.0, \"#0d0887\"], [0.1111111111111111, \"#46039f\"], [0.2222222222222222, \"#7201a8\"], [0.3333333333333333, \"#9c179e\"], [0.4444444444444444, \"#bd3786\"], [0.5555555555555556, \"#d8576b\"], [0.6666666666666666, \"#ed7953\"], [0.7777777777777778, \"#fb9f3a\"], [0.8888888888888888, \"#fdca26\"], [1.0, \"#f0f921\"]], \"type\": \"contour\"}], \"contourcarpet\": [{\"colorbar\": {\"outlinewidth\": 0, \"ticks\": \"\"}, \"type\": \"contourcarpet\"}], \"heatmap\": [{\"colorbar\": {\"outlinewidth\": 0, \"ticks\": \"\"}, \"colorscale\": [[0.0, \"#0d0887\"], [0.1111111111111111, \"#46039f\"], [0.2222222222222222, \"#7201a8\"], [0.3333333333333333, \"#9c179e\"], [0.4444444444444444, \"#bd3786\"], [0.5555555555555556, \"#d8576b\"], [0.6666666666666666, \"#ed7953\"], [0.7777777777777778, \"#fb9f3a\"], [0.8888888888888888, \"#fdca26\"], [1.0, \"#f0f921\"]], \"type\": \"heatmap\"}], \"heatmapgl\": [{\"colorbar\": {\"outlinewidth\": 0, \"ticks\": \"\"}, \"colorscale\": [[0.0, \"#0d0887\"], [0.1111111111111111, \"#46039f\"], [0.2222222222222222, \"#7201a8\"], [0.3333333333333333, \"#9c179e\"], [0.4444444444444444, \"#bd3786\"], [0.5555555555555556, \"#d8576b\"], [0.6666666666666666, \"#ed7953\"], [0.7777777777777778, \"#fb9f3a\"], [0.8888888888888888, \"#fdca26\"], [1.0, \"#f0f921\"]], \"type\": \"heatmapgl\"}], \"histogram\": [{\"marker\": {\"colorbar\": {\"outlinewidth\": 0, \"ticks\": \"\"}}, \"type\": \"histogram\"}], \"histogram2d\": [{\"colorbar\": {\"outlinewidth\": 0, \"ticks\": \"\"}, \"colorscale\": [[0.0, \"#0d0887\"], [0.1111111111111111, \"#46039f\"], [0.2222222222222222, \"#7201a8\"], [0.3333333333333333, \"#9c179e\"], [0.4444444444444444, \"#bd3786\"], [0.5555555555555556, \"#d8576b\"], [0.6666666666666666, \"#ed7953\"], [0.7777777777777778, \"#fb9f3a\"], [0.8888888888888888, \"#fdca26\"], [1.0, \"#f0f921\"]], \"type\": \"histogram2d\"}], \"histogram2dcontour\": [{\"colorbar\": {\"outlinewidth\": 0, \"ticks\": \"\"}, \"colorscale\": [[0.0, \"#0d0887\"], [0.1111111111111111, \"#46039f\"], [0.2222222222222222, \"#7201a8\"], [0.3333333333333333, \"#9c179e\"], [0.4444444444444444, \"#bd3786\"], [0.5555555555555556, \"#d8576b\"], [0.6666666666666666, \"#ed7953\"], [0.7777777777777778, \"#fb9f3a\"], [0.8888888888888888, \"#fdca26\"], [1.0, \"#f0f921\"]], \"type\": \"histogram2dcontour\"}], \"mesh3d\": [{\"colorbar\": {\"outlinewidth\": 0, \"ticks\": \"\"}, \"type\": \"mesh3d\"}], \"parcoords\": [{\"line\": {\"colorbar\": {\"outlinewidth\": 0, \"ticks\": \"\"}}, \"type\": \"parcoords\"}], \"pie\": [{\"automargin\": true, \"type\": \"pie\"}], \"scatter\": [{\"marker\": {\"colorbar\": {\"outlinewidth\": 0, \"ticks\": \"\"}}, \"type\": \"scatter\"}], \"scatter3d\": [{\"line\": {\"colorbar\": {\"outlinewidth\": 0, \"ticks\": \"\"}}, \"marker\": {\"colorbar\": {\"outlinewidth\": 0, \"ticks\": \"\"}}, \"type\": \"scatter3d\"}], \"scattercarpet\": [{\"marker\": {\"colorbar\": {\"outlinewidth\": 0, \"ticks\": \"\"}}, \"type\": \"scattercarpet\"}], \"scattergeo\": [{\"marker\": {\"colorbar\": {\"outlinewidth\": 0, \"ticks\": \"\"}}, \"type\": \"scattergeo\"}], \"scattergl\": [{\"marker\": {\"colorbar\": {\"outlinewidth\": 0, \"ticks\": \"\"}}, \"type\": \"scattergl\"}], \"scattermapbox\": [{\"marker\": {\"colorbar\": {\"outlinewidth\": 0, \"ticks\": \"\"}}, \"type\": \"scattermapbox\"}], \"scatterpolar\": [{\"marker\": {\"colorbar\": {\"outlinewidth\": 0, \"ticks\": \"\"}}, \"type\": \"scatterpolar\"}], \"scatterpolargl\": [{\"marker\": {\"colorbar\": {\"outlinewidth\": 0, \"ticks\": \"\"}}, \"type\": \"scatterpolargl\"}], \"scatterternary\": [{\"marker\": {\"colorbar\": {\"outlinewidth\": 0, \"ticks\": \"\"}}, \"type\": \"scatterternary\"}], \"surface\": [{\"colorbar\": {\"outlinewidth\": 0, \"ticks\": \"\"}, \"colorscale\": [[0.0, \"#0d0887\"], [0.1111111111111111, \"#46039f\"], [0.2222222222222222, \"#7201a8\"], [0.3333333333333333, \"#9c179e\"], [0.4444444444444444, \"#bd3786\"], [0.5555555555555556, \"#d8576b\"], [0.6666666666666666, \"#ed7953\"], [0.7777777777777778, \"#fb9f3a\"], [0.8888888888888888, \"#fdca26\"], [1.0, \"#f0f921\"]], \"type\": \"surface\"}], \"table\": [{\"cells\": {\"fill\": {\"color\": \"#EBF0F8\"}, \"line\": {\"color\": \"white\"}}, \"header\": {\"fill\": {\"color\": \"#C8D4E3\"}, \"line\": {\"color\": \"white\"}}, \"type\": \"table\"}]}, \"layout\": {\"annotationdefaults\": {\"arrowcolor\": \"#2a3f5f\", \"arrowhead\": 0, \"arrowwidth\": 1}, \"autotypenumbers\": \"strict\", \"coloraxis\": {\"colorbar\": {\"outlinewidth\": 0, \"ticks\": \"\"}}, \"colorscale\": {\"diverging\": [[0, \"#8e0152\"], [0.1, \"#c51b7d\"], [0.2, \"#de77ae\"], [0.3, \"#f1b6da\"], [0.4, \"#fde0ef\"], [0.5, \"#f7f7f7\"], [0.6, \"#e6f5d0\"], [0.7, \"#b8e186\"], [0.8, \"#7fbc41\"], [0.9, \"#4d9221\"], [1, \"#276419\"]], \"sequential\": [[0.0, \"#0d0887\"], [0.1111111111111111, \"#46039f\"], [0.2222222222222222, \"#7201a8\"], [0.3333333333333333, \"#9c179e\"], [0.4444444444444444, \"#bd3786\"], [0.5555555555555556, \"#d8576b\"], [0.6666666666666666, \"#ed7953\"], [0.7777777777777778, \"#fb9f3a\"], [0.8888888888888888, \"#fdca26\"], [1.0, \"#f0f921\"]], \"sequentialminus\": [[0.0, \"#0d0887\"], [0.1111111111111111, \"#46039f\"], [0.2222222222222222, \"#7201a8\"], [0.3333333333333333, \"#9c179e\"], [0.4444444444444444, \"#bd3786\"], [0.5555555555555556, \"#d8576b\"], [0.6666666666666666, \"#ed7953\"], [0.7777777777777778, \"#fb9f3a\"], [0.8888888888888888, \"#fdca26\"], [1.0, \"#f0f921\"]]}, \"colorway\": [\"#636efa\", \"#EF553B\", \"#00cc96\", \"#ab63fa\", \"#FFA15A\", \"#19d3f3\", \"#FF6692\", \"#B6E880\", \"#FF97FF\", \"#FECB52\"], \"font\": {\"color\": \"#2a3f5f\"}, \"geo\": {\"bgcolor\": \"white\", \"lakecolor\": \"white\", \"landcolor\": \"#E5ECF6\", \"showlakes\": true, \"showland\": true, \"subunitcolor\": \"white\"}, \"hoverlabel\": {\"align\": \"left\"}, \"hovermode\": \"closest\", \"mapbox\": {\"style\": \"light\"}, \"paper_bgcolor\": \"white\", \"plot_bgcolor\": \"#E5ECF6\", \"polar\": {\"angularaxis\": {\"gridcolor\": \"white\", \"linecolor\": \"white\", \"ticks\": \"\"}, \"bgcolor\": \"#E5ECF6\", \"radialaxis\": {\"gridcolor\": \"white\", \"linecolor\": \"white\", \"ticks\": \"\"}}, \"scene\": {\"xaxis\": {\"backgroundcolor\": \"#E5ECF6\", \"gridcolor\": \"white\", \"gridwidth\": 2, \"linecolor\": \"white\", \"showbackground\": true, \"ticks\": \"\", \"zerolinecolor\": \"white\"}, \"yaxis\": {\"backgroundcolor\": \"#E5ECF6\", \"gridcolor\": \"white\", \"gridwidth\": 2, \"linecolor\": \"white\", \"showbackground\": true, \"ticks\": \"\", \"zerolinecolor\": \"white\"}, \"zaxis\": {\"backgroundcolor\": \"#E5ECF6\", \"gridcolor\": \"white\", \"gridwidth\": 2, \"linecolor\": \"white\", \"showbackground\": true, \"ticks\": \"\", \"zerolinecolor\": \"white\"}}, \"shapedefaults\": {\"line\": {\"color\": \"#2a3f5f\"}}, \"ternary\": {\"aaxis\": {\"gridcolor\": \"white\", \"linecolor\": \"white\", \"ticks\": \"\"}, \"baxis\": {\"gridcolor\": \"white\", \"linecolor\": \"white\", \"ticks\": \"\"}, \"bgcolor\": \"#E5ECF6\", \"caxis\": {\"gridcolor\": \"white\", \"linecolor\": \"white\", \"ticks\": \"\"}}, \"title\": {\"x\": 0.05}, \"xaxis\": {\"automargin\": true, \"gridcolor\": \"white\", \"linecolor\": \"white\", \"ticks\": \"\", \"title\": {\"standoff\": 15}, \"zerolinecolor\": \"white\", \"zerolinewidth\": 2}, \"yaxis\": {\"automargin\": true, \"gridcolor\": \"white\", \"linecolor\": \"white\", \"ticks\": \"\", \"title\": {\"standoff\": 15}, \"zerolinecolor\": \"white\", \"zerolinewidth\": 2}}}, \"title\": {\"text\": \"Error in estimating component masses for 100 injections using the Prediction model\"}, \"xaxis\": {\"anchor\": \"y2\", \"domain\": [0.0, 1.0], \"title\": {\"text\": \"Error(Mo)\"}, \"zeroline\": false}, \"yaxis\": {\"anchor\": \"free\", \"domain\": [0.0, 1], \"position\": 0.0, \"title\": {\"text\": \"Frequency\"}}},                        {\"responsive\": true}                    ).then(function(){\n",
       "                            \n",
       "var gd = document.getElementById('686b3c6b-c2b7-46e1-be3b-a4116e626776');\n",
       "var x = new MutationObserver(function (mutations, observer) {{\n",
       "        var display = window.getComputedStyle(gd).display;\n",
       "        if (!display || display === 'none') {{\n",
       "            console.log([gd, 'removed!']);\n",
       "            Plotly.purge(gd);\n",
       "            observer.disconnect();\n",
       "        }}\n",
       "}});\n",
       "\n",
       "// Listen for the removal of the full notebook cells\n",
       "var notebookContainer = gd.closest('#notebook-container');\n",
       "if (notebookContainer) {{\n",
       "    x.observe(notebookContainer, {childList: true});\n",
       "}}\n",
       "\n",
       "// Listen for the clearing of the current output cell\n",
       "var outputEl = gd.closest('.output');\n",
       "if (outputEl) {{\n",
       "    x.observe(outputEl, {childList: true});\n",
       "}}\n",
       "\n",
       "                        })                };                });            </script>        </div>"
      ]
     },
     "metadata": {},
     "output_type": "display_data"
    }
   ],
   "source": [
    "\n",
    "error_snr=final_snr-est_snr\n",
    "hist_data1 = [error_snr]\n",
    "\n",
    "group_labels = ['SNR']\n",
    "colors = [ '#A56CC1']\n",
    "# Create distplot with custom bin_size\n",
    "fig = ff.create_distplot(hist_data1, group_labels,colors=colors,show_rug=False)\n",
    "\n",
    "fig.update_layout(title='Error in estimating component masses for 100 injections using the Prediction model',xaxis_title=\"Error(Mo)\",yaxis_title=\"Frequency\")\n",
    "fig.show()"
   ]
  },
  {
   "cell_type": "code",
   "execution_count": 26,
   "id": "7fa454df",
   "metadata": {},
   "outputs": [
    {
     "data": {
      "text/plain": [
       "[0.9930161833763123,\n",
       " 0.9993911981582642,\n",
       " 0.9999444484710693,\n",
       " 0.999965250492096,\n",
       " 0.9999282360076904,\n",
       " 0.9998958110809326,\n",
       " 0.9998657703399658,\n",
       " 0.999833345413208,\n",
       " 0.9998842477798462,\n",
       " 0.9998518228530884,\n",
       " 0.9999120235443115,\n",
       " 0.9998634457588196,\n",
       " 0.9999282360076904,\n",
       " 0.9999444484710693,\n",
       " 0.9999722242355347,\n",
       " 0.9999698996543884,\n",
       " 0.999965250492096,\n",
       " 0.9999675750732422,\n",
       " 0.9999745488166809,\n",
       " 0.9999930262565613,\n",
       " 0.9999745488166809,\n",
       " 0.9999791383743286,\n",
       " 0.9999930262565613,\n",
       " 0.9999884366989136,\n",
       " 0.9999768733978271,\n",
       " 0.9999861121177673,\n",
       " 0.9999837875366211,\n",
       " 0.9999907612800598,\n",
       " 0.9999768733978271,\n",
       " 0.9999768733978271,\n",
       " 0.9999837875366211,\n",
       " 0.9999907612800598,\n",
       " 0.9999884366989136,\n",
       " 0.9999791383743286,\n",
       " 0.9999791383743286,\n",
       " 0.999965250492096,\n",
       " 0.9999861121177673,\n",
       " 0.9999861121177673,\n",
       " 0.9999814629554749,\n",
       " 0.999965250492096,\n",
       " 0.9999884366989136,\n",
       " 0.9999837875366211,\n",
       " 0.999958336353302,\n",
       " 0.9999606609344482,\n",
       " 0.9999768733978271,\n",
       " 0.9999560117721558,\n",
       " 0.999965250492096,\n",
       " 0.9999513626098633,\n",
       " 0.9999814629554749,\n",
       " 0.999965250492096,\n",
       " 0.999958336353302,\n",
       " 0.9999629855155945,\n",
       " 0.9999698996543884,\n",
       " 0.999958336353302,\n",
       " 0.9999513626098633,\n",
       " 0.9999675750732422,\n",
       " 0.9999513626098633,\n",
       " 0.9999791383743286,\n",
       " 0.9999698996543884,\n",
       " 0.9999629855155945,\n",
       " 0.9999629855155945,\n",
       " 0.9999513626098633,\n",
       " 0.9999698996543884,\n",
       " 0.9999629855155945,\n",
       " 0.9999698996543884,\n",
       " 0.999958336353302,\n",
       " 0.999916672706604,\n",
       " 0.9999513626098633,\n",
       " 0.999958336353302,\n",
       " 0.9999513626098633,\n",
       " 0.9999328851699829,\n",
       " 0.9999490976333618,\n",
       " 0.9999374747276306,\n",
       " 0.9999259114265442,\n",
       " 0.9999490976333618,\n",
       " 0.9999374747276306,\n",
       " 0.9999374747276306,\n",
       " 0.9999536871910095,\n",
       " 0.9999259114265442,\n",
       " 0.9999629855155945]"
      ]
     },
     "execution_count": 26,
     "metadata": {},
     "output_type": "execute_result"
    }
   ],
   "source": [
    "acc=(history.history['accuracy'])\n",
    "acc\n"
   ]
  },
  {
   "cell_type": "code",
   "execution_count": 169,
   "id": "14409fc5",
   "metadata": {},
   "outputs": [
    {
     "data": {
      "text/plain": [
       "[1.0,\n",
       " 1.0,\n",
       " 1.0,\n",
       " 1.0,\n",
       " 1.0,\n",
       " 1.0,\n",
       " 1.0,\n",
       " 1.0,\n",
       " 1.0,\n",
       " 1.0,\n",
       " 1.0,\n",
       " 0.9999259114265442,\n",
       " 0.9993426203727722,\n",
       " 0.9998703598976135,\n",
       " 0.9993796348571777,\n",
       " 0.9994537234306335,\n",
       " 0.9990184903144836,\n",
       " 0.9993796348571777,\n",
       " 0.9995277523994446,\n",
       " 0.9993981719017029,\n",
       " 0.9993055462837219,\n",
       " 0.9980740547180176,\n",
       " 0.9994629621505737,\n",
       " 0.9994074106216431,\n",
       " 0.9992870092391968,\n",
       " 0.9978981614112854,\n",
       " 0.9992592334747314,\n",
       " 0.9991111159324646,\n",
       " 0.9988425970077515,\n",
       " 0.9989907145500183,\n",
       " 0.9986574053764343,\n",
       " 0.9983518719673157,\n",
       " 0.9994722008705139,\n",
       " 0.9974907636642456,\n",
       " 0.9991018772125244,\n",
       " 0.9997222423553467,\n",
       " 0.9997129440307617,\n",
       " 0.9986388683319092,\n",
       " 0.9993055462837219,\n",
       " 0.9994629621505737,\n",
       " 0.9994444251060486,\n",
       " 0.9995277523994446,\n",
       " 0.9993610978126526,\n",
       " 0.9994166493415833,\n",
       " 0.9993518590927124,\n",
       " 0.9989259243011475,\n",
       " 0.9992963075637817,\n",
       " 0.9961110949516296,\n",
       " 0.9991759061813354,\n",
       " 0.9993796348571777,\n",
       " 0.9994722008705139,\n",
       " 0.9985926151275635,\n",
       " 0.9987037181854248,\n",
       " 0.9994629621505737,\n",
       " 0.9992685317993164,\n",
       " 0.9991203546524048,\n",
       " 0.9989351630210876,\n",
       " 0.9991111159324646,\n",
       " 0.9992592334747314,\n",
       " 0.9989073872566223,\n",
       " 0.9990184903144836,\n",
       " 0.9991203546524048,\n",
       " 0.9993981719017029,\n",
       " 0.9992129802703857,\n",
       " 0.9988518357276917,\n",
       " 0.9986018538475037,\n",
       " 0.9987499713897705,\n",
       " 0.9988425970077515,\n",
       " 0.9993888735771179,\n",
       " 0.9990741014480591,\n",
       " 0.9990370273590088,\n",
       " 0.9979629516601562,\n",
       " 0.9991944432258606,\n",
       " 0.9993703961372375,\n",
       " 0.997509241104126,\n",
       " 0.9996018409729004,\n",
       " 0.9976018667221069,\n",
       " 0.9984999895095825,\n",
       " 0.9993426203727722,\n",
       " 0.9979351758956909]"
      ]
     },
     "execution_count": 169,
     "metadata": {},
     "output_type": "execute_result"
    }
   ],
   "source": [
    "v_acc=(history.history['val_accuracy'])\n",
    "v_acc\n"
   ]
  },
  {
   "cell_type": "code",
   "execution_count": null,
   "id": "c6baff13",
   "metadata": {},
   "outputs": [],
   "source": []
  }
 ],
 "metadata": {
  "kernelspec": {
   "display_name": "Python 3",
   "language": "python",
   "name": "python3"
  },
  "language_info": {
   "codemirror_mode": {
    "name": "ipython",
    "version": 3
   },
   "file_extension": ".py",
   "mimetype": "text/x-python",
   "name": "python",
   "nbconvert_exporter": "python",
   "pygments_lexer": "ipython3",
   "version": "3.8.5"
  }
 },
 "nbformat": 4,
 "nbformat_minor": 5
}
